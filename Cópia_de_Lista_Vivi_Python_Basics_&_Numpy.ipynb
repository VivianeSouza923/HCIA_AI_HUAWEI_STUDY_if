{
  "nbformat": 4,
  "nbformat_minor": 0,
  "metadata": {
    "colab": {
      "provenance": [],
      "include_colab_link": true
    },
    "kernelspec": {
      "name": "python3",
      "display_name": "Python 3"
    },
    "language_info": {
      "name": "python"
    }
  },
  "cells": [
    {
      "cell_type": "markdown",
      "metadata": {
        "id": "view-in-github",
        "colab_type": "text"
      },
      "source": [
        "<a href=\"https://colab.research.google.com/github/VivianeSouza923/HCIA_AI_HUAWEI_STUDY_if/blob/main/C%C3%B3pia_de_Lista_Vivi_Python_Basics_%26_Numpy.ipynb\" target=\"_parent\"><img src=\"https://colab.research.google.com/assets/colab-badge.svg\" alt=\"Open In Colab\"/></a>"
      ]
    },
    {
      "cell_type": "markdown",
      "source": [
        "# Questionário de casa - Python & Numpy\n",
        "\n",
        "### Faça uma cópia deste notebook para o seu drive e responda às perguntas"
      ],
      "metadata": {
        "id": "-tpOntRhoqF2"
      }
    },
    {
      "cell_type": "code",
      "source": [
        "import numpy as np"
      ],
      "metadata": {
        "id": "qOgrCNXBo7qv"
      },
      "execution_count": 1,
      "outputs": []
    },
    {
      "cell_type": "markdown",
      "source": [
        "### (15 pontos) Questão 1. Considere uma lista de tamanho 6, onde cada elemento \"i\" representa um grupo de funcionários situados numa faixa salarial. Na descrição abaixo você encontra a faixa salarial associada a cada elemento \"i\" da lista.\n",
        "\n",
        "<ol start=\"0\">\n",
        "<li> Funcionários com 1,2k ≤ salário ≤ 2,5k </li>\n",
        "<li> Funcionários com 2,5k < salário ≤ 3,5k </li>\n",
        "<li> Funcionários com 3,5k < salário ≤ 4,5k </li>\n",
        "<li> Funcionários com 4,5k < salário ≤ 5,5k </li>\n",
        "<li> Funcionários com 5,5k < salário ≤ 6,5k </li>\n",
        "<li> Funcionários com 6,5k < salário ≤ 7,5k </li>\n",
        "</ol>\n",
        "\n",
        "##### Inicialmente, a quantidade de funcionários contratados pela empresa é zero em cada faixa salarial. Por este motivo, a lista \"funcionarios_candidatos\" possui apenas zero no começo do programa. Com o passar do tempo a empresa foi contratando novos funcionarios, expressos no dicionário \"novos_funcionarios\"\n",
        "\n",
        "##### **Faça um loop percorrendo todos os funcionários candidatos da variável \"funcionarios_candidatos\" e incremente os valores da lista \"funcionarios_contratados\" conforme a faixa salarial dos novos contratados. Em seguida, exiba:**\n",
        "\n",
        "<ol type=\"A\">\n",
        "<li> (3.75 pontos) A quantidade de funcionários 2,5k < salário ≤ 5,5k  </li>\n",
        "<li> (3.75 pontos) A quantidade de funcionários 4,5k < salário ≤ 6,5k  </li>\n",
        "<li> (3.75 pontos) A quantidade de funcionários 3,5k < salário ≤ 7,5k  </li>\n",
        "<li> (3.75 pontos) A quantidade de funcionários 1,2k < salário ≤ 3,5k ou 4,5k < salário ≤ 6,5k </li>\n",
        "</ol>"
      ],
      "metadata": {
        "id": "Wtnnea0dlvu3"
      }
    },
    {
      "cell_type": "code",
      "execution_count": 3,
      "metadata": {
        "id": "oTxoh9zYlRUh"
      },
      "outputs": [],
      "source": [
        "funcionarios_candidatos = [0, 0, 0, 0, 0, 0]\n",
        "novos_funcionarios = {\n",
        "    \"candidato_0\": {\"salario\": 3600, \"nome\": \"Anaximandro\"},\n",
        "    \"candidato_1\": {\"salario\": 5200, \"nome\": \"Eurípedes\"},\n",
        "    \"candidato_2\": {\"salario\": 2300, \"nome\": \"Sófocles\"},\n",
        "    \"candidato_3\": {\"salario\": 1240, \"nome\": \"Górgias\"},\n",
        "    \"candidato_4\": {\"salario\": 7000, \"nome\": \"Messala\"},\n",
        "    \"candidato_5\": {\"salario\": 6700, \"nome\": \"Aristófanes\"},\n",
        "    \"candidato_6\": {\"salario\": 4000, \"nome\": \"Clístenes\"},\n",
        "    \"candidato_7\": {\"salario\": 4500, \"nome\": \"Misandro\"},\n",
        "    \"candidato_8\": {\"salario\": 3000, \"nome\": \"Ajax Telamônio\"}\n",
        "}"
      ]
    },
    {
      "cell_type": "code",
      "source": [
        "for candidato, info in novos_funcionarios.items():\n",
        "    salario = info[\"salario\"]\n",
        "\n",
        "    if 2500 < salario <= 5500:\n",
        "        funcionarios_candidatos[0] += 1\n",
        "    if 4500 < salario <= 6500:\n",
        "        funcionarios_candidatos[1] += 1\n",
        "    if 3500 < salario <= 7500:\n",
        "        funcionarios_candidatos[2] += 1\n",
        "    if (1200 < salario <= 3500) or (4500 < salario <= 6500):\n",
        "        funcionarios_candidatos[3] += 1"
      ],
      "metadata": {
        "id": "6htApfSsl0z5"
      },
      "execution_count": 4,
      "outputs": []
    },
    {
      "cell_type": "code",
      "source": [
        "# solução A.\n",
        "print(f'A. Quantidade de funcionários 2,5k < salário ≤ 5,5k: {funcionarios_candidatos[0]}')"
      ],
      "metadata": {
        "id": "xpDu8lecS_1l",
        "colab": {
          "base_uri": "https://localhost:8080/"
        },
        "outputId": "81ac635f-f091-490a-d043-86b8be615c0f"
      },
      "execution_count": 5,
      "outputs": [
        {
          "output_type": "stream",
          "name": "stdout",
          "text": [
            "A. Quantidade de funcionários 2,5k < salário ≤ 5,5k: 5\n"
          ]
        }
      ]
    },
    {
      "cell_type": "code",
      "source": [
        "# solução B.\n",
        "print(f'B. Quantidade de funcionários 4,5k < salário ≤ 6,5k: {funcionarios_candidatos[1]}')"
      ],
      "metadata": {
        "id": "KDSCpKo5TAHs",
        "colab": {
          "base_uri": "https://localhost:8080/"
        },
        "outputId": "3ede5467-af6d-4b4e-d118-53961c9f6528"
      },
      "execution_count": 6,
      "outputs": [
        {
          "output_type": "stream",
          "name": "stdout",
          "text": [
            "B. Quantidade de funcionários 4,5k < salário ≤ 6,5k: 1\n"
          ]
        }
      ]
    },
    {
      "cell_type": "code",
      "source": [
        "# solução C.\n",
        "print(f'C. Quantidade de funcionários 3,5k < salário ≤ 7,5k: {funcionarios_candidatos[2]}')"
      ],
      "metadata": {
        "id": "X628RqI5TBHY",
        "colab": {
          "base_uri": "https://localhost:8080/"
        },
        "outputId": "3d26bebb-8936-427f-c5d0-2b5bf9643712"
      },
      "execution_count": 7,
      "outputs": [
        {
          "output_type": "stream",
          "name": "stdout",
          "text": [
            "C. Quantidade de funcionários 3,5k < salário ≤ 7,5k: 6\n"
          ]
        }
      ]
    },
    {
      "cell_type": "code",
      "source": [
        "# solução D.\n",
        "print(f'D. Quantidade de funcionários 1,2k < salário ≤ 3,5k ou 4,5k < salário ≤ 6,5k: {funcionarios_candidatos[3]}')"
      ],
      "metadata": {
        "id": "rcFSWBk2TBhR",
        "colab": {
          "base_uri": "https://localhost:8080/"
        },
        "outputId": "cc780f17-ff5c-4f45-f824-3392ca04e159"
      },
      "execution_count": 10,
      "outputs": [
        {
          "output_type": "stream",
          "name": "stdout",
          "text": [
            "D. Quantidade de funcionários 1,2k < salário ≤ 3,5k ou 4,5k < salário ≤ 6,5k: 4\n"
          ]
        }
      ]
    },
    {
      "cell_type": "markdown",
      "source": [
        "### (15 pontos) Questão 2. Considere duas listas, \"salario\" e \"funcionario\". Cada elemento \"i\" da lista \"salario\" corresponde ao salário do elemento \"i\" da lista \"funcionario\". Desse modo, o salario[3] é a representa a remuneração do funcionario[3]. Nesse sentido, faça um código em Python para exibir:\n",
        "\n",
        "<ol type=\"A\">\n",
        "<li> (3 pontos) Os dados dos funcionários ordenados pelo salário, do menos para o mais remunerado </li>\n",
        "<li> (3 pontos) Os dados dos funcionários que possuem 4k ≤ salário ≤ 7k </li>\n",
        "<li> (3 pontos) Os dados dos funcionários que possuem 4k ≤ salário ≤ 7k ou 5k ≤ salário ≤ 8k </li>\n",
        "<li> (3 pontos) Os nomes dos funcionários do item C. </li>\n",
        "<li> (3 pontos) As idades dos funcionários do item C. </li>\n",
        "</ol>"
      ],
      "metadata": {
        "id": "cJUeKh5wziJk"
      }
    },
    {
      "cell_type": "code",
      "source": [
        "salario = [2707, 2708, 2967, 7793, 5005, 5206, 4849, 6134, 8175, 7271]\n",
        "funcionario = [\n",
        "    {\"nome\": \"Dolão\", \"idade\": 34},\n",
        "    {\"nome\": \"Príamo\", \"idade\": 72},\n",
        "    {\"nome\": \"Andrômaca\", \"idade\": 95},\n",
        "    {\"nome\": \"Aquiles\", \"idade\": 18},\n",
        "    {\"nome\": \"Agamemnon\", \"idade\": 51},\n",
        "    {\"nome\": \"Ajax Telamônio\", \"idade\": 41},\n",
        "    {\"nome\": \"Menelau\", \"idade\": 54},\n",
        "    {\"nome\": \"Nestor\",  \"idade\": 67},\n",
        "    {\"nome\": \"Cassandra\", \"idade\": 39},\n",
        "    {\"nome\": \"Pátroclo\", \"idade\": 22}\n",
        "]"
      ],
      "metadata": {
        "id": "Sqb-unDv0-Mc"
      },
      "execution_count": 28,
      "outputs": []
    },
    {
      "cell_type": "code",
      "source": [
        "# solução A.\n",
        "dados_ordenados = sorted(zip(salario, funcionario), key=lambda x: x[0])\n",
        "\n",
        "print(\"A. Dados dos funcionários ordenados pelo salário:\")\n",
        "for salario, func in dados_ordenados:\n",
        "    print(f\"Nome: {func['nome']}, Salário: {salario}, Idade: {func['idade']}\")\n",
        "\n"
      ],
      "metadata": {
        "id": "4CB3rqXqTEV7",
        "colab": {
          "base_uri": "https://localhost:8080/"
        },
        "outputId": "3121ee8e-4cfc-4d35-93a8-9d11d3518ea2"
      },
      "execution_count": 29,
      "outputs": [
        {
          "output_type": "stream",
          "name": "stdout",
          "text": [
            "A. Dados dos funcionários ordenados pelo salário:\n",
            "Nome: Dolão, Salário: 2707, Idade: 34\n",
            "Nome: Príamo, Salário: 2708, Idade: 72\n",
            "Nome: Andrômaca, Salário: 2967, Idade: 95\n",
            "Nome: Menelau, Salário: 4849, Idade: 54\n",
            "Nome: Agamemnon, Salário: 5005, Idade: 51\n",
            "Nome: Ajax Telamônio, Salário: 5206, Idade: 41\n",
            "Nome: Nestor, Salário: 6134, Idade: 67\n",
            "Nome: Pátroclo, Salário: 7271, Idade: 22\n",
            "Nome: Aquiles, Salário: 7793, Idade: 18\n",
            "Nome: Cassandra, Salário: 8175, Idade: 39\n"
          ]
        }
      ]
    },
    {
      "cell_type": "code",
      "source": [
        "# solução B.\n",
        "print(\"\\nB. Dados dos funcionários com 4k ≤ salário ≤ 7k:\")\n",
        "for sal, func in dados_ordenados:\n",
        "    if 4000 <= sal <= 7000:\n",
        "        print(f\"Nome: {func['nome']}, Salário: {sal}, Idade: {func['idade']}\")"
      ],
      "metadata": {
        "id": "HjyeT2oHTEV9",
        "colab": {
          "base_uri": "https://localhost:8080/"
        },
        "outputId": "6e459f57-5aa5-4eb8-cf4f-6f5265eafc7e"
      },
      "execution_count": 40,
      "outputs": [
        {
          "output_type": "stream",
          "name": "stdout",
          "text": [
            "\n",
            "B. Dados dos funcionários com 4k ≤ salário ≤ 7k:\n",
            "Nome: Menelau, Salário: 4849, Idade: 54\n",
            "Nome: Agamemnon, Salário: 5005, Idade: 51\n",
            "Nome: Ajax Telamônio, Salário: 5206, Idade: 41\n",
            "Nome: Nestor, Salário: 6134, Idade: 67\n"
          ]
        }
      ]
    },
    {
      "cell_type": "code",
      "source": [
        "# solução C.\n",
        "print(\"\\nC. Dados dos funcionários com 4k ≤ salário ≤ 7k ou 5k ≤ salário ≤ 8k:\")\n",
        "for salario, func in dados_ordenados:\n",
        "    if 4000 <= salario <= 7000 or 5000 <= salario <= 8000:\n",
        "        print(f\"Nome: {func['nome']}, Salário: {salario}, Idade: {func['idade']}\")"
      ],
      "metadata": {
        "id": "wpMAxi8ZTEV9",
        "colab": {
          "base_uri": "https://localhost:8080/"
        },
        "outputId": "aa4c414e-608a-4b36-cb21-65038224549e"
      },
      "execution_count": 44,
      "outputs": [
        {
          "output_type": "stream",
          "name": "stdout",
          "text": [
            "\n",
            "C. Dados dos funcionários com 4k ≤ salário ≤ 7k ou 5k ≤ salário ≤ 8k:\n",
            "Nome: Menelau, Salário: 4849, Idade: 54\n",
            "Nome: Agamemnon, Salário: 5005, Idade: 51\n",
            "Nome: Ajax Telamônio, Salário: 5206, Idade: 41\n",
            "Nome: Nestor, Salário: 6134, Idade: 67\n",
            "Nome: Pátroclo, Salário: 7271, Idade: 22\n",
            "Nome: Aquiles, Salário: 7793, Idade: 18\n"
          ]
        }
      ]
    },
    {
      "cell_type": "code",
      "source": [
        "# solução D.\n",
        "print(\"\\nD. Nomes dos funcionários do item C:\")\n",
        "for salario, func in dados_ordenados:\n",
        "    if 4000 <= salario <= 7000 or 5000 <= salario <= 8000:\n",
        "        print(func['nome'])"
      ],
      "metadata": {
        "id": "iK_1fLezTEV-",
        "colab": {
          "base_uri": "https://localhost:8080/"
        },
        "outputId": "8eb33f68-d506-4e4b-a972-3c396fc99c5f"
      },
      "execution_count": 45,
      "outputs": [
        {
          "output_type": "stream",
          "name": "stdout",
          "text": [
            "\n",
            "D. Nomes dos funcionários do item C:\n",
            "Menelau\n",
            "Agamemnon\n",
            "Ajax Telamônio\n",
            "Nestor\n",
            "Pátroclo\n",
            "Aquiles\n"
          ]
        }
      ]
    },
    {
      "cell_type": "code",
      "source": [
        "# solução E.\n",
        "print(\"\\nE. Idades dos funcionários do item C:\")\n",
        "for salario, func in dados_ordenados:\n",
        "    if 4000 <= salario <= 7000 or 5000 <= salario <= 8000:\n",
        "        print(func['idade'])"
      ],
      "metadata": {
        "id": "rJ-t4X12TEV-",
        "colab": {
          "base_uri": "https://localhost:8080/"
        },
        "outputId": "99d51c16-a025-4d54-83dd-6d361570b6cf"
      },
      "execution_count": 46,
      "outputs": [
        {
          "output_type": "stream",
          "name": "stdout",
          "text": [
            "\n",
            "E. Idades dos funcionários do item C:\n",
            "54\n",
            "51\n",
            "41\n",
            "67\n",
            "22\n",
            "18\n"
          ]
        }
      ]
    },
    {
      "cell_type": "markdown",
      "source": [
        "### (16 pontos) Questão 3. Considere a lista \"L1\". Preencha a lista \"L2\" de tal modo que cada elemento L2[i] seja igual ao elemento L1[i] substraído da média de \"L1\", e dividido pelo desvio padrão de \"l1\". Ou seja, L2[i] = (L1[i] - mean)/std"
      ],
      "metadata": {
        "id": "DETVPVmXTML4"
      }
    },
    {
      "cell_type": "code",
      "source": [
        "L1 = np.array([ 4,  7,  5, 10,  7,  3, 11,  2,  6, 10])\n",
        "L2 = []"
      ],
      "metadata": {
        "id": "Epd8LS5kTjkd"
      },
      "execution_count": 48,
      "outputs": []
    },
    {
      "cell_type": "code",
      "source": [
        "# solução da questão\n",
        "\n",
        "mean = np.mean(L1)\n",
        "std = np.std(L1)\n",
        "\n",
        "for i in range(len(L1)):\n",
        "    L2.append((L1[i] - mean) / std)\n",
        "\n",
        "print(\"L2:\", L2)"
      ],
      "metadata": {
        "id": "LOeIhsMQTPnW",
        "colab": {
          "base_uri": "https://localhost:8080/"
        },
        "outputId": "089d7ea6-e8cb-41f6-97ad-eb0894a53ffd"
      },
      "execution_count": 49,
      "outputs": [
        {
          "output_type": "stream",
          "name": "stdout",
          "text": [
            "L2: [-0.8500255011475574, 0.17000510022951149, -0.5100153006885344, 1.1900357016065803, 0.17000510022951149, -1.1900357016065803, 1.5300459020656034, -1.5300459020656034, -0.17000510022951149, 1.1900357016065803]\n"
          ]
        }
      ]
    },
    {
      "cell_type": "markdown",
      "source": [
        "### (27 pontos) Questão 4. A operação de \"padding\" consiste em preencher os arredores de uma matriz com zeros. Veja o exemplo a seguir.<br>\n",
        "<hr>\n",
        "Antes do padding\n",
        "<table>\n",
        "<tr>\n",
        "<td> 1 </td>\n",
        "<td> 1 </td>\n",
        "<td> 1 </td>\n",
        "</tr>\n",
        "<tr>\n",
        "<td> 1 </td>\n",
        "<td> 1 </td>\n",
        "<td> 1 </td>\n",
        "</tr>\n",
        "<tr>\n",
        "<td> 1 </td>\n",
        "<td> 1 </td>\n",
        "<td> 1 </td>\n",
        "</tr>\n",
        "</table>\n",
        "<br>\n",
        "\n",
        "Depois do padding\n",
        "<table>\n",
        "<tr>\n",
        "<td> 0 </td>\n",
        "<td> 0 </td>\n",
        "<td> 0 </td>\n",
        "<td> 0 </td>\n",
        "<td> 0 </td>\n",
        "</tr>\n",
        "<tr>\n",
        "<td> 0 </td>\n",
        "<td> 1 </td>\n",
        "<td> 1 </td>\n",
        "<td> 1 </td>\n",
        "<td> 0 </td>\n",
        "</tr>\n",
        "<tr>\n",
        "<td> 0 </td>\n",
        "<td> 1 </td>\n",
        "<td> 1 </td>\n",
        "<td> 1 </td>\n",
        "<td> 0 </td>\n",
        "</tr>\n",
        "<tr>\n",
        "<td> 0 </td>\n",
        "<td> 1 </td>\n",
        "<td> 1 </td>\n",
        "<td> 1 </td>\n",
        "<td> 0 </td>\n",
        "</tr>\n",
        "<tr>\n",
        "<td> 0 </td>\n",
        "<td> 0 </td>\n",
        "<td> 0 </td>\n",
        "<td> 0 </td>\n",
        "<td> 0 </td>\n",
        "</tr>\n",
        "</table>\n",
        "<br>\n",
        "\n",
        "Execute as diretivas a seguir:\n",
        "<ol type=\"A\">\n",
        "<li> (9 pontos) Crie uma matriz A, de tamanho 3 x 3 preenchida com uns, utilizando numpy </li>\n",
        "<li> (9 pontos) Crie uma matriz B, de tamanho 5 x 5 preenchida com zeros, utilizando numpy </li>\n",
        "<li> (9 pontos) Insira os elementos da matriz A na matriz B de modo que a realizar um padding na matriz B. Utilize indexação de matrizes</li>\n",
        "</ol>\n",
        "\n",
        "**DICA.: para indexar os elementos de uma matriz 5 x 5, pegando os elementos centrais 3 x 3, faça: M[1:4, 1:4]**\n"
      ],
      "metadata": {
        "id": "EDu0pjScw1wm"
      }
    },
    {
      "cell_type": "code",
      "source": [
        "# solução A."
      ],
      "metadata": {
        "id": "1p3BSsxGTKej"
      },
      "execution_count": null,
      "outputs": []
    },
    {
      "cell_type": "code",
      "source": [
        "# solução B."
      ],
      "metadata": {
        "id": "Bdj_xtpiTKek"
      },
      "execution_count": null,
      "outputs": []
    },
    {
      "cell_type": "code",
      "source": [
        "# solução C."
      ],
      "metadata": {
        "id": "8g0lvM9XTKel"
      },
      "execution_count": null,
      "outputs": []
    },
    {
      "cell_type": "markdown",
      "source": [
        "### (27 pontos) Questão 5. O janelamento de uma matriz consiste em percorrer subconjuntos de elementos da mesma matriz de maneira iterativa. Observe o exemplo abaixo.\n",
        "<hr>\n",
        "Matriz original\n",
        "\n",
        "<table>\n",
        "<tr>\n",
        "<td> 1 </td>\n",
        "<td> 2 </td>\n",
        "<td> 3 </td>\n",
        "<td> 4 </td>\n",
        "</tr>\n",
        "<tr>\n",
        "<td> 5 </td>\n",
        "<td> 6 </td>\n",
        "<td> 7 </td>\n",
        "<td> 8 </td>\n",
        "</tr>\n",
        "<tr>\n",
        "<td> 9 </td>\n",
        "<td> 10 </td>\n",
        "<td> 11 </td>\n",
        "<td> 12 </td>\n",
        "</tr>\n",
        "<tr>\n",
        "<td> 13 </td>\n",
        "<td> 14 </td>\n",
        "<td> 15 </td>\n",
        "<td> 16 </td>\n",
        "</tr>\n",
        "</table>\n",
        "<br>\n",
        "\n",
        "Um janelamento 2 x 2 gera o seguinte resultado\n",
        "<div style=\"border: 1px solid black\">\n",
        "  <table>\n",
        "    <tr>\n",
        "      <td> 1 </td>\n",
        "      <td> 2 </td>\n",
        "    </tr>\n",
        "    <tr>\n",
        "      <td> 5 </td>\n",
        "      <td> 6 </td>\n",
        "    </tr>\n",
        "  </table>\n",
        "</div>\n",
        "\n",
        "<br>\n",
        "<div style=\"border: 1px solid black\">\n",
        "  <table>\n",
        "    <tr>\n",
        "      <td> 3 </td>\n",
        "      <td> 4 </td>\n",
        "    </tr>\n",
        "    <tr>\n",
        "      <td> 7 </td>\n",
        "      <td> 8 </td>\n",
        "    </tr>\n",
        "  </table>\n",
        "</div>\n",
        "\n",
        "<br>\n",
        "<div style=\"border: 1px solid black\">\n",
        "  <table>\n",
        "    <tr>\n",
        "      <td> 9 </td>\n",
        "      <td> 10 </td>\n",
        "    </tr>\n",
        "    <tr>\n",
        "      <td> 13 </td>\n",
        "      <td> 14 </td>\n",
        "    </tr>\n",
        "  </table>\n",
        "</div>\n",
        "\n",
        "<br>\n",
        "\n",
        "<div style=\"border: 1px solid black\">\n",
        "  <table>\n",
        "    <tr>\n",
        "      <td> 11 </td>\n",
        "      <td> 12 </td>\n",
        "    </tr>\n",
        "    <tr>\n",
        "      <td> 15 </td>\n",
        "      <td> 16 </td>\n",
        "    </tr>\n",
        "  </table>\n",
        "</div>\n",
        "<br>\n",
        "\n",
        "####Utilize indexação de matrizes do numpy para:\n",
        "\n",
        "<ol type=\"A\">\n",
        "<li> (9 pontos) Janelar apenas o primeiro quadrado (1, 2, 5, 6). </li>\n",
        "<li> (9 pontos) Em um loop, janelar todos os quadrados, salvando cada quadrado como elemento de uma lista. Desse modo, você terminará com uma lista de tamanho 4, onde cada elemento L[i] é uma matriz quadrada 2 x 2. </li>\n",
        "<li> (9 pontos) Tome a lista L do item B., e calcule a média de cada um dos seus elementos </li>\n",
        "</ol>\n"
      ],
      "metadata": {
        "id": "sI9k5u4FECJD"
      }
    },
    {
      "cell_type": "code",
      "source": [
        "matriz = np.array([[1, 2, 3, 4],\n",
        "                   [5, 6, 7, 8],\n",
        "                   [9, 10, 11, 12],\n",
        "                   [13, 14, 15, 16]])\n",
        "\n",
        "matriz"
      ],
      "metadata": {
        "colab": {
          "base_uri": "https://localhost:8080/"
        },
        "id": "DuRYnjuHxdpQ",
        "outputId": "e3bac906-a783-4568-ffef-97656af7425c"
      },
      "execution_count": 51,
      "outputs": [
        {
          "output_type": "execute_result",
          "data": {
            "text/plain": [
              "array([[ 1,  2,  3,  4],\n",
              "       [ 5,  6,  7,  8],\n",
              "       [ 9, 10, 11, 12],\n",
              "       [13, 14, 15, 16]])"
            ]
          },
          "metadata": {},
          "execution_count": 51
        }
      ]
    },
    {
      "cell_type": "code",
      "source": [
        "# solução A.\n",
        "\n",
        "primeiro_quadrado = matriz[:2, :2]\n",
        "print(\"A. Primeiro quadrado:\")\n",
        "print(primeiro_quadrado)\n"
      ],
      "metadata": {
        "id": "JTgTZyI3THkK",
        "colab": {
          "base_uri": "https://localhost:8080/"
        },
        "outputId": "274bdbe1-3375-4812-a2f1-8723ccfd5730"
      },
      "execution_count": 52,
      "outputs": [
        {
          "output_type": "stream",
          "name": "stdout",
          "text": [
            "A. Primeiro quadrado:\n",
            "[[1 2]\n",
            " [5 6]]\n"
          ]
        }
      ]
    },
    {
      "cell_type": "code",
      "source": [
        "# solução B.\n",
        "\n",
        "quadrados_lista = []\n",
        "for i in range(0, 3, 2):\n",
        "    for j in range(0, 3, 2):\n",
        "        quadrado = matriz[i:i+2, j:j+2]\n",
        "        quadrados_lista.append(quadrado)\n",
        "\n",
        "quadrados_lista\n",
        "\n",
        "\n"
      ],
      "metadata": {
        "id": "Fle6y2vUTHkM",
        "colab": {
          "base_uri": "https://localhost:8080/"
        },
        "outputId": "6e13f030-26f6-4c7d-aa73-ce03c0f414ec"
      },
      "execution_count": 56,
      "outputs": [
        {
          "output_type": "execute_result",
          "data": {
            "text/plain": [
              "[array([[1, 2],\n",
              "        [5, 6]]),\n",
              " array([[3, 4],\n",
              "        [7, 8]]),\n",
              " array([[ 9, 10],\n",
              "        [13, 14]]),\n",
              " array([[11, 12],\n",
              "        [15, 16]])]"
            ]
          },
          "metadata": {},
          "execution_count": 56
        }
      ]
    },
    {
      "cell_type": "code",
      "source": [
        "# solução C.\n",
        "\n",
        "medias = [np.mean(quadrado) for quadrado in quadrados_lista]\n",
        "\n",
        "medias"
      ],
      "metadata": {
        "id": "C_UPhwaUTHkN",
        "colab": {
          "base_uri": "https://localhost:8080/"
        },
        "outputId": "ad120745-9550-4feb-c79a-10d797d65818"
      },
      "execution_count": 58,
      "outputs": [
        {
          "output_type": "execute_result",
          "data": {
            "text/plain": [
              "[3.5, 5.5, 11.5, 13.5]"
            ]
          },
          "metadata": {},
          "execution_count": 58
        }
      ]
    },
    {
      "cell_type": "code",
      "source": [],
      "metadata": {
        "id": "CJQeYJzUyHXh"
      },
      "execution_count": null,
      "outputs": []
    }
  ]
}