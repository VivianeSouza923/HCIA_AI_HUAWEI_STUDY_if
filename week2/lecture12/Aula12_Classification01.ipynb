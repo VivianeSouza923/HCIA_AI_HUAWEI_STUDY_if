{
  "nbformat": 4,
  "nbformat_minor": 0,
  "metadata": {
    "colab": {
      "name": "Aula02_Classification01.ipynb",
      "provenance": [],
      "toc_visible": true
    },
    "kernelspec": {
      "display_name": "Python 3",
      "name": "python3"
    }
  },
  "cells": [
    {
      "cell_type": "markdown",
      "metadata": {
        "id": "lnXW2BaFWgf8"
      },
      "source": [
        "# **Function to plot decision surfaces**"
      ]
    },
    {
      "cell_type": "code",
      "metadata": {
        "id": "MFozEfXbO5T2"
      },
      "source": [
        "  import matplotlib.pyplot as plt\n",
        "  \n",
        "  def plot_decision_surface(data, target, classes, class_names, model):\n",
        "    min1, max1 = data[:, 0].min()-1, data[:, 0].max()+1\n",
        "    min2, max2 = data[:, 1].min()-1, data[:, 1].max()+1\n",
        "    # define the x and y scale\n",
        "    x1grid = np.arange(min1, max1, 0.01)\n",
        "    x2grid = np.arange(min2, max2, 0.01)\n",
        "    # create all of the lines and rows of the grid\n",
        "    xx, yy = np.meshgrid(x1grid, x2grid)\n",
        "    # flatten each grid to a vector\n",
        "    r1, r2 = xx.flatten(), yy.flatten()\n",
        "    r1, r2 = r1.reshape((len(r1), 1)), r2.reshape((len(r2), 1))\n",
        "    # horizontal stack vectors to create x1,x2 input for the model\n",
        "    grid = np.hstack((r1,r2))\n",
        "\n",
        "    yhat = model.predict(grid)\n",
        "    zz = yhat.reshape(xx.shape)\n",
        "\n",
        "    fig = plt.figure(figsize=(7,5))\n",
        "    plt.contourf(xx, yy, zz, cmap='Paired', alpha=0.75)\n",
        "\n",
        "    for class_value in range(len(classes)):\n",
        "      # get row indexes for samples with this class\n",
        "      row_ix = np.where(target == class_value)\n",
        "      # create scatter of these samples\n",
        "      plt.scatter(data[row_ix, 0], data[row_ix, 1], label=class_names[class_value], cmap='Paired')\n",
        "    \n",
        "    plt.legend(loc='upper left')"
      ],
      "execution_count": null,
      "outputs": []
    },
    {
      "cell_type": "markdown",
      "metadata": {
        "id": "r08mlyD2L8fV"
      },
      "source": [
        "# **Binary classification**"
      ]
    },
    {
      "cell_type": "markdown",
      "metadata": {
        "id": "mucrse4ON8CC"
      },
      "source": [
        "**Loading the data**"
      ]
    },
    {
      "cell_type": "code",
      "metadata": {
        "id": "6HwZESEEEQWf"
      },
      "source": [
        "import numpy as np\n",
        "from sklearn.datasets import load_iris\n",
        "\n",
        "iris = load_iris()\n",
        "X = iris.data[:,2:] # petal length and width in cm\n",
        "y = (iris.target == 2).astype(np.int) # 1 if Iris virginica, else 0"
      ],
      "execution_count": null,
      "outputs": []
    },
    {
      "cell_type": "code",
      "metadata": {
        "id": "pzgFHvtYK-bX"
      },
      "source": [
        "from sklearn.model_selection import train_test_split\n",
        "\n",
        "X_train, X_test, y_train, y_test = train_test_split(X, y, train_size=0.80, random_state=7)"
      ],
      "execution_count": null,
      "outputs": []
    },
    {
      "cell_type": "markdown",
      "metadata": {
        "id": "ynckjE8dNbhl"
      },
      "source": [
        "## **Logistic Regression**"
      ]
    },
    {
      "cell_type": "code",
      "metadata": {
        "colab": {
          "base_uri": "https://localhost:8080/"
        },
        "id": "OtBGrm0CJ29L",
        "outputId": "a2c78d8e-7c89-4f94-b767-2652ae8196b1"
      },
      "source": [
        "from sklearn.linear_model import LogisticRegression\n",
        "\n",
        "Logistic = LogisticRegression(penalty='none', random_state=7)\n",
        "Logistic.fit(X_train, y_train)\n",
        "\n",
        "acc_train = Logistic.score(X_train, y_train)\n",
        "acc_test = Logistic.score(X_test, y_test)\n",
        "\n",
        "print('Accuracy on training set = %2.2f' % acc_train)\n",
        "print('Accuracy on test set = %2.2f' % acc_test)"
      ],
      "execution_count": null,
      "outputs": [
        {
          "output_type": "stream",
          "text": [
            "Accuracy on training set = 0.98\n",
            "Accuracy on test set = 0.87\n"
          ],
          "name": "stdout"
        }
      ]
    },
    {
      "cell_type": "code",
      "metadata": {
        "colab": {
          "base_uri": "https://localhost:8080/",
          "height": 320
        },
        "id": "_TZjOjEERPX8",
        "outputId": "bea6a281-892a-4ae0-bdd4-3631e9e940ff"
      },
      "source": [
        "plot_decision_surface(X, y, np.unique(y), ['Other', 'Iris-Virginica'], Logistic)"
      ],
      "execution_count": null,
      "outputs": [
        {
          "output_type": "display_data",
          "data": {
            "image/png": "[encoded data removed]",
            "text/plain": [
              "<Figure size 504x360 with 1 Axes>"
            ]
          },
          "metadata": {
            "tags": []
          }
        }
      ]
    },
    {
      "cell_type": "markdown",
      "metadata": {
        "id": "X_Llky8GweH7"
      },
      "source": [
        "## **K-Nearest Neighbors**"
      ]
    },
    {
      "cell_type": "code",
      "metadata": {
        "colab": {
          "base_uri": "https://localhost:8080/"
        },
        "id": "kMRB1JRQwiGB",
        "outputId": "b8020425-0ba1-4bdc-dbfd-5087964a9434"
      },
      "source": [
        "from sklearn.neighbors import KNeighborsClassifier\n",
        "\n",
        "knn = KNeighborsClassifier()\n",
        "knn.fit(X_train, y_train)\n",
        "\n",
        "acc_train = knn.score(X_train, y_train)\n",
        "acc_test = knn.score(X_test, y_test)\n",
        "\n",
        "print('Accuracy on training set = %2.2f' % acc_train)\n",
        "print('Accuracy on test set = %2.2f' % acc_test)"
      ],
      "execution_count": null,
      "outputs": [
        {
          "output_type": "stream",
          "text": [
            "Accuracy on training set = 0.98\n",
            "Accuracy on test set = 0.87\n"
          ],
          "name": "stdout"
        }
      ]
    },
    {
      "cell_type": "code",
      "metadata": {
        "colab": {
          "base_uri": "https://localhost:8080/",
          "height": 320
        },
        "id": "REnt9fCawyDg",
        "outputId": "ce93738d-3873-48f8-c019-addae1f36506"
      },
      "source": [
        "plot_decision_surface(X, y, np.unique(y), ['Other', 'Iris-Virginica'], knn)"
      ],
      "execution_count": null,
      "outputs": [
        {
          "output_type": "display_data",
          "data": {
            "image/png": "[encoded data removed]",
            "text/plain": [
              "<Figure size 504x360 with 1 Axes>"
            ]
          },
          "metadata": {
            "tags": []
          }
        }
      ]
    },
    {
      "cell_type": "markdown",
      "metadata": {
        "id": "WCNmdCN9MJ_T"
      },
      "source": [
        "## **Gaussian Naive-Bayes**"
      ]
    },
    {
      "cell_type": "code",
      "metadata": {
        "colab": {
          "base_uri": "https://localhost:8080/"
        },
        "id": "l-OJRG3kMM3b",
        "outputId": "0cf71745-c139-4fef-e15d-323439232b24"
      },
      "source": [
        "from sklearn.naive_bayes import GaussianNB\n",
        "\n",
        "gNB = GaussianNB()\n",
        "gNB.fit(X_train, y_train)\n",
        "\n",
        "acc_train = gNB.score(X_train, y_train)\n",
        "acc_test = gNB.score(X_test, y_test)\n",
        "\n",
        "print('Accuracy on training set = %2.2f' % acc_train)\n",
        "print('Accuracy on test set = %2.2f' % acc_test)"
      ],
      "execution_count": null,
      "outputs": [
        {
          "output_type": "stream",
          "text": [
            "Accuracy on training set = 0.98\n",
            "Accuracy on test set = 0.93\n"
          ],
          "name": "stdout"
        }
      ]
    },
    {
      "cell_type": "code",
      "metadata": {
        "colab": {
          "base_uri": "https://localhost:8080/",
          "height": 320
        },
        "id": "gG6brcPARsr-",
        "outputId": "e8c70354-efca-4946-c00c-95db512b7233"
      },
      "source": [
        "plot_decision_surface(X, y, np.unique(y), ['Other', 'Iris-Virginica'], gNB)"
      ],
      "execution_count": null,
      "outputs": [
        {
          "output_type": "display_data",
          "data": {
            "image/png": "[encoded data removed]",
            "text/plain": [
              "<Figure size 504x360 with 1 Axes>"
            ]
          },
          "metadata": {
            "tags": []
          }
        }
      ]
    },
    {
      "cell_type": "markdown",
      "metadata": {
        "id": "k6kKQLcjNp0D"
      },
      "source": [
        "# **Multiclass classification**"
      ]
    },
    {
      "cell_type": "markdown",
      "metadata": {
        "id": "yZ2cB_M2OCBB"
      },
      "source": [
        "**Loading the data**"
      ]
    },
    {
      "cell_type": "code",
      "metadata": {
        "id": "pOswdFSNOEQW"
      },
      "source": [
        "from sklearn.datasets import load_iris\n",
        "\n",
        "iris = load_iris()\n",
        "X = iris.data[:,2:]\n",
        "y = iris.target"
      ],
      "execution_count": null,
      "outputs": []
    },
    {
      "cell_type": "code",
      "metadata": {
        "id": "FDW7rOMMOR-v"
      },
      "source": [
        "from sklearn.model_selection import train_test_split\n",
        "\n",
        "X_train, X_test, y_train, y_test = train_test_split(X, y, train_size=0.80, random_state=7)"
      ],
      "execution_count": null,
      "outputs": []
    },
    {
      "cell_type": "markdown",
      "metadata": {
        "id": "uzfenT6dN0nO"
      },
      "source": [
        "## **Softmax Regression**"
      ]
    },
    {
      "cell_type": "code",
      "metadata": {
        "colab": {
          "base_uri": "https://localhost:8080/"
        },
        "id": "Ie7qQmj2N0UM",
        "outputId": "5c18ce33-2de1-4f7f-8f2f-d36fe1183bd5"
      },
      "source": [
        "Softmax = LogisticRegression(max_iter=1000, penalty='none', random_state=7)\n",
        "Softmax.fit(X_train, y_train)\n",
        "\n",
        "acc_train = Softmax.score(X_train, y_train)\n",
        "acc_test = Softmax.score(X_test, y_test)\n",
        "\n",
        "print('Accuracy on training set = %2.2f' % acc_train)\n",
        "print('Accuracy on test set = %2.2f' % acc_test)"
      ],
      "execution_count": null,
      "outputs": [
        {
          "output_type": "stream",
          "text": [
            "Accuracy on training set = 0.99\n",
            "Accuracy on test set = 0.87\n"
          ],
          "name": "stdout"
        }
      ]
    },
    {
      "cell_type": "code",
      "metadata": {
        "colab": {
          "base_uri": "https://localhost:8080/",
          "height": 320
        },
        "id": "hsafSD8TR0KP",
        "outputId": "9e42097e-47ff-45c8-e65b-be0c62e70ac5"
      },
      "source": [
        "plot_decision_surface(X, y, np.unique(y), ['Iris-Setosa', 'Iris-Versicolour', 'Iris-Virginica'], Softmax)"
      ],
      "execution_count": null,
      "outputs": [
        {
          "output_type": "display_data",
          "data": {
            "image/png": "[encoded data removed]",
            "text/plain": [
              "<Figure size 504x360 with 1 Axes>"
            ]
          },
          "metadata": {
            "tags": []
          }
        }
      ]
    },
    {
      "cell_type": "markdown",
      "metadata": {
        "id": "YDLSkyxfxeig"
      },
      "source": [
        "## **K-Nearest Neighbors**"
      ]
    },
    {
      "cell_type": "code",
      "metadata": {
        "colab": {
          "background_save": true,
          "base_uri": "https://localhost:8080/"
        },
        "id": "5QFb4_6uxexL",
        "outputId": "3d000377-de43-4341-b8e8-9036edf2cdbe"
      },
      "source": [
        "from sklearn.neighbors import KNeighborsClassifier\n",
        "\n",
        "knn = KNeighborsClassifier(n_neighbors=5 , weights='uniform')\n",
        "knn.fit(X_train, y_train)\n",
        "\n",
        "acc_train = knn.score(X_train, y_train)\n",
        "acc_test = knn.score(X_test, y_test)\n",
        "\n",
        "print('Accuracy on training set = %2.2f' % acc_train)\n",
        "print('Accuracy on test set = %2.2f' % acc_test)"
      ],
      "execution_count": null,
      "outputs": [
        {
          "output_type": "stream",
          "text": [
            "Accuracy on training set = 0.98\n",
            "Accuracy on test set = 0.87\n"
          ],
          "name": "stdout"
        }
      ]
    },
    {
      "cell_type": "code",
      "metadata": {
        "colab": {
          "base_uri": "https://localhost:8080/",
          "height": 320
        },
        "id": "LZLKepxbxkKQ",
        "outputId": "d5e38417-930e-4c50-8e49-15c63a727803"
      },
      "source": [
        "import numpy as np\n",
        "\n",
        "plot_decision_surface(X, y, np.unique(y), ['Iris-Setosa', 'Iris-Versicolour', 'Iris-Virginica'], knn)"
      ],
      "execution_count": null,
      "outputs": [
        {
          "output_type": "display_data",
          "data": {
            "image/png": "[encoded data removed]",
            "text/plain": [
              "<Figure size 504x360 with 1 Axes>"
            ]
          },
          "metadata": {
            "tags": []
          }
        }
      ]
    },
    {
      "cell_type": "code",
      "metadata": {
        "colab": {
          "base_uri": "https://localhost:8080/",
          "height": 320
        },
        "id": "ZgZG47P4de1x",
        "outputId": "3f832268-5487-48e6-cdb1-8b76dcf918f1"
      },
      "source": [
        "import numpy as np\n",
        "\n",
        "plot_decision_surface(X_train, y_train, np.unique(y), ['Iris-Setosa', 'Iris-Versicolour', 'Iris-Virginica'], knn)"
      ],
      "execution_count": null,
      "outputs": [
        {
          "output_type": "display_data",
          "data": {
            "image/png": "[encoded data removed]",
            "text/plain": [
              "<Figure size 504x360 with 1 Axes>"
            ]
          },
          "metadata": {
            "tags": []
          }
        }
      ]
    },
    {
      "cell_type": "markdown",
      "metadata": {
        "id": "FhBGcaa1OdIO"
      },
      "source": [
        "## **Gausian Naive-Bayes**"
      ]
    },
    {
      "cell_type": "code",
      "metadata": {
        "colab": {
          "base_uri": "https://localhost:8080/"
        },
        "id": "yBN89W5OOgJB",
        "outputId": "74191af7-a6b5-45d7-ade1-9d4f3462346e"
      },
      "source": [
        "gNB = GaussianNB()\n",
        "gNB.fit(X_train, y_train)\n",
        "\n",
        "acc_train = gNB.score(X_train, y_train)\n",
        "acc_test = gNB.score(X_test, y_test)\n",
        "\n",
        "print('Accuracy on training set = %2.2f' % acc_train)\n",
        "print('Accuracy on test set = %2.2f' % acc_test)"
      ],
      "execution_count": null,
      "outputs": [
        {
          "output_type": "stream",
          "text": [
            "Accuracy on training set = 0.98\n",
            "Accuracy on test set = 0.87\n"
          ],
          "name": "stdout"
        }
      ]
    },
    {
      "cell_type": "code",
      "metadata": {
        "colab": {
          "base_uri": "https://localhost:8080/",
          "height": 320
        },
        "id": "XuokvRn4S_94",
        "outputId": "5defdc25-92eb-4983-e1c4-e7cb581842a6"
      },
      "source": [
        "plot_decision_surface(X, y, np.unique(y), ['Iris-Setosa', 'Iris-Versicolour', 'Iris-Virginica'], gNB)"
      ],
      "execution_count": null,
      "outputs": [
        {
          "output_type": "display_data",
          "data": {
            "image/png": "[encoded data removed]",
            "text/plain": [
              "<Figure size 504x360 with 1 Axes>"
            ]
          },
          "metadata": {
            "tags": []
          }
        }
      ]
    },
    {
      "cell_type": "markdown",
      "metadata": {
        "id": "zCkHr2qPQ7hj"
      },
      "source": [
        "# **Document classification**"
      ]
    },
    {
      "cell_type": "markdown",
      "metadata": {
        "id": "XudMtRDHh5m2"
      },
      "source": [
        "**Loading the data**"
      ]
    },
    {
      "cell_type": "code",
      "metadata": {
        "colab": {
          "base_uri": "https://localhost:8080/"
        },
        "id": "--K2TpIjRDMq",
        "outputId": "63a3d15c-2b0a-40c4-ba4a-84e5ae97541a"
      },
      "source": [
        "from sklearn.datasets import fetch_20newsgroups\n",
        "\n",
        "categories = ['comp.graphics', 'rec.autos', 'rec.motorcycles', \n",
        "              'rec.sport.baseball', 'rec.sport.hockey', 'sci.electronics',\n",
        "              'sci.med', 'sci.space']\n",
        "\n",
        "twenty_train = fetch_20newsgroups(subset='train', categories=categories,\n",
        "                                  remove=('headers', 'footers', 'quotes'),\n",
        "                                  random_state=7)\n",
        "\n",
        "twenty_test = fetch_20newsgroups(subset='test', categories=categories,\n",
        "                                  remove=('headers', 'footers', 'quotes'),\n",
        "                                  random_state=7)"
      ],
      "execution_count": null,
      "outputs": [
        {
          "output_type": "stream",
          "text": [
            "Downloading 20news dataset. This may take a few minutes.\n",
            "Downloading dataset from https://ndownloader.figshare.com/files/5975967 (14 MB)\n"
          ],
          "name": "stderr"
        }
      ]
    },
    {
      "cell_type": "code",
      "metadata": {
        "id": "2T4QkAFljmlT"
      },
      "source": [
        "from sklearn.feature_extraction.text import CountVectorizer\n",
        "\n",
        "vect = CountVectorizer()\n",
        "\n",
        "X_train = vect.fit_transform(twenty_train.data)\n",
        "X_test = vect.transform(twenty_test.data)\n",
        "\n",
        "y_train = twenty_train.target\n",
        "y_test = twenty_test.target"
      ],
      "execution_count": null,
      "outputs": []
    },
    {
      "cell_type": "code",
      "metadata": {
        "colab": {
          "base_uri": "https://localhost:8080/"
        },
        "id": "iM0kPm2rk5Ab",
        "outputId": "2651376e-eac7-4c09-8c6b-2672568f4d3e"
      },
      "source": [
        "X_train.shape"
      ],
      "execution_count": null,
      "outputs": [
        {
          "output_type": "execute_result",
          "data": {
            "text/plain": [
              "(4751, 40880)"
            ]
          },
          "metadata": {
            "tags": []
          },
          "execution_count": 21
        }
      ]
    },
    {
      "cell_type": "markdown",
      "metadata": {
        "id": "I059p3gvh9kG"
      },
      "source": [
        "## **Multinomial Naive-Bayes**"
      ]
    },
    {
      "cell_type": "code",
      "metadata": {
        "colab": {
          "base_uri": "https://localhost:8080/"
        },
        "id": "HclPjeuIfo9U",
        "outputId": "51ead72e-fd8a-4a06-d6aa-faa5f3d1ac6c"
      },
      "source": [
        "from sklearn.naive_bayes import MultinomialNB\n",
        "\n",
        "mNB = MultinomialNB()\n",
        "mNB.fit(X_train, y_train)\n",
        "\n",
        "acc_train = mNB.score(X_train, y_train)\n",
        "acc_test = mNB.score(X_test, y_test)\n",
        "\n",
        "print('Accuracy on training set = %2.2f' % acc_train)\n",
        "print('Accuracy on test set = %2.2f' % acc_test)"
      ],
      "execution_count": null,
      "outputs": [
        {
          "output_type": "stream",
          "text": [
            "Accuracy on training set = 0.91\n",
            "Accuracy on test set = 0.80\n"
          ],
          "name": "stdout"
        }
      ]
    },
    {
      "cell_type": "markdown",
      "metadata": {
        "id": "Qj64Y_A_iAT-"
      },
      "source": [
        "## **Bernoulli Naive-Bayes**"
      ]
    },
    {
      "cell_type": "code",
      "metadata": {
        "colab": {
          "base_uri": "https://localhost:8080/"
        },
        "id": "OGbNVmzGhP_y",
        "outputId": "484b0fdb-37e5-4930-f854-f54420e7d4c6"
      },
      "source": [
        "from sklearn.naive_bayes import BernoulliNB\n",
        "\n",
        "bNB = BernoulliNB()\n",
        "bNB.fit(X_train.astype('bool'), y_train)\n",
        "\n",
        "print('Accuracy on training set = %2.2f' % bNB.score(X_train.astype('bool'), y_train))\n",
        "print('Accuracy on test set = %2.2f' % bNB.score(X_test.astype('bool'), y_test))"
      ],
      "execution_count": null,
      "outputs": [
        {
          "output_type": "stream",
          "text": [
            "Accuracy on training set = 0.76\n",
            "Accuracy on test set = 0.63\n"
          ],
          "name": "stdout"
        }
      ]
    },
    {
      "cell_type": "markdown",
      "metadata": {
        "id": "RbpgXxjJf0Pi"
      },
      "source": [
        "## **[Complement Naive Bayes](https://people.csail.mit.edu/jrennie/papers/icml03-nb.pdf)**"
      ]
    },
    {
      "cell_type": "code",
      "metadata": {
        "colab": {
          "base_uri": "https://localhost:8080/"
        },
        "id": "RAWu6HCof0Yw",
        "outputId": "cf2c50b1-c7c1-4ea5-b98d-bc78e5e8251a"
      },
      "source": [
        "from sklearn.naive_bayes import ComplementNB\n",
        "\n",
        "cNB = ComplementNB()\n",
        "cNB.fit(X_train, y_train)\n",
        "\n",
        "acc_train = cNB.score(X_train, y_train)\n",
        "acc_test = cNB.score(X_test, y_test)\n",
        "\n",
        "print('Accuracy on training set = %2.2f' % acc_train)\n",
        "print('Accuracy on test set = %2.2f' % acc_test)"
      ],
      "execution_count": null,
      "outputs": [
        {
          "output_type": "stream",
          "text": [
            "Accuracy on training set = 0.93\n",
            "Accuracy on test set = 0.83\n"
          ],
          "name": "stdout"
        }
      ]
    }
  ]
}