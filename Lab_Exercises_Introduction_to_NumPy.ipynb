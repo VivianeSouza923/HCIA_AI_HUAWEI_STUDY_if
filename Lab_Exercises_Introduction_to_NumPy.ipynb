{
  "nbformat": 4,
  "nbformat_minor": 0,
  "metadata": {
    "anaconda-cloud": {},
    "kernelspec": {
      "display_name": "Python 3",
      "language": "python",
      "name": "python3"
    },
    "language_info": {
      "codemirror_mode": {
        "name": "ipython",
        "version": 3
      },
      "file_extension": ".py",
      "mimetype": "text/x-python",
      "name": "python",
      "nbconvert_exporter": "python",
      "pygments_lexer": "ipython3",
      "version": "3.7.4"
    },
    "colab": {
      "provenance": [],
      "include_colab_link": true
    }
  },
  "cells": [
    {
      "cell_type": "markdown",
      "metadata": {
        "id": "view-in-github",
        "colab_type": "text"
      },
      "source": [
        "<a href=\"https://colab.research.google.com/github/VivianeSouza923/HCIA_AI_HUAWEI_STUDY_if/blob/main/Lab_Exercises_Introduction_to_NumPy.ipynb\" target=\"_parent\"><img src=\"https://colab.research.google.com/assets/colab-badge.svg\" alt=\"Open In Colab\"/></a>"
      ]
    },
    {
      "cell_type": "markdown",
      "metadata": {
        "id": "Buy1HADaJwFe"
      },
      "source": [
        "#Exercises"
      ]
    },
    {
      "cell_type": "markdown",
      "metadata": {
        "id": "ibUfXifbJwFf"
      },
      "source": [
        "#### 1. Import NumPy as np"
      ]
    },
    {
      "cell_type": "code",
      "metadata": {
        "id": "el2g_OVxJwFh"
      },
      "source": [
        "import numpy as np"
      ],
      "execution_count": 1,
      "outputs": []
    },
    {
      "cell_type": "markdown",
      "metadata": {
        "id": "OdEpxzfTJwFk"
      },
      "source": [
        "#### 2. Create an array of 10 zeros "
      ]
    },
    {
      "cell_type": "code",
      "metadata": {
        "id": "GqUZn9nHJwFm",
        "colab": {
          "base_uri": "https://localhost:8080/"
        },
        "outputId": "36793640-7ef7-4c38-9a4b-e60b8daf06ff"
      },
      "source": [
        "array = np.zeros(10)\n",
        "array\n",
        "# output: array([0., 0., 0., 0., 0., 0., 0., 0., 0., 0.])"
      ],
      "execution_count": 3,
      "outputs": [
        {
          "output_type": "execute_result",
          "data": {
            "text/plain": [
              "array([0., 0., 0., 0., 0., 0., 0., 0., 0., 0.])"
            ]
          },
          "metadata": {},
          "execution_count": 3
        }
      ]
    },
    {
      "cell_type": "markdown",
      "metadata": {
        "id": "m382-javJwFq"
      },
      "source": [
        "#### 3. Create an array of 10 ones"
      ]
    },
    {
      "cell_type": "code",
      "metadata": {
        "id": "new6jSk5JwFq",
        "colab": {
          "base_uri": "https://localhost:8080/"
        },
        "outputId": "18fecc48-3a47-416c-ec31-af54ea60753e"
      },
      "source": [
        "array_tenOnes = np.ones(10)\n",
        "array_tenOnes\n",
        "# output: array([1., 1., 1., 1., 1., 1., 1., 1., 1., 1.])"
      ],
      "execution_count": 4,
      "outputs": [
        {
          "output_type": "execute_result",
          "data": {
            "text/plain": [
              "array([1., 1., 1., 1., 1., 1., 1., 1., 1., 1.])"
            ]
          },
          "metadata": {},
          "execution_count": 4
        }
      ]
    },
    {
      "cell_type": "markdown",
      "metadata": {
        "id": "ApZ5Oi6_JwFs"
      },
      "source": [
        "#### 4. Create an array of 10 fives"
      ]
    },
    {
      "cell_type": "code",
      "metadata": {
        "id": "qKNaFF7gJwFt"
      },
      "source": [
        "\n",
        "# output: array([5., 5., 5., 5., 5., 5., 5., 5., 5., 5.])"
      ],
      "execution_count": null,
      "outputs": []
    },
    {
      "cell_type": "markdown",
      "metadata": {
        "id": "JBKYjEnyJwFu"
      },
      "source": [
        "#### 5. Create an array of the integers from 10 to 50"
      ]
    },
    {
      "cell_type": "code",
      "metadata": {
        "id": "z7yIqTFDJwFu"
      },
      "source": [
        "\n",
        "# output: array([10, 11, 12, 13, 14, 15, 16, 17, 18, 19, 20, 21, 22, 23, 24, 25, 26,\n",
        "#                27, 28, 29, 30, 31, 32, 33, 34, 35, 36, 37, 38, 39, 40, 41, 42, 43,\n",
        "#                44, 45, 46, 47, 48, 49, 50])"
      ],
      "execution_count": null,
      "outputs": []
    },
    {
      "cell_type": "markdown",
      "metadata": {
        "id": "5HvS_BR-JwFw"
      },
      "source": [
        "#### 6. Create an array of all the even integers from 10 to 50"
      ]
    },
    {
      "cell_type": "code",
      "metadata": {
        "collapsed": true,
        "id": "bYcqCPlmJwFx"
      },
      "source": [
        "\n",
        "# outout: array([10, 12, 14, 16, 18, 20, 22, 24, 26, 28, 30, 32, 34, 36, 38, 40, 42,\n",
        "#                44, 46, 48, 50])"
      ],
      "execution_count": null,
      "outputs": []
    },
    {
      "cell_type": "markdown",
      "metadata": {
        "id": "8DJvVYj-JwFz"
      },
      "source": [
        "#### 7. Create a 3x3 matrix with values ranging from 0 to 8"
      ]
    },
    {
      "cell_type": "code",
      "metadata": {
        "id": "i18_7C9-JwF1"
      },
      "source": [
        "\n",
        "# output: array([[0, 1, 2],\n",
        "#               [3, 4, 5],\n",
        "#               [6, 7, 8]])"
      ],
      "execution_count": null,
      "outputs": []
    },
    {
      "cell_type": "markdown",
      "metadata": {
        "id": "vru5nfxgJwF3"
      },
      "source": [
        "#### 8. Create a 3x3 identity matrix"
      ]
    },
    {
      "cell_type": "code",
      "metadata": {
        "id": "jK4pBDiOJwF3"
      },
      "source": [
        "\n",
        "# output: array([[1., 0., 0.],\n",
        "#                [0., 1., 0.],\n",
        "#                [0., 0., 1.]])"
      ],
      "execution_count": null,
      "outputs": []
    },
    {
      "cell_type": "markdown",
      "metadata": {
        "id": "ccd5H0FuJwF5"
      },
      "source": [
        "#### 9. Use NumPy to generate a random number between 0 and 1<br><br>&emsp;NOTE: Your result's value should be different from the one shown below."
      ]
    },
    {
      "cell_type": "code",
      "metadata": {
        "id": "spIyL1xaJwF5"
      },
      "source": [
        "\n",
        "# output: array([0.23442116])"
      ],
      "execution_count": null,
      "outputs": []
    },
    {
      "cell_type": "markdown",
      "metadata": {
        "id": "dmczKgyKJwF5"
      },
      "source": [
        "#### 10. Use NumPy to generate an array of 25 random numbers sampled from a standard normal distribution<br><br>&emsp;&ensp;NOTE: Your result's values should be different from the ones shown below."
      ]
    },
    {
      "cell_type": "code",
      "metadata": {
        "id": "rEoAnIG5JwF6"
      },
      "source": [
        "np.random.randn(25)\n",
        "# output: array([-0.61659542, -0.77532828,  0.36213786, -1.28636974,  0.33286861,\n",
        "#                 0.06991562,  0.99519046, -1.12320101, -2.09591218, -0.99818646,\n",
        "#                -0.86720284, -1.13239342, -0.17099943, -0.76632253, -1.005097  ,\n",
        "#                -1.73123788, -1.28889203, -1.63121734, -0.32411105, -0.30448115,\n",
        "#                -0.67660156, -1.1030128 , -1.19426878,  1.10254174,  1.30879357])"
      ],
      "execution_count": null,
      "outputs": []
    },
    {
      "cell_type": "markdown",
      "metadata": {
        "id": "XN0P4dpfJwF7"
      },
      "source": [
        "#### 11. Create the following matrix:"
      ]
    },
    {
      "cell_type": "code",
      "metadata": {
        "id": "dSUwoGF4JwF7"
      },
      "source": [
        "\n",
        "# output: array([[0.01, 0.02, 0.03, 0.04, 0.05, 0.06, 0.07, 0.08, 0.09, 0.1 ],\n",
        "#       [0.11, 0.12, 0.13, 0.14, 0.15, 0.16, 0.17, 0.18, 0.19, 0.2 ],\n",
        "#       [0.21, 0.22, 0.23, 0.24, 0.25, 0.26, 0.27, 0.28, 0.29, 0.3 ],\n",
        "#       [0.31, 0.32, 0.33, 0.34, 0.35, 0.36, 0.37, 0.38, 0.39, 0.4 ],\n",
        "#       [0.41, 0.42, 0.43, 0.44, 0.45, 0.46, 0.47, 0.48, 0.49, 0.5 ],\n",
        "#       [0.51, 0.52, 0.53, 0.54, 0.55, 0.56, 0.57, 0.58, 0.59, 0.6 ],\n",
        "#       [0.61, 0.62, 0.63, 0.64, 0.65, 0.66, 0.67, 0.68, 0.69, 0.7 ],\n",
        "#       [0.71, 0.72, 0.73, 0.74, 0.75, 0.76, 0.77, 0.78, 0.79, 0.8 ],\n",
        "#       [0.81, 0.82, 0.83, 0.84, 0.85, 0.86, 0.87, 0.88, 0.89, 0.9 ],\n",
        "#       [0.91, 0.92, 0.93, 0.94, 0.95, 0.96, 0.97, 0.98, 0.99, 1.  ]])"
      ],
      "execution_count": null,
      "outputs": []
    },
    {
      "cell_type": "markdown",
      "metadata": {
        "id": "pxptAyXeJwF8"
      },
      "source": [
        "#### 12. Create an array of 20 linearly spaced points between 0 and 1:"
      ]
    },
    {
      "cell_type": "code",
      "metadata": {
        "id": "4mYB8z28JwF8"
      },
      "source": [
        "\n",
        "# output: array([0.        , 0.05263158, 0.10526316, 0.15789474, 0.21052632,\n",
        "#       0.26315789, 0.31578947, 0.36842105, 0.42105263, 0.47368421,\n",
        "#       0.52631579, 0.57894737, 0.63157895, 0.68421053, 0.73684211,\n",
        "#       0.78947368, 0.84210526, 0.89473684, 0.94736842, 1.        ])"
      ],
      "execution_count": null,
      "outputs": []
    },
    {
      "cell_type": "markdown",
      "metadata": {
        "id": "YFFnh76pJwF9"
      },
      "source": [
        "# Now, you will be given a starting matrix, and you will replicate the matrix outputs.\n",
        "\n",
        "##<div class=\"alert alert-danger\" style=\"margin: 10px\"><strong>IMPORTANT NOTE:</strong> Do not forget to run the cell below!"
      ]
    },
    {
      "cell_type": "code",
      "metadata": {
        "id": "QKcHWutzJwF-"
      },
      "source": [
        "# RUN THIS CELL - THIS IS OUR STARTING MATRIX\n",
        "mat = np.arange(1,26).reshape(5,5)\n",
        "mat"
      ],
      "execution_count": null,
      "outputs": []
    },
    {
      "cell_type": "markdown",
      "metadata": {
        "id": "jWrDCFirJwF-"
      },
      "source": [
        "#### 13. Write code that reproduces the output shown below.<br>"
      ]
    },
    {
      "cell_type": "code",
      "metadata": {
        "id": "1cEaWtWiJwF-"
      },
      "source": [
        "\n",
        "# output: array([[12, 13, 14, 15],\n",
        "#       [17, 18, 19, 20],\n",
        "#       [22, 23, 24, 25]])"
      ],
      "execution_count": null,
      "outputs": []
    },
    {
      "cell_type": "markdown",
      "metadata": {
        "id": "3Mg1S4BiJwF-"
      },
      "source": [
        "#### 14. Write code that reproduces the output shown below."
      ]
    },
    {
      "cell_type": "code",
      "metadata": {
        "id": "Wm5iobriJwF_"
      },
      "source": [
        "\n",
        "# output: 20"
      ],
      "execution_count": null,
      "outputs": []
    },
    {
      "cell_type": "markdown",
      "metadata": {
        "id": "YOolhUoxJwGA"
      },
      "source": [
        "#### 15. Write code that reproduces the output shown below."
      ]
    },
    {
      "cell_type": "code",
      "metadata": {
        "id": "3nFqWmvAJwGA"
      },
      "source": [
        "\n",
        "# array([[ 2],\n",
        "#       [ 7],\n",
        "#       [12]])"
      ],
      "execution_count": null,
      "outputs": []
    },
    {
      "cell_type": "markdown",
      "metadata": {
        "id": "-355bsw0JwGC"
      },
      "source": [
        "#### 16. Write code that reproduces the output shown below."
      ]
    },
    {
      "cell_type": "code",
      "metadata": {
        "id": "LA1YaXK9JwGC"
      },
      "source": [
        "\n",
        "# output: array([21, 22, 23, 24, 25])"
      ],
      "execution_count": null,
      "outputs": []
    },
    {
      "cell_type": "markdown",
      "metadata": {
        "id": "XcrErRAiJwGG"
      },
      "source": [
        "#### 17. Write code that reproduces the output shown below."
      ]
    },
    {
      "cell_type": "code",
      "metadata": {
        "id": "HC4NfFM-JwGG"
      },
      "source": [
        "\n",
        "# output: array([[16, 17, 18, 19, 20],\n",
        "#       [21, 22, 23, 24, 25]])"
      ],
      "execution_count": null,
      "outputs": []
    },
    {
      "cell_type": "markdown",
      "metadata": {
        "id": "2kKlrU9YJwGI"
      },
      "source": [
        "#### 18. Get the sum of all the values in mat"
      ]
    },
    {
      "cell_type": "code",
      "metadata": {
        "id": "gWQ4nNHOJwGJ"
      },
      "source": [
        "\n",
        "# output: 325"
      ],
      "execution_count": null,
      "outputs": []
    },
    {
      "cell_type": "markdown",
      "metadata": {
        "id": "_hfdvtu4JwGK"
      },
      "source": [
        "#### 19. Get the standard deviation of the values in mat"
      ]
    },
    {
      "cell_type": "code",
      "metadata": {
        "id": "tBpF8bK7JwGK"
      },
      "source": [
        "\n",
        "# output: 7.211102550927978"
      ],
      "execution_count": null,
      "outputs": []
    },
    {
      "cell_type": "markdown",
      "metadata": {
        "id": "tW4cvjYpJwGK"
      },
      "source": [
        "#### 20. Get the sum of all the columns in mat"
      ]
    },
    {
      "cell_type": "code",
      "metadata": {
        "id": "pF3MxsUPJwGK"
      },
      "source": [
        "\n",
        "# output: array([55, 60, 65, 70, 75])"
      ],
      "execution_count": null,
      "outputs": []
    }
  ]
}