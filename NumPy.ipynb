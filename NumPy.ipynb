{
  "nbformat": 4,
  "nbformat_minor": 0,
  "metadata": {
    "colab": {
      "provenance": [],
      "authorship_tag": "ABX9TyNqbgRCUXdHHrznxmu1iAIf",
      "include_colab_link": true
    },
    "kernelspec": {
      "name": "python3",
      "display_name": "Python 3"
    },
    "language_info": {
      "name": "python"
    }
  },
  "cells": [
    {
      "cell_type": "markdown",
      "metadata": {
        "id": "view-in-github",
        "colab_type": "text"
      },
      "source": [
        "<a href=\"https://colab.research.google.com/github/VivianeSouza923/HCIA_AI_HUAWEI_STUDY_if/blob/main/NumPy.ipynb\" target=\"_parent\"><img src=\"https://colab.research.google.com/assets/colab-badge.svg\" alt=\"Open In Colab\"/></a>"
      ]
    },
    {
      "cell_type": "code",
      "execution_count": 1,
      "metadata": {
        "id": "iOz0bixswGdB"
      },
      "outputs": [],
      "source": [
        "#importando a lib\n",
        "import numpy as np"
      ]
    },
    {
      "cell_type": "code",
      "source": [
        "#criando uma array - nome_da_Array = np.array([elemento1, elemento2, ..., elementon])\n",
        "arr1 = np.array([1, 2, 3])\n",
        "#printando essa array\n",
        "arr1"
      ],
      "metadata": {
        "colab": {
          "base_uri": "https://localhost:8080/"
        },
        "id": "yRQQG3rVweSR",
        "outputId": "55337438-251d-40a5-d879-065843841551"
      },
      "execution_count": 2,
      "outputs": [
        {
          "output_type": "execute_result",
          "data": {
            "text/plain": [
              "array([1, 2, 3])"
            ]
          },
          "metadata": {},
          "execution_count": 2
        }
      ]
    },
    {
      "cell_type": "code",
      "source": [
        "#tipo da array? temos. basta usar a função type, passando o parâmetro, a própria array.\n",
        "type(arr1)"
      ],
      "metadata": {
        "colab": {
          "base_uri": "https://localhost:8080/"
        },
        "id": "2S7zbPlOxCNk",
        "outputId": "d329701c-d8da-43ff-d9c4-7957a4a86ceb"
      },
      "execution_count": 3,
      "outputs": [
        {
          "output_type": "execute_result",
          "data": {
            "text/plain": [
              "numpy.ndarray"
            ]
          },
          "metadata": {},
          "execution_count": 3
        }
      ]
    },
    {
      "cell_type": "code",
      "source": [
        "#array de 2 dimensões? temos também. só criar agora:\n",
        "arr2 = np.array([[1,2,3],[4,5,6]])\n",
        "#printa a array\n",
        "arr2\n"
      ],
      "metadata": {
        "colab": {
          "base_uri": "https://localhost:8080/"
        },
        "id": "YKVPe_gqyFgS",
        "outputId": "61ffeedf-7fef-4c2e-fd63-e01cb4f4a03b"
      },
      "execution_count": 4,
      "outputs": [
        {
          "output_type": "execute_result",
          "data": {
            "text/plain": [
              "array([[1, 2, 3],\n",
              "       [4, 5, 6]])"
            ]
          },
          "metadata": {},
          "execution_count": 4
        }
      ]
    },
    {
      "cell_type": "code",
      "source": [
        "type(arr2)"
      ],
      "metadata": {
        "colab": {
          "base_uri": "https://localhost:8080/"
        },
        "id": "Z2kSbREZy3AF",
        "outputId": "eebb7f29-225a-4ee4-cc13-cba44c220681"
      },
      "execution_count": 5,
      "outputs": [
        {
          "output_type": "execute_result",
          "data": {
            "text/plain": [
              "numpy.ndarray"
            ]
          },
          "metadata": {},
          "execution_count": 5
        }
      ]
    },
    {
      "cell_type": "code",
      "source": [
        "#  acessar os elementos:\n",
        "#quem tá na posição 0 da minha array arr1? só printa assim:\n",
        "arr1[0]"
      ],
      "metadata": {
        "colab": {
          "base_uri": "https://localhost:8080/"
        },
        "id": "W6Gh8e-Vy6Rw",
        "outputId": "d12df150-9545-4835-ff28-40c9935c7fbb"
      },
      "execution_count": 6,
      "outputs": [
        {
          "output_type": "execute_result",
          "data": {
            "text/plain": [
              "1"
            ]
          },
          "metadata": {},
          "execution_count": 6
        }
      ]
    },
    {
      "cell_type": "code",
      "source": [
        "##  acessar os elementos:\n",
        "# matriz - lista de listas\n",
        "arr2[1][1] #linha 1, elemento 1, consegue ver?\n"
      ],
      "metadata": {
        "colab": {
          "base_uri": "https://localhost:8080/"
        },
        "id": "rSgGHqA9zeAb",
        "outputId": "1de3c35f-30fa-4498-d05b-daa6eeb3031c"
      },
      "execution_count": 7,
      "outputs": [
        {
          "output_type": "execute_result",
          "data": {
            "text/plain": [
              "5"
            ]
          },
          "metadata": {},
          "execution_count": 7
        }
      ]
    },
    {
      "cell_type": "code",
      "source": [
        "#criar uma array passando a posição inicial e a final, ou seja, onde vai começar e onde vai terminar.\n",
        "# para isso, a gente utiliza a arange dentro da numpy.\n",
        "arr3 = np.arange(0,9)\n",
        "arr3"
      ],
      "metadata": {
        "id": "b8xw2b1A0Pkx",
        "colab": {
          "base_uri": "https://localhost:8080/"
        },
        "outputId": "467d3744-14ff-4091-f4b5-a4d9e4d89c65"
      },
      "execution_count": 8,
      "outputs": [
        {
          "output_type": "execute_result",
          "data": {
            "text/plain": [
              "array([0, 1, 2, 3, 4, 5, 6, 7, 8])"
            ]
          },
          "metadata": {},
          "execution_count": 8
        }
      ]
    },
    {
      "cell_type": "code",
      "source": [
        "#também dá pra criar arrays de \"pulinhos em pulinhos\", ou seja, espaçamento entre os números, utilizando a arange:\n",
        "arr4 = np.arange(0,9,3)\n",
        "arr4\n",
        "#np.arange(posiçao_inicial, posição_final, pulinhos)"
      ],
      "metadata": {
        "colab": {
          "base_uri": "https://localhost:8080/"
        },
        "id": "LtJTk0_RrCsO",
        "outputId": "ab310436-d817-4256-babe-513a1d26e0d7"
      },
      "execution_count": 9,
      "outputs": [
        {
          "output_type": "execute_result",
          "data": {
            "text/plain": [
              "array([0, 3, 6])"
            ]
          },
          "metadata": {},
          "execution_count": 9
        }
      ]
    },
    {
      "cell_type": "code",
      "source": [
        "# matriz de 1 dimensão que contém só zeros:\n",
        "np.zeros(4)"
      ],
      "metadata": {
        "colab": {
          "base_uri": "https://localhost:8080/"
        },
        "id": "0MX5pQuesgtf",
        "outputId": "60f4e28a-55f5-4e96-bd5d-fece5b728f26"
      },
      "execution_count": 10,
      "outputs": [
        {
          "output_type": "execute_result",
          "data": {
            "text/plain": [
              "array([0., 0., 0., 0.])"
            ]
          },
          "metadata": {},
          "execution_count": 10
        }
      ]
    },
    {
      "cell_type": "code",
      "source": [
        "# matriz de 2 dimensões que contém só zeros:\n",
        "np.zeros((2,3))"
      ],
      "metadata": {
        "colab": {
          "base_uri": "https://localhost:8080/"
        },
        "id": "ZsI_6v0EuNWo",
        "outputId": "f5a04d93-0374-4136-b908-2d4e362c7a83"
      },
      "execution_count": 11,
      "outputs": [
        {
          "output_type": "execute_result",
          "data": {
            "text/plain": [
              "array([[0., 0., 0.],\n",
              "       [0., 0., 0.]])"
            ]
          },
          "metadata": {},
          "execution_count": 11
        }
      ]
    },
    {
      "cell_type": "code",
      "source": [
        "# matriz de 1 dimensão que contém só 1's\n",
        "np.ones(7)"
      ],
      "metadata": {
        "colab": {
          "base_uri": "https://localhost:8080/"
        },
        "id": "n-Hr4Bo0ub-2",
        "outputId": "51815085-ff21-4625-ee3e-d27375bb5aed"
      },
      "execution_count": 12,
      "outputs": [
        {
          "output_type": "execute_result",
          "data": {
            "text/plain": [
              "array([1., 1., 1., 1., 1., 1., 1.])"
            ]
          },
          "metadata": {},
          "execution_count": 12
        }
      ]
    },
    {
      "cell_type": "code",
      "source": [
        "#matriz de 2 dimensões que contém só 1's\n",
        "np.ones((5,6))"
      ],
      "metadata": {
        "colab": {
          "base_uri": "https://localhost:8080/"
        },
        "id": "2n-G3XtYvE3x",
        "outputId": "99ecd1f0-0a96-4964-d79e-1105f4f3ffe8"
      },
      "execution_count": 13,
      "outputs": [
        {
          "output_type": "execute_result",
          "data": {
            "text/plain": [
              "array([[1., 1., 1., 1., 1., 1.],\n",
              "       [1., 1., 1., 1., 1., 1.],\n",
              "       [1., 1., 1., 1., 1., 1.],\n",
              "       [1., 1., 1., 1., 1., 1.],\n",
              "       [1., 1., 1., 1., 1., 1.]])"
            ]
          },
          "metadata": {},
          "execution_count": 13
        }
      ]
    },
    {
      "cell_type": "code",
      "source": [
        "#matriz identidade --> eye\n",
        "np.eye(6)"
      ],
      "metadata": {
        "colab": {
          "base_uri": "https://localhost:8080/"
        },
        "id": "xzLKRR9qvQA5",
        "outputId": "ec663eb8-aa8b-4d43-a3fb-f317a9127156"
      },
      "execution_count": 14,
      "outputs": [
        {
          "output_type": "execute_result",
          "data": {
            "text/plain": [
              "array([[1., 0., 0., 0., 0., 0.],\n",
              "       [0., 1., 0., 0., 0., 0.],\n",
              "       [0., 0., 1., 0., 0., 0.],\n",
              "       [0., 0., 0., 1., 0., 0.],\n",
              "       [0., 0., 0., 0., 1., 0.],\n",
              "       [0., 0., 0., 0., 0., 1.]])"
            ]
          },
          "metadata": {},
          "execution_count": 14
        }
      ]
    },
    {
      "cell_type": "code",
      "source": [
        "# matriz de números aleatórios de 0 a 1\n",
        "arr5 = np.random.rand(6)\n",
        "arr5"
      ],
      "metadata": {
        "colab": {
          "base_uri": "https://localhost:8080/"
        },
        "id": "U0U2vAn8vcO-",
        "outputId": "bc938a80-3082-4781-ffeb-f6d1b0bfd8ad"
      },
      "execution_count": 15,
      "outputs": [
        {
          "output_type": "execute_result",
          "data": {
            "text/plain": [
              "array([0.5525974 , 0.72918085, 0.46770805, 0.89964679, 0.88255191,\n",
              "       0.95752646])"
            ]
          },
          "metadata": {},
          "execution_count": 15
        }
      ]
    },
    {
      "cell_type": "code",
      "source": [
        "#uma espécie de sorteio?\n",
        "np.random.randint(6)\n",
        "#np.random.randint(tamanho_do_intervalo) --> retorna um valor inteiro dentro do tamanho desse intervalo"
      ],
      "metadata": {
        "colab": {
          "base_uri": "https://localhost:8080/"
        },
        "id": "H71DpueYwBlW",
        "outputId": "f344112b-e144-4823-86d0-915baa1ec247"
      },
      "execution_count": 16,
      "outputs": [
        {
          "output_type": "execute_result",
          "data": {
            "text/plain": [
              "4"
            ]
          },
          "metadata": {},
          "execution_count": 16
        }
      ]
    },
    {
      "cell_type": "code",
      "source": [
        "#retorna uma matriz (de acordo com o shape passado) de valores inteiros dentro do intervalo passado\n",
        "# np.random.randint (menor_posição, maior_posição, (shape))\n",
        "np.random.randint(5, 36, (2,3))"
      ],
      "metadata": {
        "colab": {
          "base_uri": "https://localhost:8080/"
        },
        "id": "zNkENlTtyCt8",
        "outputId": "f835d88f-99f0-4c4f-d9bc-0b9efb040c1f"
      },
      "execution_count": 17,
      "outputs": [
        {
          "output_type": "execute_result",
          "data": {
            "text/plain": [
              "array([[30, 27, 20],\n",
              "       [ 6, 24, 22]])"
            ]
          },
          "metadata": {},
          "execution_count": 17
        }
      ]
    },
    {
      "cell_type": "code",
      "source": [
        "#matriz de 3 dimensões:\n",
        "np.random.randint(6, 58, (5, 9, 2))"
      ],
      "metadata": {
        "colab": {
          "base_uri": "https://localhost:8080/"
        },
        "id": "xcUxEgMQymxt",
        "outputId": "946f8972-58ec-4481-b3f7-68529c045abb"
      },
      "execution_count": 18,
      "outputs": [
        {
          "output_type": "execute_result",
          "data": {
            "text/plain": [
              "array([[[20, 39],\n",
              "        [54, 35],\n",
              "        [26, 45],\n",
              "        [29, 57],\n",
              "        [19, 43],\n",
              "        [ 9, 24],\n",
              "        [20, 24],\n",
              "        [49, 30],\n",
              "        [33, 56]],\n",
              "\n",
              "       [[35, 26],\n",
              "        [16,  8],\n",
              "        [27, 51],\n",
              "        [10, 39],\n",
              "        [ 6, 32],\n",
              "        [37, 12],\n",
              "        [23, 26],\n",
              "        [48, 40],\n",
              "        [52, 40]],\n",
              "\n",
              "       [[34, 26],\n",
              "        [51, 49],\n",
              "        [32, 57],\n",
              "        [31, 39],\n",
              "        [50, 16],\n",
              "        [48, 48],\n",
              "        [ 8, 34],\n",
              "        [24, 49],\n",
              "        [28, 33]],\n",
              "\n",
              "       [[16, 39],\n",
              "        [ 9, 17],\n",
              "        [35, 28],\n",
              "        [12, 28],\n",
              "        [45, 40],\n",
              "        [25, 27],\n",
              "        [38,  8],\n",
              "        [14, 20],\n",
              "        [39,  8]],\n",
              "\n",
              "       [[27, 53],\n",
              "        [50, 44],\n",
              "        [42, 22],\n",
              "        [28, 16],\n",
              "        [19, 14],\n",
              "        [36, 42],\n",
              "        [26, 25],\n",
              "        [37, 41],\n",
              "        [20, 15]]])"
            ]
          },
          "metadata": {},
          "execution_count": 18
        }
      ]
    },
    {
      "cell_type": "code",
      "source": [
        "# pega um número aleatório double, digamos assim, entre 5 e 9\n",
        "np.random.uniform(5, 9)"
      ],
      "metadata": {
        "colab": {
          "base_uri": "https://localhost:8080/"
        },
        "id": "jYkqu0FU0K-7",
        "outputId": "20bbf5a9-35cf-4a75-c0de-794210ed83b3"
      },
      "execution_count": 19,
      "outputs": [
        {
          "output_type": "execute_result",
          "data": {
            "text/plain": [
              "8.88787547848515"
            ]
          },
          "metadata": {},
          "execution_count": 19
        }
      ]
    },
    {
      "cell_type": "code",
      "source": [
        "# mesma coisa do np.random.randint, só que tem uma diferença: o número não é inteiro (podemos chamar de double)\n",
        "np.random.uniform(6, 9, (5, 8))"
      ],
      "metadata": {
        "colab": {
          "base_uri": "https://localhost:8080/"
        },
        "id": "48utkb1a4AkJ",
        "outputId": "ba53aaa3-662c-430b-bf64-394a5768d1ca"
      },
      "execution_count": 20,
      "outputs": [
        {
          "output_type": "execute_result",
          "data": {
            "text/plain": [
              "array([[6.66643107, 6.22076863, 8.92984453, 8.86273935, 6.09980661,\n",
              "        8.96185915, 7.90855138, 7.21266201],\n",
              "       [8.46889421, 7.52891358, 7.37893572, 8.46660346, 8.29536883,\n",
              "        6.09794941, 8.82106689, 8.36936153],\n",
              "       [8.63007739, 7.51625354, 6.1915573 , 7.42036459, 6.02595001,\n",
              "        8.82645306, 6.40169738, 8.79264871],\n",
              "       [8.73823486, 7.15555069, 7.71260011, 6.63914817, 6.25321397,\n",
              "        7.76571868, 6.25257773, 8.98669031],\n",
              "       [8.88016671, 7.06327102, 7.15775269, 8.01093053, 6.05349876,\n",
              "        7.98077618, 8.86542214, 7.04005485]])"
            ]
          },
          "metadata": {},
          "execution_count": 20
        }
      ]
    },
    {
      "cell_type": "code",
      "source": [
        "# Parâmetros : size int ou tupla de ints, opcional\n",
        "# Desenhe amostras de uma distribuição Normal padrão (média=0, stdev=1)\n",
        "# distribuição Normal padrão ---> noções de estátistica \n",
        "np.random.standard_normal(5)"
      ],
      "metadata": {
        "colab": {
          "base_uri": "https://localhost:8080/"
        },
        "id": "5_ERgv7C5En3",
        "outputId": "6d789210-1c9d-466e-fc90-69a536164870"
      },
      "execution_count": 21,
      "outputs": [
        {
          "output_type": "execute_result",
          "data": {
            "text/plain": [
              "array([ 0.17436279, -0.92329247,  0.21434179, -0.38862069,  0.85790504])"
            ]
          },
          "metadata": {},
          "execution_count": 21
        }
      ]
    },
    {
      "cell_type": "code",
      "source": [
        "np.random.standard_normal((3,6))"
      ],
      "metadata": {
        "colab": {
          "base_uri": "https://localhost:8080/"
        },
        "id": "hNjSRIoo8Eqn",
        "outputId": "95d79ee3-25fd-48e3-ab7b-55d3c3ab13d7"
      },
      "execution_count": 22,
      "outputs": [
        {
          "output_type": "execute_result",
          "data": {
            "text/plain": [
              "array([[-0.70326218,  2.68412986,  0.28547545, -0.74180523, -0.73054181,\n",
              "        -0.49846561],\n",
              "       [-0.28591279, -0.49567633,  0.56410274,  0.33605783,  1.42938932,\n",
              "        -1.97922008],\n",
              "       [-1.40536396, -0.05370073, -3.08036216, -0.02170432, -0.14432293,\n",
              "         0.05422306]])"
            ]
          },
          "metadata": {},
          "execution_count": 22
        }
      ]
    },
    {
      "cell_type": "code",
      "source": [
        "#mudar o shape de uma matriz:\n",
        "mat1 = np.random.rand(6)\n",
        "mat1"
      ],
      "metadata": {
        "colab": {
          "base_uri": "https://localhost:8080/"
        },
        "id": "9WrAJLgeCo1t",
        "outputId": "e7fdc36d-f7e5-4e78-dc42-44c0d51e0a39"
      },
      "execution_count": 23,
      "outputs": [
        {
          "output_type": "execute_result",
          "data": {
            "text/plain": [
              "array([0.44165855, 0.84771615, 0.33701194, 0.24481992, 0.0419728 ,\n",
              "       0.23618902])"
            ]
          },
          "metadata": {},
          "execution_count": 23
        }
      ]
    },
    {
      "cell_type": "code",
      "source": [
        "# qual o shape da matriz?\n",
        "mat1.shape"
      ],
      "metadata": {
        "colab": {
          "base_uri": "https://localhost:8080/"
        },
        "id": "eGeGVNh7DQLI",
        "outputId": "4ac904d4-a2c1-45e3-8849-d50a5868ea73"
      },
      "execution_count": 24,
      "outputs": [
        {
          "output_type": "execute_result",
          "data": {
            "text/plain": [
              "(6,)"
            ]
          },
          "metadata": {},
          "execution_count": 24
        }
      ]
    },
    {
      "cell_type": "code",
      "source": [
        "# mudei o shape da mat1\n",
        "mat1.reshape(2,3)"
      ],
      "metadata": {
        "colab": {
          "base_uri": "https://localhost:8080/"
        },
        "id": "VO3RZXjsDsEq",
        "outputId": "505c70c7-d12c-48b7-9733-44e50c4659c0"
      },
      "execution_count": 25,
      "outputs": [
        {
          "output_type": "execute_result",
          "data": {
            "text/plain": [
              "array([[0.44165855, 0.84771615, 0.33701194],\n",
              "       [0.24481992, 0.0419728 , 0.23618902]])"
            ]
          },
          "metadata": {},
          "execution_count": 25
        }
      ]
    },
    {
      "cell_type": "code",
      "source": [
        "# essa função nos retorna o maior número existente em mat1\n",
        "mat1.max()"
      ],
      "metadata": {
        "id": "JNrm3blSFfIj",
        "colab": {
          "base_uri": "https://localhost:8080/"
        },
        "outputId": "3c7a29b2-6a1d-46a4-8251-14bfd35a5517"
      },
      "execution_count": 26,
      "outputs": [
        {
          "output_type": "execute_result",
          "data": {
            "text/plain": [
              "0.8477161482809819"
            ]
          },
          "metadata": {},
          "execution_count": 26
        }
      ]
    },
    {
      "cell_type": "code",
      "source": [
        "#essa função nos retorna a posição do maior número existente em mat1\n",
        "mat1.argmax()"
      ],
      "metadata": {
        "colab": {
          "base_uri": "https://localhost:8080/"
        },
        "id": "UFzTqZfQgqYa",
        "outputId": "ee14a17c-b903-423c-ce71-62d47a49de50"
      },
      "execution_count": 27,
      "outputs": [
        {
          "output_type": "execute_result",
          "data": {
            "text/plain": [
              "1"
            ]
          },
          "metadata": {},
          "execution_count": 27
        }
      ]
    },
    {
      "cell_type": "code",
      "source": [
        "# media de mat1:\n",
        "mat1.mean()"
      ],
      "metadata": {
        "colab": {
          "base_uri": "https://localhost:8080/"
        },
        "id": "om-ixQuMhKoJ",
        "outputId": "6038b72f-c231-4d96-b322-88e174500b05"
      },
      "execution_count": 28,
      "outputs": [
        {
          "output_type": "execute_result",
          "data": {
            "text/plain": [
              "0.3582280634991896"
            ]
          },
          "metadata": {},
          "execution_count": 28
        }
      ]
    },
    {
      "cell_type": "code",
      "source": [
        "mat2 = np.random.rand(6)\n",
        "mat2"
      ],
      "metadata": {
        "colab": {
          "base_uri": "https://localhost:8080/"
        },
        "id": "x_bEL-e9hiUX",
        "outputId": "eb46e8b4-286f-4dc2-95ba-8eea08b081a7"
      },
      "execution_count": 29,
      "outputs": [
        {
          "output_type": "execute_result",
          "data": {
            "text/plain": [
              "array([0.88579811, 0.09336325, 0.03231717, 0.24747956, 0.18418035,\n",
              "       0.08333538])"
            ]
          },
          "metadata": {},
          "execution_count": 29
        }
      ]
    },
    {
      "cell_type": "code",
      "source": [
        "#soma de matrizes: só somar como se fosse uma continha de dois números no papel ---> x+y\n",
        "mat3 = mat1 + mat2\n",
        "mat3 "
      ],
      "metadata": {
        "colab": {
          "base_uri": "https://localhost:8080/"
        },
        "id": "gSyLWuCti2Cp",
        "outputId": "546888e7-05b4-4dcf-d0ed-2a2e63103a8d"
      },
      "execution_count": 30,
      "outputs": [
        {
          "output_type": "execute_result",
          "data": {
            "text/plain": [
              "array([1.32745666, 0.9410794 , 0.36932911, 0.49229948, 0.22615315,\n",
              "       0.3195244 ])"
            ]
          },
          "metadata": {},
          "execution_count": 30
        }
      ]
    },
    {
      "cell_type": "code",
      "source": [
        "#multiplicação de matrizes:\n",
        "mat1 * mat2"
      ],
      "metadata": {
        "colab": {
          "base_uri": "https://localhost:8080/"
        },
        "id": "KqYzD3OKjAhl",
        "outputId": "dfa5df03-15d0-4081-9223-1b2b043c65ae"
      },
      "execution_count": 31,
      "outputs": [
        {
          "output_type": "execute_result",
          "data": {
            "text/plain": [
              "array([0.39122031, 0.07914553, 0.01089127, 0.06058793, 0.00773057,\n",
              "       0.0196829 ])"
            ]
          },
          "metadata": {},
          "execution_count": 31
        }
      ]
    },
    {
      "cell_type": "code",
      "source": [
        "# raiz quadrada da matriz:\n",
        "np.sqrt(mat1)"
      ],
      "metadata": {
        "colab": {
          "base_uri": "https://localhost:8080/"
        },
        "id": "lCsBQDK2j_y7",
        "outputId": "c0f28579-3912-4933-cede-296600eef60e"
      },
      "execution_count": 32,
      "outputs": [
        {
          "output_type": "execute_result",
          "data": {
            "text/plain": [
              "array([0.66457396, 0.92071502, 0.5805273 , 0.4947928 , 0.20487265,\n",
              "       0.48599282])"
            ]
          },
          "metadata": {},
          "execution_count": 32
        }
      ]
    },
    {
      "cell_type": "code",
      "source": [
        "# raiz cúbica\n",
        "np.cbrt(mat1)"
      ],
      "metadata": {
        "colab": {
          "base_uri": "https://localhost:8080/"
        },
        "id": "HX_5F2LrkIkO",
        "outputId": "6b10810a-a42d-4a02-e2dd-af88b4db2db5"
      },
      "execution_count": 33,
      "outputs": [
        {
          "output_type": "execute_result",
          "data": {
            "text/plain": [
              "array([0.76154496, 0.94641908, 0.69590255, 0.62557913, 0.34752762,\n",
              "       0.6181396 ])"
            ]
          },
          "metadata": {},
          "execution_count": 33
        }
      ]
    },
    {
      "cell_type": "code",
      "source": [
        "mat4 = np.random.rand(1, 6)\n",
        "mat4"
      ],
      "metadata": {
        "colab": {
          "base_uri": "https://localhost:8080/"
        },
        "id": "vsDkABxdrRbq",
        "outputId": "ff77a887-5be3-4929-ea8c-093fc9c26c71"
      },
      "execution_count": 34,
      "outputs": [
        {
          "output_type": "execute_result",
          "data": {
            "text/plain": [
              "array([[0.29704818, 0.28740201, 0.60327265, 0.91270238, 0.54768567,\n",
              "        0.99163622]])"
            ]
          },
          "metadata": {},
          "execution_count": 34
        }
      ]
    },
    {
      "cell_type": "code",
      "source": [
        "# soma dos elementos da matriz:\n",
        "mat4.sum()"
      ],
      "metadata": {
        "colab": {
          "base_uri": "https://localhost:8080/"
        },
        "id": "vcOlCwo7kNhj",
        "outputId": "fe1170b1-48aa-4818-97df-ca1ea0dbd70e"
      },
      "execution_count": 35,
      "outputs": [
        {
          "output_type": "execute_result",
          "data": {
            "text/plain": [
              "3.6397471075245895"
            ]
          },
          "metadata": {},
          "execution_count": 35
        }
      ]
    },
    {
      "cell_type": "code",
      "source": [
        "# desvio padrão dos elementos:\n",
        "mat4.std()"
      ],
      "metadata": {
        "colab": {
          "base_uri": "https://localhost:8080/"
        },
        "id": "SvKLuQU_uOYD",
        "outputId": "b9cce624-c272-44e5-900f-d5074066443f"
      },
      "execution_count": 36,
      "outputs": [
        {
          "output_type": "execute_result",
          "data": {
            "text/plain": [
              "0.27176681507250516"
            ]
          },
          "metadata": {},
          "execution_count": 36
        }
      ]
    },
    {
      "cell_type": "code",
      "source": [
        "mat4.shape"
      ],
      "metadata": {
        "colab": {
          "base_uri": "https://localhost:8080/"
        },
        "id": "tPAbC-yquVRl",
        "outputId": "f9de52f9-3836-4876-9293-58da09e13298"
      },
      "execution_count": 37,
      "outputs": [
        {
          "output_type": "execute_result",
          "data": {
            "text/plain": [
              "(1, 6)"
            ]
          },
          "metadata": {},
          "execution_count": 37
        }
      ]
    },
    {
      "cell_type": "code",
      "source": [
        "# criar uma outra matriz a partir do reshape de uma:\n",
        "mat5 = mat4.reshape(6,1)\n",
        "mat5"
      ],
      "metadata": {
        "colab": {
          "base_uri": "https://localhost:8080/"
        },
        "id": "7gxPapkIzMR5",
        "outputId": "6b4663c0-a1dc-4455-fe68-0a042d3bc865"
      },
      "execution_count": 38,
      "outputs": [
        {
          "output_type": "execute_result",
          "data": {
            "text/plain": [
              "array([[0.29704818],\n",
              "       [0.28740201],\n",
              "       [0.60327265],\n",
              "       [0.91270238],\n",
              "       [0.54768567],\n",
              "       [0.99163622]])"
            ]
          },
          "metadata": {},
          "execution_count": 38
        }
      ]
    },
    {
      "cell_type": "code",
      "source": [
        "#função que multiplica duas matrizes:\n",
        "np.matmul(mat5, mat4)"
      ],
      "metadata": {
        "colab": {
          "base_uri": "https://localhost:8080/"
        },
        "id": "l61jqO8rze7F",
        "outputId": "d793bd17-2700-4976-bdc9-a6691df1a710"
      },
      "execution_count": 39,
      "outputs": [
        {
          "output_type": "execute_result",
          "data": {
            "text/plain": [
              "array([[0.08823762, 0.08537224, 0.17920104, 0.27111658, 0.16268903,\n",
              "        0.29456373],\n",
              "       [0.08537224, 0.08259992, 0.17338177, 0.2623125 , 0.15740596,\n",
              "        0.28499824],\n",
              "       [0.17920104, 0.17338177, 0.3639379 , 0.55060839, 0.33040379,\n",
              "        0.59822701],\n",
              "       [0.27111658, 0.2623125 , 0.55060839, 0.83302563, 0.49987401,\n",
              "        0.90506874],\n",
              "       [0.16268903, 0.15740596, 0.33040379, 0.49987401, 0.29995959,\n",
              "        0.54310495],\n",
              "       [0.29456373, 0.28499824, 0.59822701, 0.90506874, 0.54310495,\n",
              "        0.98334239]])"
            ]
          },
          "metadata": {},
          "execution_count": 39
        }
      ]
    },
    {
      "cell_type": "code",
      "source": [
        "mat6 = np.random.rand(2,3)\n",
        "mat6"
      ],
      "metadata": {
        "id": "k_p93aEW0GgB",
        "colab": {
          "base_uri": "https://localhost:8080/"
        },
        "outputId": "cf36f4aa-4a3a-4d5f-909c-fcbac2985ead"
      },
      "execution_count": 40,
      "outputs": [
        {
          "output_type": "execute_result",
          "data": {
            "text/plain": [
              "array([[0.4649348 , 0.06979375, 0.74970035],\n",
              "       [0.769574  , 0.15722583, 0.709629  ]])"
            ]
          },
          "metadata": {},
          "execution_count": 40
        }
      ]
    },
    {
      "cell_type": "code",
      "source": [
        "#soma por eixo:\n",
        "#axis=0 é linha, ou seja, as linhas tem seus valores somados.\n",
        "mat6.sum(axis=0)"
      ],
      "metadata": {
        "id": "ZwnODVWh9WxL",
        "colab": {
          "base_uri": "https://localhost:8080/"
        },
        "outputId": "aa1d3f40-8995-433f-b180-faa73ee97b99"
      },
      "execution_count": 41,
      "outputs": [
        {
          "output_type": "execute_result",
          "data": {
            "text/plain": [
              "array([1.2345088 , 0.22701958, 1.45932935])"
            ]
          },
          "metadata": {},
          "execution_count": 41
        }
      ]
    },
    {
      "cell_type": "code",
      "source": [
        "#axis=1 - coluna\n",
        "mat6.sum(axis=1)"
      ],
      "metadata": {
        "colab": {
          "base_uri": "https://localhost:8080/"
        },
        "id": "xCsRLQKFPIEX",
        "outputId": "4f6a53f1-d3f3-4e44-8b9e-ba10ce595774"
      },
      "execution_count": 42,
      "outputs": [
        {
          "output_type": "execute_result",
          "data": {
            "text/plain": [
              "array([1.2844289 , 1.63642884])"
            ]
          },
          "metadata": {},
          "execution_count": 42
        }
      ]
    },
    {
      "cell_type": "code",
      "source": [
        "# adicionar uma linha à matriz através da função append:\n",
        "np.append(mat6, [[6, 8, 9]], axis=0)\n",
        "#np.append(nome_da_matriz, [linha que quero adicionar], eixo(que é axis=0))"
      ],
      "metadata": {
        "id": "0-zTHAivPY6J",
        "colab": {
          "base_uri": "https://localhost:8080/"
        },
        "outputId": "7ae015fc-a6c9-46ad-ed6c-01c2da8d5529"
      },
      "execution_count": 45,
      "outputs": [
        {
          "output_type": "execute_result",
          "data": {
            "text/plain": [
              "array([[0.4649348 , 0.06979375, 0.74970035],\n",
              "       [0.769574  , 0.15722583, 0.709629  ],\n",
              "       [6.        , 8.        , 9.        ]])"
            ]
          },
          "metadata": {},
          "execution_count": 45
        }
      ]
    },
    {
      "cell_type": "code",
      "source": [
        "mat1"
      ],
      "metadata": {
        "colab": {
          "base_uri": "https://localhost:8080/"
        },
        "id": "3c0HbxAqoW1c",
        "outputId": "dd6bc193-932a-4ec8-c371-5016579e647a"
      },
      "execution_count": 48,
      "outputs": [
        {
          "output_type": "execute_result",
          "data": {
            "text/plain": [
              "array([0.44165855, 0.84771615, 0.33701194, 0.24481992, 0.0419728 ,\n",
              "       0.23618902])"
            ]
          },
          "metadata": {},
          "execution_count": 48
        }
      ]
    },
    {
      "cell_type": "code",
      "source": [
        "#fatiamento da matriz - só botar entre [], separados por : de onde você quer começar e onde você quer terminar\n",
        "mat1[1:4]"
      ],
      "metadata": {
        "colab": {
          "base_uri": "https://localhost:8080/"
        },
        "id": "YanAjPUMppv3",
        "outputId": "1cec6661-c0e7-4042-a188-fef7ea909336"
      },
      "execution_count": 55,
      "outputs": [
        {
          "output_type": "execute_result",
          "data": {
            "text/plain": [
              "array([0.84771615, 0.33701194, 0.24481992])"
            ]
          },
          "metadata": {},
          "execution_count": 55
        }
      ]
    },
    {
      "cell_type": "code",
      "source": [
        "#fatiamento da matriz - se você deixar de preencher em algum dos lados do : , ele vai começar do começo ou vai até o final (aqui é entendido isso)\n",
        "mat1[:3]"
      ],
      "metadata": {
        "colab": {
          "base_uri": "https://localhost:8080/"
        },
        "id": "95ABCCJZpwuj",
        "outputId": "e0cac891-9685-414a-e74e-69c444ddcb9e"
      },
      "execution_count": 54,
      "outputs": [
        {
          "output_type": "execute_result",
          "data": {
            "text/plain": [
              "array([0.44165855, 0.84771615, 0.33701194])"
            ]
          },
          "metadata": {},
          "execution_count": 54
        }
      ]
    },
    {
      "cell_type": "code",
      "source": [
        "#fatiamento da matriz - aqui ele foi até o último elemento porque eu deixei em branco.\n",
        "mat1[3:]"
      ],
      "metadata": {
        "colab": {
          "base_uri": "https://localhost:8080/"
        },
        "id": "VtTWQeP3q7GY",
        "outputId": "12b02481-9887-483d-fc68-39b374a236c7"
      },
      "execution_count": 56,
      "outputs": [
        {
          "output_type": "execute_result",
          "data": {
            "text/plain": [
              "array([0.24481992, 0.0419728 , 0.23618902])"
            ]
          },
          "metadata": {},
          "execution_count": 56
        }
      ]
    },
    {
      "cell_type": "code",
      "source": [
        "#fatiamento da matriz: tanto de linha, quanto de coluna - Nas linhas, eu peguei tudo. Nas colunas, peguei de 1 atá o final (que é vazio)\n",
        "mat6[:,1:]"
      ],
      "metadata": {
        "colab": {
          "base_uri": "https://localhost:8080/"
        },
        "id": "CpfiOrx0rhhH",
        "outputId": "88eb3dc1-31c2-43e3-e1ab-67efe600347b"
      },
      "execution_count": 69,
      "outputs": [
        {
          "output_type": "execute_result",
          "data": {
            "text/plain": [
              "array([[0.06979375, 0.74970035],\n",
              "       [0.15722583, 0.709629  ]])"
            ]
          },
          "metadata": {},
          "execution_count": 69
        }
      ]
    },
    {
      "cell_type": "code",
      "source": [
        "mat1"
      ],
      "metadata": {
        "colab": {
          "base_uri": "https://localhost:8080/"
        },
        "id": "TmL2nEQksrFr",
        "outputId": "6213538e-18ce-4c5f-9994-04408e966d88"
      },
      "execution_count": 70,
      "outputs": [
        {
          "output_type": "execute_result",
          "data": {
            "text/plain": [
              "array([0.44165855, 0.84771615, 0.33701194, 0.24481992, 0.0419728 ,\n",
              "       0.23618902])"
            ]
          },
          "metadata": {},
          "execution_count": 70
        }
      ]
    },
    {
      "cell_type": "code",
      "source": [
        "#visualização da matriz através de bool - só colocar \"True\" pra quem você quer que apareça\n",
        "mat1[[True, False, True, False, True, False]]"
      ],
      "metadata": {
        "colab": {
          "base_uri": "https://localhost:8080/"
        },
        "id": "g5ifbZkFuDMj",
        "outputId": "778be52f-4de8-4f04-ae85-314ea8f5f842"
      },
      "execution_count": 71,
      "outputs": [
        {
          "output_type": "execute_result",
          "data": {
            "text/plain": [
              "array([0.44165855, 0.33701194, 0.0419728 ])"
            ]
          },
          "metadata": {},
          "execution_count": 71
        }
      ]
    },
    {
      "cell_type": "code",
      "source": [
        "mat1 + 5"
      ],
      "metadata": {
        "colab": {
          "base_uri": "https://localhost:8080/"
        },
        "id": "iHjJyvrgugMa",
        "outputId": "d0848aff-74d8-466e-d1d4-832a1964b37b"
      },
      "execution_count": 72,
      "outputs": [
        {
          "output_type": "execute_result",
          "data": {
            "text/plain": [
              "array([5.44165855, 5.84771615, 5.33701194, 5.24481992, 5.0419728 ,\n",
              "       5.23618902])"
            ]
          },
          "metadata": {},
          "execution_count": 72
        }
      ]
    },
    {
      "cell_type": "code",
      "source": [
        "mat1 > 0.7"
      ],
      "metadata": {
        "colab": {
          "base_uri": "https://localhost:8080/"
        },
        "id": "rGRxocmLu_AH",
        "outputId": "86aa57c0-dfd7-4c40-a00e-5c13e9df85eb"
      },
      "execution_count": 73,
      "outputs": [
        {
          "output_type": "execute_result",
          "data": {
            "text/plain": [
              "array([False,  True, False, False, False, False])"
            ]
          },
          "metadata": {},
          "execution_count": 73
        }
      ]
    },
    {
      "cell_type": "code",
      "source": [
        "mat1[mat1 > 0.7]"
      ],
      "metadata": {
        "colab": {
          "base_uri": "https://localhost:8080/"
        },
        "id": "A7D5317svDzI",
        "outputId": "f7884372-3ee9-4f7f-bf37-a40e59383e4c"
      },
      "execution_count": 74,
      "outputs": [
        {
          "output_type": "execute_result",
          "data": {
            "text/plain": [
              "array([0.84771615])"
            ]
          },
          "metadata": {},
          "execution_count": 74
        }
      ]
    },
    {
      "cell_type": "code",
      "source": [
        "mat6"
      ],
      "metadata": {
        "colab": {
          "base_uri": "https://localhost:8080/"
        },
        "id": "atcYhiw5vckR",
        "outputId": "9e001e2b-b852-4a81-ae40-77a96862e888"
      },
      "execution_count": 75,
      "outputs": [
        {
          "output_type": "execute_result",
          "data": {
            "text/plain": [
              "array([[0.4649348 , 0.06979375, 0.74970035],\n",
              "       [0.769574  , 0.15722583, 0.709629  ]])"
            ]
          },
          "metadata": {},
          "execution_count": 75
        }
      ]
    },
    {
      "cell_type": "code",
      "source": [
        "mat6 > 0.25"
      ],
      "metadata": {
        "colab": {
          "base_uri": "https://localhost:8080/"
        },
        "id": "UJMoJO7MwOmm",
        "outputId": "d4bd77ef-6a8f-4522-d169-6f571eeed554"
      },
      "execution_count": 76,
      "outputs": [
        {
          "output_type": "execute_result",
          "data": {
            "text/plain": [
              "array([[ True, False,  True],\n",
              "       [ True, False,  True]])"
            ]
          },
          "metadata": {},
          "execution_count": 76
        }
      ]
    },
    {
      "cell_type": "code",
      "source": [
        "mat6[mat6 > 0.25]"
      ],
      "metadata": {
        "colab": {
          "base_uri": "https://localhost:8080/"
        },
        "id": "v8PZzqmLwRwt",
        "outputId": "a723f64f-01ba-45c8-cc61-fe07206a035b"
      },
      "execution_count": 77,
      "outputs": [
        {
          "output_type": "execute_result",
          "data": {
            "text/plain": [
              "array([0.4649348 , 0.74970035, 0.769574  , 0.709629  ])"
            ]
          },
          "metadata": {},
          "execution_count": 77
        }
      ]
    },
    {
      "cell_type": "code",
      "source": [],
      "metadata": {
        "id": "H68OCg6-wWQB"
      },
      "execution_count": null,
      "outputs": []
    }
  ]
}