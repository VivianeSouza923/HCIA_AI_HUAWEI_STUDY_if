{
 "cells": [
  {
   "cell_type": "markdown",
   "metadata": {
    "id": "S23-EdfLa_m7"
   },
   "source": [
    "#Colab\n",
    "\n",
    "*   Write and run python code online\n",
    "*   Free access to GPU\n",
    "*   Easy sharing\n",
    "*   Combine code and images, latex, HTML, markdown in a single document\n",
    "---\n",
    "* Completion: **Ctrl+Space**\n",
    "* Docstring: **Ctrl+Shift+Space**\n",
    "* Run: **Ctrl+Enter**\n",
    "* Run current cell and move to the next one (adding one if none exists): **Shift+Enter**\n",
    "* Run current cell and insert a new code cell immediately below it: **Alt+Enter**"
   ]
  },
  {
   "cell_type": "markdown",
   "metadata": {
    "id": "6HV7Ua7pbP-4"
   },
   "source": [
    "#NumPy\n",
    "* Add support for large, multi-dimensional arrays and matrices\n",
    "* Large collection of high-level mathematical functions to operate on these arrays\n",
    "* Many libraries rely on NumPy\n",
    "\n",
    "\n"
   ]
  },
  {
   "cell_type": "markdown",
   "metadata": {
    "id": "Rpu1bDfgbVs2"
   },
   "source": [
    "##Creation of arrays"
   ]
  },
  {
   "cell_type": "code",
   "execution_count": 2,
   "metadata": {
    "id": "5GFOcCT6a4S_"
   },
   "outputs": [],
   "source": [
    "# sempre para importar a lib numpy em python: começa com import + o nome da lib e se quiser apelidar bota o \"as\" e o apelido que deseja. No nosso caso, e como todo mundo faz, apelidamos de np\n",
    "import numpy as np"
   ]
  },
  {
   "cell_type": "code",
   "execution_count": 3,
   "metadata": {
    "colab": {
     "base_uri": "https://localhost:8080/"
    },
    "id": "ikRvtKwhn4HO",
    "outputId": "8d79b4e1-c467-4e52-af04-0b2c505a47a4"
   },
   "outputs": [
    {
     "data": {
      "text/plain": [
       "array([1, 9, 7, 6, 0])"
      ]
     },
     "execution_count": 3,
     "metadata": {},
     "output_type": "execute_result"
    }
   ],
   "source": [
    "#criar uma array: só criar uma variável e a ela você irá atribuir o np.array([]) qque é o que vai criar a array de fato. Dentro dos parenteses tem o colchetes, que é onde fica os elemtnos da nossa array (isso a gente preenche e tals)\n",
    "array1 = np.array([1,9,7,6,0])\n",
    "#printar, mostrar essa array: só escrever o nome dela\n",
    "array1"
   ]
  },
  {
   "cell_type": "code",
   "execution_count": 4,
   "metadata": {
    "colab": {
     "base_uri": "https://localhost:8080/"
    },
    "id": "VBk05zdJn5uE",
    "outputId": "b584c041-6986-4fc9-e494-8b51daef7ed1"
   },
   "outputs": [
    {
     "data": {
      "text/plain": [
       "numpy.ndarray"
      ]
     },
     "execution_count": 4,
     "metadata": {},
     "output_type": "execute_result"
    }
   ],
   "source": [
    "#pra saber o tipo da nossa array, a gente usa a função \"type()\". Nos parenteses dela, a gente bota o nome da nossa array criada.\n",
    "type(array1)"
   ]
  },
  {
   "cell_type": "code",
   "execution_count": 5,
   "metadata": {
    "colab": {
     "base_uri": "https://localhost:8080/"
    },
    "id": "RjdWyfL0oNYG",
    "outputId": "24aea0bf-4da5-427e-b246-3ab585dc4d13"
   },
   "outputs": [
    {
     "data": {
      "text/plain": [
       "array([[1, 9, 7, 6, 0],\n",
       "       [2, 5, 8, 0, 3]])"
      ]
     },
     "execution_count": 5,
     "metadata": {},
     "output_type": "execute_result"
    }
   ],
   "source": [
    "# criando uma array de mais de uma dimensão: aqui, ao invés de só colocar um colchete, você coloca mais de um, o tanto que você quer. Cada colchete será separado do outro por vírgulas.\n",
    "#lembre-se de sempre ter o colchete principal, englobando todos os outros! assim ---> ([[],[]]).\n",
    "array2 = np.array([[1, 9, 7, 6, 0], [2, 5, 8, 0, 3]])\n",
    "#para imprimir nossa array2 é só colocar o nome dela sozinha\n",
    "array2"
   ]
  },
  {
   "cell_type": "code",
   "execution_count": 6,
   "metadata": {
    "colab": {
     "base_uri": "https://localhost:8080/"
    },
    "id": "Renxeylboe6j",
    "outputId": "58c00066-3e91-494c-df5b-ec9ca3f0b1fc"
   },
   "outputs": [
    {
     "data": {
      "text/plain": [
       "7"
      ]
     },
     "execution_count": 6,
     "metadata": {},
     "output_type": "execute_result"
    }
   ],
   "source": [
    "#mostrar os números da array de acordo com a posição que queremos (isso é bom para uma unidimensional). Para isso, basta pegar o nome da array e acompanhá-lo com um colchete e dentro dele você coloca a posição que deseja ver.\n",
    "array1[2]"
   ]
  },
  {
   "cell_type": "code",
   "execution_count": 7,
   "metadata": {
    "colab": {
     "base_uri": "https://localhost:8080/"
    },
    "id": "tGPCBR_coovT",
    "outputId": "6daa88ff-2ebc-4b1a-efb6-f65111f4c0b5"
   },
   "outputs": [
    {
     "data": {
      "text/plain": [
       "9"
      ]
     },
     "execution_count": 7,
     "metadata": {},
     "output_type": "execute_result"
    }
   ],
   "source": [
    "# como pegar o número (no caso, seria mostrar né) de uma array bidimensional. Pega o nome da array + dois colchetes. O primeiro será o índice da linha e o segundo, da coluna.\n",
    "array2[0][1]\n",
    "#observe que se você for olhar lá na nossa array, verá que o elemento da linha 1, coluna 3 é exatamente o 0 que printamos"
   ]
  },
  {
   "cell_type": "code",
   "execution_count": 8,
   "metadata": {
    "colab": {
     "base_uri": "https://localhost:8080/"
    },
    "id": "SvB2LG4Xo00g",
    "outputId": "dcca4782-28e3-44af-cae8-f308ac6545b1"
   },
   "outputs": [
    {
     "data": {
      "text/plain": [
       "9"
      ]
     },
     "execution_count": 8,
     "metadata": {},
     "output_type": "execute_result"
    }
   ],
   "source": [
    "# mesmo objetivo da céliula anterior\n",
    "array2[0,1]"
   ]
  },
  {
   "cell_type": "code",
   "execution_count": 9,
   "metadata": {
    "colab": {
     "base_uri": "https://localhost:8080/"
    },
    "id": "A7inJtmoo8F7",
    "outputId": "f0b6c415-b724-4457-ec25-5dd9c8f1294a"
   },
   "outputs": [
    {
     "data": {
      "text/plain": [
       "array([ 2,  4,  6,  8, 10, 12, 14, 16, 18])"
      ]
     },
     "execution_count": 9,
     "metadata": {},
     "output_type": "execute_result"
    }
   ],
   "source": [
    "# criar uma array que vá de um número até outro com pausas (ou pulos etc.). Por exemplo, eu quero criar uma matriz que vá de 2 até 20, mas que vá de 2 em 2 e não em crescimento contínuo\n",
    "#pra isso, eu utilo a np.arange(). DEntro dos parenteses teremos 3 vagas(inicio, fim, pausa ou pulos)\n",
    "array3 = np.arange(2,20,2)\n",
    "#mostrar a nossa array com nossas especificações. Conforme já dito anteriormente, é só colocar o nome da array\n",
    "array3"
   ]
  },
  {
   "cell_type": "code",
   "execution_count": 10,
   "metadata": {
    "colab": {
     "base_uri": "https://localhost:8080/"
    },
    "id": "4lfU1QmJpRYV",
    "outputId": "d312debe-af4f-4c86-dcdf-2e45218259ec"
   },
   "outputs": [
    {
     "data": {
      "text/plain": [
       "array([0., 0., 0., 0., 0., 0., 0., 0., 0., 0., 0., 0., 0., 0., 0., 0., 0.,\n",
       "       0., 0., 0.])"
      ]
     },
     "execution_count": 10,
     "metadata": {},
     "output_type": "execute_result"
    }
   ],
   "source": [
    "# criar uma array de zeros (só de zeros mesmo). Para tanto, é só colocar np,zeros(). Dentro dos parenteses (se for unidimensional), você coloca o número de elementos que deseja.\n",
    "#no nosso caso, eu quero uma array de zeros de 20 elementos\n",
    "\n",
    "np.zeros(20)"
   ]
  },
  {
   "cell_type": "code",
   "execution_count": 11,
   "metadata": {
    "colab": {
     "base_uri": "https://localhost:8080/"
    },
    "id": "r_mvhyJ7plVy",
    "outputId": "e3d6f3fa-0e72-4ac7-b7fb-26d754808e4a"
   },
   "outputs": [
    {
     "data": {
      "text/plain": [
       "array([[0., 0., 0., 0.],\n",
       "       [0., 0., 0., 0.],\n",
       "       [0., 0., 0., 0.],\n",
       "       [0., 0., 0., 0.],\n",
       "       [0., 0., 0., 0.]])"
      ]
     },
     "execution_count": 11,
     "metadata": {},
     "output_type": "execute_result"
    }
   ],
   "source": [
    "# criar uma array de zeros bidimensional. é só usar a np.zeros((aqui você coloca as dimensões. Eu quero 5x4))\n",
    "\n",
    "np.zeros((5,4))"
   ]
  },
  {
   "cell_type": "code",
   "execution_count": 12,
   "metadata": {
    "colab": {
     "base_uri": "https://localhost:8080/"
    },
    "id": "TU4ZBFTcpyOt",
    "outputId": "fa10c752-f13a-4f3e-a5cc-5892142926d3"
   },
   "outputs": [
    {
     "data": {
      "text/plain": [
       "array([[1., 1., 1.],\n",
       "       [1., 1., 1.],\n",
       "       [1., 1., 1.],\n",
       "       [1., 1., 1.],\n",
       "       [1., 1., 1.],\n",
       "       [1., 1., 1.]])"
      ]
     },
     "execution_count": 12,
     "metadata": {},
     "output_type": "execute_result"
    }
   ],
   "source": [
    "# criar uma matriz de 1s. Aqui é só usar o np.ones(). Dentro dos parenteses, você vai colocar as dimensões que qur. No meu caso, eu quero 6x3\n",
    "\n",
    "np.ones((6,3))"
   ]
  },
  {
   "cell_type": "code",
   "execution_count": 13,
   "metadata": {
    "colab": {
     "base_uri": "https://localhost:8080/"
    },
    "id": "58Vli_GFp48H",
    "outputId": "d664ecd0-42b9-4769-f2bb-b400a89a032e"
   },
   "outputs": [
    {
     "data": {
      "text/plain": [
       "array([[1., 0., 0., 0., 0.],\n",
       "       [0., 1., 0., 0., 0.],\n",
       "       [0., 0., 1., 0., 0.],\n",
       "       [0., 0., 0., 1., 0.],\n",
       "       [0., 0., 0., 0., 1.]])"
      ]
     },
     "execution_count": 13,
     "metadata": {},
     "output_type": "execute_result"
    }
   ],
   "source": [
    "# criando uma matriz identidade. é só usar np.eye(). Dentro dos parenteses é só colocar a orrdem que quer. Lembre-se que a matriz identidade é SEMPRE de ordem quadrática, portanto só é necessário colocar um núemro só dentro dos parenteses. Eu quero uma de ordem 5, então:\n",
    "\n",
    "np.eye(5)"
   ]
  },
  {
   "cell_type": "code",
   "execution_count": 14,
   "metadata": {
    "colab": {
     "base_uri": "https://localhost:8080/"
    },
    "id": "OvfmQs5RqS3m",
    "outputId": "a5bfa42c-ac8f-4d70-a1f0-f95eddaa2db6"
   },
   "outputs": [
    {
     "data": {
      "text/plain": [
       "array([0.55419956, 0.78486687, 0.5174928 , 0.11073587, 0.00582015,\n",
       "       0.70999594, 0.99426336, 0.59426348, 0.68235407, 0.96017312])"
      ]
     },
     "execution_count": 14,
     "metadata": {},
     "output_type": "execute_result"
    }
   ],
   "source": [
    "# criando uma array com números aleatórios entre zero e um unidimensional. é só usar np.random.rand(). O random é pra aleatório e o rand é para essa aleatoriedade ser entre zero e um. DEntro dos parenteses é só colocar o número de elementos que deseja\n",
    "array5 = np.random.rand(10)\n",
    "#mostrar a nossa array\n",
    "array5"
   ]
  },
  {
   "cell_type": "code",
   "execution_count": 15,
   "metadata": {
    "colab": {
     "base_uri": "https://localhost:8080/"
    },
    "id": "SEAjw-ofqpj5",
    "outputId": "c69f4647-3313-490e-8d66-8e57eb1821ae"
   },
   "outputs": [
    {
     "data": {
      "text/plain": [
       "array([[0.65070226, 0.5767438 , 0.04905889, 0.83814037, 0.81865605,\n",
       "        0.79847817],\n",
       "       [0.58615802, 0.19705325, 0.39075273, 0.41963275, 0.65723362,\n",
       "        0.05599013],\n",
       "       [0.31326061, 0.89437933, 0.32253909, 0.37759535, 0.59388276,\n",
       "        0.76024066],\n",
       "       [0.77141385, 0.70062853, 0.11037034, 0.61758544, 0.43109571,\n",
       "        0.87522561],\n",
       "       [0.09172677, 0.04078535, 0.8668097 , 0.06585076, 0.68911566,\n",
       "        0.32116735]])"
      ]
     },
     "execution_count": 15,
     "metadata": {},
     "output_type": "execute_result"
    }
   ],
   "source": [
    "# criando uma array com números aleatórios entre zero e um bididimensional. é só usar o np.random.rand(x, y), onde x é o número de linhas e y, o de colunas.\n",
    "np.random.rand(5,6)"
   ]
  },
  {
   "cell_type": "code",
   "execution_count": 16,
   "metadata": {
    "colab": {
     "base_uri": "https://localhost:8080/"
    },
    "id": "4Ksz0KlKrGYW",
    "outputId": "820584e6-1890-49be-a71d-f23cee435657"
   },
   "outputs": [
    {
     "data": {
      "text/plain": [
       "6"
      ]
     },
     "execution_count": 16,
     "metadata": {},
     "output_type": "execute_result"
    }
   ],
   "source": [
    "# pegar um número absoluto aleatório entre um determinado intervalo. Para isso, você utiliza np.random.randint(inicio, fim)\n",
    "np.random.randint(4,9)"
   ]
  },
  {
   "cell_type": "code",
   "execution_count": 17,
   "metadata": {
    "colab": {
     "base_uri": "https://localhost:8080/"
    },
    "id": "DBxQZSxnrWOK",
    "outputId": "93c9715a-14e1-4802-b6db-04d8119161a2"
   },
   "outputs": [
    {
     "data": {
      "text/plain": [
       "array([[3, 4, 3, 6, 3, 7],\n",
       "       [5, 6, 2, 4, 7, 4],\n",
       "       [4, 6, 4, 4, 3, 2],\n",
       "       [6, 4, 3, 4, 7, 7]])"
      ]
     },
     "execution_count": 17,
     "metadata": {},
     "output_type": "execute_result"
    }
   ],
   "source": [
    "# gerar uma array aleatória com números absolutos em um determinado intervalo. Para isso você irá usar a função np.random.randint(inicio, fim, (quantidade de linhas, quantidade de colunas))\n",
    "np.random.randint(2,8, (4,6))"
   ]
  },
  {
   "cell_type": "code",
   "execution_count": 18,
   "metadata": {
    "colab": {
     "base_uri": "https://localhost:8080/"
    },
    "id": "J9ALbdpkrfNC",
    "outputId": "1c3ffebb-74bd-4dd8-c1f9-1ea56abe0af0"
   },
   "outputs": [
    {
     "data": {
      "text/plain": [
       "array([4, 2, 5, 4, 4, 3, 2, 3, 3])"
      ]
     },
     "execution_count": 18,
     "metadata": {},
     "output_type": "execute_result"
    }
   ],
   "source": [
    "# criar uma array aleatória com um determinado intervalo, escolhendo o número de elementos. Para isso, basta usar np.random.randint(inicio, fim, quantidade de elementos que desejo)\n",
    "\n",
    "np.random.randint(2,6,9)"
   ]
  },
  {
   "cell_type": "code",
   "execution_count": 19,
   "metadata": {
    "colab": {
     "base_uri": "https://localhost:8080/"
    },
    "id": "nZINVr5Kr0n5",
    "outputId": "2c9f22e4-89e7-4a37-c5cd-eadaea30a1b7"
   },
   "outputs": [
    {
     "data": {
      "text/plain": [
       "array([[[38, 73],\n",
       "        [10, 47],\n",
       "        [69, 10],\n",
       "        [47, 36]],\n",
       "\n",
       "       [[30, 28],\n",
       "        [42, 13],\n",
       "        [59, 18],\n",
       "        [47, 49]],\n",
       "\n",
       "       [[68, 44],\n",
       "        [22, 43],\n",
       "        [10, 37],\n",
       "        [73, 75]]])"
      ]
     },
     "execution_count": 19,
     "metadata": {},
     "output_type": "execute_result"
    }
   ],
   "source": [
    "# criar uma array aleatória com um determinado intervalo,escolhendo o shape (forma, dimensão). Para isso usa-se np.randim.randint(inicio, fim, (shape)) \n",
    "#o shape dessa vez será 3 dimensões. NO exemplo, fiquei com 3 arrays de 4 linhas e 2 colunas.\n",
    "np.random.randint(5, 78, (3, 4, 2))"
   ]
  },
  {
   "cell_type": "code",
   "execution_count": 20,
   "metadata": {
    "colab": {
     "base_uri": "https://localhost:8080/"
    },
    "id": "IJyJevAnsXVu",
    "outputId": "5a46e954-3a72-4272-d79d-220530ca825b"
   },
   "outputs": [
    {
     "data": {
      "text/plain": [
       "array([6.14138049, 6.10698948, 4.92935869, 6.48560949])"
      ]
     },
     "execution_count": 20,
     "metadata": {},
     "output_type": "execute_result"
    }
   ],
   "source": [
    "#criar uma array aleatória com a mesma probabilidade de escolha para todos os números dentro do intervalo escolhido. Para isso, a gente vai utilizar np.random.uniform(inicio, fim, quantidade de elementos que eu quero)\n",
    "\n",
    "np.random.uniform(4, 7, 4)"
   ]
  },
  {
   "cell_type": "code",
   "execution_count": 21,
   "metadata": {
    "colab": {
     "base_uri": "https://localhost:8080/"
    },
    "id": "R5oRyHDBsxud",
    "outputId": "e58bc812-da82-44c4-8117-3222d9b9cb5a"
   },
   "outputs": [
    {
     "data": {
      "text/plain": [
       "array([[51.75985854, 65.60343529, 86.85402406, 55.47819317],\n",
       "       [54.6209911 ,  9.44168274, 57.48879149,  9.00582406]])"
      ]
     },
     "execution_count": 21,
     "metadata": {},
     "output_type": "execute_result"
    }
   ],
   "source": [
    "# criar uma array (dessa vez será bidimensional)aleatória com a mesma probabilidade de escolha para todos os números dentro do intervalo escolhido. Para isso vamos utilizar np.random.uniform(inicio, fim, (shape))\n",
    "#vale lembrar que o shape aqui será (linhas, colunas)\n",
    "np.random.uniform(5, 87, (2, 4))"
   ]
  },
  {
   "cell_type": "code",
   "execution_count": 22,
   "metadata": {
    "colab": {
     "base_uri": "https://localhost:8080/"
    },
    "id": "nkf3LIPQs6Mz",
    "outputId": "dce218e0-0b9c-48f6-f4b7-f7a6f8620e32"
   },
   "outputs": [
    {
     "data": {
      "text/plain": [
       "array([[ 6.94318289,  6.98703894, 11.60439861],\n",
       "       [10.33583184,  9.94059001, 10.8692185 ],\n",
       "       [ 5.66649822,  6.3000342 ,  9.38142992],\n",
       "       [ 7.84883011,  6.36630647,  7.79057411],\n",
       "       [10.72819239, 10.23299183,  6.28784631]])"
      ]
     },
     "execution_count": 22,
     "metadata": {},
     "output_type": "execute_result"
    }
   ],
   "source": [
    "# criar uma array (dessa vez será bidimensional)aleatória com a mesma probabilidade de escolha para todos os números dentro do intervalo escolhido.\n",
    "#dessa vez vamos utilizar como intervalo números quebrados\n",
    "np.random.uniform(5.4, 13.7, (5, 3))"
   ]
  },
  {
   "cell_type": "code",
   "execution_count": 23,
   "metadata": {
    "colab": {
     "base_uri": "https://localhost:8080/"
    },
    "id": "ZBKC2ukJtBhN",
    "outputId": "b2b6311d-c5cd-49c0-c124-8466ad8e19b1"
   },
   "outputs": [
    {
     "data": {
      "text/plain": [
       "array([[-0.14308606,  0.08488123,  1.94072255],\n",
       "       [-2.53860801,  0.79082443, -1.65360431],\n",
       "       [ 0.72308523, -2.11845753,  0.093298  ],\n",
       "       [ 0.64946257,  1.69299394,  0.75743973],\n",
       "       [-1.46574095,  0.40324905,  0.19738506],\n",
       "       [ 0.82402634, -0.99589244,  0.69912822],\n",
       "       [ 0.14985065,  0.13099977, -0.24029947]])"
      ]
     },
     "execution_count": 23,
     "metadata": {},
     "output_type": "execute_result"
    }
   ],
   "source": [
    "#Extraia amostras de uma distribuição normal padrão(média 0 e desvio padrão 1). Para isso vamos usar np.random.standard_normal((shape))\n",
    "#vale lembrar que o shape aqui será (linhas, colunas)\n",
    "np.random.standard_normal((7, 3))"
   ]
  },
  {
   "cell_type": "markdown",
   "metadata": {
    "id": "Q-G_OcO4cMrN"
   },
   "source": [
    "##Shape and Reshape"
   ]
  },
  {
   "cell_type": "code",
   "execution_count": 24,
   "metadata": {
    "colab": {
     "base_uri": "https://localhost:8080/"
    },
    "id": "bPpvwJgucNZK",
    "outputId": "8c1d019e-9c21-45b6-a249-b0ca5db2fe6c"
   },
   "outputs": [
    {
     "data": {
      "text/plain": [
       "array([0.28967469, 0.29622708, 0.69685198, 0.45636175, 0.3251179 ,\n",
       "       0.9291632 , 0.32569587, 0.09833461])"
      ]
     },
     "execution_count": 24,
     "metadata": {},
     "output_type": "execute_result"
    }
   ],
   "source": [
    "# aqui a gente tá criando uma matriz com números aleatórios (random) entre zeros e uns(rand). Essa array teraá 8 elementos.\n",
    "#para tal façanha, utilizamos np.random.rand(tamanho)\n",
    "\n",
    "matr_vivi = np.random.rand(8)\n",
    "#exibição da matriz\n",
    "matr_vivi"
   ]
  },
  {
   "cell_type": "code",
   "execution_count": 25,
   "metadata": {
    "colab": {
     "base_uri": "https://localhost:8080/"
    },
    "id": "RYGssuIYt0fO",
    "outputId": "ef0afa85-f265-4087-afb1-c973f4385e78"
   },
   "outputs": [
    {
     "data": {
      "text/plain": [
       "(8,)"
      ]
     },
     "execution_count": 25,
     "metadata": {},
     "output_type": "execute_result"
    }
   ],
   "source": [
    "#quero saber o shape, a forma da minha matriz. Basta pegar o nome da matriz e .shape\n",
    "#observe que como eu fiz uma array unidimensional, a única coisa que irá aparecer é a linha, a parte da coluna fica vazia, tipo assim (x, )\n",
    "\n",
    "matr_vivi.shape"
   ]
  },
  {
   "cell_type": "code",
   "execution_count": 26,
   "metadata": {
    "colab": {
     "base_uri": "https://localhost:8080/",
     "height": 174
    },
    "id": "RCL_WnR5vJfn",
    "outputId": "d045bd2a-328c-4700-8bac-a94d8fb4fe61"
   },
   "outputs": [
    {
     "ename": "IndexError",
     "evalue": "too many indices for array: array is 1-dimensional, but 2 were indexed",
     "output_type": "error",
     "traceback": [
      "\u001b[0;31m---------------------------------------------------------------------------\u001b[0m",
      "\u001b[0;31mIndexError\u001b[0m                                Traceback (most recent call last)",
      "\u001b[0;32m<ipython-input-26-5c8799df2108>\u001b[0m in \u001b[0;36m<module>\u001b[0;34m\u001b[0m\n\u001b[1;32m      1\u001b[0m \u001b[0;31m# a matriz que criamos é unidimensional, certo? Se eu tentar ver algum elemento marcando a coluna, irá gerar erro!\u001b[0m\u001b[0;34m\u001b[0m\u001b[0;34m\u001b[0m\u001b[0;34m\u001b[0m\u001b[0m\n\u001b[1;32m      2\u001b[0m \u001b[0;31m#exemplo:\u001b[0m\u001b[0;34m\u001b[0m\u001b[0;34m\u001b[0m\u001b[0;34m\u001b[0m\u001b[0m\n\u001b[0;32m----> 3\u001b[0;31m \u001b[0mmatr_vivi\u001b[0m\u001b[0;34m[\u001b[0m\u001b[0;36m0\u001b[0m\u001b[0;34m,\u001b[0m \u001b[0;36m1\u001b[0m\u001b[0;34m]\u001b[0m\u001b[0;34m\u001b[0m\u001b[0;34m\u001b[0m\u001b[0m\n\u001b[0m",
      "\u001b[0;31mIndexError\u001b[0m: too many indices for array: array is 1-dimensional, but 2 were indexed"
     ]
    }
   ],
   "source": [
    "# a matriz que criamos é unidimensional, certo? Se eu tentar ver algum elemento marcando a coluna, irá gerar erro!\n",
    "#exemplo:\n",
    "matr_vivi[0, 1]"
   ]
  },
  {
   "cell_type": "code",
   "execution_count": 27,
   "metadata": {},
   "outputs": [
    {
     "data": {
      "text/plain": [
       "array([[0.82548024, 0.74651468],\n",
       "       [0.18745526, 0.15208257],\n",
       "       [0.62172088, 0.88123835]])"
      ]
     },
     "execution_count": 27,
     "metadata": {},
     "output_type": "execute_result"
    }
   ],
   "source": [
    "# criando uma matriz qualquer para usar na célula seguinte\n",
    "exmplo = np.random.rand(3,2)\n",
    "exmplo"
   ]
  },
  {
   "cell_type": "code",
   "execution_count": 28,
   "metadata": {
    "colab": {
     "base_uri": "https://localhost:8080/"
    },
    "id": "8bgVmDNItus7",
    "outputId": "715424cc-1255-4c59-cdd6-c149fcd7f4a4"
   },
   "outputs": [
    {
     "data": {
      "text/plain": [
       "array([[0.82548024, 0.74651468, 0.18745526],\n",
       "       [0.15208257, 0.62172088, 0.88123835]])"
      ]
     },
     "execution_count": 28,
     "metadata": {},
     "output_type": "execute_result"
    }
   ],
   "source": [
    "# como mudar a forma da nossa matriz? Criamos uma nova variável que irá armazenar essa mudança. \n",
    "#para realizar a mudança, iremos utilizar a função .reshape(). É só isso: nomedamatriz.reshape((new_ROW, new_COL)), porém dentro dos parenteses você passa a nova forma da matriz.\n",
    "matr_new = exmplo.reshape(2, 3)\n",
    "matr_new"
   ]
  },
  {
   "cell_type": "code",
   "execution_count": 29,
   "metadata": {
    "colab": {
     "base_uri": "https://localhost:8080/"
    },
    "id": "YW47BeeCuK_F",
    "outputId": "41d4a6c6-619d-4796-e2ec-4e7ba2bac6a7"
   },
   "outputs": [
    {
     "data": {
      "text/plain": [
       "array([[0.82548024, 0.74651468],\n",
       "       [0.18745526, 0.15208257],\n",
       "       [0.62172088, 0.88123835]])"
      ]
     },
     "execution_count": 29,
     "metadata": {},
     "output_type": "execute_result"
    }
   ],
   "source": [
    "# retornando a forma original, ou seja, 3 linhas e 2 colunas\n",
    "matr_new.reshape(3, 2)"
   ]
  },
  {
   "cell_type": "code",
   "execution_count": 30,
   "metadata": {
    "colab": {
     "base_uri": "https://localhost:8080/"
    },
    "id": "7mRKSNH2uoP8",
    "outputId": "1c3be27e-37f5-4500-a079-2a6e5f3de797"
   },
   "outputs": [
    {
     "data": {
      "text/plain": [
       "array([[0.82548024],\n",
       "       [0.74651468],\n",
       "       [0.18745526],\n",
       "       [0.15208257],\n",
       "       [0.62172088],\n",
       "       [0.88123835]])"
      ]
     },
     "execution_count": 30,
     "metadata": {},
     "output_type": "execute_result"
    }
   ],
   "source": [
    "# fazendo um novo reshape, só pra ver de novo\n",
    "matr_new.reshape(6, 1)"
   ]
  },
  {
   "cell_type": "code",
   "execution_count": 31,
   "metadata": {
    "colab": {
     "base_uri": "https://localhost:8080/"
    },
    "id": "VlxbBHJ_u6v7",
    "outputId": "678613f0-038c-483a-ddc5-44e01b5d8d0a"
   },
   "outputs": [
    {
     "data": {
      "text/plain": [
       "array([[0.82548024, 0.74651468, 0.18745526, 0.15208257, 0.62172088,\n",
       "        0.88123835]])"
      ]
     },
     "execution_count": 31,
     "metadata": {},
     "output_type": "execute_result"
    }
   ],
   "source": [
    "# vamo pegar a matriz original e fazer um novo reshape\n",
    "new = exmplo.reshape(1, 6)\n",
    "new"
   ]
  },
  {
   "cell_type": "code",
   "execution_count": 33,
   "metadata": {
    "colab": {
     "base_uri": "https://localhost:8080/"
    },
    "id": "4jrB0Q19vNUc",
    "outputId": "acf31e34-2ead-4202-aece-d7cac3962368"
   },
   "outputs": [
    {
     "data": {
      "text/plain": [
       "0.8812383486101343"
      ]
     },
     "execution_count": 33,
     "metadata": {},
     "output_type": "execute_result"
    }
   ],
   "source": [
    "# quero mostrar o elemento da linha 0 (nossa única linha mesmo) e da coluna 5\n",
    "new[0, 5]"
   ]
  },
  {
   "cell_type": "code",
   "execution_count": 34,
   "metadata": {
    "colab": {
     "base_uri": "https://localhost:8080/"
    },
    "id": "ezVA-iXcvuLU",
    "outputId": "8c8b30eb-9670-4401-8d54-9fcdf1118fd5"
   },
   "outputs": [
    {
     "name": "stdout",
     "output_type": "stream",
     "text": [
      "[[0.82548024 0.74651468 0.18745526 0.15208257 0.62172088 0.88123835]]\n",
      "[[0.82548024 0.74651468 0.18745526]\n",
      " [0.15208257 0.62172088 0.88123835]]\n"
     ]
    }
   ],
   "source": [
    "# usando a função print normal do python tbm conseguimos ver da mesma forma como estávamos fazendo.\n",
    "\n",
    "print(new)\n",
    "print(matr_new)"
   ]
  },
  {
   "cell_type": "markdown",
   "metadata": {
    "id": "ucX2fGMIcQ_h"
   },
   "source": [
    "##Operations"
   ]
  },
  {
   "cell_type": "code",
   "execution_count": 35,
   "metadata": {
    "colab": {
     "base_uri": "https://localhost:8080/"
    },
    "id": "fhvFZ6yicWV-",
    "outputId": "73f5dfe8-0b0b-4c2d-91ee-de12cb1586b7"
   },
   "outputs": [
    {
     "data": {
      "text/plain": [
       "array([[0.82548024, 0.74651468],\n",
       "       [0.18745526, 0.15208257],\n",
       "       [0.62172088, 0.88123835]])"
      ]
     },
     "execution_count": 35,
     "metadata": {},
     "output_type": "execute_result"
    }
   ],
   "source": [
    "# vamos mostrar a matriz e tals, botar ela aqui\n",
    "exmplo"
   ]
  },
  {
   "cell_type": "code",
   "execution_count": 36,
   "metadata": {
    "colab": {
     "base_uri": "https://localhost:8080/"
    },
    "id": "AvE3Ba9fyWaD",
    "outputId": "6ee33aa4-72b2-414c-cff8-06c72886c775"
   },
   "outputs": [
    {
     "data": {
      "text/plain": [
       "array([[0.82548024, 0.74651468, 0.18745526],\n",
       "       [0.15208257, 0.62172088, 0.88123835]])"
      ]
     },
     "execution_count": 36,
     "metadata": {},
     "output_type": "execute_result"
    }
   ],
   "source": [
    "# fazendo o reshape da exmplo que era 3x2 e agora queremos 2x3, iremos armazenar essa mudança na nova matriz chamada matrix3\n",
    "matrix3 = exmplo.reshape(2, 3)\n",
    "#depois só mostrar\n",
    "matrix3"
   ]
  },
  {
   "cell_type": "code",
   "execution_count": 37,
   "metadata": {
    "colab": {
     "base_uri": "https://localhost:8080/"
    },
    "id": "7cMq_Jabx2Cv",
    "outputId": "b920dc3c-a5e8-4b22-df90-02c75231b694"
   },
   "outputs": [
    {
     "data": {
      "text/plain": [
       "array([0.14990684, 0.59825068, 0.99240801, 0.79956431, 0.80050904,\n",
       "       0.27409181])"
      ]
     },
     "execution_count": 37,
     "metadata": {},
     "output_type": "execute_result"
    }
   ],
   "source": [
    "# criando uma matriz aleatória com 6 elementos entre zero e um. random é o aleatório e o rand é o 0 a 1. EStamos criando com 6 elementos\n",
    "matrix2 = np.random.rand(6)\n",
    "matrix2"
   ]
  },
  {
   "cell_type": "code",
   "execution_count": 38,
   "metadata": {
    "colab": {
     "base_uri": "https://localhost:8080/"
    },
    "id": "hJtye34RxiNr",
    "outputId": "eb36e7f2-8edb-4d3b-8828-85cd1703671a"
   },
   "outputs": [
    {
     "data": {
      "text/plain": [
       "0.8812383486101343"
      ]
     },
     "execution_count": 38,
     "metadata": {},
     "output_type": "execute_result"
    }
   ],
   "source": [
    "#vamos pegar o máximo valor (elemento, no caso) da matriz original: exmplo. Para isso, basta utilizar a função .max()\n",
    "# para obtermos o resultado, basta isso: nomedamatriz.max()\n",
    "exmplo.max()"
   ]
  },
  {
   "cell_type": "code",
   "execution_count": 39,
   "metadata": {
    "colab": {
     "base_uri": "https://localhost:8080/"
    },
    "id": "UyR1pIx8xnMD",
    "outputId": "d48cfc24-b850-4ea5-f157-88a36f6c0b46"
   },
   "outputs": [
    {
     "data": {
      "text/plain": [
       "5"
      ]
     },
     "execution_count": 39,
     "metadata": {},
     "output_type": "execute_result"
    }
   ],
   "source": [
    "# quero saber o índice o número máximo (maior) da minha array? basta usar a função .argmax()\n",
    "#para usar é só pegar o nomedamtriz.argmax()\n",
    "exmplo.argmax()"
   ]
  },
  {
   "cell_type": "code",
   "execution_count": 40,
   "metadata": {
    "colab": {
     "base_uri": "https://localhost:8080/"
    },
    "id": "Nb6y3F81xs-J",
    "outputId": "3d61e906-1d1b-4043-d63a-cc7eac9ff7a0"
   },
   "outputs": [
    {
     "data": {
      "text/plain": [
       "0.5690819962275907"
      ]
     },
     "execution_count": 40,
     "metadata": {},
     "output_type": "execute_result"
    }
   ],
   "source": [
    "# quero saber a média da matriz. Easy! é só usar a função .mean()\n",
    "#assim: nomedamatrizemquequestão.mean()\n",
    "exmplo.mean()"
   ]
  },
  {
   "cell_type": "code",
   "execution_count": 41,
   "metadata": {
    "colab": {
     "base_uri": "https://localhost:8080/"
    },
    "id": "maRn_ACoxxwY",
    "outputId": "adfedf7c-ae29-4e1a-dab2-e93006065ed8"
   },
   "outputs": [
    {
     "data": {
      "text/plain": [
       "array([[1.65096048, 1.49302935, 0.37491053],\n",
       "       [0.30416515, 1.24344176, 1.7624767 ]])"
      ]
     },
     "execution_count": 41,
     "metadata": {},
     "output_type": "execute_result"
    }
   ],
   "source": [
    "# quero saber a soma das matrizes (lembrando que para se somar matrizes, elas tem que ter o mesmo shape)\n",
    "# easy, easy! só somar como se fosse somar  mesmo, tipo a + b. Lembrando que, óbvio, a soma será de elemento a elemento, por exemplo: a00 + b00\n",
    "\n",
    "matr_new + matrix3"
   ]
  },
  {
   "cell_type": "code",
   "execution_count": 49,
   "metadata": {
    "colab": {
     "base_uri": "https://localhost:8080/"
    },
    "id": "RUaDjc0jyA3e",
    "outputId": "1f0894c0-0509-418a-9bd9-86155121c76d"
   },
   "outputs": [
    {
     "data": {
      "text/plain": [
       "array([[0.12374513, 0.44660291, 0.1860321 , 0.1215998 , 0.49769318,\n",
       "        0.24154021]])"
      ]
     },
     "execution_count": 49,
     "metadata": {},
     "output_type": "execute_result"
    }
   ],
   "source": [
    "# quero multiplicar as matrizes, intuitivo assim como a soma (volta lá, se quiser ver)\n",
    "# a * b. Easy!\n",
    "matrix2 * new "
   ]
  },
  {
   "cell_type": "code",
   "execution_count": 50,
   "metadata": {
    "colab": {
     "base_uri": "https://localhost:8080/"
    },
    "id": "B6JnOTnVyGvy",
    "outputId": "ed479e57-9aa4-4e25-bdbb-20f98c6699f1"
   },
   "outputs": [
    {
     "data": {
      "text/plain": [
       "array([[0.90855943, 0.86401081],\n",
       "       [0.43296104, 0.38997766],\n",
       "       [0.78849279, 0.93874296]])"
      ]
     },
     "execution_count": 50,
     "metadata": {},
     "output_type": "execute_result"
    }
   ],
   "source": [
    "# pra tirar a raiz quadrada da matriz basta usar a função .srqt(bota o nome da matriz aqui dentro)\n",
    "np.sqrt(exmplo)"
   ]
  },
  {
   "cell_type": "code",
   "execution_count": 51,
   "metadata": {
    "colab": {
     "base_uri": "https://localhost:8080/"
    },
    "id": "gWLELv1oySdA",
    "outputId": "bdaf9b44-7896-4bfc-da70-461d7fdbaefa"
   },
   "outputs": [
    {
     "data": {
      "text/plain": [
       "array([[0.90855943, 0.86401081, 0.43296104],\n",
       "       [0.38997766, 0.78849279, 0.93874296]])"
      ]
     },
     "execution_count": 51,
     "metadata": {},
     "output_type": "execute_result"
    }
   ],
   "source": [
    "# idem à celular anterior\n",
    "np.sqrt(matrix3)"
   ]
  },
  {
   "cell_type": "code",
   "execution_count": 52,
   "metadata": {
    "colab": {
     "base_uri": "https://localhost:8080/"
    },
    "id": "nlmsoI7iygQS",
    "outputId": "90ee0d4c-8c51-472a-ffb2-d265abdbfb9a"
   },
   "outputs": [
    {
     "data": {
      "text/plain": [
       "3.414491977365544"
      ]
     },
     "execution_count": 52,
     "metadata": {},
     "output_type": "execute_result"
    }
   ],
   "source": [
    "#soma dos elementos da matriz. Basta usar a função .sum()\n",
    "# só isso: nomedamatriz.sum()\n",
    "matrix3.sum()"
   ]
  },
  {
   "cell_type": "code",
   "execution_count": 53,
   "metadata": {
    "colab": {
     "base_uri": "https://localhost:8080/"
    },
    "id": "Zge8ziJmymGz",
    "outputId": "d84efa13-d791-4cf9-f668-a6ffd69ec37c"
   },
   "outputs": [
    {
     "data": {
      "text/plain": [
       "0.08616038927828991"
      ]
     },
     "execution_count": 53,
     "metadata": {},
     "output_type": "execute_result"
    }
   ],
   "source": [
    "# Calcule a variação ao longo do eixo especificado. Retorna a variação dos elementos da matriz, uma medida da propagação de uma distribuição. A variação é calculada para a matriz achatada por padrão, caso contrário, sobre o eixo especificado.\n",
    "matrix3.var()"
   ]
  },
  {
   "cell_type": "code",
   "execution_count": 54,
   "metadata": {
    "colab": {
     "base_uri": "https://localhost:8080/"
    },
    "id": "ckc8_03Tyrlx",
    "outputId": "c56f95e7-36e8-44f5-a5e1-5e1ca4e0ef0c"
   },
   "outputs": [
    {
     "data": {
      "text/plain": [
       "0.29353090003999566"
      ]
     },
     "execution_count": 54,
     "metadata": {},
     "output_type": "execute_result"
    }
   ],
   "source": [
    "# calcula o desvio padrão entre os elementos da matriz\n",
    "matrix3.std()"
   ]
  },
  {
   "cell_type": "code",
   "execution_count": 55,
   "metadata": {
    "colab": {
     "base_uri": "https://localhost:8080/"
    },
    "id": "ECJ4KwUdyvBU",
    "outputId": "bde2351e-30ca-4555-a39c-d4abb121ee24"
   },
   "outputs": [
    {
     "data": {
      "text/plain": [
       "array([[0.82548024, 0.74651468, 0.18745526],\n",
       "       [0.15208257, 0.62172088, 0.88123835]])"
      ]
     },
     "execution_count": 55,
     "metadata": {},
     "output_type": "execute_result"
    }
   ],
   "source": [
    "# mostrar a matriz de novo\n",
    "matrix3"
   ]
  },
  {
   "cell_type": "code",
   "execution_count": 56,
   "metadata": {
    "colab": {
     "base_uri": "https://localhost:8080/"
    },
    "id": "4xSm5s0ay1U7",
    "outputId": "388e845d-f75a-437e-c8f9-1eb72d1cf18f"
   },
   "outputs": [
    {
     "data": {
      "text/plain": [
       "(2, 3)"
      ]
     },
     "execution_count": 56,
     "metadata": {},
     "output_type": "execute_result"
    }
   ],
   "source": [
    "# pegar o shape da matriz\n",
    "matrix3.shape"
   ]
  },
  {
   "cell_type": "code",
   "execution_count": 57,
   "metadata": {
    "colab": {
     "base_uri": "https://localhost:8080/"
    },
    "id": "6L8xvwJSyyRo",
    "outputId": "602eda81-93c0-4923-f6e5-43b8043a8cc7"
   },
   "outputs": [
    {
     "data": {
      "text/plain": [
       "array([[0.82548024, 0.74651468],\n",
       "       [0.18745526, 0.15208257],\n",
       "       [0.62172088, 0.88123835]])"
      ]
     },
     "execution_count": 57,
     "metadata": {},
     "output_type": "execute_result"
    }
   ],
   "source": [
    "# bora fazer outro reshape na matriz, eu a quero com 3 linhas e 2 colunas agora\n",
    "matrix4 = matrix3.reshape(3, 2)\n",
    "matrix4"
   ]
  },
  {
   "cell_type": "code",
   "execution_count": 58,
   "metadata": {
    "colab": {
     "base_uri": "https://localhost:8080/"
    },
    "id": "LNXqpeBwzBKq",
    "outputId": "cdb9c6ce-da6f-4ba0-8987-970a2e1c3b14"
   },
   "outputs": [
    {
     "data": {
      "text/plain": [
       "(3, 2)"
      ]
     },
     "execution_count": 58,
     "metadata": {},
     "output_type": "execute_result"
    }
   ],
   "source": [
    "# o reshape deu certo (óbvio, não tem erro), viu?\n",
    "matrix4.shape"
   ]
  },
  {
   "cell_type": "code",
   "execution_count": 59,
   "metadata": {
    "colab": {
     "base_uri": "https://localhost:8080/"
    },
    "id": "lfjfUJmZzHA_",
    "outputId": "9c0643aa-0684-449f-cb45-b85477efc846"
   },
   "outputs": [
    {
     "data": {
      "text/plain": [
       "array([[0.7949495 , 1.08035687, 0.81259797],\n",
       "       [0.17786972, 0.23449102, 0.16916047],\n",
       "       [0.6472393 , 1.01200804, 0.89312588]])"
      ]
     },
     "execution_count": 59,
     "metadata": {},
     "output_type": "execute_result"
    }
   ],
   "source": [
    "# Produto de matriz de duas matrizes.\n",
    "np.matmul(matrix4, matrix3)"
   ]
  },
  {
   "cell_type": "code",
   "execution_count": 60,
   "metadata": {
    "colab": {
     "base_uri": "https://localhost:8080/"
    },
    "id": "cZtcJrrBzS0n",
    "outputId": "0822d2d0-687f-4118-f8df-f0fe366d664c"
   },
   "outputs": [
    {
     "data": {
      "text/plain": [
       "array([[0.68141762, 0.55728416],\n",
       "       [0.03513948, 0.02312911],\n",
       "       [0.38653685, 0.77658103]])"
      ]
     },
     "execution_count": 60,
     "metadata": {},
     "output_type": "execute_result"
    }
   ],
   "source": [
    "# Produto de matriz de duas matrizes de novo ou o quadrado de uma matriz, se assim quiser dizer.\n",
    "matrix4 * matrix4"
   ]
  },
  {
   "cell_type": "code",
   "execution_count": 61,
   "metadata": {
    "colab": {
     "base_uri": "https://localhost:8080/"
    },
    "id": "B1_cKf07zhCh",
    "outputId": "aa581c01-305d-4ace-e808-157ef2a6c8c5"
   },
   "outputs": [
    {
     "data": {
      "text/plain": [
       "array([[0.82548024, 0.74651468],\n",
       "       [0.18745526, 0.15208257],\n",
       "       [0.62172088, 0.88123835]])"
      ]
     },
     "execution_count": 61,
     "metadata": {},
     "output_type": "execute_result"
    }
   ],
   "source": [
    "# exibe a matrix4: só colocar o nome, conforme eu já disse VÁRIAS vezes anteriormente\n",
    "matrix4"
   ]
  },
  {
   "cell_type": "code",
   "execution_count": 65,
   "metadata": {
    "colab": {
     "base_uri": "https://localhost:8080/"
    },
    "id": "ufu_ZQwfzlpy",
    "outputId": "17ef9cf4-f236-49e5-f597-580b696877f0"
   },
   "outputs": [
    {
     "data": {
      "text/plain": [
       "array([1.63465638, 1.7798356 ])"
      ]
     },
     "execution_count": 65,
     "metadata": {},
     "output_type": "execute_result"
    }
   ],
   "source": [
    "# aqui ele vai somar as linhas em suas respectivas colunas (eixo/axis=0 quer dizer linhas!!). Ele vai fazer tipo isso: a00 + a10 +a20 e a01 + a11 + a21\n",
    "matrix4.sum(axis=0)"
   ]
  },
  {
   "cell_type": "code",
   "execution_count": 66,
   "metadata": {
    "colab": {
     "base_uri": "https://localhost:8080/"
    },
    "id": "A--0-o5jz_tL",
    "outputId": "c1731841-2239-4615-c85e-2ce43685a285"
   },
   "outputs": [
    {
     "data": {
      "text/plain": [
       "array([1.57199491, 0.33953784, 1.50295923])"
      ]
     },
     "execution_count": 66,
     "metadata": {},
     "output_type": "execute_result"
    }
   ],
   "source": [
    "# aqui é a mesma coisa da célula anterior, mas agora será a vez de soma de colunas de acordo com suas respectivas linhas.\n",
    "#axis= 1, eixo igual a 1 quer dizer colunas.\n",
    "matrix4.sum(axis=1)"
   ]
  },
  {
   "cell_type": "code",
   "execution_count": 67,
   "metadata": {
    "colab": {
     "base_uri": "https://localhost:8080/"
    },
    "id": "2fO-blDc0gLW",
    "outputId": "83098bbd-6ead-4c4d-80b4-cfca787070fd"
   },
   "outputs": [
    {
     "data": {
      "text/plain": [
       "array([[0.82548024, 0.74651468, 0.18745526],\n",
       "       [0.15208257, 0.62172088, 0.88123835]])"
      ]
     },
     "execution_count": 67,
     "metadata": {},
     "output_type": "execute_result"
    }
   ],
   "source": [
    "# exibe a matrix3\n",
    "matrix3"
   ]
  },
  {
   "cell_type": "code",
   "execution_count": 68,
   "metadata": {
    "colab": {
     "base_uri": "https://localhost:8080/"
    },
    "id": "8E18wtmD0hvG",
    "outputId": "f643975d-2a05-4238-b389-6105f74cae78"
   },
   "outputs": [
    {
     "data": {
      "text/plain": [
       "array([[0.82548024, 0.74651468, 0.18745526],\n",
       "       [0.15208257, 0.62172088, 0.88123835],\n",
       "       [5.        , 9.        , 2.        ]])"
      ]
     },
     "execution_count": 68,
     "metadata": {},
     "output_type": "execute_result"
    }
   ],
   "source": [
    "# adicionar linha a nossa matriz. Só utilizar a np.append(nomedamatriz, [[x,y,z]], axis=0)\n",
    "#onde [[x,y,z]] é a linha que eu quro adicionar e axis=0 é o eixo das linhas\n",
    "np.append(matrix3, [[5, 9, 2]], axis=0)"
   ]
  },
  {
   "cell_type": "markdown",
   "metadata": {
    "id": "wLa8Uz56cXFa"
   },
   "source": [
    "##Indexing and Selecting"
   ]
  },
  {
   "cell_type": "code",
   "execution_count": 90,
   "metadata": {
    "colab": {
     "base_uri": "https://localhost:8080/"
    },
    "id": "tAalTybDcXvq",
    "outputId": "26ba88ba-3d79-447a-a60e-26b3e4eb9ead"
   },
   "outputs": [
    {
     "data": {
      "text/plain": [
       "array([0.14990684, 0.59825068, 0.99240801, 0.79956431, 0.80050904,\n",
       "       0.27409181])"
      ]
     },
     "execution_count": 90,
     "metadata": {},
     "output_type": "execute_result"
    }
   ],
   "source": [
    "# mostra nossa matriz matrix4\n",
    "matrix2"
   ]
  },
  {
   "cell_type": "code",
   "execution_count": 92,
   "metadata": {
    "colab": {
     "base_uri": "https://localhost:8080/"
    },
    "id": "2qwOPc3R07W-",
    "outputId": "61ddfa38-cb7a-4c47-9736-1cd6dff51819"
   },
   "outputs": [
    {
     "data": {
      "text/plain": [
       "array([0.99240801, 0.79956431, 0.80050904])"
      ]
     },
     "execution_count": 92,
     "metadata": {},
     "output_type": "execute_result"
    }
   ],
   "source": [
    "# aqui eu só quero pegar da posição 2 até a 5 (NO CASO, AQUI FICA 5-1 PORQUE O 5 É O ÚLTIMO), desprezo o restante\n",
    "matrix2[2:5]"
   ]
  },
  {
   "cell_type": "code",
   "execution_count": 93,
   "metadata": {
    "colab": {
     "base_uri": "https://localhost:8080/"
    },
    "id": "rOzDENB81DYz",
    "outputId": "389b9fc9-d18e-4a4d-f409-91c3a35f431c"
   },
   "outputs": [
    {
     "data": {
      "text/plain": [
       "array([0.14990684, 0.59825068, 0.99240801, 0.79956431, 0.80050904])"
      ]
     },
     "execution_count": 93,
     "metadata": {},
     "output_type": "execute_result"
    }
   ],
   "source": [
    "# quero pegar OS ELEMENTOS da posição inicial até a 5 (NO CASO, AQUI FICA 5-1 PORQUE O 5 É O ÚLTIMO). QUANDO A GENTE N TEM NENHUM NÚMERO NA FRENTE DOS DOIS PONTOS, ISSO QUER DIZER POSIÇÃO INICIAL!!!\n",
    "matrix2[:5]"
   ]
  },
  {
   "cell_type": "code",
   "execution_count": 94,
   "metadata": {
    "colab": {
     "base_uri": "https://localhost:8080/"
    },
    "id": "idnBVHCv1GI3",
    "outputId": "9ea64207-2d01-4894-c34d-581609b4a5d4"
   },
   "outputs": [
    {
     "data": {
      "text/plain": [
       "array([0.99240801, 0.79956431, 0.80050904, 0.27409181])"
      ]
     },
     "execution_count": 94,
     "metadata": {},
     "output_type": "execute_result"
    }
   ],
   "source": [
    "# QUERO PEGAR OS ELEMENTOS DA POSIÇÃO 2 ATÉ A ÚLTIMA. QUANDO A GENTE TEM NENHUM NÚMERO DEPOIS DESSES DOIS PONTOS, QUER DIZER QUE É \"ATÉ A ÚLTIMA POSIÇÃO\"\n",
    "matrix2[2:]"
   ]
  },
  {
   "cell_type": "code",
   "execution_count": 95,
   "metadata": {
    "colab": {
     "base_uri": "https://localhost:8080/"
    },
    "id": "lM9ux9r51IWG",
    "outputId": "ee510860-9174-4325-9f34-88c00f434b25"
   },
   "outputs": [
    {
     "data": {
      "text/plain": [
       "array([[0.82548024, 0.74651468, 0.18745526],\n",
       "       [0.15208257, 0.62172088, 0.88123835]])"
      ]
     },
     "execution_count": 95,
     "metadata": {},
     "output_type": "execute_result"
    }
   ],
   "source": [
    "# EXIBE A MATRIX3 PRA GENTE VER E TALS\n",
    "matrix3"
   ]
  },
  {
   "cell_type": "code",
   "execution_count": 97,
   "metadata": {
    "colab": {
     "base_uri": "https://localhost:8080/"
    },
    "id": "jtndSG4-1NCn",
    "outputId": "fa7608fc-b250-4a47-9627-5f41669daca3"
   },
   "outputs": [
    {
     "data": {
      "text/plain": [
       "array([[0.74651468, 0.18745526],\n",
       "       [0.62172088, 0.88123835]])"
      ]
     },
     "execution_count": 97,
     "metadata": {},
     "output_type": "execute_result"
    }
   ],
   "source": [
    "# AQUI EU QUERO FAZER O SEGUINTE: QUERO FAZER ESSE RECORTE EM MAIS DE UMA DIMENSÃO. NA PRIMEIRA VAGA TEMOS \":\" E ISSO QUER DIZER QUE EU QUERO PEGAR TUDO DAS LINHAS\n",
    "#NA SEGUNDA VAGA TEMOS \"1:\" E ISSO QUER DIZER QUE EU QUERO DA COLUNA 1 ATÉ A ÚLTIMA\n",
    "matrix3[:, 1:]"
   ]
  },
  {
   "cell_type": "markdown",
   "metadata": {
    "id": "TAv2e9sgcc4G"
   },
   "source": [
    "##Conditional Selecting"
   ]
  },
  {
   "cell_type": "code",
   "execution_count": 99,
   "metadata": {
    "colab": {
     "base_uri": "https://localhost:8080/"
    },
    "id": "1tBznJqkcdvE",
    "outputId": "e31a4645-ca42-405f-bffe-bee0c462fd1b"
   },
   "outputs": [
    {
     "data": {
      "text/plain": [
       "array([0.14990684, 0.59825068, 0.99240801, 0.79956431, 0.80050904,\n",
       "       0.27409181])"
      ]
     },
     "execution_count": 99,
     "metadata": {},
     "output_type": "execute_result"
    }
   ],
   "source": [
    "# EXIBE A MATRIX 2\n",
    "matrix2"
   ]
  },
  {
   "cell_type": "code",
   "execution_count": 103,
   "metadata": {
    "colab": {
     "base_uri": "https://localhost:8080/"
    },
    "id": "OvMKH3oY1mkn",
    "outputId": "7a6c59f9-1f9f-4606-f62a-d8f77f42ccf4"
   },
   "outputs": [
    {
     "data": {
      "text/plain": [
       "array([0.80050904])"
      ]
     },
     "execution_count": 103,
     "metadata": {},
     "output_type": "execute_result"
    }
   ],
   "source": [
    "#ESCOLHO AQUI COM TRUE OR FALSE QUEM EU QUERO QUE APAREÇA\n",
    "matrix2[[False, False, False, False, True, False]]"
   ]
  },
  {
   "cell_type": "code",
   "execution_count": 104,
   "metadata": {
    "colab": {
     "base_uri": "https://localhost:8080/"
    },
    "id": "jKDLOLxN174x",
    "outputId": "2a75dd60-9b14-4ca8-f10f-fb1782e2d3c0"
   },
   "outputs": [
    {
     "data": {
      "text/plain": [
       "array([2.14990684, 2.59825068, 2.99240801, 2.79956431, 2.80050904,\n",
       "       2.27409181])"
      ]
     },
     "execution_count": 104,
     "metadata": {},
     "output_type": "execute_result"
    }
   ],
   "source": [
    "# aqui eu quero somar o número 2 a cada elemento da minha array\n",
    "matrix2 + 2"
   ]
  },
  {
   "cell_type": "code",
   "execution_count": 106,
   "metadata": {
    "colab": {
     "base_uri": "https://localhost:8080/"
    },
    "id": "2XkbyOOE2FB4",
    "outputId": "771bef71-9395-4dcf-dff9-601526722ffb"
   },
   "outputs": [
    {
     "data": {
      "text/plain": [
       "array([False,  True,  True,  True,  True, False])"
      ]
     },
     "execution_count": 106,
     "metadata": {},
     "output_type": "execute_result"
    }
   ],
   "source": [
    "# quem da matrix 2 é maior que 0.5? Nosso resultado virá em boolean \n",
    "matrix2 > 0.5"
   ]
  },
  {
   "cell_type": "code",
   "execution_count": 109,
   "metadata": {
    "colab": {
     "base_uri": "https://localhost:8080/"
    },
    "id": "RO33mqqA2RKx",
    "outputId": "0fb90737-4989-45c5-e184-5d1ad18e9088"
   },
   "outputs": [
    {
     "data": {
      "text/plain": [
       "array([0.59825068, 0.99240801, 0.79956431, 0.80050904])"
      ]
     },
     "execution_count": 109,
     "metadata": {},
     "output_type": "execute_result"
    }
   ],
   "source": [
    "# quero mostrar na minha matriz só quem satisfaz a minha condição que está dentro dos colchetes\n",
    "matrix2[matrix2 > 0.5]"
   ]
  },
  {
   "cell_type": "code",
   "execution_count": 110,
   "metadata": {
    "colab": {
     "base_uri": "https://localhost:8080/"
    },
    "id": "GFThToQn2oIQ",
    "outputId": "1ffd522e-774e-4d63-968e-d4d91a18ebb6"
   },
   "outputs": [
    {
     "data": {
      "text/plain": [
       "array([[0.82548024, 0.74651468, 0.18745526],\n",
       "       [0.15208257, 0.62172088, 0.88123835]])"
      ]
     },
     "execution_count": 110,
     "metadata": {},
     "output_type": "execute_result"
    }
   ],
   "source": [
    "# quero mostrar minha matrix3\n",
    "matrix3"
   ]
  },
  {
   "cell_type": "code",
   "execution_count": 112,
   "metadata": {
    "colab": {
     "base_uri": "https://localhost:8080/"
    },
    "id": "4Nq1MsKa2pny",
    "outputId": "de5ac3f4-5907-48bd-bff4-f726e6aa9484"
   },
   "outputs": [
    {
     "data": {
      "text/plain": [
       "array([[ True,  True, False],\n",
       "       [False,  True,  True]])"
      ]
     },
     "execution_count": 112,
     "metadata": {},
     "output_type": "execute_result"
    }
   ],
   "source": [
    "#quem da minha matrix3 é maior que 0.3?\n",
    "matrix3 > 0.3"
   ]
  },
  {
   "cell_type": "code",
   "execution_count": 114,
   "metadata": {
    "colab": {
     "base_uri": "https://localhost:8080/"
    },
    "id": "MpflHFao2sgb",
    "outputId": "f5bd8826-0768-4194-b0d2-a3e0ed02f6f7"
   },
   "outputs": [
    {
     "data": {
      "text/plain": [
       "array([0.82548024, 0.74651468, 0.62172088, 0.88123835])"
      ]
     },
     "execution_count": 114,
     "metadata": {},
     "output_type": "execute_result"
    }
   ],
   "source": [
    "# quero mostrar na minha matriz só quem satisfaz a minha condição que está dentro dos colchetes\n",
    "matrix3[matrix3 > 0.3]"
   ]
  }
 ],
 "metadata": {
  "colab": {
   "name": "Lab 01 - Colab e NumPy - Turma 03.ipynb",
   "provenance": []
  },
  "kernelspec": {
   "display_name": "Python 3",
   "language": "python",
   "name": "python3"
  },
  "language_info": {
   "codemirror_mode": {
    "name": "ipython",
    "version": 3
   },
   "file_extension": ".py",
   "mimetype": "text/x-python",
   "name": "python",
   "nbconvert_exporter": "python",
   "pygments_lexer": "ipython3",
   "version": "3.8.5"
  }
 },
 "nbformat": 4,
 "nbformat_minor": 1
}
