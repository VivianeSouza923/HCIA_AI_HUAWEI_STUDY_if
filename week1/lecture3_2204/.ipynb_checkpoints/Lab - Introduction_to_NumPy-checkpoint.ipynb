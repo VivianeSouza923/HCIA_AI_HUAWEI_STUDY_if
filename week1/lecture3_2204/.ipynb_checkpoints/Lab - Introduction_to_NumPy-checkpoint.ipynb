{
 "cells": [
  {
   "cell_type": "markdown",
   "metadata": {
    "id": "6f39ug2h-Aok"
   },
   "source": [
    "# **Numpy**\n",
    "* Support for large, multi-dimensional arrays\n",
    "* Mathematical functions to operate on these arrays\n",
    "* All the values are from the same type\n",
    "* NumPy arrays use less memory than Python lists\n",
    "---\n",
    "## **Colab Shortcuts**\n",
    "* **CTRL+Space**: Auto complete\n",
    "* **CTRL+Shift+Space**: Documentation\n",
    "* **CTRL+Enter**: Run current cell\n",
    "* **Shift+Enter**: Run current cell and move focus to the next cell (adding one if none exists)\n",
    "* **Alt+Enter**: Run current cell and insert a new cell below it.\n",
    "---\n"
   ]
  },
  {
   "cell_type": "markdown",
   "metadata": {
    "id": "Nrzw1IH2BIag"
   },
   "source": [
    "## Creating Arrays\n"
   ]
  },
  {
   "cell_type": "code",
   "execution_count": 2,
   "metadata": {
    "id": "Vj2TuS_89tI5"
   },
   "outputs": [],
   "source": [
    "#importa a lib que vai usar, óbvio!\n",
    "import numpy as np"
   ]
  },
  {
   "cell_type": "code",
   "execution_count": 3,
   "metadata": {
    "colab": {
     "base_uri": "https://localhost:8080/"
    },
    "id": "nSimbc8c_tiS",
    "outputId": "756eb768-6b9f-4d0d-f567-f6bbb89b9bc1"
   },
   "outputs": [
    {
     "data": {
      "text/plain": [
       "array([4, 6, 3])"
      ]
     },
     "execution_count": 3,
     "metadata": {},
     "output_type": "execute_result"
    }
   ],
   "source": [
    "# criar uma array passando os elementos que eu quero\n",
    "array1 = np.array([4, 6, 3])\n",
    "# exibe agora o que tu criou\n",
    "array1"
   ]
  },
  {
   "cell_type": "code",
   "execution_count": 4,
   "metadata": {
    "colab": {
     "base_uri": "https://localhost:8080/"
    },
    "id": "fMtV0e0c_44L",
    "outputId": "e05c15a8-57e8-4818-a9a5-97f7d0b59cbe"
   },
   "outputs": [
    {
     "data": {
      "text/plain": [
       "numpy.ndarray"
      ]
     },
     "execution_count": 4,
     "metadata": {},
     "output_type": "execute_result"
    }
   ],
   "source": [
    "#qual o tipo da minha array1?\n",
    "type(array1) # n-dimensional array"
   ]
  },
  {
   "cell_type": "code",
   "execution_count": 5,
   "metadata": {
    "colab": {
     "base_uri": "https://localhost:8080/"
    },
    "id": "L3U_11YUAAgG",
    "outputId": "5b25e5b4-7bbf-4bdd-98b5-c61d1bb7a935"
   },
   "outputs": [
    {
     "data": {
      "text/plain": [
       "list"
      ]
     },
     "execution_count": 5,
     "metadata": {},
     "output_type": "execute_result"
    }
   ],
   "source": [
    "#vendo o tipo\n",
    "type([4, 6, 3])"
   ]
  },
  {
   "cell_type": "code",
   "execution_count": 6,
   "metadata": {
    "colab": {
     "base_uri": "https://localhost:8080/"
    },
    "id": "yGHcP-j3ADdo",
    "outputId": "1bed199d-a172-437f-8238-38f19630de68"
   },
   "outputs": [
    {
     "data": {
      "text/plain": [
       "array([[1, 4, 2],\n",
       "       [7, 4, 2]])"
      ]
     },
     "execution_count": 6,
     "metadata": {},
     "output_type": "execute_result"
    }
   ],
   "source": [
    "#criando uma matriz de mais de 1 dimensão\n",
    "matrix = np.array([[1, 4, 2], [7, 4, 2]])\n",
    "#MOSTRANDO\n",
    "matrix"
   ]
  },
  {
   "cell_type": "code",
   "execution_count": 7,
   "metadata": {
    "colab": {
     "base_uri": "https://localhost:8080/"
    },
    "id": "IjX61LaMATNE",
    "outputId": "62f1f14f-6db1-46a7-db34-ca748882ad71"
   },
   "outputs": [
    {
     "data": {
      "text/plain": [
       "array([7, 4, 2])"
      ]
     },
     "execution_count": 7,
     "metadata": {},
     "output_type": "execute_result"
    }
   ],
   "source": [
    "# MOSTRANDO QUEM ESTÁ NA LINHA 1\n",
    "matrix[1]"
   ]
  },
  {
   "cell_type": "code",
   "execution_count": 8,
   "metadata": {
    "colab": {
     "base_uri": "https://localhost:8080/"
    },
    "id": "vE4PjtnBAbC4",
    "outputId": "966be0b2-cd19-46b1-dedd-ce3ec7b29ce1"
   },
   "outputs": [
    {
     "data": {
      "text/plain": [
       "7"
      ]
     },
     "execution_count": 8,
     "metadata": {},
     "output_type": "execute_result"
    }
   ],
   "source": [
    "#MOSTRABDO QUEM ESTÁ NA LINHA 1, COLUNA 0\n",
    "matrix[1][0]"
   ]
  },
  {
   "cell_type": "code",
   "execution_count": 9,
   "metadata": {
    "colab": {
     "base_uri": "https://localhost:8080/"
    },
    "id": "ZSE_GDSWAhRy",
    "outputId": "bb5e196d-c657-48cf-8f30-2af5783d819c"
   },
   "outputs": [
    {
     "data": {
      "text/plain": [
       "7"
      ]
     },
     "execution_count": 9,
     "metadata": {},
     "output_type": "execute_result"
    }
   ],
   "source": [
    "#MOSTRABDO QUEM ESTÁ NA LINHA 1, COLUNA 0 DE OUTRA FORMA\n",
    "matrix[1, 0]"
   ]
  },
  {
   "cell_type": "code",
   "execution_count": 10,
   "metadata": {
    "colab": {
     "base_uri": "https://localhost:8080/"
    },
    "id": "vgV5Hf0EAlLc",
    "outputId": "793675c8-12a5-4b89-fde7-01ccd817e4a5"
   },
   "outputs": [
    {
     "data": {
      "text/plain": [
       "array([1, 2, 3, 4, 5, 6, 7, 8, 9])"
      ]
     },
     "execution_count": 10,
     "metadata": {},
     "output_type": "execute_result"
    }
   ],
   "source": [
    "# CRIANDO UMA ARRAY, DETERMINANDO O INTERVALO QUE EU QUERO. NESTE CASO, QUERO QUE COMECE EM 1 E Vá até o 10 (no caso, fica 10-1 porque a nossa coisa começa do 0, certo?)\n",
    "array2 = np.arange(1, 10) # array range\n",
    "#mostra a array que criou\n",
    "array2"
   ]
  },
  {
   "cell_type": "code",
   "execution_count": 11,
   "metadata": {
    "colab": {
     "base_uri": "https://localhost:8080/"
    },
    "id": "UQ7ANuV9A53I",
    "outputId": "b290aabe-dd4a-4d06-a8bf-f50ebec341d1"
   },
   "outputs": [
    {
     "data": {
      "text/plain": [
       "array([1, 3, 5, 7, 9])"
      ]
     },
     "execution_count": 11,
     "metadata": {},
     "output_type": "execute_result"
    }
   ],
   "source": [
    "# quero ir de 1 a 10, mas pulando de 2 em 2. np.arange(inicio, fim, pausa/pulos/condição)\n",
    "np.arange(1, 10, 2)"
   ]
  },
  {
   "cell_type": "code",
   "execution_count": 12,
   "metadata": {
    "colab": {
     "base_uri": "https://localhost:8080/"
    },
    "id": "MFtxuDt8BCSs",
    "outputId": "95634f9a-4921-47f3-850c-7346e88c8bbd"
   },
   "outputs": [
    {
     "data": {
      "text/plain": [
       "array([1, 4, 7])"
      ]
     },
     "execution_count": 12,
     "metadata": {},
     "output_type": "execute_result"
    }
   ],
   "source": [
    "#agora eu quero ir de 1 até 10 pulando de 3 em 3.\n",
    "np.arange(1, 10, 3)"
   ]
  },
  {
   "cell_type": "code",
   "execution_count": 13,
   "metadata": {
    "colab": {
     "base_uri": "https://localhost:8080/"
    },
    "id": "LV1i7rvQBcmT",
    "outputId": "97ab4f78-3a12-4b1b-fa28-f01b8d301b61"
   },
   "outputs": [
    {
     "data": {
      "text/plain": [
       "array([0., 0., 0., 0., 0.])"
      ]
     },
     "execution_count": 13,
     "metadata": {},
     "output_type": "execute_result"
    }
   ],
   "source": [
    "# QUERO CRIAR UMA ARRAY QUE TENHA APENAS ZEROS. UTILIZO A FUNÇÃO NP.ZEROS(AQUI VOCÊ COLOCA O NÚMERO DE ELEMENTOS QUE DESEJA)\n",
    "zeros1d = np.zeros(5)\n",
    "#MOSTRA TUA CRIAÇÃO\n",
    "zeros1d"
   ]
  },
  {
   "cell_type": "code",
   "execution_count": 14,
   "metadata": {
    "colab": {
     "base_uri": "https://localhost:8080/"
    },
    "id": "UQDtmvpbBjfl",
    "outputId": "7d556427-ba37-441a-c627-2903af47e2c7"
   },
   "outputs": [
    {
     "data": {
      "text/plain": [
       "array([1., 1., 1., 1., 1., 1.])"
      ]
     },
     "execution_count": 14,
     "metadata": {},
     "output_type": "execute_result"
    }
   ],
   "source": [
    "# QUERO CRIAR UMA ARRAY QUE TENHA APENAS UM'S. USA NP.ONES(AQUI COLOCA O NÚMERO DE ELEMENTOS QUE DESEJA)\n",
    "np.ones(6)"
   ]
  },
  {
   "cell_type": "code",
   "execution_count": 15,
   "metadata": {
    "colab": {
     "base_uri": "https://localhost:8080/"
    },
    "id": "kI6LV041BmND",
    "outputId": "0ad73ae9-40ca-4aa8-a671-71b77e6ddc65"
   },
   "outputs": [
    {
     "data": {
      "text/plain": [
       "array([[1., 1., 1., 1.],\n",
       "       [1., 1., 1., 1.],\n",
       "       [1., 1., 1., 1.]])"
      ]
     },
     "execution_count": 15,
     "metadata": {},
     "output_type": "execute_result"
    }
   ],
   "source": [
    "# QUERIA CRIAR UMA MATRIZ DE UM'S COM 3 LINHAS E QUATRO COLUNAS. SÓ USAR NP.ONES((LINHAS, COLUNAS))\n",
    "np.ones((3, 4))"
   ]
  },
  {
   "cell_type": "code",
   "execution_count": 16,
   "metadata": {
    "colab": {
     "base_uri": "https://localhost:8080/"
    },
    "id": "3R-SdLXKB5Zk",
    "outputId": "3fe28500-e6ca-4abb-b344-037b92435f75"
   },
   "outputs": [
    {
     "data": {
      "text/plain": [
       "array([[1., 0., 0., 0.],\n",
       "       [0., 1., 0., 0.],\n",
       "       [0., 0., 1., 0.],\n",
       "       [0., 0., 0., 1.]])"
      ]
     },
     "execution_count": 16,
     "metadata": {},
     "output_type": "execute_result"
    }
   ],
   "source": [
    "#CRIAR UMA MATRIZ IDENTIDADE DE ORDEM 4 (AQUI N PRECISA CITAR O NÚMERO DE LINHAS E COLUNAS, JÁ QUE SABEMOS QUE UMA MATRIZ IDENTIDADE É DE ORDEM QUADRÁTICA, OU SEJA LINHA=COLUNA)\n",
    "np.eye(4)"
   ]
  },
  {
   "cell_type": "code",
   "execution_count": 17,
   "metadata": {
    "colab": {
     "base_uri": "https://localhost:8080/"
    },
    "id": "XveYRqOUCEZ7",
    "outputId": "6834cc01-c05a-4b8e-e1c2-b54eafeec983"
   },
   "outputs": [
    {
     "data": {
      "text/plain": [
       "array([ 1.  ,  3.25,  5.5 ,  7.75, 10.  ])"
      ]
     },
     "execution_count": 17,
     "metadata": {},
     "output_type": "execute_result"
    }
   ],
   "source": [
    "#CRIANDO UMA MATRIZ QUE VAI DE 1 ATÉ 10 COM UM ESPAÇAMENTO UNIFORME. EU QUERO 5 NÚMEROS ESPAÇADOS UNIFORMEMENTE NESSE\n",
    "#INTERVALO. VOCÊ USA O NP.LINSPACE(INICIO, FIM, NÚMERO_DE_ELEMENTOS) E AI ELE VAI TE RETORNAR OS 5 ELEMENTOS (COM MESMO ESPAÇAMENTO) DENTRO DESSE INTERVALO\n",
    "arr1 = np.linspace(1, 10, 5)\n",
    "#MOSTRA COMO FICOU\n",
    "arr1"
   ]
  },
  {
   "cell_type": "code",
   "execution_count": 18,
   "metadata": {
    "colab": {
     "base_uri": "https://localhost:8080/"
    },
    "id": "1ngRaW2FCa0H",
    "outputId": "eb369f5f-6fb0-41ef-d137-42c5bd785ca3"
   },
   "outputs": [
    {
     "data": {
      "text/plain": [
       "array([ 1.        ,  2.66666667,  4.33333333,  6.        ,  7.66666667,\n",
       "        9.33333333, 11.        ])"
      ]
     },
     "execution_count": 18,
     "metadata": {},
     "output_type": "execute_result"
    }
   ],
   "source": [
    "# MESMA EXPLICAÇÃO DA CÉLULA ANTERIOR. QUERO 7 NÚMEROS (ESPAÇADOS DA MESMA FORMA, OU SEJA, COMO SE FOSSE UMA PA OU PG, PARA FACILITAR A COMPREENSÃO)\n",
    "# NO INTERVALO DE 1 A 11\n",
    "np.linspace(1, 11, 7)"
   ]
  },
  {
   "cell_type": "code",
   "execution_count": 19,
   "metadata": {
    "colab": {
     "base_uri": "https://localhost:8080/"
    },
    "id": "T-wy3LUyDPFh",
    "outputId": "e096b19d-6be9-4db4-f7c2-540980b85ed0"
   },
   "outputs": [
    {
     "data": {
      "text/plain": [
       "array([0.37267455, 0.66710636, 0.53965664, 0.76208053, 0.98010882])"
      ]
     },
     "execution_count": 19,
     "metadata": {},
     "output_type": "execute_result"
    }
   ],
   "source": [
    "# criando uma array com números aleatórios (random) entre zero e 1 (rand)\n",
    "# para isso você utiliza np.random.rand(número de elementos que deseja na array)\n",
    "np.random.rand(5)"
   ]
  },
  {
   "cell_type": "code",
   "execution_count": 20,
   "metadata": {
    "colab": {
     "base_uri": "https://localhost:8080/"
    },
    "id": "D2dviXarC-xu",
    "outputId": "da9738bc-7d27-4f49-d40f-150507c0fd96"
   },
   "outputs": [
    {
     "data": {
      "text/plain": [
       "array([[0.73362244, 0.61920734, 0.32574487],\n",
       "       [0.81129844, 0.71987092, 0.56139177]])"
      ]
     },
     "execution_count": 20,
     "metadata": {},
     "output_type": "execute_result"
    }
   ],
   "source": [
    "# agora eu quero criar uma array bidimensional com números aleatórios entre zero e um. \n",
    "# para isso eu utilizo a função np.random.rand(linha, coluna)\n",
    "random_array = np.random.rand(2, 3)\n",
    "# exibe a array que criei\n",
    "random_array"
   ]
  },
  {
   "cell_type": "code",
   "execution_count": 21,
   "metadata": {
    "colab": {
     "base_uri": "https://localhost:8080/"
    },
    "id": "rvXx12JaDLgV",
    "outputId": "9d9a4e3f-a25f-46eb-d963-92ce5091a2a0"
   },
   "outputs": [
    {
     "data": {
      "text/plain": [
       "array([ 0.72174924,  0.81567006, -0.88541489,  0.90683652])"
      ]
     },
     "execution_count": 21,
     "metadata": {},
     "output_type": "execute_result"
    }
   ],
   "source": [
    "# criando uma array com números aleatórios (random) entre zero e um que podem ser negativos (randn)\n",
    "# para isso basta utilizar np.random.randn(ponha aqui o número de elementos que deseja ter na array)\n",
    "np.random.randn(4)"
   ]
  },
  {
   "cell_type": "code",
   "execution_count": 22,
   "metadata": {
    "colab": {
     "base_uri": "https://localhost:8080/"
    },
    "id": "uHfBZNBjDkhO",
    "outputId": "238259e9-27bc-49b5-e011-35189808d1fd"
   },
   "outputs": [
    {
     "data": {
      "text/plain": [
       "11"
      ]
     },
     "execution_count": 22,
     "metadata": {},
     "output_type": "execute_result"
    }
   ],
   "source": [
    "# essa daqui pega um número aleatório entre 2 e 50\n",
    "np.random.randint(2, 50)"
   ]
  },
  {
   "cell_type": "code",
   "execution_count": 23,
   "metadata": {
    "colab": {
     "base_uri": "https://localhost:8080/"
    },
    "id": "AtuCVqM6D4Ci",
    "outputId": "218fc665-a740-4b73-8e5d-458c54c489d6"
   },
   "outputs": [
    {
     "data": {
      "text/plain": [
       "array([[42,  9],\n",
       "       [ 6, 15],\n",
       "       [32, 40],\n",
       "       [28, 22]])"
      ]
     },
     "execution_count": 23,
     "metadata": {},
     "output_type": "execute_result"
    }
   ],
   "source": [
    "# a diferença daqui pra de cima é que será gerada uma array bidimensional ao inserir o shape (4,2), onde, óbvio, 4 é a linha e 2 as colunas\n",
    "# np.random.randint(inicio, fim, (shape))\n",
    "np.random.randint(2, 50, (4, 2))"
   ]
  },
  {
   "cell_type": "code",
   "execution_count": 25,
   "metadata": {
    "colab": {
     "base_uri": "https://localhost:8080/"
    },
    "id": "Rgce3cfWEHZb",
    "outputId": "c4526bd1-e049-40ed-eb1a-a1cab524a961"
   },
   "outputs": [
    {
     "data": {
      "text/plain": [
       "(5,)"
      ]
     },
     "execution_count": 25,
     "metadata": {},
     "output_type": "execute_result"
    }
   ],
   "source": [
    "# quero saber a forma, o shape de uma array? basta fazer o seguinte: nomedaarray.shape\n",
    "arr1.shape"
   ]
  },
  {
   "cell_type": "code",
   "execution_count": 26,
   "metadata": {
    "colab": {
     "base_uri": "https://localhost:8080/"
    },
    "id": "NJO2UHB-EWqF",
    "outputId": "57db45fb-db7f-4f68-ef91-35e8fff23291"
   },
   "outputs": [
    {
     "data": {
      "text/plain": [
       "(2, 3)"
      ]
     },
     "execution_count": 26,
     "metadata": {},
     "output_type": "execute_result"
    }
   ],
   "source": [
    "# quero saber a forma, shape de uma matriz? basta fazer o seguinte: nomedamatriz.shape\n",
    "matrix.shape"
   ]
  },
  {
   "cell_type": "code",
   "execution_count": 27,
   "metadata": {
    "colab": {
     "base_uri": "https://localhost:8080/"
    },
    "id": "ru31gzZWEaeM",
    "outputId": "3b8b0929-4166-4756-c2bd-b51bcc741c4b"
   },
   "outputs": [
    {
     "data": {
      "text/plain": [
       "array([[1, 4, 2],\n",
       "       [7, 4, 2]])"
      ]
     },
     "execution_count": 27,
     "metadata": {},
     "output_type": "execute_result"
    }
   ],
   "source": [
    "# chama a matriz ai pra mostrar\n",
    "matrix"
   ]
  },
  {
   "cell_type": "code",
   "execution_count": 28,
   "metadata": {
    "colab": {
     "base_uri": "https://localhost:8080/"
    },
    "id": "HRzChdA9Einh",
    "outputId": "8d00febd-5cd5-4e02-f454-2c0e770ec19b"
   },
   "outputs": [
    {
     "data": {
      "text/plain": [
       "array([[1, 4],\n",
       "       [2, 7],\n",
       "       [4, 2]])"
      ]
     },
     "execution_count": 28,
     "metadata": {},
     "output_type": "execute_result"
    }
   ],
   "source": [
    "# não quero mais a forma atual da minha matriz, quero mudar? usa a função reshape com o shape novo que deseja\n",
    "# nomedamatriz.reshape(new_row, new_col)\n",
    "matrix.reshape(3, 2) # tem que ter a mesma quantidade de elementos"
   ]
  },
  {
   "cell_type": "markdown",
   "metadata": {
    "id": "faRIBsn-E86y"
   },
   "source": [
    "## Operations"
   ]
  },
  {
   "cell_type": "code",
   "execution_count": 29,
   "metadata": {
    "colab": {
     "base_uri": "https://localhost:8080/"
    },
    "id": "Le_hGqc8E5xD",
    "outputId": "068121dd-d83a-4f5c-ec04-276aecfc7910"
   },
   "outputs": [
    {
     "data": {
      "text/plain": [
       "array([ 1.  ,  3.25,  5.5 ,  7.75, 10.  ])"
      ]
     },
     "execution_count": 29,
     "metadata": {},
     "output_type": "execute_result"
    }
   ],
   "source": [
    "# vamos chamar a array que criamos no inicio \n",
    "arr1"
   ]
  },
  {
   "cell_type": "code",
   "execution_count": 30,
   "metadata": {
    "colab": {
     "base_uri": "https://localhost:8080/"
    },
    "id": "JsyrJ2l8FCaz",
    "outputId": "05d5b4dc-32c7-4616-8a0e-0fae5baeae2e"
   },
   "outputs": [
    {
     "data": {
      "text/plain": [
       "10.0"
      ]
     },
     "execution_count": 30,
     "metadata": {},
     "output_type": "execute_result"
    }
   ],
   "source": [
    "# quero saber o maior valor dela, portanto vou utilizar a função max()\n",
    "# só fazer isso aqui: nomedaarray.max() e mais nada \n",
    "arr1.max()"
   ]
  },
  {
   "cell_type": "code",
   "execution_count": 31,
   "metadata": {
    "colab": {
     "base_uri": "https://localhost:8080/"
    },
    "id": "x0t-6zTmFF9g",
    "outputId": "b6b60bc5-6030-4d5c-e445-a7edd8993455"
   },
   "outputs": [
    {
     "data": {
      "text/plain": [
       "4"
      ]
     },
     "execution_count": 31,
     "metadata": {},
     "output_type": "execute_result"
    }
   ],
   "source": [
    "# quero saber o índice do número máximo (maior) da minha array? basta usar a função .argmax()\n",
    "#para usar é só pegar o nomedamtriz.argmax()\n",
    "arr1.argmax()"
   ]
  },
  {
   "cell_type": "code",
   "execution_count": 32,
   "metadata": {
    "colab": {
     "base_uri": "https://localhost:8080/"
    },
    "id": "xKFZTHKyFMKh",
    "outputId": "c78bf9a8-1e45-4a46-ffa8-a20320911978"
   },
   "outputs": [
    {
     "data": {
      "text/plain": [
       "5.5"
      ]
     },
     "execution_count": 32,
     "metadata": {},
     "output_type": "execute_result"
    }
   ],
   "source": [
    "#quero saber a média (dos elementos, entendeu?) da minha array. Para isso, basta usar a função mean()\n",
    "# só aplicar assim: nome_da_array.mean()\n",
    "arr1.mean()"
   ]
  },
  {
   "cell_type": "code",
   "execution_count": 33,
   "metadata": {
    "colab": {
     "base_uri": "https://localhost:8080/"
    },
    "id": "YSb3l6k1FUKQ",
    "outputId": "03e16777-cd66-45ea-ebc4-5bdb57b90c91"
   },
   "outputs": [
    {
     "data": {
      "text/plain": [
       "array([ 3.  ,  5.25,  7.5 ,  9.75, 12.  ])"
      ]
     },
     "execution_count": 33,
     "metadata": {},
     "output_type": "execute_result"
    }
   ],
   "source": [
    "# se eu pegar um número inteiro e somar com a minha array? o que acontece?\n",
    "# o número inteiro irá se somar a cada elemento da array. \n",
    "# ilustrando: array([a0 + 2, a1+ 2, a2 + 2, ... , an +2])\n",
    "arr1 + 2"
   ]
  },
  {
   "cell_type": "code",
   "execution_count": 34,
   "metadata": {
    "colab": {
     "base_uri": "https://localhost:8080/"
    },
    "id": "8WJKZ4u-FeVR",
    "outputId": "37c4a96f-eace-41f7-c550-d13568be913d"
   },
   "outputs": [
    {
     "data": {
      "text/plain": [
       "array([ 3.  ,  9.75, 16.5 , 23.25, 30.  ])"
      ]
     },
     "execution_count": 34,
     "metadata": {},
     "output_type": "execute_result"
    }
   ],
   "source": [
    "# e agora se eu quiser multiplicar minha array por um número inteiro? da mesma forma da adição\n",
    "# o número irá multiplicar cada elemento da array\n",
    "# ilustrando: array([3a0, 3a1, 3a2, ..., 3an])\n",
    "\n",
    "arr1 * 3"
   ]
  },
  {
   "cell_type": "code",
   "execution_count": 37,
   "metadata": {
    "id": "F_LfQ88dFjI0"
   },
   "outputs": [
    {
     "data": {
      "text/plain": [
       "array([42, 30, 32, 35, 48])"
      ]
     },
     "execution_count": 37,
     "metadata": {},
     "output_type": "execute_result"
    }
   ],
   "source": [
    "# quero criar uma array com 5 números aleatórios entre 2 e 50\n",
    "# só isso: np.random.randint(inicio, fim, quantidade de elementos que quero)\n",
    "arr1 = np.random.randint(2, 50, 5)\n",
    "arr1"
   ]
  },
  {
   "cell_type": "code",
   "execution_count": 38,
   "metadata": {
    "id": "i0joCVR9FuId"
   },
   "outputs": [
    {
     "data": {
      "text/plain": [
       "array([25, 32, 49, 57, 24])"
      ]
     },
     "execution_count": 38,
     "metadata": {},
     "output_type": "execute_result"
    }
   ],
   "source": [
    "# quero uma array com 5 elementos com números entre 5 e 60\n",
    "arr2 = np.random.randint(5, 60, 5)\n",
    "arr2"
   ]
  },
  {
   "cell_type": "code",
   "execution_count": 41,
   "metadata": {
    "colab": {
     "base_uri": "https://localhost:8080/"
    },
    "id": "gugdAPnOFzec",
    "outputId": "c68fa53d-5470-4ffa-8455-16e64f06f856"
   },
   "outputs": [
    {
     "data": {
      "text/plain": [
       "array([42, 30, 32, 35, 48])"
      ]
     },
     "execution_count": 41,
     "metadata": {},
     "output_type": "execute_result"
    }
   ],
   "source": [
    "# mostra a array criada\n",
    "arr1"
   ]
  },
  {
   "cell_type": "code",
   "execution_count": 42,
   "metadata": {
    "colab": {
     "base_uri": "https://localhost:8080/"
    },
    "id": "Ak1uYZPwF0JA",
    "outputId": "e70e330f-cc65-4c4a-f5d0-d1fe5c5905d4"
   },
   "outputs": [
    {
     "data": {
      "text/plain": [
       "array([25, 32, 49, 57, 24])"
      ]
     },
     "execution_count": 42,
     "metadata": {},
     "output_type": "execute_result"
    }
   ],
   "source": [
    "# mostra a array criada\n",
    "arr2"
   ]
  },
  {
   "cell_type": "code",
   "execution_count": 42,
   "metadata": {
    "colab": {
     "base_uri": "https://localhost:8080/"
    },
    "id": "Ix0YTmmNF1zU",
    "outputId": "16aa4a43-15bf-43a7-b28e-cb7e514d8b13"
   },
   "outputs": [
    {
     "data": {
      "text/plain": [
       "array([2340, 1890, 1056,  126,  392])"
      ]
     },
     "execution_count": 42,
     "metadata": {
      "tags": []
     },
     "output_type": "execute_result"
    }
   ],
   "source": [
    "# multiplicação de arrays. Elas irão se multiplicar como matrizes normais (se n sabe, procura ver em algum livro etc. como se multiplica matrizes)\n",
    "arr1 * arr2"
   ]
  },
  {
   "cell_type": "code",
   "execution_count": 44,
   "metadata": {
    "colab": {
     "base_uri": "https://localhost:8080/"
    },
    "id": "qQdPkMvsF8WB",
    "outputId": "c5a9842a-47c3-436a-ceae-ede332c6a81e"
   },
   "outputs": [
    {
     "data": {
      "text/plain": [
       "array([1764,  900, 1024, 1225, 2304])"
      ]
     },
     "execution_count": 44,
     "metadata": {},
     "output_type": "execute_result"
    }
   ],
   "source": [
    "# quero elevar minha array ao quadrado: basta fazer matriz ** 2. Cada elemento dela será o quadrado dele.\n",
    "arr1 ** 2"
   ]
  },
  {
   "cell_type": "code",
   "execution_count": 47,
   "metadata": {
    "colab": {
     "base_uri": "https://localhost:8080/"
    },
    "id": "2VABG4CtGE9q",
    "outputId": "61ff59ae-9b02-41e0-d2ff-132d74cae815"
   },
   "outputs": [
    {
     "data": {
      "text/plain": [
       "array([6.4807407 , 5.47722558, 5.65685425, 5.91607978, 6.92820323])"
      ]
     },
     "execution_count": 47,
     "metadata": {},
     "output_type": "execute_result"
    }
   ],
   "source": [
    "# tirando a raiz quadrada da array. Basta usar a função .sqrt()\n",
    "# fica assim (utilizando a lib numpy) np.sqrt(array)\n",
    "np.sqrt(arr1)"
   ]
  },
  {
   "cell_type": "code",
   "execution_count": 48,
   "metadata": {
    "colab": {
     "base_uri": "https://localhost:8080/"
    },
    "id": "fRDwjaLDGO3u",
    "outputId": "b18d5d77-0701-4f00-9d98-7df54676b236"
   },
   "outputs": [
    {
     "data": {
      "text/plain": [
       "187"
      ]
     },
     "execution_count": 48,
     "metadata": {},
     "output_type": "execute_result"
    }
   ],
   "source": [
    "# quero saber a soma entre todos os elementos da Array. Basta usar a função .sum()\n",
    "# # fica assim (utilizando a lib numpy) np.sum(array)\n",
    "np.sum(arr1)"
   ]
  },
  {
   "cell_type": "code",
   "execution_count": 49,
   "metadata": {
    "colab": {
     "base_uri": "https://localhost:8080/"
    },
    "id": "1BKsDYCkGWMS",
    "outputId": "6970a067-7898-4411-e09a-c08a5c551532"
   },
   "outputs": [
    {
     "data": {
      "text/plain": [
       "array([[1, 4, 2],\n",
       "       [7, 4, 2]])"
      ]
     },
     "execution_count": 49,
     "metadata": {},
     "output_type": "execute_result"
    }
   ],
   "source": [
    "# mostra a matriz ai de novo, vá lá\n",
    "matrix"
   ]
  },
  {
   "cell_type": "code",
   "execution_count": 51,
   "metadata": {
    "colab": {
     "base_uri": "https://localhost:8080/"
    },
    "id": "oCWEIvfYGiGj",
    "outputId": "b89e9847-be28-4b17-e8f7-198c6bdf924b"
   },
   "outputs": [
    {
     "data": {
      "text/plain": [
       "array([[1, 2, 3, 4],\n",
       "       [2, 3, 4, 5],\n",
       "       [5, 6, 7, 8]])"
      ]
     },
     "execution_count": 51,
     "metadata": {},
     "output_type": "execute_result"
    }
   ],
   "source": [
    "# quero cria uma nova matriz\n",
    "# obs.: cada colchete dentro do colchete principal representa 1 linha\n",
    "#lembre-se que pra criar array, basta usar o np.array()\n",
    "matrix2 = np.array([[1, 2, 3, 4], [2, 3, 4, 5], [5, 6, 7, 8]])\n",
    "matrix2"
   ]
  },
  {
   "cell_type": "code",
   "execution_count": 52,
   "metadata": {
    "colab": {
     "base_uri": "https://localhost:8080/"
    },
    "id": "w5PohrF8GuLS",
    "outputId": "39592fa8-b9d6-4e4e-c675-983f0b63643c"
   },
   "outputs": [
    {
     "data": {
      "text/plain": [
       "(2, 3)"
      ]
     },
     "execution_count": 52,
     "metadata": {},
     "output_type": "execute_result"
    }
   ],
   "source": [
    "#me mostra a forma/shape da matriz ai, vá lá\n",
    "matrix.shape"
   ]
  },
  {
   "cell_type": "code",
   "execution_count": 53,
   "metadata": {
    "colab": {
     "base_uri": "https://localhost:8080/"
    },
    "id": "0yU0762oGvR0",
    "outputId": "6a8b2b06-5a03-4c02-fce3-fef0cc23264d"
   },
   "outputs": [
    {
     "data": {
      "text/plain": [
       "(3, 4)"
      ]
     },
     "execution_count": 53,
     "metadata": {},
     "output_type": "execute_result"
    }
   ],
   "source": [
    "#me mostra a forma/shape da matriz ai, vá lá\n",
    "matrix2.shape"
   ]
  },
  {
   "cell_type": "code",
   "execution_count": 54,
   "metadata": {
    "colab": {
     "base_uri": "https://localhost:8080/"
    },
    "id": "gESRiEZSG3Hy",
    "outputId": "c7e58c08-0b4e-44ef-e8c5-6f1118f62e6c"
   },
   "outputs": [
    {
     "data": {
      "text/plain": [
       "array([[19, 26, 33, 40],\n",
       "       [25, 38, 51, 64]])"
      ]
     },
     "execution_count": 54,
     "metadata": {},
     "output_type": "execute_result"
    }
   ],
   "source": [
    "# Produto de matriz de duas matrizes.\n",
    "result = np.matmul(matrix, matrix2)\n",
    "result"
   ]
  },
  {
   "cell_type": "code",
   "execution_count": 55,
   "metadata": {
    "colab": {
     "base_uri": "https://localhost:8080/"
    },
    "id": "7UpwZOyPHBUP",
    "outputId": "b1cd2b72-74af-4571-e516-a7dbe817eacf"
   },
   "outputs": [
    {
     "data": {
      "text/plain": [
       "(2, 4)"
      ]
     },
     "execution_count": 55,
     "metadata": {},
     "output_type": "execute_result"
    }
   ],
   "source": [
    "#me mostra a forma/shape da matriz ai, vá lá\n",
    "result.shape"
   ]
  },
  {
   "cell_type": "code",
   "execution_count": 56,
   "metadata": {
    "colab": {
     "base_uri": "https://localhost:8080/"
    },
    "id": "fazpYGIpHEcU",
    "outputId": "007581c8-091e-4198-96b1-0086405c8e38"
   },
   "outputs": [
    {
     "data": {
      "text/plain": [
       "array([[38, 64, 29, 68, 51],\n",
       "       [16, 75, 67, 17, 37],\n",
       "       [99, 65, 77, 82, 89],\n",
       "       [25, 43, 13, 70, 45]])"
      ]
     },
     "execution_count": 56,
     "metadata": {},
     "output_type": "execute_result"
    }
   ],
   "source": [
    "# quero criar uma matriz aleatória em um determinal intervalo (1 a 100) e um determinado shape (4,5)\n",
    "# np.random.randint(inicio, fim, (shape))\n",
    "arr2d = np.random.randint(1, 100, (4, 5))\n",
    "arr2d"
   ]
  },
  {
   "cell_type": "code",
   "execution_count": 57,
   "metadata": {
    "colab": {
     "base_uri": "https://localhost:8080/"
    },
    "id": "OToQ3oxWHV0E",
    "outputId": "2f785f41-948c-4429-cde1-5b944600cbee"
   },
   "outputs": [
    {
     "data": {
      "text/plain": [
       "1070"
      ]
     },
     "execution_count": 57,
     "metadata": {},
     "output_type": "execute_result"
    }
   ],
   "source": [
    "# soma dos elementos da array\n",
    "arr2d.sum()"
   ]
  },
  {
   "cell_type": "code",
   "execution_count": 58,
   "metadata": {
    "colab": {
     "base_uri": "https://localhost:8080/"
    },
    "id": "w5_i8TUKHcq1",
    "outputId": "1e2ffb3a-703e-4946-e567-e8a21b127fdc"
   },
   "outputs": [
    {
     "data": {
      "text/plain": [
       "array([178, 247, 186, 237, 222])"
      ]
     },
     "execution_count": 58,
     "metadata": {},
     "output_type": "execute_result"
    }
   ],
   "source": [
    "# soma das linhas da array. lembre-se que axis=0 refere-se a linha\n",
    "arr2d.sum(axis=0)"
   ]
  },
  {
   "cell_type": "code",
   "execution_count": 60,
   "metadata": {
    "colab": {
     "base_uri": "https://localhost:8080/"
    },
    "id": "UstQd3jzH_41",
    "outputId": "827a0a07-0ef3-485f-944d-4a66a2944e6c"
   },
   "outputs": [
    {
     "data": {
      "text/plain": [
       "array([250, 212, 412, 196])"
      ]
     },
     "execution_count": 60,
     "metadata": {},
     "output_type": "execute_result"
    }
   ],
   "source": [
    "# soma das colunas da array. lembre-se que axis=1 refere-se a coluna\n",
    "arr2d.sum(axis=1)"
   ]
  },
  {
   "cell_type": "markdown",
   "metadata": {
    "id": "AQLYp3EIIc1L"
   },
   "source": [
    "## Slices"
   ]
  },
  {
   "cell_type": "code",
   "execution_count": 61,
   "metadata": {
    "colab": {
     "base_uri": "https://localhost:8080/"
    },
    "id": "87WZ9uJmIPmu",
    "outputId": "fffc8e44-3cf8-4115-d3a3-2dfe7b346164"
   },
   "outputs": [
    {
     "data": {
      "text/plain": [
       "array([42, 30, 32, 35, 48])"
      ]
     },
     "execution_count": 61,
     "metadata": {},
     "output_type": "execute_result"
    }
   ],
   "source": [
    "# chama a array ai, mostra a bixinha\n",
    "arr1"
   ]
  },
  {
   "cell_type": "code",
   "execution_count": 63,
   "metadata": {
    "colab": {
     "base_uri": "https://localhost:8080/"
    },
    "id": "G8tXu_gTIm33",
    "outputId": "3a0ac37d-c58a-40e9-d0d1-f5704facb7db"
   },
   "outputs": [
    {
     "data": {
      "text/plain": [
       "array([30, 32, 35])"
      ]
     },
     "execution_count": 63,
     "metadata": {},
     "output_type": "execute_result"
    }
   ],
   "source": [
    "# agora eu quero vê-la da posição 1 até 4 (neste caso, fica a position 1, 2 e 3)\n",
    "arr1[1:4]"
   ]
  },
  {
   "cell_type": "code",
   "execution_count": 68,
   "metadata": {
    "id": "Sxe-GzpZIr9G"
   },
   "outputs": [],
   "source": [
    "# como mudar mais de um elemento da matriz de uma vez só?\n",
    "# pega a array e especifica o intervalo (array[x:y]) e igual ao número/números que você deseja substituir neste interval\n",
    "# poe exmplo, eu quero que os números da do intervalo 1 a 4 (4-1, o final é sempre n-1) passem a ser 20\n",
    "arr1[1:4] = 20"
   ]
  },
  {
   "cell_type": "code",
   "execution_count": 69,
   "metadata": {
    "colab": {
     "base_uri": "https://localhost:8080/"
    },
    "id": "FPIgpdoCIz40",
    "outputId": "ba6822fd-60f0-44c8-b5b7-9f3846e97ec9"
   },
   "outputs": [
    {
     "data": {
      "text/plain": [
       "array([42, 20, 20, 20, 48])"
      ]
     },
     "execution_count": 69,
     "metadata": {},
     "output_type": "execute_result"
    }
   ],
   "source": [
    "# mostra como ficou o resultado da célula anterior\n",
    "arr1"
   ]
  },
  {
   "cell_type": "code",
   "execution_count": 71,
   "metadata": {
    "colab": {
     "base_uri": "https://localhost:8080/"
    },
    "id": "AQlC7dLAI3-I",
    "outputId": "15206fab-e420-47d5-a266-468e11479cd7"
   },
   "outputs": [
    {
     "data": {
      "text/plain": [
       "array([42,  2,  3,  4, 48])"
      ]
     },
     "execution_count": 71,
     "metadata": {},
     "output_type": "execute_result"
    }
   ],
   "source": [
    "# quero mudar o intervalo de 1 a 4 para uma array que vai de 2 a 5 (5-1, LEMBRE-SEEEEEEEE)!\n",
    "arr1[1:4] = np.arange(2, 5)\n",
    "# MOSTRA A ARRAY\n",
    "arr1"
   ]
  },
  {
   "cell_type": "code",
   "execution_count": 72,
   "metadata": {
    "colab": {
     "base_uri": "https://localhost:8080/"
    },
    "id": "8604e8V8JLpg",
    "outputId": "e997620c-c825-400b-9275-dfcc7c2e7066"
   },
   "outputs": [
    {
     "data": {
      "text/plain": [
       "array([[22, 34, 32,  1, 12],\n",
       "       [ 2, 25, 30, 46, 32],\n",
       "       [11, 27,  8, 39, 17],\n",
       "       [34, 48, 13, 11, 13]])"
      ]
     },
     "execution_count": 72,
     "metadata": {},
     "output_type": "execute_result"
    }
   ],
   "source": [
    "# QUERO CRIAR UMA MATRIZ ALEATÓRIA (RANDOM) ENTRE UM DETERMINADO INTERVALO (1,50) COM O SHAPE (4,5)\n",
    "# np.random.randint(inicio, fim, (shape))\n",
    "matrix = np.random.randint(1, 50, (4, 5))\n",
    "matrix"
   ]
  },
  {
   "cell_type": "code",
   "execution_count": 74,
   "metadata": {
    "colab": {
     "base_uri": "https://localhost:8080/"
    },
    "id": "HpJWZAC3JWiT",
    "outputId": "3901859e-1b67-4678-ead6-785397615fd6"
   },
   "outputs": [
    {
     "data": {
      "text/plain": [
       "array([[32,  1, 12],\n",
       "       [30, 46, 32],\n",
       "       [ 8, 39, 17],\n",
       "       [13, 11, 13]])"
      ]
     },
     "execution_count": 74,
     "metadata": {},
     "output_type": "execute_result"
    }
   ],
   "source": [
    "# agora eu quero pegar intervalos da matriz\n",
    "# a matriz é [linha, coluna], certo? um intervalo é assim: \"inicio:fim\". \n",
    "#Ou seja, matriz[linha_inicio:linha_fim, coluna_inicio:coluna_fim]\n",
    "# o que eu fiz abaixo? no campo das linhas eu disse que queria do fim ao começo, ou seja, tudo.\n",
    "# no campo das colunas, eu disse que queria da coluna 2 em diante (até o fim)\n",
    "# lembre-se que ao deixar [:] vazio, eu digo que é desde o inicio até o fim\n",
    "matrix[:,2:]"
   ]
  },
  {
   "cell_type": "code",
   "execution_count": 75,
   "metadata": {
    "colab": {
     "base_uri": "https://localhost:8080/"
    },
    "id": "FdzLmJTBJmmp",
    "outputId": "118029ba-b157-490b-8ab1-e423186087e0"
   },
   "outputs": [
    {
     "data": {
      "text/plain": [
       "array([[25, 30],\n",
       "       [27,  8]])"
      ]
     },
     "execution_count": 75,
     "metadata": {},
     "output_type": "execute_result"
    }
   ],
   "source": [
    "# aqui eu escolhi mais um corte, intervalo. Eu quero da linha 1 até a 3 (3-2) e da coluna 1 até a 3 (3-2)\n",
    "matrix[1:3, 1:3]"
   ]
  },
  {
   "cell_type": "markdown",
   "metadata": {
    "id": "lMazzLCjJ3SI"
   },
   "source": [
    "## Conditional Selecting"
   ]
  },
  {
   "cell_type": "code",
   "execution_count": 76,
   "metadata": {
    "colab": {
     "base_uri": "https://localhost:8080/"
    },
    "id": "jZWFbq0kJyv_",
    "outputId": "e4dd2121-2e60-435c-f4f6-a79a005691d2"
   },
   "outputs": [
    {
     "data": {
      "text/plain": [
       "array([42,  2,  3,  4, 48])"
      ]
     },
     "execution_count": 76,
     "metadata": {},
     "output_type": "execute_result"
    }
   ],
   "source": [
    "# mostra a array ai de novo, vá lá\n",
    "arr1"
   ]
  },
  {
   "cell_type": "code",
   "execution_count": 78,
   "metadata": {
    "colab": {
     "base_uri": "https://localhost:8080/"
    },
    "id": "ZnTM2QxpJ8gn",
    "outputId": "061f18da-4728-4648-d7ba-895b5c365cd5"
   },
   "outputs": [
    {
     "data": {
      "text/plain": [
       "42"
      ]
     },
     "execution_count": 78,
     "metadata": {},
     "output_type": "execute_result"
    }
   ],
   "source": [
    "# agora eu quero ver somente a position 0 da array e nada mais\n",
    "# nome_da_matriz[posição que quero ver]\n",
    "arr1[0]"
   ]
  },
  {
   "cell_type": "code",
   "execution_count": 79,
   "metadata": {
    "colab": {
     "base_uri": "https://localhost:8080/"
    },
    "id": "NzXEw97vJ_Va",
    "outputId": "a441df03-90d1-4729-9e88-9af9788bc0d6"
   },
   "outputs": [
    {
     "data": {
      "text/plain": [
       "array([2, 3, 4])"
      ]
     },
     "execution_count": 79,
     "metadata": {},
     "output_type": "execute_result"
    }
   ],
   "source": [
    "# quero ver somente do interavlo 1:4 da array, então fica pra ser visto a posição 1, 2 e 3\n",
    "arr1[1:4]"
   ]
  },
  {
   "cell_type": "code",
   "execution_count": 80,
   "metadata": {
    "colab": {
     "base_uri": "https://localhost:8080/"
    },
    "id": "qI63rPP3KCfH",
    "outputId": "15ae11c6-c279-456c-bc5b-f1fd19967a73"
   },
   "outputs": [
    {
     "data": {
      "text/plain": [
       "array([42,  4])"
      ]
     },
     "execution_count": 80,
     "metadata": {},
     "output_type": "execute_result"
    }
   ],
   "source": [
    "# escolhendo quem eu quero que seja mostrada da array com boolean, quem eu quero mostrar eu boto \"true\" e quem eu não quero, \"false\"\n",
    "# é impossível n entender isso, plmds kkkkk\n",
    "arr1[[True, False, False, True, False]]"
   ]
  },
  {
   "cell_type": "code",
   "execution_count": 81,
   "metadata": {
    "colab": {
     "base_uri": "https://localhost:8080/"
    },
    "id": "G7vZnO7xKNZD",
    "outputId": "f0e2a2af-7b37-4123-e5e7-0ad7e62abfca"
   },
   "outputs": [
    {
     "data": {
      "text/plain": [
       "array([False,  True,  True,  True, False])"
      ]
     },
     "execution_count": 81,
     "metadata": {},
     "output_type": "execute_result"
    }
   ],
   "source": [
    "# quero ver quem da array é menor que 10\n",
    "# o output será uma array com \"true\" e \"false\"\n",
    "arr1 < 10"
   ]
  },
  {
   "cell_type": "code",
   "execution_count": 82,
   "metadata": {
    "colab": {
     "base_uri": "https://localhost:8080/"
    },
    "id": "Ou0pkq15KeuQ",
    "outputId": "a45abf2f-4036-461a-b8e5-30e4fa24ee35"
   },
   "outputs": [
    {
     "data": {
      "text/plain": [
       "array([2, 3, 4])"
      ]
     },
     "execution_count": 82,
     "metadata": {},
     "output_type": "execute_result"
    }
   ],
   "source": [
    "# quero que a minha array mostre só quem entra na condição que está dentro do colchete\n",
    "arr1[arr1 < 10]"
   ]
  },
  {
   "cell_type": "code",
   "execution_count": 83,
   "metadata": {},
   "outputs": [],
   "source": [
    "# FIIIIIIIIIIIIIIM!!"
   ]
  }
 ],
 "metadata": {
  "colab": {
   "name": "Introduction to NumPy",
   "provenance": []
  },
  "kernelspec": {
   "display_name": "Python 3",
   "language": "python",
   "name": "python3"
  },
  "language_info": {
   "codemirror_mode": {
    "name": "ipython",
    "version": 3
   },
   "file_extension": ".py",
   "mimetype": "text/x-python",
   "name": "python",
   "nbconvert_exporter": "python",
   "pygments_lexer": "ipython3",
   "version": "3.8.5"
  }
 },
 "nbformat": 4,
 "nbformat_minor": 1
}
