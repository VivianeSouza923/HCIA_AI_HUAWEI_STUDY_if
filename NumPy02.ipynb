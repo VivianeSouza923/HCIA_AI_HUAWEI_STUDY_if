{
  "nbformat": 4,
  "nbformat_minor": 0,
  "metadata": {
    "colab": {
      "provenance": [],
      "include_colab_link": true
    },
    "kernelspec": {
      "name": "python3",
      "display_name": "Python 3"
    }
  },
  "cells": [
    {
      "cell_type": "markdown",
      "metadata": {
        "id": "view-in-github",
        "colab_type": "text"
      },
      "source": [
        "<a href=\"https://colab.research.google.com/github/VivianeSouza923/HCIA_AI_HUAWEI_STUDY_if/blob/main/NumPy02.ipynb\" target=\"_parent\"><img src=\"https://colab.research.google.com/assets/colab-badge.svg\" alt=\"Open In Colab\"/></a>"
      ]
    },
    {
      "cell_type": "markdown",
      "metadata": {
        "id": "6f39ug2h-Aok"
      },
      "source": [
        "# **Numpy**\n",
        "* Support for large, multi-dimensional arrays\n",
        "* Mathematical functions to operate on these arrays\n",
        "* All the values are from the same type\n",
        "* NumPy arrays use less memory than Python lists\n",
        "---\n",
        "## **Colab Shortcuts**\n",
        "* **CTRL+Space**: Auto complete\n",
        "* **CTRL+Shift+Space**: Documentation\n",
        "* **CTRL+Enter**: Run current cell\n",
        "* **Shift+Enter**: Run current cell and move focus to the next cell (adding one if none exists)\n",
        "* **Alt+Enter**: Run current cell and insert a new cell below it.\n",
        "---\n"
      ]
    },
    {
      "cell_type": "markdown",
      "metadata": {
        "id": "Nrzw1IH2BIag"
      },
      "source": [
        "## Creating Arrays"
      ]
    },
    {
      "cell_type": "code",
      "metadata": {
        "id": "Vj2TuS_89tI5"
      },
      "source": [
        "#importando a lib, óbvio\n",
        "import numpy as np"
      ],
      "execution_count": 2,
      "outputs": []
    },
    {
      "cell_type": "code",
      "metadata": {
        "colab": {
          "base_uri": "https://localhost:8080/"
        },
        "id": "nSimbc8c_tiS",
        "outputId": "368a49ee-6887-48ec-d71f-b3c7436b76df"
      },
      "source": [
        "#criar uma array passando a linha logo como parâmetro\n",
        "# print arryay, só colocando o nome dela\n",
        "array1 = np.array([2, 4, 1])\n",
        "array1"
      ],
      "execution_count": 3,
      "outputs": [
        {
          "output_type": "execute_result",
          "data": {
            "text/plain": [
              "array([2, 4, 1])"
            ]
          },
          "metadata": {},
          "execution_count": 3
        }
      ]
    },
    {
      "cell_type": "code",
      "metadata": {
        "colab": {
          "base_uri": "https://localhost:8080/"
        },
        "id": "fMtV0e0c_44L",
        "outputId": "1ec3c4d1-8a7c-457d-c91d-fd58757aa638"
      },
      "source": [
        "#quero saber o tipo da array\n",
        "type(array1) # n-dimensional array"
      ],
      "execution_count": 4,
      "outputs": [
        {
          "output_type": "execute_result",
          "data": {
            "text/plain": [
              "numpy.ndarray"
            ]
          },
          "metadata": {},
          "execution_count": 4
        }
      ]
    },
    {
      "cell_type": "code",
      "metadata": {
        "colab": {
          "base_uri": "https://localhost:8080/"
        },
        "id": "L3U_11YUAAgG",
        "outputId": "84ce88f3-1e98-4855-e13c-21152f759375"
      },
      "source": [
        "# tipo?\n",
        "type([2, 4, 1])"
      ],
      "execution_count": 5,
      "outputs": [
        {
          "output_type": "execute_result",
          "data": {
            "text/plain": [
              "list"
            ]
          },
          "metadata": {},
          "execution_count": 5
        }
      ]
    },
    {
      "cell_type": "code",
      "metadata": {
        "colab": {
          "base_uri": "https://localhost:8080/"
        },
        "id": "yGHcP-j3ADdo",
        "outputId": "d0f3c9d6-96f8-4a3d-cfa2-a6867b70f158"
      },
      "source": [
        "#criar uma array de 2 rows - dai você só separa as linhas (dentro de colchetes, óbvio) por vírgula ---> \n",
        "#np.array(([ar[linha1], [linha2]ray]))\n",
        "matrix = np.array([[1, 4, 2], [7, 4, 2]])\n",
        "#print (só colocar o nome e nada mais é obrigatório)\n",
        "matrix"
      ],
      "execution_count": 6,
      "outputs": [
        {
          "output_type": "execute_result",
          "data": {
            "text/plain": [
              "array([[1, 4, 2],\n",
              "       [7, 4, 2]])"
            ]
          },
          "metadata": {},
          "execution_count": 6
        }
      ]
    },
    {
      "cell_type": "code",
      "source": [
        "# tipo?\n",
        "type(matrix)"
      ],
      "metadata": {
        "colab": {
          "base_uri": "https://localhost:8080/"
        },
        "id": "p-GKHLEf-8_4",
        "outputId": "76367f1c-3dc1-46af-b124-acec630fc079"
      },
      "execution_count": 7,
      "outputs": [
        {
          "output_type": "execute_result",
          "data": {
            "text/plain": [
              "numpy.ndarray"
            ]
          },
          "metadata": {},
          "execution_count": 7
        }
      ]
    },
    {
      "cell_type": "code",
      "metadata": {
        "colab": {
          "base_uri": "https://localhost:8080/"
        },
        "id": "IjX61LaMATNE",
        "outputId": "cc3d488d-089d-4f80-ac24-574ea7d4beac"
      },
      "source": [
        "#mostra a linha 1 da matriz?\n",
        "#nome_da_matriz[posição]\n",
        "matrix[1]"
      ],
      "execution_count": 8,
      "outputs": [
        {
          "output_type": "execute_result",
          "data": {
            "text/plain": [
              "array([7, 4, 2])"
            ]
          },
          "metadata": {},
          "execution_count": 8
        }
      ]
    },
    {
      "cell_type": "code",
      "metadata": {
        "colab": {
          "base_uri": "https://localhost:8080/"
        },
        "id": "vE4PjtnBAbC4",
        "outputId": "496c344a-7305-4539-8359-4f323452544e"
      },
      "source": [
        "#quem está na posição 0 da linha 1?\n",
        "#nome_da_matriz[posição da linha][posição da coluna]\n",
        "matrix[1][0]"
      ],
      "execution_count": 9,
      "outputs": [
        {
          "output_type": "execute_result",
          "data": {
            "text/plain": [
              "7"
            ]
          },
          "metadata": {},
          "execution_count": 9
        }
      ]
    },
    {
      "cell_type": "code",
      "metadata": {
        "colab": {
          "base_uri": "https://localhost:8080/"
        },
        "id": "ZSE_GDSWAhRy",
        "outputId": "2507a83a-2739-4ed7-bdb4-118a14ad8aa8"
      },
      "source": [
        "# mesma coisa da célula anterior, só que de outro jeitinho\n",
        "matrix[1, 0]"
      ],
      "execution_count": 10,
      "outputs": [
        {
          "output_type": "execute_result",
          "data": {
            "text/plain": [
              "7"
            ]
          },
          "metadata": {},
          "execution_count": 10
        }
      ]
    },
    {
      "cell_type": "code",
      "metadata": {
        "colab": {
          "base_uri": "https://localhost:8080/"
        },
        "id": "vgV5Hf0EAlLc",
        "outputId": "4b1c325f-5e15-4bf6-f081-6f45816dc6ab"
      },
      "source": [
        "# cria uma matriz através da arange (dai tu passa o ínicio e o fim como parâmetros, lembrando que começa em zero, logo o fim fica n-1)\n",
        "# matrizNova = np.arange(initial_position, final_position)\n",
        "array2 = np.arange(1, 10) # array range\n",
        "#print\n",
        "array2"
      ],
      "execution_count": 11,
      "outputs": [
        {
          "output_type": "execute_result",
          "data": {
            "text/plain": [
              "array([1, 2, 3, 4, 5, 6, 7, 8, 9])"
            ]
          },
          "metadata": {},
          "execution_count": 11
        }
      ]
    },
    {
      "cell_type": "code",
      "metadata": {
        "colab": {
          "base_uri": "https://localhost:8080/"
        },
        "id": "UQ7ANuV9A53I",
        "outputId": "7c4774bb-7a36-4d1a-9724-5a46288e8082"
      },
      "source": [
        "# cria uma array de 5 a 54, espaçado de 5\n",
        "#np.arange(initial_position, final_position, espaçamento)\n",
        "np.arange(5, 54, 5)"
      ],
      "execution_count": 12,
      "outputs": [
        {
          "output_type": "execute_result",
          "data": {
            "text/plain": [
              "array([ 5, 10, 15, 20, 25, 30, 35, 40, 45, 50])"
            ]
          },
          "metadata": {},
          "execution_count": 12
        }
      ]
    },
    {
      "cell_type": "code",
      "metadata": {
        "colab": {
          "base_uri": "https://localhost:8080/"
        },
        "id": "MFtxuDt8BCSs",
        "outputId": "02d09f02-cab1-4afe-96b1-53f75c0039c5"
      },
      "source": [
        "#mesma lógica da célula anterior\n",
        "np.arange(1, 10, 3)"
      ],
      "execution_count": 13,
      "outputs": [
        {
          "output_type": "execute_result",
          "data": {
            "text/plain": [
              "array([1, 4, 7])"
            ]
          },
          "metadata": {},
          "execution_count": 13
        }
      ]
    },
    {
      "cell_type": "code",
      "metadata": {
        "colab": {
          "base_uri": "https://localhost:8080/"
        },
        "id": "LV1i7rvQBcmT",
        "outputId": "a37be16c-6d96-411c-d999-0fdeb506af2d"
      },
      "source": [
        "#matriz de zeros: \n",
        "#matriz_zeros = np.zeros(quantidade)\n",
        "zeros1d = np.zeros(5)\n",
        "#print\n",
        "zeros1d"
      ],
      "execution_count": 14,
      "outputs": [
        {
          "output_type": "execute_result",
          "data": {
            "text/plain": [
              "array([0., 0., 0., 0., 0.])"
            ]
          },
          "metadata": {},
          "execution_count": 14
        }
      ]
    },
    {
      "cell_type": "code",
      "source": [
        "#matriz de zeros de 2 dimensões\n",
        "#np.zeros((x,y)) ou np.zeros([x,y])\n",
        "np.zeros((2,3))"
      ],
      "metadata": {
        "colab": {
          "base_uri": "https://localhost:8080/"
        },
        "id": "Qed0NwtGEowV",
        "outputId": "f8bd6cc8-2e5f-43e4-8630-92d9948e6dcc"
      },
      "execution_count": 15,
      "outputs": [
        {
          "output_type": "execute_result",
          "data": {
            "text/plain": [
              "array([[0., 0., 0.],\n",
              "       [0., 0., 0.]])"
            ]
          },
          "metadata": {},
          "execution_count": 15
        }
      ]
    },
    {
      "cell_type": "code",
      "metadata": {
        "colab": {
          "base_uri": "https://localhost:8080/"
        },
        "id": "UQDtmvpbBjfl",
        "outputId": "11f5f3d4-bdd8-4e4d-b698-3d08f7af1e5f"
      },
      "source": [
        "#matriz de 1's\n",
        "#siga a mesma lógica da matriz de zeros\n",
        "np.ones(6)"
      ],
      "execution_count": 16,
      "outputs": [
        {
          "output_type": "execute_result",
          "data": {
            "text/plain": [
              "array([1., 1., 1., 1., 1., 1.])"
            ]
          },
          "metadata": {},
          "execution_count": 16
        }
      ]
    },
    {
      "cell_type": "code",
      "metadata": {
        "colab": {
          "base_uri": "https://localhost:8080/"
        },
        "id": "kI6LV041BmND",
        "outputId": "620f362f-dfd7-4d63-818f-9af08b1395de"
      },
      "source": [
        "#matriz de zeros de 2 dimensões\n",
        "#siga a mesma lógica da matriz de zeros\n",
        "np.ones((3, 4))"
      ],
      "execution_count": 17,
      "outputs": [
        {
          "output_type": "execute_result",
          "data": {
            "text/plain": [
              "array([[1., 1., 1., 1.],\n",
              "       [1., 1., 1., 1.],\n",
              "       [1., 1., 1., 1.]])"
            ]
          },
          "metadata": {},
          "execution_count": 17
        }
      ]
    },
    {
      "cell_type": "code",
      "metadata": {
        "colab": {
          "base_uri": "https://localhost:8080/"
        },
        "id": "3R-SdLXKB5Zk",
        "outputId": "3ba10112-e318-4d1d-a4db-18f1f8379e2a"
      },
      "source": [
        "# cria uma matriz identidade\n",
        "#np.eye(ordem)\n",
        "np.eye(6)"
      ],
      "execution_count": 18,
      "outputs": [
        {
          "output_type": "execute_result",
          "data": {
            "text/plain": [
              "array([[1., 0., 0., 0., 0., 0.],\n",
              "       [0., 1., 0., 0., 0., 0.],\n",
              "       [0., 0., 1., 0., 0., 0.],\n",
              "       [0., 0., 0., 1., 0., 0.],\n",
              "       [0., 0., 0., 0., 1., 0.],\n",
              "       [0., 0., 0., 0., 0., 1.]])"
            ]
          },
          "metadata": {},
          "execution_count": 18
        }
      ]
    },
    {
      "cell_type": "code",
      "metadata": {
        "colab": {
          "base_uri": "https://localhost:8080/"
        },
        "id": "XveYRqOUCEZ7",
        "outputId": "9c979e12-4448-4a00-cd32-d573f2a170e8"
      },
      "source": [
        "# vai retornar 5 números, EQUIESPAÇADOS, de 1 a 10.\n",
        "#np.linspace(initial_position, final_position, quantidade_de_elementos)\n",
        "arr1 = np.linspace(1, 10, 5)\n",
        "arr1"
      ],
      "execution_count": 20,
      "outputs": [
        {
          "output_type": "execute_result",
          "data": {
            "text/plain": [
              "array([ 1.  ,  3.25,  5.5 ,  7.75, 10.  ])"
            ]
          },
          "metadata": {},
          "execution_count": 20
        }
      ]
    },
    {
      "cell_type": "code",
      "metadata": {
        "colab": {
          "base_uri": "https://localhost:8080/"
        },
        "id": "1ngRaW2FCa0H",
        "outputId": "5f0520f6-5218-4f2b-acf1-842027ca6691"
      },
      "source": [
        "# mais um exemplo:\n",
        "np.linspace(1, 11, 7)"
      ],
      "execution_count": 21,
      "outputs": [
        {
          "output_type": "execute_result",
          "data": {
            "text/plain": [
              "array([ 1.        ,  2.66666667,  4.33333333,  6.        ,  7.66666667,\n",
              "        9.33333333, 11.        ])"
            ]
          },
          "metadata": {},
          "execution_count": 21
        }
      ]
    },
    {
      "cell_type": "code",
      "metadata": {
        "colab": {
          "base_uri": "https://localhost:8080/"
        },
        "id": "T-wy3LUyDPFh",
        "outputId": "e096b19d-6be9-4db4-f7c2-540980b85ed0"
      },
      "source": [
        "#criação de array:\n",
        "#np.random.rand(quantidade de elementos)\n",
        "#rand - números aleatórios entre 0 e 1 (0 - inclusivo e 1 - exclusivo)\n",
        "np.random.rand(5)"
      ],
      "execution_count": null,
      "outputs": [
        {
          "output_type": "execute_result",
          "data": {
            "text/plain": [
              "array([0.83133248, 0.32052929, 0.33245164, 0.97068504, 0.34096725])"
            ]
          },
          "metadata": {
            "tags": []
          },
          "execution_count": 22
        }
      ]
    },
    {
      "cell_type": "code",
      "metadata": {
        "colab": {
          "base_uri": "https://localhost:8080/"
        },
        "id": "D2dviXarC-xu",
        "outputId": "c4330b43-d0a8-4965-e1d2-0df8f242bbcb"
      },
      "source": [
        "# np.random.rand(linha, coluna) - criação de array\n",
        "random_array = np.random.rand(2, 3)\n",
        "# print\n",
        "random_array"
      ],
      "execution_count": 22,
      "outputs": [
        {
          "output_type": "execute_result",
          "data": {
            "text/plain": [
              "array([[0.11273293, 0.12115828, 0.07301914],\n",
              "       [0.2666549 , 0.18507754, 0.73229691]])"
            ]
          },
          "metadata": {},
          "execution_count": 22
        }
      ]
    },
    {
      "cell_type": "code",
      "metadata": {
        "colab": {
          "base_uri": "https://localhost:8080/"
        },
        "id": "rvXx12JaDLgV",
        "outputId": "95acf396-6df7-490a-e432-a65491fe86b9"
      },
      "source": [
        "#Distribuição normal padrão com média zero e desvio padrão igual a um, isso quer dizer que terá também números negativos\n",
        "np.random.randn(4)"
      ],
      "execution_count": 23,
      "outputs": [
        {
          "output_type": "execute_result",
          "data": {
            "text/plain": [
              "array([ 0.78911449, -0.33367624, -0.83335085,  0.80076004])"
            ]
          },
          "metadata": {},
          "execution_count": 23
        }
      ]
    },
    {
      "cell_type": "code",
      "metadata": {
        "colab": {
          "base_uri": "https://localhost:8080/"
        },
        "id": "uHfBZNBjDkhO",
        "outputId": "6bb0a172-6236-478a-bd2a-34b853d5e298"
      },
      "source": [
        "# faz um sorteio de acordo com os parâmetros passados\n",
        "# o número sorteado vai ser dentro do grupo de 2 a 50 - número aleatório será sorteado\n",
        "np.random.randint(2, 50)"
      ],
      "execution_count": 24,
      "outputs": [
        {
          "output_type": "execute_result",
          "data": {
            "text/plain": [
              "36"
            ]
          },
          "metadata": {},
          "execution_count": 24
        }
      ]
    },
    {
      "cell_type": "code",
      "metadata": {
        "colab": {
          "base_uri": "https://localhost:8080/"
        },
        "id": "AtuCVqM6D4Ci",
        "outputId": "ef692dd8-a977-4b74-a8d5-f69e17a9eaa5"
      },
      "source": [
        "#criando uma matriz aleatória através do randint\n",
        "#np.random.randint(inicio, fim, (shape))\n",
        "np.random.randint(2, 50, (4, 2))"
      ],
      "execution_count": 25,
      "outputs": [
        {
          "output_type": "execute_result",
          "data": {
            "text/plain": [
              "array([[ 2, 10],\n",
              "       [24, 15],\n",
              "       [27, 46],\n",
              "       [43, 44]])"
            ]
          },
          "metadata": {},
          "execution_count": 25
        }
      ]
    },
    {
      "cell_type": "code",
      "metadata": {
        "colab": {
          "base_uri": "https://localhost:8080/"
        },
        "id": "Rgce3cfWEHZb",
        "outputId": "665d8058-edab-4df3-b069-67f124434156"
      },
      "source": [
        "arr1.shape"
      ],
      "execution_count": 26,
      "outputs": [
        {
          "output_type": "execute_result",
          "data": {
            "text/plain": [
              "(5,)"
            ]
          },
          "metadata": {},
          "execution_count": 26
        }
      ]
    },
    {
      "cell_type": "code",
      "metadata": {
        "colab": {
          "base_uri": "https://localhost:8080/"
        },
        "id": "NJO2UHB-EWqF",
        "outputId": "6ed39be2-50d5-4601-f406-5d5c67d566cf"
      },
      "source": [
        "matrix.shape"
      ],
      "execution_count": 27,
      "outputs": [
        {
          "output_type": "execute_result",
          "data": {
            "text/plain": [
              "(2, 3)"
            ]
          },
          "metadata": {},
          "execution_count": 27
        }
      ]
    },
    {
      "cell_type": "code",
      "metadata": {
        "colab": {
          "base_uri": "https://localhost:8080/"
        },
        "id": "ru31gzZWEaeM",
        "outputId": "b41bd5fd-753e-4cd5-9fc1-a3c03d0b479e"
      },
      "source": [
        "matrix"
      ],
      "execution_count": 28,
      "outputs": [
        {
          "output_type": "execute_result",
          "data": {
            "text/plain": [
              "array([[1, 4, 2],\n",
              "       [7, 4, 2]])"
            ]
          },
          "metadata": {},
          "execution_count": 28
        }
      ]
    },
    {
      "cell_type": "code",
      "metadata": {
        "colab": {
          "base_uri": "https://localhost:8080/"
        },
        "id": "HRzChdA9Einh",
        "outputId": "605705d5-c064-4c0f-f0d0-32f15ebb70cf"
      },
      "source": [
        "#a matriz era (2,3), lembra? então, 3*2=2*3=6, logo tem a mesma quantidade de elementos\n",
        "matrix.reshape(3, 2) # tem que ter a mesma quantidade de elementos"
      ],
      "execution_count": 29,
      "outputs": [
        {
          "output_type": "execute_result",
          "data": {
            "text/plain": [
              "array([[1, 4],\n",
              "       [2, 7],\n",
              "       [4, 2]])"
            ]
          },
          "metadata": {},
          "execution_count": 29
        }
      ]
    },
    {
      "cell_type": "markdown",
      "metadata": {
        "id": "faRIBsn-E86y"
      },
      "source": [
        "## Operations"
      ]
    },
    {
      "cell_type": "code",
      "metadata": {
        "colab": {
          "base_uri": "https://localhost:8080/"
        },
        "id": "Le_hGqc8E5xD",
        "outputId": "998bdbb0-7790-4395-d28d-2456c0bdf297"
      },
      "source": [
        "arr1"
      ],
      "execution_count": 30,
      "outputs": [
        {
          "output_type": "execute_result",
          "data": {
            "text/plain": [
              "array([ 1.  ,  3.25,  5.5 ,  7.75, 10.  ])"
            ]
          },
          "metadata": {},
          "execution_count": 30
        }
      ]
    },
    {
      "cell_type": "code",
      "metadata": {
        "colab": {
          "base_uri": "https://localhost:8080/"
        },
        "id": "JsyrJ2l8FCaz",
        "outputId": "b6efdc1b-b31e-44aa-eb88-94966aec805f"
      },
      "source": [
        "# qual o maior número dentro da array?\n",
        "arr1.max()"
      ],
      "execution_count": 31,
      "outputs": [
        {
          "output_type": "execute_result",
          "data": {
            "text/plain": [
              "10.0"
            ]
          },
          "metadata": {},
          "execution_count": 31
        }
      ]
    },
    {
      "cell_type": "code",
      "metadata": {
        "colab": {
          "base_uri": "https://localhost:8080/"
        },
        "id": "x0t-6zTmFF9g",
        "outputId": "ef3f0e97-ef19-4486-81b5-1cfdcb57959c"
      },
      "source": [
        "# qual a posição do maior número dentro da array?\n",
        "arr1.argmax()"
      ],
      "execution_count": 32,
      "outputs": [
        {
          "output_type": "execute_result",
          "data": {
            "text/plain": [
              "4"
            ]
          },
          "metadata": {},
          "execution_count": 32
        }
      ]
    },
    {
      "cell_type": "code",
      "metadata": {
        "colab": {
          "base_uri": "https://localhost:8080/"
        },
        "id": "xKFZTHKyFMKh",
        "outputId": "62a5be57-a251-4f62-aa49-2723d82c5e1c"
      },
      "source": [
        "# média dos números dentro da array?\n",
        "\n",
        "arr1.mean()"
      ],
      "execution_count": 33,
      "outputs": [
        {
          "output_type": "execute_result",
          "data": {
            "text/plain": [
              "5.5"
            ]
          },
          "metadata": {},
          "execution_count": 33
        }
      ]
    },
    {
      "cell_type": "code",
      "metadata": {
        "colab": {
          "base_uri": "https://localhost:8080/"
        },
        "id": "YSb3l6k1FUKQ",
        "outputId": "ff84fd1a-fb46-49d4-8a9c-bb3834b243b8"
      },
      "source": [
        "# array + 2, se estudou álgebra, sabe que cada elemento dessa array será acrescido em 2\n",
        "arr1 + 2"
      ],
      "execution_count": 34,
      "outputs": [
        {
          "output_type": "execute_result",
          "data": {
            "text/plain": [
              "array([ 3.  ,  5.25,  7.5 ,  9.75, 12.  ])"
            ]
          },
          "metadata": {},
          "execution_count": 34
        }
      ]
    },
    {
      "cell_type": "code",
      "metadata": {
        "colab": {
          "base_uri": "https://localhost:8080/"
        },
        "id": "8WJKZ4u-FeVR",
        "outputId": "21fbe115-d407-423d-a4e8-4571c0d94b7e"
      },
      "source": [
        "#array * 3, se estudou álgebra, sabe que cada elemento dessa array será multiplicado por 3\n",
        "arr1 * 3"
      ],
      "execution_count": 35,
      "outputs": [
        {
          "output_type": "execute_result",
          "data": {
            "text/plain": [
              "array([ 3.  ,  9.75, 16.5 , 23.25, 30.  ])"
            ]
          },
          "metadata": {},
          "execution_count": 35
        }
      ]
    },
    {
      "cell_type": "code",
      "metadata": {
        "id": "F_LfQ88dFjI0"
      },
      "source": [
        "#  5 números aleatórios entre 2 e 50 serão sorteados para montar uma array\n",
        "arr1 = np.random.randint(2, 50, 5)"
      ],
      "execution_count": 37,
      "outputs": []
    },
    {
      "cell_type": "code",
      "metadata": {
        "id": "i0joCVR9FuId"
      },
      "source": [
        "# mesma lógica da célula anterior, só que com números diferentes\n",
        "arr2 = np.random.randint(5, 60, 5)"
      ],
      "execution_count": 38,
      "outputs": []
    },
    {
      "cell_type": "code",
      "metadata": {
        "colab": {
          "base_uri": "https://localhost:8080/"
        },
        "id": "gugdAPnOFzec",
        "outputId": "8365d756-7673-42fd-bf37-d0e2d62182e5"
      },
      "source": [
        "#print\n",
        "arr1"
      ],
      "execution_count": 39,
      "outputs": [
        {
          "output_type": "execute_result",
          "data": {
            "text/plain": [
              "array([ 7, 18, 24, 47, 20])"
            ]
          },
          "metadata": {},
          "execution_count": 39
        }
      ]
    },
    {
      "cell_type": "code",
      "metadata": {
        "colab": {
          "base_uri": "https://localhost:8080/"
        },
        "id": "Ak1uYZPwF0JA",
        "outputId": "ce9c076e-9381-4e51-aa57-2f658cdfa90e"
      },
      "source": [
        "#print\n",
        "arr2"
      ],
      "execution_count": 40,
      "outputs": [
        {
          "output_type": "execute_result",
          "data": {
            "text/plain": [
              "array([17, 22, 32, 35, 15])"
            ]
          },
          "metadata": {},
          "execution_count": 40
        }
      ]
    },
    {
      "cell_type": "code",
      "metadata": {
        "colab": {
          "base_uri": "https://localhost:8080/"
        },
        "id": "Ix0YTmmNF1zU",
        "outputId": "e7b1fdf6-68fd-4591-db5d-ebf7cb6ed6d7"
      },
      "source": [
        "# multiplicação de arrays\n",
        "arr1 * arr2"
      ],
      "execution_count": 41,
      "outputs": [
        {
          "output_type": "execute_result",
          "data": {
            "text/plain": [
              "array([ 119,  396,  768, 1645,  300])"
            ]
          },
          "metadata": {},
          "execution_count": 41
        }
      ]
    },
    {
      "cell_type": "code",
      "metadata": {
        "colab": {
          "base_uri": "https://localhost:8080/"
        },
        "id": "qQdPkMvsF8WB",
        "outputId": "670414af-a33c-4b46-ac67-0be60b9c55ee"
      },
      "source": [
        "# quadrado da array:\n",
        "arr1 ** 2"
      ],
      "execution_count": 42,
      "outputs": [
        {
          "output_type": "execute_result",
          "data": {
            "text/plain": [
              "array([  49,  324,  576, 2209,  400])"
            ]
          },
          "metadata": {},
          "execution_count": 42
        }
      ]
    },
    {
      "cell_type": "code",
      "metadata": {
        "colab": {
          "base_uri": "https://localhost:8080/"
        },
        "id": "2VABG4CtGE9q",
        "outputId": "851b5080-d12b-4e22-c17b-89dec039f2dd"
      },
      "source": [
        "#raiz quadrada da array\n",
        "np.sqrt(arr1)"
      ],
      "execution_count": 43,
      "outputs": [
        {
          "output_type": "execute_result",
          "data": {
            "text/plain": [
              "array([2.64575131, 4.24264069, 4.89897949, 6.8556546 , 4.47213595])"
            ]
          },
          "metadata": {},
          "execution_count": 43
        }
      ]
    },
    {
      "cell_type": "code",
      "metadata": {
        "colab": {
          "base_uri": "https://localhost:8080/"
        },
        "id": "fRDwjaLDGO3u",
        "outputId": "992cce6f-0623-4a00-a369-6a8775014cf6"
      },
      "source": [
        "# soma dos elementos da array\n",
        "np.sum(arr1)"
      ],
      "execution_count": 44,
      "outputs": [
        {
          "output_type": "execute_result",
          "data": {
            "text/plain": [
              "116"
            ]
          },
          "metadata": {},
          "execution_count": 44
        }
      ]
    },
    {
      "cell_type": "code",
      "metadata": {
        "colab": {
          "base_uri": "https://localhost:8080/"
        },
        "id": "1BKsDYCkGWMS",
        "outputId": "6970a067-7898-4411-e09a-c08a5c551532"
      },
      "source": [
        "matrix"
      ],
      "execution_count": null,
      "outputs": [
        {
          "output_type": "execute_result",
          "data": {
            "text/plain": [
              "array([[1, 4, 2],\n",
              "       [7, 4, 2]])"
            ]
          },
          "metadata": {
            "tags": []
          },
          "execution_count": 46
        }
      ]
    },
    {
      "cell_type": "code",
      "metadata": {
        "colab": {
          "base_uri": "https://localhost:8080/"
        },
        "id": "oCWEIvfYGiGj",
        "outputId": "b89e9847-be28-4b17-e8f7-198c6bdf924b"
      },
      "source": [
        "matrix2 = np.array([[1, 2, 3, 4], [2, 3, 4, 5], [5, 6, 7, 8]])\n",
        "matrix2"
      ],
      "execution_count": null,
      "outputs": [
        {
          "output_type": "execute_result",
          "data": {
            "text/plain": [
              "array([[1, 2, 3, 4],\n",
              "       [2, 3, 4, 5],\n",
              "       [5, 6, 7, 8]])"
            ]
          },
          "metadata": {
            "tags": []
          },
          "execution_count": 48
        }
      ]
    },
    {
      "cell_type": "code",
      "metadata": {
        "colab": {
          "base_uri": "https://localhost:8080/"
        },
        "id": "w5PohrF8GuLS",
        "outputId": "39592fa8-b9d6-4e4e-c675-983f0b63643c"
      },
      "source": [
        "matrix.shape"
      ],
      "execution_count": null,
      "outputs": [
        {
          "output_type": "execute_result",
          "data": {
            "text/plain": [
              "(2, 3)"
            ]
          },
          "metadata": {
            "tags": []
          },
          "execution_count": 49
        }
      ]
    },
    {
      "cell_type": "code",
      "metadata": {
        "colab": {
          "base_uri": "https://localhost:8080/"
        },
        "id": "0yU0762oGvR0",
        "outputId": "6a8b2b06-5a03-4c02-fce3-fef0cc23264d"
      },
      "source": [
        "matrix2.shape"
      ],
      "execution_count": null,
      "outputs": [
        {
          "output_type": "execute_result",
          "data": {
            "text/plain": [
              "(3, 4)"
            ]
          },
          "metadata": {
            "tags": []
          },
          "execution_count": 50
        }
      ]
    },
    {
      "cell_type": "code",
      "metadata": {
        "colab": {
          "base_uri": "https://localhost:8080/"
        },
        "id": "gESRiEZSG3Hy",
        "outputId": "c7e58c08-0b4e-44ef-e8c5-6f1118f62e6c"
      },
      "source": [
        "result = np.matmul(matrix, matrix2)\n",
        "result"
      ],
      "execution_count": null,
      "outputs": [
        {
          "output_type": "execute_result",
          "data": {
            "text/plain": [
              "array([[19, 26, 33, 40],\n",
              "       [25, 38, 51, 64]])"
            ]
          },
          "metadata": {
            "tags": []
          },
          "execution_count": 51
        }
      ]
    },
    {
      "cell_type": "code",
      "metadata": {
        "colab": {
          "base_uri": "https://localhost:8080/"
        },
        "id": "7UpwZOyPHBUP",
        "outputId": "b1cd2b72-74af-4571-e516-a7dbe817eacf"
      },
      "source": [
        "result.shape"
      ],
      "execution_count": null,
      "outputs": [
        {
          "output_type": "execute_result",
          "data": {
            "text/plain": [
              "(2, 4)"
            ]
          },
          "metadata": {
            "tags": []
          },
          "execution_count": 52
        }
      ]
    },
    {
      "cell_type": "code",
      "metadata": {
        "colab": {
          "base_uri": "https://localhost:8080/"
        },
        "id": "fazpYGIpHEcU",
        "outputId": "007581c8-091e-4198-96b1-0086405c8e38"
      },
      "source": [
        "arr2d = np.random.randint(1, 100, (4, 5))\n",
        "arr2d"
      ],
      "execution_count": null,
      "outputs": [
        {
          "output_type": "execute_result",
          "data": {
            "text/plain": [
              "array([[ 3,  8, 65, 74, 38],\n",
              "       [78, 39, 65,  9, 81],\n",
              "       [ 3, 85, 52, 77, 17],\n",
              "       [ 9, 44,  8, 50, 59]])"
            ]
          },
          "metadata": {
            "tags": []
          },
          "execution_count": 53
        }
      ]
    },
    {
      "cell_type": "code",
      "metadata": {
        "colab": {
          "base_uri": "https://localhost:8080/"
        },
        "id": "OToQ3oxWHV0E",
        "outputId": "2f785f41-948c-4429-cde1-5b944600cbee"
      },
      "source": [
        "arr2d.sum()"
      ],
      "execution_count": null,
      "outputs": [
        {
          "output_type": "execute_result",
          "data": {
            "text/plain": [
              "864"
            ]
          },
          "metadata": {
            "tags": []
          },
          "execution_count": 54
        }
      ]
    },
    {
      "cell_type": "code",
      "metadata": {
        "colab": {
          "base_uri": "https://localhost:8080/"
        },
        "id": "w5_i8TUKHcq1",
        "outputId": "1e2ffb3a-703e-4946-e567-e8a21b127fdc"
      },
      "source": [
        "arr2d.sum(axis=0)"
      ],
      "execution_count": null,
      "outputs": [
        {
          "output_type": "execute_result",
          "data": {
            "text/plain": [
              "array([ 93, 176, 190, 210, 195])"
            ]
          },
          "metadata": {
            "tags": []
          },
          "execution_count": 55
        }
      ]
    },
    {
      "cell_type": "code",
      "metadata": {
        "colab": {
          "base_uri": "https://localhost:8080/"
        },
        "id": "UstQd3jzH_41",
        "outputId": "827a0a07-0ef3-485f-944d-4a66a2944e6c"
      },
      "source": [
        "arr2d.sum(axis=1)"
      ],
      "execution_count": null,
      "outputs": [
        {
          "output_type": "execute_result",
          "data": {
            "text/plain": [
              "array([188, 272, 234, 170])"
            ]
          },
          "metadata": {
            "tags": []
          },
          "execution_count": 56
        }
      ]
    },
    {
      "cell_type": "markdown",
      "metadata": {
        "id": "AQLYp3EIIc1L"
      },
      "source": [
        "## Slices"
      ]
    },
    {
      "cell_type": "code",
      "metadata": {
        "colab": {
          "base_uri": "https://localhost:8080/"
        },
        "id": "87WZ9uJmIPmu",
        "outputId": "fffc8e44-3cf8-4115-d3a3-2dfe7b346164"
      },
      "source": [
        "arr1"
      ],
      "execution_count": null,
      "outputs": [
        {
          "output_type": "execute_result",
          "data": {
            "text/plain": [
              "array([45, 42, 24,  6, 28])"
            ]
          },
          "metadata": {
            "tags": []
          },
          "execution_count": 57
        }
      ]
    },
    {
      "cell_type": "code",
      "metadata": {
        "colab": {
          "base_uri": "https://localhost:8080/"
        },
        "id": "G8tXu_gTIm33",
        "outputId": "3a0ac37d-c58a-40e9-d0d1-f5704facb7db"
      },
      "source": [
        "arr1[1:4]"
      ],
      "execution_count": null,
      "outputs": [
        {
          "output_type": "execute_result",
          "data": {
            "text/plain": [
              "array([42, 24,  6])"
            ]
          },
          "metadata": {
            "tags": []
          },
          "execution_count": 58
        }
      ]
    },
    {
      "cell_type": "code",
      "metadata": {
        "id": "Sxe-GzpZIr9G"
      },
      "source": [
        "arr1[1:4] = 20"
      ],
      "execution_count": null,
      "outputs": []
    },
    {
      "cell_type": "code",
      "metadata": {
        "colab": {
          "base_uri": "https://localhost:8080/"
        },
        "id": "FPIgpdoCIz40",
        "outputId": "ba6822fd-60f0-44c8-b5b7-9f3846e97ec9"
      },
      "source": [
        "arr1"
      ],
      "execution_count": null,
      "outputs": [
        {
          "output_type": "execute_result",
          "data": {
            "text/plain": [
              "array([45, 20, 20, 20, 28])"
            ]
          },
          "metadata": {
            "tags": []
          },
          "execution_count": 60
        }
      ]
    },
    {
      "cell_type": "code",
      "metadata": {
        "colab": {
          "base_uri": "https://localhost:8080/"
        },
        "id": "AQlC7dLAI3-I",
        "outputId": "15206fab-e420-47d5-a266-468e11479cd7"
      },
      "source": [
        "arr1[1:4] = np.arange(2, 5)\n",
        "arr1"
      ],
      "execution_count": null,
      "outputs": [
        {
          "output_type": "execute_result",
          "data": {
            "text/plain": [
              "array([45,  2,  3,  4, 28])"
            ]
          },
          "metadata": {
            "tags": []
          },
          "execution_count": 61
        }
      ]
    },
    {
      "cell_type": "code",
      "metadata": {
        "colab": {
          "base_uri": "https://localhost:8080/"
        },
        "id": "8604e8V8JLpg",
        "outputId": "e997620c-c825-400b-9275-dfcc7c2e7066"
      },
      "source": [
        "matrix = np.random.randint(1, 50, (4, 5))\n",
        "matrix"
      ],
      "execution_count": null,
      "outputs": [
        {
          "output_type": "execute_result",
          "data": {
            "text/plain": [
              "array([[29, 42, 34, 29, 38],\n",
              "       [22, 45, 44, 35, 15],\n",
              "       [40, 22, 39, 45, 16],\n",
              "       [ 7, 13, 36, 34,  9]])"
            ]
          },
          "metadata": {
            "tags": []
          },
          "execution_count": 62
        }
      ]
    },
    {
      "cell_type": "code",
      "metadata": {
        "colab": {
          "base_uri": "https://localhost:8080/"
        },
        "id": "HpJWZAC3JWiT",
        "outputId": "3901859e-1b67-4678-ead6-785397615fd6"
      },
      "source": [
        "matrix[:,2:]"
      ],
      "execution_count": null,
      "outputs": [
        {
          "output_type": "execute_result",
          "data": {
            "text/plain": [
              "array([[34, 29, 38],\n",
              "       [44, 35, 15],\n",
              "       [39, 45, 16],\n",
              "       [36, 34,  9]])"
            ]
          },
          "metadata": {
            "tags": []
          },
          "execution_count": 63
        }
      ]
    },
    {
      "cell_type": "code",
      "metadata": {
        "colab": {
          "base_uri": "https://localhost:8080/"
        },
        "id": "FdzLmJTBJmmp",
        "outputId": "118029ba-b157-490b-8ab1-e423186087e0"
      },
      "source": [
        "matrix[1:3, 1:3]"
      ],
      "execution_count": null,
      "outputs": [
        {
          "output_type": "execute_result",
          "data": {
            "text/plain": [
              "array([[45, 44],\n",
              "       [22, 39]])"
            ]
          },
          "metadata": {
            "tags": []
          },
          "execution_count": 64
        }
      ]
    },
    {
      "cell_type": "markdown",
      "metadata": {
        "id": "lMazzLCjJ3SI"
      },
      "source": [
        "## Conditional Selecting"
      ]
    },
    {
      "cell_type": "code",
      "metadata": {
        "colab": {
          "base_uri": "https://localhost:8080/"
        },
        "id": "jZWFbq0kJyv_",
        "outputId": "e4dd2121-2e60-435c-f4f6-a79a005691d2"
      },
      "source": [
        "arr1"
      ],
      "execution_count": null,
      "outputs": [
        {
          "output_type": "execute_result",
          "data": {
            "text/plain": [
              "array([45,  2,  3,  4, 28])"
            ]
          },
          "metadata": {
            "tags": []
          },
          "execution_count": 65
        }
      ]
    },
    {
      "cell_type": "code",
      "metadata": {
        "colab": {
          "base_uri": "https://localhost:8080/"
        },
        "id": "ZnTM2QxpJ8gn",
        "outputId": "061f18da-4728-4648-d7ba-895b5c365cd5"
      },
      "source": [
        "arr1[0]"
      ],
      "execution_count": null,
      "outputs": [
        {
          "output_type": "execute_result",
          "data": {
            "text/plain": [
              "45"
            ]
          },
          "metadata": {
            "tags": []
          },
          "execution_count": 66
        }
      ]
    },
    {
      "cell_type": "code",
      "metadata": {
        "colab": {
          "base_uri": "https://localhost:8080/"
        },
        "id": "NzXEw97vJ_Va",
        "outputId": "a441df03-90d1-4729-9e88-9af9788bc0d6"
      },
      "source": [
        "arr1[1:4]"
      ],
      "execution_count": null,
      "outputs": [
        {
          "output_type": "execute_result",
          "data": {
            "text/plain": [
              "array([2, 3, 4])"
            ]
          },
          "metadata": {
            "tags": []
          },
          "execution_count": 67
        }
      ]
    },
    {
      "cell_type": "code",
      "metadata": {
        "colab": {
          "base_uri": "https://localhost:8080/"
        },
        "id": "qI63rPP3KCfH",
        "outputId": "15ae11c6-c279-456c-bc5b-f1fd19967a73"
      },
      "source": [
        "arr1[[True, False, False, True, False]]"
      ],
      "execution_count": null,
      "outputs": [
        {
          "output_type": "execute_result",
          "data": {
            "text/plain": [
              "array([45,  4])"
            ]
          },
          "metadata": {
            "tags": []
          },
          "execution_count": 68
        }
      ]
    },
    {
      "cell_type": "code",
      "metadata": {
        "colab": {
          "base_uri": "https://localhost:8080/"
        },
        "id": "G7vZnO7xKNZD",
        "outputId": "f0e2a2af-7b37-4123-e5e7-0ad7e62abfca"
      },
      "source": [
        "arr1 < 10"
      ],
      "execution_count": null,
      "outputs": [
        {
          "output_type": "execute_result",
          "data": {
            "text/plain": [
              "array([False,  True,  True,  True, False])"
            ]
          },
          "metadata": {
            "tags": []
          },
          "execution_count": 69
        }
      ]
    },
    {
      "cell_type": "code",
      "metadata": {
        "colab": {
          "base_uri": "https://localhost:8080/"
        },
        "id": "Ou0pkq15KeuQ",
        "outputId": "a45abf2f-4036-461a-b8e5-30e4fa24ee35"
      },
      "source": [
        "arr1[arr1 < 10]"
      ],
      "execution_count": null,
      "outputs": [
        {
          "output_type": "execute_result",
          "data": {
            "text/plain": [
              "array([2, 3, 4])"
            ]
          },
          "metadata": {
            "tags": []
          },
          "execution_count": 70
        }
      ]
    }
  ]
}