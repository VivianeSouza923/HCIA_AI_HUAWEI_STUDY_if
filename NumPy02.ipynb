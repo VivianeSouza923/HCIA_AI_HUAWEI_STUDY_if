{
  "nbformat": 4,
  "nbformat_minor": 0,
  "metadata": {
    "colab": {
      "provenance": [],
      "include_colab_link": true
    },
    "kernelspec": {
      "name": "python3",
      "display_name": "Python 3"
    }
  },
  "cells": [
    {
      "cell_type": "markdown",
      "metadata": {
        "id": "view-in-github",
        "colab_type": "text"
      },
      "source": [
        "<a href=\"https://colab.research.google.com/github/VivianeSouza923/HCIA_AI_HUAWEI_STUDY_if/blob/main/NumPy02.ipynb\" target=\"_parent\"><img src=\"https://colab.research.google.com/assets/colab-badge.svg\" alt=\"Open In Colab\"/></a>"
      ]
    },
    {
      "cell_type": "markdown",
      "metadata": {
        "id": "6f39ug2h-Aok"
      },
      "source": [
        "# **Numpy**\n",
        "* Support for large, multi-dimensional arrays\n",
        "* Mathematical functions to operate on these arrays\n",
        "* All the values are from the same type\n",
        "* NumPy arrays use less memory than Python lists\n",
        "---\n",
        "## **Colab Shortcuts**\n",
        "* **CTRL+Space**: Auto complete\n",
        "* **CTRL+Shift+Space**: Documentation\n",
        "* **CTRL+Enter**: Run current cell\n",
        "* **Shift+Enter**: Run current cell and move focus to the next cell (adding one if none exists)\n",
        "* **Alt+Enter**: Run current cell and insert a new cell below it.\n",
        "---\n"
      ]
    },
    {
      "cell_type": "markdown",
      "metadata": {
        "id": "Nrzw1IH2BIag"
      },
      "source": [
        "## Creating Arrays"
      ]
    },
    {
      "cell_type": "code",
      "metadata": {
        "id": "Vj2TuS_89tI5"
      },
      "source": [
        "#importando a lib, óbvio\n",
        "import numpy as np"
      ],
      "execution_count": 2,
      "outputs": []
    },
    {
      "cell_type": "code",
      "metadata": {
        "colab": {
          "base_uri": "https://localhost:8080/"
        },
        "id": "nSimbc8c_tiS",
        "outputId": "f5af9ba7-805c-44d8-f3e5-8600d78f5d68"
      },
      "source": [
        "#criar uma array passando a linha logo como parâmetro\n",
        "# print arryay, só colocando o nome dela\n",
        "array1 = np.array([2, 4, 1])\n",
        "array1"
      ],
      "execution_count": 3,
      "outputs": [
        {
          "output_type": "execute_result",
          "data": {
            "text/plain": [
              "array([2, 4, 1])"
            ]
          },
          "metadata": {},
          "execution_count": 3
        }
      ]
    },
    {
      "cell_type": "code",
      "metadata": {
        "colab": {
          "base_uri": "https://localhost:8080/"
        },
        "id": "fMtV0e0c_44L",
        "outputId": "8ddffaa0-b762-4996-a753-df19cd991da5"
      },
      "source": [
        "#quero saber o tipo da array\n",
        "type(array1) # n-dimensional array"
      ],
      "execution_count": 4,
      "outputs": [
        {
          "output_type": "execute_result",
          "data": {
            "text/plain": [
              "numpy.ndarray"
            ]
          },
          "metadata": {},
          "execution_count": 4
        }
      ]
    },
    {
      "cell_type": "code",
      "metadata": {
        "colab": {
          "base_uri": "https://localhost:8080/"
        },
        "id": "L3U_11YUAAgG",
        "outputId": "689bfd87-ff7a-4905-83b9-97c05e75b8e3"
      },
      "source": [
        "# tipo?\n",
        "type([2, 4, 1])"
      ],
      "execution_count": 5,
      "outputs": [
        {
          "output_type": "execute_result",
          "data": {
            "text/plain": [
              "list"
            ]
          },
          "metadata": {},
          "execution_count": 5
        }
      ]
    },
    {
      "cell_type": "code",
      "metadata": {
        "colab": {
          "base_uri": "https://localhost:8080/"
        },
        "id": "yGHcP-j3ADdo",
        "outputId": "88d43ea2-8806-4531-f96d-9ed108b63360"
      },
      "source": [
        "#criar uma array de 2 rows - dai você só separa as linhas (dentro de colchetes, óbvio) por vírgula ---> \n",
        "#np.array(([ar[linha1], [linha2]ray]))\n",
        "matrix = np.array([[1, 4, 2], [7, 4, 2]])\n",
        "#print (só colocar o nome e nada mais é obrigatório)\n",
        "matrix"
      ],
      "execution_count": 6,
      "outputs": [
        {
          "output_type": "execute_result",
          "data": {
            "text/plain": [
              "array([[1, 4, 2],\n",
              "       [7, 4, 2]])"
            ]
          },
          "metadata": {},
          "execution_count": 6
        }
      ]
    },
    {
      "cell_type": "code",
      "source": [
        "# tipo?\n",
        "type(matrix)"
      ],
      "metadata": {
        "colab": {
          "base_uri": "https://localhost:8080/"
        },
        "id": "p-GKHLEf-8_4",
        "outputId": "3cb35e1a-46bd-4afd-816e-fc9d32777aec"
      },
      "execution_count": 7,
      "outputs": [
        {
          "output_type": "execute_result",
          "data": {
            "text/plain": [
              "numpy.ndarray"
            ]
          },
          "metadata": {},
          "execution_count": 7
        }
      ]
    },
    {
      "cell_type": "code",
      "metadata": {
        "colab": {
          "base_uri": "https://localhost:8080/"
        },
        "id": "IjX61LaMATNE",
        "outputId": "2ecd211e-2c1d-46a5-ccb1-e48f5ce8c718"
      },
      "source": [
        "#mostra a linha 1 da matriz?\n",
        "#nome_da_matriz[posição]\n",
        "matrix[1]"
      ],
      "execution_count": 8,
      "outputs": [
        {
          "output_type": "execute_result",
          "data": {
            "text/plain": [
              "array([7, 4, 2])"
            ]
          },
          "metadata": {},
          "execution_count": 8
        }
      ]
    },
    {
      "cell_type": "code",
      "metadata": {
        "colab": {
          "base_uri": "https://localhost:8080/"
        },
        "id": "vE4PjtnBAbC4",
        "outputId": "5008cd1c-8e2a-479e-be98-875447371227"
      },
      "source": [
        "#quem está na posição 0 da linha 1?\n",
        "#nome_da_matriz[posição da linha][posição da coluna]\n",
        "matrix[1][0]"
      ],
      "execution_count": 9,
      "outputs": [
        {
          "output_type": "execute_result",
          "data": {
            "text/plain": [
              "7"
            ]
          },
          "metadata": {},
          "execution_count": 9
        }
      ]
    },
    {
      "cell_type": "code",
      "metadata": {
        "colab": {
          "base_uri": "https://localhost:8080/"
        },
        "id": "ZSE_GDSWAhRy",
        "outputId": "6e423abe-c80e-49a6-98f5-cdcfd2671808"
      },
      "source": [
        "# mesma coisa da célula anterior, só que de outro jeitinho\n",
        "matrix[1, 0]"
      ],
      "execution_count": 10,
      "outputs": [
        {
          "output_type": "execute_result",
          "data": {
            "text/plain": [
              "7"
            ]
          },
          "metadata": {},
          "execution_count": 10
        }
      ]
    },
    {
      "cell_type": "code",
      "metadata": {
        "colab": {
          "base_uri": "https://localhost:8080/"
        },
        "id": "vgV5Hf0EAlLc",
        "outputId": "8465d048-8429-487f-d7d9-5ec9cdcd47b0"
      },
      "source": [
        "# cria uma matriz através da arange (dai tu passa o ínicio e o fim como parâmetros, lembrando que começa em zero, logo o fim fica n-1)\n",
        "# matrizNova = np.arange(initial_position, final_position)\n",
        "array2 = np.arange(1, 10) # array range\n",
        "#print\n",
        "array2"
      ],
      "execution_count": 11,
      "outputs": [
        {
          "output_type": "execute_result",
          "data": {
            "text/plain": [
              "array([1, 2, 3, 4, 5, 6, 7, 8, 9])"
            ]
          },
          "metadata": {},
          "execution_count": 11
        }
      ]
    },
    {
      "cell_type": "code",
      "metadata": {
        "colab": {
          "base_uri": "https://localhost:8080/"
        },
        "id": "UQ7ANuV9A53I",
        "outputId": "2416a2da-c4b6-4f05-d789-61b93eb7b3aa"
      },
      "source": [
        "# cria uma array de 5 a 54, espaçado de 5\n",
        "#np.arange(initial_position, final_position, espaçamento)\n",
        "np.arange(5, 54, 5)"
      ],
      "execution_count": 12,
      "outputs": [
        {
          "output_type": "execute_result",
          "data": {
            "text/plain": [
              "array([ 5, 10, 15, 20, 25, 30, 35, 40, 45, 50])"
            ]
          },
          "metadata": {},
          "execution_count": 12
        }
      ]
    },
    {
      "cell_type": "code",
      "metadata": {
        "colab": {
          "base_uri": "https://localhost:8080/"
        },
        "id": "MFtxuDt8BCSs",
        "outputId": "992075c4-2173-4c98-8c36-e9434a9d15ff"
      },
      "source": [
        "#mesma lógica da célula anterior\n",
        "np.arange(1, 10, 3)"
      ],
      "execution_count": 13,
      "outputs": [
        {
          "output_type": "execute_result",
          "data": {
            "text/plain": [
              "array([1, 4, 7])"
            ]
          },
          "metadata": {},
          "execution_count": 13
        }
      ]
    },
    {
      "cell_type": "code",
      "metadata": {
        "colab": {
          "base_uri": "https://localhost:8080/"
        },
        "id": "LV1i7rvQBcmT",
        "outputId": "022c721f-dfd9-42da-dd21-3e6726962c4c"
      },
      "source": [
        "#matriz de zeros: \n",
        "#matriz_zeros = np.zeros(quantidade)\n",
        "zeros1d = np.zeros(5)\n",
        "#print\n",
        "zeros1d"
      ],
      "execution_count": 14,
      "outputs": [
        {
          "output_type": "execute_result",
          "data": {
            "text/plain": [
              "array([0., 0., 0., 0., 0.])"
            ]
          },
          "metadata": {},
          "execution_count": 14
        }
      ]
    },
    {
      "cell_type": "code",
      "source": [
        "#matriz de zeros de 2 dimensões\n",
        "#np.zeros((x,y)) ou np.zeros([x,y])\n",
        "np.zeros((2,3))"
      ],
      "metadata": {
        "colab": {
          "base_uri": "https://localhost:8080/"
        },
        "id": "Qed0NwtGEowV",
        "outputId": "e9de060e-da82-47b3-d2c0-8a354861370a"
      },
      "execution_count": 15,
      "outputs": [
        {
          "output_type": "execute_result",
          "data": {
            "text/plain": [
              "array([[0., 0., 0.],\n",
              "       [0., 0., 0.]])"
            ]
          },
          "metadata": {},
          "execution_count": 15
        }
      ]
    },
    {
      "cell_type": "code",
      "metadata": {
        "colab": {
          "base_uri": "https://localhost:8080/"
        },
        "id": "UQDtmvpbBjfl",
        "outputId": "e72d1da9-9efa-48b8-8d98-bbcee9fd105a"
      },
      "source": [
        "#matriz de 1's\n",
        "#siga a mesma lógica da matriz de zeros\n",
        "np.ones(6)"
      ],
      "execution_count": 16,
      "outputs": [
        {
          "output_type": "execute_result",
          "data": {
            "text/plain": [
              "array([1., 1., 1., 1., 1., 1.])"
            ]
          },
          "metadata": {},
          "execution_count": 16
        }
      ]
    },
    {
      "cell_type": "code",
      "metadata": {
        "colab": {
          "base_uri": "https://localhost:8080/"
        },
        "id": "kI6LV041BmND",
        "outputId": "3ca82924-3d47-4896-85ca-fc7ea44b5471"
      },
      "source": [
        "#matriz de zeros de 2 dimensões\n",
        "#siga a mesma lógica da matriz de zeros\n",
        "np.ones((3, 4))"
      ],
      "execution_count": 17,
      "outputs": [
        {
          "output_type": "execute_result",
          "data": {
            "text/plain": [
              "array([[1., 1., 1., 1.],\n",
              "       [1., 1., 1., 1.],\n",
              "       [1., 1., 1., 1.]])"
            ]
          },
          "metadata": {},
          "execution_count": 17
        }
      ]
    },
    {
      "cell_type": "code",
      "metadata": {
        "colab": {
          "base_uri": "https://localhost:8080/"
        },
        "id": "3R-SdLXKB5Zk",
        "outputId": "af3db1bc-71e0-4aff-a4f7-235a45cfb7d0"
      },
      "source": [
        "# cria uma matriz identidade\n",
        "#np.eye(ordem)\n",
        "np.eye(6)"
      ],
      "execution_count": 18,
      "outputs": [
        {
          "output_type": "execute_result",
          "data": {
            "text/plain": [
              "array([[1., 0., 0., 0., 0., 0.],\n",
              "       [0., 1., 0., 0., 0., 0.],\n",
              "       [0., 0., 1., 0., 0., 0.],\n",
              "       [0., 0., 0., 1., 0., 0.],\n",
              "       [0., 0., 0., 0., 1., 0.],\n",
              "       [0., 0., 0., 0., 0., 1.]])"
            ]
          },
          "metadata": {},
          "execution_count": 18
        }
      ]
    },
    {
      "cell_type": "code",
      "metadata": {
        "colab": {
          "base_uri": "https://localhost:8080/"
        },
        "id": "XveYRqOUCEZ7",
        "outputId": "180768b1-a1fd-47ac-fbc9-24732f4eb9de"
      },
      "source": [
        "# vai retornar 5 números, EQUIESPAÇADOS, de 1 a 10.\n",
        "#np.linspace(initial_position, final_position, quantidade_de_elementos)\n",
        "arr1 = np.linspace(1, 10, 5)\n",
        "arr1"
      ],
      "execution_count": 19,
      "outputs": [
        {
          "output_type": "execute_result",
          "data": {
            "text/plain": [
              "array([ 1.  ,  3.25,  5.5 ,  7.75, 10.  ])"
            ]
          },
          "metadata": {},
          "execution_count": 19
        }
      ]
    },
    {
      "cell_type": "code",
      "metadata": {
        "colab": {
          "base_uri": "https://localhost:8080/"
        },
        "id": "1ngRaW2FCa0H",
        "outputId": "c139b410-d9da-45e3-b47a-9953eadbfb42"
      },
      "source": [
        "# mais um exemplo:\n",
        "np.linspace(1, 11, 7)"
      ],
      "execution_count": 20,
      "outputs": [
        {
          "output_type": "execute_result",
          "data": {
            "text/plain": [
              "array([ 1.        ,  2.66666667,  4.33333333,  6.        ,  7.66666667,\n",
              "        9.33333333, 11.        ])"
            ]
          },
          "metadata": {},
          "execution_count": 20
        }
      ]
    },
    {
      "cell_type": "code",
      "metadata": {
        "colab": {
          "base_uri": "https://localhost:8080/"
        },
        "id": "T-wy3LUyDPFh",
        "outputId": "8efa2764-d756-40cf-c0e3-b5631d65e82f"
      },
      "source": [
        "#criação de array:\n",
        "#np.random.rand(quantidade de elementos)\n",
        "#rand - números aleatórios entre 0 e 1 (0 - inclusivo e 1 - exclusivo)\n",
        "np.random.rand(5)"
      ],
      "execution_count": 21,
      "outputs": [
        {
          "output_type": "execute_result",
          "data": {
            "text/plain": [
              "array([0.30267568, 0.12337835, 0.66339989, 0.24639248, 0.84752897])"
            ]
          },
          "metadata": {},
          "execution_count": 21
        }
      ]
    },
    {
      "cell_type": "code",
      "metadata": {
        "colab": {
          "base_uri": "https://localhost:8080/"
        },
        "id": "D2dviXarC-xu",
        "outputId": "d2c45fa5-9e9d-4b33-b57b-3bd96b537804"
      },
      "source": [
        "# np.random.rand(linha, coluna) - criação de array\n",
        "random_array = np.random.rand(2, 3)\n",
        "# print\n",
        "random_array"
      ],
      "execution_count": 22,
      "outputs": [
        {
          "output_type": "execute_result",
          "data": {
            "text/plain": [
              "array([[0.63303726, 0.06864025, 0.80319689],\n",
              "       [0.51929175, 0.4763114 , 0.16248086]])"
            ]
          },
          "metadata": {},
          "execution_count": 22
        }
      ]
    },
    {
      "cell_type": "code",
      "metadata": {
        "colab": {
          "base_uri": "https://localhost:8080/"
        },
        "id": "rvXx12JaDLgV",
        "outputId": "2dc29121-4c0f-447b-d5a7-33b8af3cabad"
      },
      "source": [
        "#Distribuição normal padrão com média zero e desvio padrão igual a um, isso quer dizer que terá também números negativos\n",
        "np.random.randn(4)"
      ],
      "execution_count": 23,
      "outputs": [
        {
          "output_type": "execute_result",
          "data": {
            "text/plain": [
              "array([-0.14190049, -0.03041292, -1.03522211, -1.52529057])"
            ]
          },
          "metadata": {},
          "execution_count": 23
        }
      ]
    },
    {
      "cell_type": "code",
      "metadata": {
        "colab": {
          "base_uri": "https://localhost:8080/"
        },
        "id": "uHfBZNBjDkhO",
        "outputId": "ca57a415-9ef4-4390-9b96-fd3d531e1039"
      },
      "source": [
        "# faz um sorteio de acordo com os parâmetros passados\n",
        "# o número sorteado vai ser dentro do grupo de 2 a 50 - número aleatório será sorteado\n",
        "np.random.randint(2, 50)"
      ],
      "execution_count": 24,
      "outputs": [
        {
          "output_type": "execute_result",
          "data": {
            "text/plain": [
              "35"
            ]
          },
          "metadata": {},
          "execution_count": 24
        }
      ]
    },
    {
      "cell_type": "code",
      "metadata": {
        "colab": {
          "base_uri": "https://localhost:8080/"
        },
        "id": "AtuCVqM6D4Ci",
        "outputId": "64008d6a-945c-4d1d-8676-b6824af25710"
      },
      "source": [
        "#criando uma matriz aleatória através do randint\n",
        "#np.random.randint(inicio, fim, (shape))\n",
        "np.random.randint(2, 50, (4, 2))"
      ],
      "execution_count": 25,
      "outputs": [
        {
          "output_type": "execute_result",
          "data": {
            "text/plain": [
              "array([[31, 31],\n",
              "       [45, 18],\n",
              "       [19, 40],\n",
              "       [15,  5]])"
            ]
          },
          "metadata": {},
          "execution_count": 25
        }
      ]
    },
    {
      "cell_type": "code",
      "metadata": {
        "colab": {
          "base_uri": "https://localhost:8080/"
        },
        "id": "Rgce3cfWEHZb",
        "outputId": "49fe45f3-7c83-431b-8a3d-7cbd7c06e6f4"
      },
      "source": [
        "# shape da arr1\n",
        "arr1.shape"
      ],
      "execution_count": 26,
      "outputs": [
        {
          "output_type": "execute_result",
          "data": {
            "text/plain": [
              "(5,)"
            ]
          },
          "metadata": {},
          "execution_count": 26
        }
      ]
    },
    {
      "cell_type": "code",
      "metadata": {
        "colab": {
          "base_uri": "https://localhost:8080/"
        },
        "id": "NJO2UHB-EWqF",
        "outputId": "21c649cb-c719-43a7-d1e0-ccf495c398f2"
      },
      "source": [
        "# shape da matrix\n",
        "matrix.shape"
      ],
      "execution_count": 27,
      "outputs": [
        {
          "output_type": "execute_result",
          "data": {
            "text/plain": [
              "(2, 3)"
            ]
          },
          "metadata": {},
          "execution_count": 27
        }
      ]
    },
    {
      "cell_type": "code",
      "metadata": {
        "colab": {
          "base_uri": "https://localhost:8080/"
        },
        "id": "ru31gzZWEaeM",
        "outputId": "6cb4534b-557a-46b0-ea42-03b0495f0925"
      },
      "source": [
        "# print\n",
        "matrix"
      ],
      "execution_count": 28,
      "outputs": [
        {
          "output_type": "execute_result",
          "data": {
            "text/plain": [
              "array([[1, 4, 2],\n",
              "       [7, 4, 2]])"
            ]
          },
          "metadata": {},
          "execution_count": 28
        }
      ]
    },
    {
      "cell_type": "code",
      "metadata": {
        "colab": {
          "base_uri": "https://localhost:8080/"
        },
        "id": "HRzChdA9Einh",
        "outputId": "783384a4-d486-46ad-8a7d-c9d6f6c33956"
      },
      "source": [
        "#a matriz era (2,3), lembra? então, 3*2=2*3=6, logo tem a mesma quantidade de elementos\n",
        "matrix.reshape(3, 2) # tem que ter a mesma quantidade de elementos"
      ],
      "execution_count": 29,
      "outputs": [
        {
          "output_type": "execute_result",
          "data": {
            "text/plain": [
              "array([[1, 4],\n",
              "       [2, 7],\n",
              "       [4, 2]])"
            ]
          },
          "metadata": {},
          "execution_count": 29
        }
      ]
    },
    {
      "cell_type": "markdown",
      "metadata": {
        "id": "faRIBsn-E86y"
      },
      "source": [
        "## Operations"
      ]
    },
    {
      "cell_type": "code",
      "metadata": {
        "colab": {
          "base_uri": "https://localhost:8080/"
        },
        "id": "Le_hGqc8E5xD",
        "outputId": "b81ef24b-3ba0-497a-bbde-d58cdabb2bb6"
      },
      "source": [
        "# print\n",
        "arr1"
      ],
      "execution_count": 30,
      "outputs": [
        {
          "output_type": "execute_result",
          "data": {
            "text/plain": [
              "array([ 1.  ,  3.25,  5.5 ,  7.75, 10.  ])"
            ]
          },
          "metadata": {},
          "execution_count": 30
        }
      ]
    },
    {
      "cell_type": "code",
      "metadata": {
        "colab": {
          "base_uri": "https://localhost:8080/"
        },
        "id": "JsyrJ2l8FCaz",
        "outputId": "a3c0cb72-671f-4721-d152-949b454b47ca"
      },
      "source": [
        "# qual o maior número dentro da array?\n",
        "arr1.max()"
      ],
      "execution_count": 31,
      "outputs": [
        {
          "output_type": "execute_result",
          "data": {
            "text/plain": [
              "10.0"
            ]
          },
          "metadata": {},
          "execution_count": 31
        }
      ]
    },
    {
      "cell_type": "code",
      "metadata": {
        "colab": {
          "base_uri": "https://localhost:8080/"
        },
        "id": "x0t-6zTmFF9g",
        "outputId": "cf0ab819-632d-43c1-f22a-c981b45b4020"
      },
      "source": [
        "# qual a posição do maior número dentro da array?\n",
        "arr1.argmax()"
      ],
      "execution_count": 32,
      "outputs": [
        {
          "output_type": "execute_result",
          "data": {
            "text/plain": [
              "4"
            ]
          },
          "metadata": {},
          "execution_count": 32
        }
      ]
    },
    {
      "cell_type": "code",
      "metadata": {
        "colab": {
          "base_uri": "https://localhost:8080/"
        },
        "id": "xKFZTHKyFMKh",
        "outputId": "bbf9a4dc-eddc-4a97-9bdc-135469e7ec58"
      },
      "source": [
        "# média dos números dentro da array?\n",
        "\n",
        "arr1.mean()"
      ],
      "execution_count": 33,
      "outputs": [
        {
          "output_type": "execute_result",
          "data": {
            "text/plain": [
              "5.5"
            ]
          },
          "metadata": {},
          "execution_count": 33
        }
      ]
    },
    {
      "cell_type": "code",
      "metadata": {
        "colab": {
          "base_uri": "https://localhost:8080/"
        },
        "id": "YSb3l6k1FUKQ",
        "outputId": "af21ef2b-6d1d-4c32-f8a6-330cd9b4dbc0"
      },
      "source": [
        "# array + 2, se estudou álgebra, sabe que cada elemento dessa array será acrescido em 2\n",
        "arr1 + 2"
      ],
      "execution_count": 34,
      "outputs": [
        {
          "output_type": "execute_result",
          "data": {
            "text/plain": [
              "array([ 3.  ,  5.25,  7.5 ,  9.75, 12.  ])"
            ]
          },
          "metadata": {},
          "execution_count": 34
        }
      ]
    },
    {
      "cell_type": "code",
      "metadata": {
        "colab": {
          "base_uri": "https://localhost:8080/"
        },
        "id": "8WJKZ4u-FeVR",
        "outputId": "95318072-927c-44cb-a31e-b2f40936e224"
      },
      "source": [
        "#array * 3, se estudou álgebra, sabe que cada elemento dessa array será multiplicado por 3\n",
        "arr1 * 3"
      ],
      "execution_count": 35,
      "outputs": [
        {
          "output_type": "execute_result",
          "data": {
            "text/plain": [
              "array([ 3.  ,  9.75, 16.5 , 23.25, 30.  ])"
            ]
          },
          "metadata": {},
          "execution_count": 35
        }
      ]
    },
    {
      "cell_type": "code",
      "metadata": {
        "id": "F_LfQ88dFjI0"
      },
      "source": [
        "#  5 números aleatórios entre 2 e 50 serão sorteados para montar uma array\n",
        "arr1 = np.random.randint(2, 50, 5)"
      ],
      "execution_count": 36,
      "outputs": []
    },
    {
      "cell_type": "code",
      "metadata": {
        "id": "i0joCVR9FuId"
      },
      "source": [
        "# mesma lógica da célula anterior, só que com números diferentes\n",
        "arr2 = np.random.randint(5, 60, 5)"
      ],
      "execution_count": 37,
      "outputs": []
    },
    {
      "cell_type": "code",
      "metadata": {
        "colab": {
          "base_uri": "https://localhost:8080/"
        },
        "id": "gugdAPnOFzec",
        "outputId": "8584fbd1-a25e-4573-eaed-7b8fe053edc4"
      },
      "source": [
        "#print\n",
        "arr1"
      ],
      "execution_count": 38,
      "outputs": [
        {
          "output_type": "execute_result",
          "data": {
            "text/plain": [
              "array([11, 31, 22, 21,  3])"
            ]
          },
          "metadata": {},
          "execution_count": 38
        }
      ]
    },
    {
      "cell_type": "code",
      "metadata": {
        "colab": {
          "base_uri": "https://localhost:8080/"
        },
        "id": "Ak1uYZPwF0JA",
        "outputId": "e70b9e35-1834-4b7a-d839-be5d81c7cad1"
      },
      "source": [
        "#print\n",
        "arr2"
      ],
      "execution_count": 39,
      "outputs": [
        {
          "output_type": "execute_result",
          "data": {
            "text/plain": [
              "array([54, 18, 18, 48, 37])"
            ]
          },
          "metadata": {},
          "execution_count": 39
        }
      ]
    },
    {
      "cell_type": "code",
      "metadata": {
        "colab": {
          "base_uri": "https://localhost:8080/"
        },
        "id": "Ix0YTmmNF1zU",
        "outputId": "153716b9-8e75-44ce-88ea-e9a896fcc3f5"
      },
      "source": [
        "# multiplicação de arrays\n",
        "arr1 * arr2"
      ],
      "execution_count": 40,
      "outputs": [
        {
          "output_type": "execute_result",
          "data": {
            "text/plain": [
              "array([ 594,  558,  396, 1008,  111])"
            ]
          },
          "metadata": {},
          "execution_count": 40
        }
      ]
    },
    {
      "cell_type": "code",
      "metadata": {
        "colab": {
          "base_uri": "https://localhost:8080/"
        },
        "id": "qQdPkMvsF8WB",
        "outputId": "03a57e54-e49a-46cb-80ff-81d18e502c33"
      },
      "source": [
        "# quadrado da array:\n",
        "arr1 ** 2"
      ],
      "execution_count": 41,
      "outputs": [
        {
          "output_type": "execute_result",
          "data": {
            "text/plain": [
              "array([121, 961, 484, 441,   9])"
            ]
          },
          "metadata": {},
          "execution_count": 41
        }
      ]
    },
    {
      "cell_type": "code",
      "metadata": {
        "colab": {
          "base_uri": "https://localhost:8080/"
        },
        "id": "2VABG4CtGE9q",
        "outputId": "01abb0fb-5f5c-4213-d89e-86cb42faa969"
      },
      "source": [
        "#raiz quadrada da array\n",
        "np.sqrt(arr1)"
      ],
      "execution_count": 42,
      "outputs": [
        {
          "output_type": "execute_result",
          "data": {
            "text/plain": [
              "array([3.31662479, 5.56776436, 4.69041576, 4.58257569, 1.73205081])"
            ]
          },
          "metadata": {},
          "execution_count": 42
        }
      ]
    },
    {
      "cell_type": "code",
      "metadata": {
        "colab": {
          "base_uri": "https://localhost:8080/"
        },
        "id": "fRDwjaLDGO3u",
        "outputId": "49a9de98-7411-43bd-b582-7ac1bb0b5a70"
      },
      "source": [
        "# soma dos elementos da array\n",
        "np.sum(arr1)"
      ],
      "execution_count": 43,
      "outputs": [
        {
          "output_type": "execute_result",
          "data": {
            "text/plain": [
              "88"
            ]
          },
          "metadata": {},
          "execution_count": 43
        }
      ]
    },
    {
      "cell_type": "code",
      "metadata": {
        "colab": {
          "base_uri": "https://localhost:8080/"
        },
        "id": "1BKsDYCkGWMS",
        "outputId": "fd63256a-1b0f-4a74-8969-d13f14f2176e"
      },
      "source": [
        "# print\n",
        "matrix"
      ],
      "execution_count": 44,
      "outputs": [
        {
          "output_type": "execute_result",
          "data": {
            "text/plain": [
              "array([[1, 4, 2],\n",
              "       [7, 4, 2]])"
            ]
          },
          "metadata": {},
          "execution_count": 44
        }
      ]
    },
    {
      "cell_type": "code",
      "metadata": {
        "colab": {
          "base_uri": "https://localhost:8080/"
        },
        "id": "oCWEIvfYGiGj",
        "outputId": "24fb61da-4a57-4d2f-a86a-3fda3cc4096a"
      },
      "source": [
        "# montando uma array passando todos os elementos, separados por linhas já\n",
        "matrix2 = np.array([[1, 2, 3, 4], [2, 3, 4, 5], [5, 6, 7, 8]])\n",
        "# print\n",
        "matrix2"
      ],
      "execution_count": 45,
      "outputs": [
        {
          "output_type": "execute_result",
          "data": {
            "text/plain": [
              "array([[1, 2, 3, 4],\n",
              "       [2, 3, 4, 5],\n",
              "       [5, 6, 7, 8]])"
            ]
          },
          "metadata": {},
          "execution_count": 45
        }
      ]
    },
    {
      "cell_type": "code",
      "metadata": {
        "colab": {
          "base_uri": "https://localhost:8080/"
        },
        "id": "w5PohrF8GuLS",
        "outputId": "d85efbb1-97c5-4fd4-865c-3c7bd427be92"
      },
      "source": [
        "# shape da matriz\n",
        "matrix.shape"
      ],
      "execution_count": 47,
      "outputs": [
        {
          "output_type": "execute_result",
          "data": {
            "text/plain": [
              "(2, 3)"
            ]
          },
          "metadata": {},
          "execution_count": 47
        }
      ]
    },
    {
      "cell_type": "code",
      "metadata": {
        "colab": {
          "base_uri": "https://localhost:8080/"
        },
        "id": "0yU0762oGvR0",
        "outputId": "363c4a04-b332-4503-ce2f-068e1eafe0a7"
      },
      "source": [
        "# shape da matriz\n",
        "matrix2.shape"
      ],
      "execution_count": 48,
      "outputs": [
        {
          "output_type": "execute_result",
          "data": {
            "text/plain": [
              "(3, 4)"
            ]
          },
          "metadata": {},
          "execution_count": 48
        }
      ]
    },
    {
      "cell_type": "code",
      "metadata": {
        "colab": {
          "base_uri": "https://localhost:8080/"
        },
        "id": "gESRiEZSG3Hy",
        "outputId": "a5dffb13-0863-4898-ca36-d7910d0f552d"
      },
      "source": [
        "# multiplicação de matrizes\n",
        "result = np.matmul(matrix, matrix2)\n",
        "# print\n",
        "result"
      ],
      "execution_count": 49,
      "outputs": [
        {
          "output_type": "execute_result",
          "data": {
            "text/plain": [
              "array([[19, 26, 33, 40],\n",
              "       [25, 38, 51, 64]])"
            ]
          },
          "metadata": {},
          "execution_count": 49
        }
      ]
    },
    {
      "cell_type": "code",
      "metadata": {
        "colab": {
          "base_uri": "https://localhost:8080/"
        },
        "id": "7UpwZOyPHBUP",
        "outputId": "4028f52a-d3f9-4a6c-9791-fae5ec46543d"
      },
      "source": [
        "# shape da matriz\n",
        "result.shape"
      ],
      "execution_count": 50,
      "outputs": [
        {
          "output_type": "execute_result",
          "data": {
            "text/plain": [
              "(2, 4)"
            ]
          },
          "metadata": {},
          "execution_count": 50
        }
      ]
    },
    {
      "cell_type": "code",
      "metadata": {
        "colab": {
          "base_uri": "https://localhost:8080/"
        },
        "id": "fazpYGIpHEcU",
        "outputId": "ef727cf8-67bc-4cfe-9fc9-c2ef2828a91d"
      },
      "source": [
        "# criação de matriz aleatória, através de sorteio (entre 1 e 100), com o shape (4,5)\n",
        "arr2d = np.random.randint(1, 100, (4, 5))\n",
        "# print\n",
        "arr2d"
      ],
      "execution_count": 51,
      "outputs": [
        {
          "output_type": "execute_result",
          "data": {
            "text/plain": [
              "array([[52, 46, 82, 80, 46],\n",
              "       [67, 80,  6, 39, 14],\n",
              "       [ 8, 45, 16, 99, 45],\n",
              "       [55,  4, 93, 51, 35]])"
            ]
          },
          "metadata": {},
          "execution_count": 51
        }
      ]
    },
    {
      "cell_type": "code",
      "metadata": {
        "colab": {
          "base_uri": "https://localhost:8080/"
        },
        "id": "OToQ3oxWHV0E",
        "outputId": "415eca11-77bd-4614-d63f-02e3ab1c4e45"
      },
      "source": [
        "# soma dos elementos da matriz\n",
        "arr2d.sum()"
      ],
      "execution_count": 52,
      "outputs": [
        {
          "output_type": "execute_result",
          "data": {
            "text/plain": [
              "963"
            ]
          },
          "metadata": {},
          "execution_count": 52
        }
      ]
    },
    {
      "cell_type": "code",
      "metadata": {
        "colab": {
          "base_uri": "https://localhost:8080/"
        },
        "id": "w5_i8TUKHcq1",
        "outputId": "159c7867-00e6-4fd4-8891-ac8c0a06764b"
      },
      "source": [
        "# soma das linhas da matriz\n",
        "arr2d.sum(axis=0)"
      ],
      "execution_count": 53,
      "outputs": [
        {
          "output_type": "execute_result",
          "data": {
            "text/plain": [
              "array([182, 175, 197, 269, 140])"
            ]
          },
          "metadata": {},
          "execution_count": 53
        }
      ]
    },
    {
      "cell_type": "code",
      "metadata": {
        "colab": {
          "base_uri": "https://localhost:8080/"
        },
        "id": "UstQd3jzH_41",
        "outputId": "5ccf9838-820e-4fab-9ea6-05aef519da9c"
      },
      "source": [
        "# soma das colunas da matriz\n",
        "arr2d.sum(axis=1)"
      ],
      "execution_count": 55,
      "outputs": [
        {
          "output_type": "execute_result",
          "data": {
            "text/plain": [
              "array([306, 206, 213, 238])"
            ]
          },
          "metadata": {},
          "execution_count": 55
        }
      ]
    },
    {
      "cell_type": "markdown",
      "metadata": {
        "id": "AQLYp3EIIc1L"
      },
      "source": [
        "## Slices"
      ]
    },
    {
      "cell_type": "code",
      "metadata": {
        "colab": {
          "base_uri": "https://localhost:8080/"
        },
        "id": "87WZ9uJmIPmu",
        "outputId": "f0743f33-ba08-4560-f557-48dd01b33465"
      },
      "source": [
        "# print\n",
        "arr1"
      ],
      "execution_count": 57,
      "outputs": [
        {
          "output_type": "execute_result",
          "data": {
            "text/plain": [
              "array([11, 31, 22, 21,  3])"
            ]
          },
          "metadata": {},
          "execution_count": 57
        }
      ]
    },
    {
      "cell_type": "code",
      "metadata": {
        "colab": {
          "base_uri": "https://localhost:8080/"
        },
        "id": "G8tXu_gTIm33",
        "outputId": "90e5dec6-9db8-411c-9db7-8078cb92c1fc"
      },
      "source": [
        "# fatiamento, pego de position 1 a 4 da matriz (o 4 não é inclusivo)\n",
        "arr1[1:4]"
      ],
      "execution_count": 59,
      "outputs": [
        {
          "output_type": "execute_result",
          "data": {
            "text/plain": [
              "array([31, 22, 21])"
            ]
          },
          "metadata": {},
          "execution_count": 59
        }
      ]
    },
    {
      "cell_type": "code",
      "metadata": {
        "id": "Sxe-GzpZIr9G"
      },
      "source": [
        "# aqui eu estou atribuindo 20 A TODOS OS NÚMEROS de 1 a 4\n",
        "arr1[1:4] = 20"
      ],
      "execution_count": 61,
      "outputs": []
    },
    {
      "cell_type": "code",
      "metadata": {
        "colab": {
          "base_uri": "https://localhost:8080/"
        },
        "id": "FPIgpdoCIz40",
        "outputId": "1d3a3e9a-0ecc-4cc7-ef81-440269cd846e"
      },
      "source": [
        "# print\n",
        "arr1"
      ],
      "execution_count": 62,
      "outputs": [
        {
          "output_type": "execute_result",
          "data": {
            "text/plain": [
              "array([11, 20, 20, 20,  3])"
            ]
          },
          "metadata": {},
          "execution_count": 62
        }
      ]
    },
    {
      "cell_type": "code",
      "metadata": {
        "colab": {
          "base_uri": "https://localhost:8080/"
        },
        "id": "AQlC7dLAI3-I",
        "outputId": "c74fa71e-4524-4e50-91a5-68c3ae53e3e7"
      },
      "source": [
        "# vou atribuir uma arange de 2 a 5, lembrando que o 5 não é inclusivo, a arr1[1:4], ou seja, todos os números de 1 a 4 da arr1 irão ser mudados assim.  (lembrando que o 4 não é inclusivo)\n",
        "\n",
        "arr1[1:4] = np.arange(2, 5)\n",
        "# print\n",
        "arr1"
      ],
      "execution_count": 63,
      "outputs": [
        {
          "output_type": "execute_result",
          "data": {
            "text/plain": [
              "array([11,  2,  3,  4,  3])"
            ]
          },
          "metadata": {},
          "execution_count": 63
        }
      ]
    },
    {
      "cell_type": "code",
      "metadata": {
        "colab": {
          "base_uri": "https://localhost:8080/"
        },
        "id": "8604e8V8JLpg",
        "outputId": "3855543a-e93b-4c30-fbf6-d8725b372204"
      },
      "source": [
        "# criação de matriz aleatória (random), de 1 a 50 (randint), com o shape(4,5)\n",
        "matrix = np.random.randint(1, 50, (4, 5))\n",
        "# print\n",
        "matrix"
      ],
      "execution_count": 64,
      "outputs": [
        {
          "output_type": "execute_result",
          "data": {
            "text/plain": [
              "array([[34, 23,  3, 21, 18],\n",
              "       [28, 36, 19, 23, 36],\n",
              "       [ 4, 30,  2, 26, 14],\n",
              "       [22, 32, 48, 10, 24]])"
            ]
          },
          "metadata": {},
          "execution_count": 64
        }
      ]
    },
    {
      "cell_type": "code",
      "metadata": {
        "colab": {
          "base_uri": "https://localhost:8080/"
        },
        "id": "HpJWZAC3JWiT",
        "outputId": "3901859e-1b67-4678-ead6-785397615fd6"
      },
      "source": [
        "# continuar\n",
        "matrix[:,2:]"
      ],
      "execution_count": null,
      "outputs": [
        {
          "output_type": "execute_result",
          "data": {
            "text/plain": [
              "array([[34, 29, 38],\n",
              "       [44, 35, 15],\n",
              "       [39, 45, 16],\n",
              "       [36, 34,  9]])"
            ]
          },
          "metadata": {
            "tags": []
          },
          "execution_count": 63
        }
      ]
    },
    {
      "cell_type": "code",
      "metadata": {
        "colab": {
          "base_uri": "https://localhost:8080/"
        },
        "id": "FdzLmJTBJmmp",
        "outputId": "118029ba-b157-490b-8ab1-e423186087e0"
      },
      "source": [
        "matrix[1:3, 1:3]"
      ],
      "execution_count": null,
      "outputs": [
        {
          "output_type": "execute_result",
          "data": {
            "text/plain": [
              "array([[45, 44],\n",
              "       [22, 39]])"
            ]
          },
          "metadata": {
            "tags": []
          },
          "execution_count": 64
        }
      ]
    },
    {
      "cell_type": "markdown",
      "metadata": {
        "id": "lMazzLCjJ3SI"
      },
      "source": [
        "## Conditional Selecting"
      ]
    },
    {
      "cell_type": "code",
      "metadata": {
        "colab": {
          "base_uri": "https://localhost:8080/"
        },
        "id": "jZWFbq0kJyv_",
        "outputId": "e4dd2121-2e60-435c-f4f6-a79a005691d2"
      },
      "source": [
        "arr1"
      ],
      "execution_count": null,
      "outputs": [
        {
          "output_type": "execute_result",
          "data": {
            "text/plain": [
              "array([45,  2,  3,  4, 28])"
            ]
          },
          "metadata": {
            "tags": []
          },
          "execution_count": 65
        }
      ]
    },
    {
      "cell_type": "code",
      "metadata": {
        "colab": {
          "base_uri": "https://localhost:8080/"
        },
        "id": "ZnTM2QxpJ8gn",
        "outputId": "061f18da-4728-4648-d7ba-895b5c365cd5"
      },
      "source": [
        "arr1[0]"
      ],
      "execution_count": null,
      "outputs": [
        {
          "output_type": "execute_result",
          "data": {
            "text/plain": [
              "45"
            ]
          },
          "metadata": {
            "tags": []
          },
          "execution_count": 66
        }
      ]
    },
    {
      "cell_type": "code",
      "metadata": {
        "colab": {
          "base_uri": "https://localhost:8080/"
        },
        "id": "NzXEw97vJ_Va",
        "outputId": "a441df03-90d1-4729-9e88-9af9788bc0d6"
      },
      "source": [
        "arr1[1:4]"
      ],
      "execution_count": null,
      "outputs": [
        {
          "output_type": "execute_result",
          "data": {
            "text/plain": [
              "array([2, 3, 4])"
            ]
          },
          "metadata": {
            "tags": []
          },
          "execution_count": 67
        }
      ]
    },
    {
      "cell_type": "code",
      "metadata": {
        "colab": {
          "base_uri": "https://localhost:8080/"
        },
        "id": "qI63rPP3KCfH",
        "outputId": "15ae11c6-c279-456c-bc5b-f1fd19967a73"
      },
      "source": [
        "arr1[[True, False, False, True, False]]"
      ],
      "execution_count": null,
      "outputs": [
        {
          "output_type": "execute_result",
          "data": {
            "text/plain": [
              "array([45,  4])"
            ]
          },
          "metadata": {
            "tags": []
          },
          "execution_count": 68
        }
      ]
    },
    {
      "cell_type": "code",
      "metadata": {
        "colab": {
          "base_uri": "https://localhost:8080/"
        },
        "id": "G7vZnO7xKNZD",
        "outputId": "f0e2a2af-7b37-4123-e5e7-0ad7e62abfca"
      },
      "source": [
        "arr1 < 10"
      ],
      "execution_count": null,
      "outputs": [
        {
          "output_type": "execute_result",
          "data": {
            "text/plain": [
              "array([False,  True,  True,  True, False])"
            ]
          },
          "metadata": {
            "tags": []
          },
          "execution_count": 69
        }
      ]
    },
    {
      "cell_type": "code",
      "metadata": {
        "colab": {
          "base_uri": "https://localhost:8080/"
        },
        "id": "Ou0pkq15KeuQ",
        "outputId": "a45abf2f-4036-461a-b8e5-30e4fa24ee35"
      },
      "source": [
        "arr1[arr1 < 10]"
      ],
      "execution_count": null,
      "outputs": [
        {
          "output_type": "execute_result",
          "data": {
            "text/plain": [
              "array([2, 3, 4])"
            ]
          },
          "metadata": {
            "tags": []
          },
          "execution_count": 70
        }
      ]
    }
  ]
}