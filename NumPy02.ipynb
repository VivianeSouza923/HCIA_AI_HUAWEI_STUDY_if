{
  "nbformat": 4,
  "nbformat_minor": 0,
  "metadata": {
    "colab": {
      "provenance": [],
      "include_colab_link": true
    },
    "kernelspec": {
      "name": "python3",
      "display_name": "Python 3"
    }
  },
  "cells": [
    {
      "cell_type": "markdown",
      "metadata": {
        "id": "view-in-github",
        "colab_type": "text"
      },
      "source": [
        "<a href=\"https://colab.research.google.com/github/VivianeSouza923/HCIA_AI_HUAWEI_STUDY_if/blob/main/NumPy02.ipynb\" target=\"_parent\"><img src=\"https://colab.research.google.com/assets/colab-badge.svg\" alt=\"Open In Colab\"/></a>"
      ]
    },
    {
      "cell_type": "markdown",
      "metadata": {
        "id": "6f39ug2h-Aok"
      },
      "source": [
        "# **Numpy**\n",
        "* Support for large, multi-dimensional arrays\n",
        "* Mathematical functions to operate on these arrays\n",
        "* All the values are from the same type\n",
        "* NumPy arrays use less memory than Python lists\n",
        "---\n",
        "## **Colab Shortcuts**\n",
        "* **CTRL+Space**: Auto complete\n",
        "* **CTRL+Shift+Space**: Documentation\n",
        "* **CTRL+Enter**: Run current cell\n",
        "* **Shift+Enter**: Run current cell and move focus to the next cell (adding one if none exists)\n",
        "* **Alt+Enter**: Run current cell and insert a new cell below it.\n",
        "---\n"
      ]
    },
    {
      "cell_type": "markdown",
      "metadata": {
        "id": "Nrzw1IH2BIag"
      },
      "source": [
        "## Creating Arrays"
      ]
    },
    {
      "cell_type": "code",
      "metadata": {
        "id": "Vj2TuS_89tI5"
      },
      "source": [
        "#importando a lib, óbvio\n",
        "import numpy as np"
      ],
      "execution_count": 2,
      "outputs": []
    },
    {
      "cell_type": "code",
      "metadata": {
        "colab": {
          "base_uri": "https://localhost:8080/"
        },
        "id": "nSimbc8c_tiS",
        "outputId": "b7d003c9-3fdc-4fd7-bec9-34ce6a5243d0"
      },
      "source": [
        "#criar uma array passando a linha logo como parâmetro\n",
        "# print arryay, só colocando o nome dela\n",
        "array1 = np.array([2, 4, 1])\n",
        "array1"
      ],
      "execution_count": 3,
      "outputs": [
        {
          "output_type": "execute_result",
          "data": {
            "text/plain": [
              "array([2, 4, 1])"
            ]
          },
          "metadata": {},
          "execution_count": 3
        }
      ]
    },
    {
      "cell_type": "code",
      "metadata": {
        "colab": {
          "base_uri": "https://localhost:8080/"
        },
        "id": "fMtV0e0c_44L",
        "outputId": "11ebacc4-85dc-413d-a2ed-1f4753c54fd3"
      },
      "source": [
        "#quero saber o tipo da array\n",
        "type(array1) # n-dimensional array"
      ],
      "execution_count": 4,
      "outputs": [
        {
          "output_type": "execute_result",
          "data": {
            "text/plain": [
              "numpy.ndarray"
            ]
          },
          "metadata": {},
          "execution_count": 4
        }
      ]
    },
    {
      "cell_type": "code",
      "metadata": {
        "colab": {
          "base_uri": "https://localhost:8080/"
        },
        "id": "L3U_11YUAAgG",
        "outputId": "fd4f7911-06bf-414c-f79a-3758d1dfdfad"
      },
      "source": [
        "# tipo?\n",
        "type([2, 4, 1])"
      ],
      "execution_count": 5,
      "outputs": [
        {
          "output_type": "execute_result",
          "data": {
            "text/plain": [
              "list"
            ]
          },
          "metadata": {},
          "execution_count": 5
        }
      ]
    },
    {
      "cell_type": "code",
      "metadata": {
        "colab": {
          "base_uri": "https://localhost:8080/"
        },
        "id": "yGHcP-j3ADdo",
        "outputId": "557321c6-0cdc-4eb1-b90d-856fa6d8629e"
      },
      "source": [
        "#criar uma array de 2 rows - dai você só separa as linhas (dentro de colchetes, óbvio) por vírgula ---> \n",
        "#np.array(([ar[linha1], [linha2]ray]))\n",
        "matrix = np.array([[1, 4, 2], [7, 4, 2]])\n",
        "#print (só colocar o nome e nada mais é obrigatório)\n",
        "matrix"
      ],
      "execution_count": 6,
      "outputs": [
        {
          "output_type": "execute_result",
          "data": {
            "text/plain": [
              "array([[1, 4, 2],\n",
              "       [7, 4, 2]])"
            ]
          },
          "metadata": {},
          "execution_count": 6
        }
      ]
    },
    {
      "cell_type": "code",
      "source": [
        "# tipo?\n",
        "type(matrix)"
      ],
      "metadata": {
        "colab": {
          "base_uri": "https://localhost:8080/"
        },
        "id": "p-GKHLEf-8_4",
        "outputId": "ada6df1b-f8b5-4d84-f0ce-8221a3d76149"
      },
      "execution_count": 7,
      "outputs": [
        {
          "output_type": "execute_result",
          "data": {
            "text/plain": [
              "numpy.ndarray"
            ]
          },
          "metadata": {},
          "execution_count": 7
        }
      ]
    },
    {
      "cell_type": "code",
      "metadata": {
        "colab": {
          "base_uri": "https://localhost:8080/"
        },
        "id": "IjX61LaMATNE",
        "outputId": "c0214f84-41af-4b41-cad4-4439df0379fd"
      },
      "source": [
        "#mostra a linha 1 da matriz?\n",
        "#nome_da_matriz[posição]\n",
        "matrix[1]"
      ],
      "execution_count": 8,
      "outputs": [
        {
          "output_type": "execute_result",
          "data": {
            "text/plain": [
              "array([7, 4, 2])"
            ]
          },
          "metadata": {},
          "execution_count": 8
        }
      ]
    },
    {
      "cell_type": "code",
      "metadata": {
        "colab": {
          "base_uri": "https://localhost:8080/"
        },
        "id": "vE4PjtnBAbC4",
        "outputId": "b29de107-de77-451a-e537-55739404c49c"
      },
      "source": [
        "#quem está na posição 0 da linha 1?\n",
        "#nome_da_matriz[posição da linha][posição da coluna]\n",
        "matrix[1][0]"
      ],
      "execution_count": 9,
      "outputs": [
        {
          "output_type": "execute_result",
          "data": {
            "text/plain": [
              "7"
            ]
          },
          "metadata": {},
          "execution_count": 9
        }
      ]
    },
    {
      "cell_type": "code",
      "metadata": {
        "colab": {
          "base_uri": "https://localhost:8080/"
        },
        "id": "ZSE_GDSWAhRy",
        "outputId": "a30ac0ad-6839-4da8-b59b-e8c0ca3332e3"
      },
      "source": [
        "# mesma coisa da célula anterior, só que de outro jeitinho\n",
        "matrix[1, 0]"
      ],
      "execution_count": 10,
      "outputs": [
        {
          "output_type": "execute_result",
          "data": {
            "text/plain": [
              "7"
            ]
          },
          "metadata": {},
          "execution_count": 10
        }
      ]
    },
    {
      "cell_type": "code",
      "metadata": {
        "colab": {
          "base_uri": "https://localhost:8080/"
        },
        "id": "vgV5Hf0EAlLc",
        "outputId": "f80f3b0d-40bc-4b9a-e3bf-71352bfff543"
      },
      "source": [
        "# cria uma matriz através da arange (dai tu passa o ínicio e o fim como parâmetros, lembrando que começa em zero, logo o fim fica n-1)\n",
        "# matrizNova = np.arange(initial_position, final_position)\n",
        "array2 = np.arange(1, 10) # array range\n",
        "#print\n",
        "array2"
      ],
      "execution_count": 11,
      "outputs": [
        {
          "output_type": "execute_result",
          "data": {
            "text/plain": [
              "array([1, 2, 3, 4, 5, 6, 7, 8, 9])"
            ]
          },
          "metadata": {},
          "execution_count": 11
        }
      ]
    },
    {
      "cell_type": "code",
      "metadata": {
        "colab": {
          "base_uri": "https://localhost:8080/"
        },
        "id": "UQ7ANuV9A53I",
        "outputId": "c0032432-eb5b-41bf-910d-6ca4bf52801d"
      },
      "source": [
        "# cria uma array de 5 a 54, espaçado de 5\n",
        "#np.arange(initial_position, final_position, espaçamento)\n",
        "np.arange(5, 54, 5)"
      ],
      "execution_count": 12,
      "outputs": [
        {
          "output_type": "execute_result",
          "data": {
            "text/plain": [
              "array([ 5, 10, 15, 20, 25, 30, 35, 40, 45, 50])"
            ]
          },
          "metadata": {},
          "execution_count": 12
        }
      ]
    },
    {
      "cell_type": "code",
      "metadata": {
        "colab": {
          "base_uri": "https://localhost:8080/"
        },
        "id": "MFtxuDt8BCSs",
        "outputId": "96e97e2b-f667-4042-d863-19fa24ab21f0"
      },
      "source": [
        "#mesma lógica da célula anterior\n",
        "np.arange(1, 10, 3)"
      ],
      "execution_count": 13,
      "outputs": [
        {
          "output_type": "execute_result",
          "data": {
            "text/plain": [
              "array([1, 4, 7])"
            ]
          },
          "metadata": {},
          "execution_count": 13
        }
      ]
    },
    {
      "cell_type": "code",
      "metadata": {
        "colab": {
          "base_uri": "https://localhost:8080/"
        },
        "id": "LV1i7rvQBcmT",
        "outputId": "f8202475-cafe-4b95-e244-61204c6529ca"
      },
      "source": [
        "#matriz de zeros: \n",
        "#matriz_zeros = np.zeros(quantidade)\n",
        "zeros1d = np.zeros(5)\n",
        "#print\n",
        "zeros1d"
      ],
      "execution_count": 14,
      "outputs": [
        {
          "output_type": "execute_result",
          "data": {
            "text/plain": [
              "array([0., 0., 0., 0., 0.])"
            ]
          },
          "metadata": {},
          "execution_count": 14
        }
      ]
    },
    {
      "cell_type": "code",
      "source": [
        "#matriz de zeros de 2 dimensões\n",
        "#np.zeros((x,y)) ou np.zeros([x,y])\n",
        "np.zeros((2,3))"
      ],
      "metadata": {
        "colab": {
          "base_uri": "https://localhost:8080/"
        },
        "id": "Qed0NwtGEowV",
        "outputId": "2b04e91c-0fbe-46e8-d5f7-ca64f6c7c5fa"
      },
      "execution_count": 15,
      "outputs": [
        {
          "output_type": "execute_result",
          "data": {
            "text/plain": [
              "array([[0., 0., 0.],\n",
              "       [0., 0., 0.]])"
            ]
          },
          "metadata": {},
          "execution_count": 15
        }
      ]
    },
    {
      "cell_type": "code",
      "metadata": {
        "colab": {
          "base_uri": "https://localhost:8080/"
        },
        "id": "UQDtmvpbBjfl",
        "outputId": "5d46dcb5-0319-4078-9bcf-f3072a38801d"
      },
      "source": [
        "#matriz de 1's\n",
        "#siga a mesma lógica da matriz de zeros\n",
        "np.ones(6)"
      ],
      "execution_count": 16,
      "outputs": [
        {
          "output_type": "execute_result",
          "data": {
            "text/plain": [
              "array([1., 1., 1., 1., 1., 1.])"
            ]
          },
          "metadata": {},
          "execution_count": 16
        }
      ]
    },
    {
      "cell_type": "code",
      "metadata": {
        "colab": {
          "base_uri": "https://localhost:8080/"
        },
        "id": "kI6LV041BmND",
        "outputId": "0b0409f5-4e03-40e5-d8b3-7bd0d2cb3847"
      },
      "source": [
        "#matriz de zeros de 2 dimensões\n",
        "#siga a mesma lógica da matriz de zeros\n",
        "np.ones((3, 4))"
      ],
      "execution_count": 17,
      "outputs": [
        {
          "output_type": "execute_result",
          "data": {
            "text/plain": [
              "array([[1., 1., 1., 1.],\n",
              "       [1., 1., 1., 1.],\n",
              "       [1., 1., 1., 1.]])"
            ]
          },
          "metadata": {},
          "execution_count": 17
        }
      ]
    },
    {
      "cell_type": "code",
      "metadata": {
        "colab": {
          "base_uri": "https://localhost:8080/"
        },
        "id": "3R-SdLXKB5Zk",
        "outputId": "737deb09-9d3a-4f8e-ec28-d15874b0fdaa"
      },
      "source": [
        "# cria uma matriz identidade\n",
        "#np.eye(ordem)\n",
        "np.eye(6)"
      ],
      "execution_count": 18,
      "outputs": [
        {
          "output_type": "execute_result",
          "data": {
            "text/plain": [
              "array([[1., 0., 0., 0., 0., 0.],\n",
              "       [0., 1., 0., 0., 0., 0.],\n",
              "       [0., 0., 1., 0., 0., 0.],\n",
              "       [0., 0., 0., 1., 0., 0.],\n",
              "       [0., 0., 0., 0., 1., 0.],\n",
              "       [0., 0., 0., 0., 0., 1.]])"
            ]
          },
          "metadata": {},
          "execution_count": 18
        }
      ]
    },
    {
      "cell_type": "code",
      "metadata": {
        "colab": {
          "base_uri": "https://localhost:8080/"
        },
        "id": "XveYRqOUCEZ7",
        "outputId": "2b8443dd-2aca-4558-ecee-b824ca2f19a2"
      },
      "source": [
        "# vai retornar 5 números, EQUIESPAÇADOS, de 1 a 10.\n",
        "#np.linspace(initial_position, final_position, quantidade_de_elementos)\n",
        "arr1 = np.linspace(1, 10, 5)\n",
        "arr1"
      ],
      "execution_count": 19,
      "outputs": [
        {
          "output_type": "execute_result",
          "data": {
            "text/plain": [
              "array([ 1.  ,  3.25,  5.5 ,  7.75, 10.  ])"
            ]
          },
          "metadata": {},
          "execution_count": 19
        }
      ]
    },
    {
      "cell_type": "code",
      "metadata": {
        "colab": {
          "base_uri": "https://localhost:8080/"
        },
        "id": "1ngRaW2FCa0H",
        "outputId": "27add89f-48bc-46fd-86d0-ec8447df0dcb"
      },
      "source": [
        "# mais um exemplo:\n",
        "np.linspace(1, 11, 7)"
      ],
      "execution_count": 20,
      "outputs": [
        {
          "output_type": "execute_result",
          "data": {
            "text/plain": [
              "array([ 1.        ,  2.66666667,  4.33333333,  6.        ,  7.66666667,\n",
              "        9.33333333, 11.        ])"
            ]
          },
          "metadata": {},
          "execution_count": 20
        }
      ]
    },
    {
      "cell_type": "code",
      "metadata": {
        "colab": {
          "base_uri": "https://localhost:8080/"
        },
        "id": "T-wy3LUyDPFh",
        "outputId": "07164b71-f9a2-4fc2-9deb-8061e6ec670c"
      },
      "source": [
        "#criação de array:\n",
        "#np.random.rand(quantidade de elementos)\n",
        "#rand - números aleatórios entre 0 e 1 (0 - inclusivo e 1 - exclusivo)\n",
        "np.random.rand(5)"
      ],
      "execution_count": 21,
      "outputs": [
        {
          "output_type": "execute_result",
          "data": {
            "text/plain": [
              "array([0.40092049, 0.28418972, 0.95242044, 0.57793309, 0.41486807])"
            ]
          },
          "metadata": {},
          "execution_count": 21
        }
      ]
    },
    {
      "cell_type": "code",
      "metadata": {
        "colab": {
          "base_uri": "https://localhost:8080/"
        },
        "id": "D2dviXarC-xu",
        "outputId": "2ffa0eea-636d-4238-dc15-7a88f2398ad7"
      },
      "source": [
        "# np.random.rand(linha, coluna) - criação de array\n",
        "random_array = np.random.rand(2, 3)\n",
        "# print\n",
        "random_array"
      ],
      "execution_count": 22,
      "outputs": [
        {
          "output_type": "execute_result",
          "data": {
            "text/plain": [
              "array([[0.67777481, 0.39213222, 0.18975996],\n",
              "       [0.78384566, 0.3358372 , 0.01637879]])"
            ]
          },
          "metadata": {},
          "execution_count": 22
        }
      ]
    },
    {
      "cell_type": "code",
      "metadata": {
        "colab": {
          "base_uri": "https://localhost:8080/"
        },
        "id": "rvXx12JaDLgV",
        "outputId": "503e7b29-37dc-49f2-9dd3-ce76861c3b17"
      },
      "source": [
        "#Distribuição normal padrão com média zero e desvio padrão igual a um, isso quer dizer que terá também números negativos\n",
        "np.random.randn(4)"
      ],
      "execution_count": 23,
      "outputs": [
        {
          "output_type": "execute_result",
          "data": {
            "text/plain": [
              "array([-0.4056303 , -1.27232447, -0.23728187, -0.73679669])"
            ]
          },
          "metadata": {},
          "execution_count": 23
        }
      ]
    },
    {
      "cell_type": "code",
      "metadata": {
        "colab": {
          "base_uri": "https://localhost:8080/"
        },
        "id": "uHfBZNBjDkhO",
        "outputId": "3b0301a7-cf9c-4e29-eb22-d54ce05d7025"
      },
      "source": [
        "# faz um sorteio de acordo com os parâmetros passados\n",
        "# o número sorteado vai ser dentro do grupo de 2 a 50 - número aleatório será sorteado\n",
        "np.random.randint(2, 50)"
      ],
      "execution_count": 24,
      "outputs": [
        {
          "output_type": "execute_result",
          "data": {
            "text/plain": [
              "20"
            ]
          },
          "metadata": {},
          "execution_count": 24
        }
      ]
    },
    {
      "cell_type": "code",
      "metadata": {
        "colab": {
          "base_uri": "https://localhost:8080/"
        },
        "id": "AtuCVqM6D4Ci",
        "outputId": "5809e439-41fe-4e44-f660-eee1a9def242"
      },
      "source": [
        "#criando uma matriz aleatória através do randint\n",
        "#np.random.randint(inicio, fim, (shape))\n",
        "np.random.randint(2, 50, (4, 2))"
      ],
      "execution_count": 25,
      "outputs": [
        {
          "output_type": "execute_result",
          "data": {
            "text/plain": [
              "array([[29, 20],\n",
              "       [45, 17],\n",
              "       [31, 15],\n",
              "       [49, 18]])"
            ]
          },
          "metadata": {},
          "execution_count": 25
        }
      ]
    },
    {
      "cell_type": "code",
      "metadata": {
        "colab": {
          "base_uri": "https://localhost:8080/"
        },
        "id": "Rgce3cfWEHZb",
        "outputId": "7041a3f9-b13e-439c-c44c-83eb5484cebc"
      },
      "source": [
        "# shape da arr1\n",
        "arr1.shape"
      ],
      "execution_count": 26,
      "outputs": [
        {
          "output_type": "execute_result",
          "data": {
            "text/plain": [
              "(5,)"
            ]
          },
          "metadata": {},
          "execution_count": 26
        }
      ]
    },
    {
      "cell_type": "code",
      "metadata": {
        "colab": {
          "base_uri": "https://localhost:8080/"
        },
        "id": "NJO2UHB-EWqF",
        "outputId": "2350bcf4-a744-4547-cab9-cc4bf46438e3"
      },
      "source": [
        "# shape da matrix\n",
        "matrix.shape"
      ],
      "execution_count": 27,
      "outputs": [
        {
          "output_type": "execute_result",
          "data": {
            "text/plain": [
              "(2, 3)"
            ]
          },
          "metadata": {},
          "execution_count": 27
        }
      ]
    },
    {
      "cell_type": "code",
      "metadata": {
        "colab": {
          "base_uri": "https://localhost:8080/"
        },
        "id": "ru31gzZWEaeM",
        "outputId": "02dcc07f-602e-4030-80c6-29fed33f3914"
      },
      "source": [
        "# print\n",
        "matrix"
      ],
      "execution_count": 28,
      "outputs": [
        {
          "output_type": "execute_result",
          "data": {
            "text/plain": [
              "array([[1, 4, 2],\n",
              "       [7, 4, 2]])"
            ]
          },
          "metadata": {},
          "execution_count": 28
        }
      ]
    },
    {
      "cell_type": "code",
      "metadata": {
        "colab": {
          "base_uri": "https://localhost:8080/"
        },
        "id": "HRzChdA9Einh",
        "outputId": "8e6ce65b-55a0-4007-beaf-3234cc50e06b"
      },
      "source": [
        "#a matriz era (2,3), lembra? então, 3*2=2*3=6, logo tem a mesma quantidade de elementos\n",
        "matrix.reshape(3, 2) # tem que ter a mesma quantidade de elementos"
      ],
      "execution_count": 29,
      "outputs": [
        {
          "output_type": "execute_result",
          "data": {
            "text/plain": [
              "array([[1, 4],\n",
              "       [2, 7],\n",
              "       [4, 2]])"
            ]
          },
          "metadata": {},
          "execution_count": 29
        }
      ]
    },
    {
      "cell_type": "markdown",
      "metadata": {
        "id": "faRIBsn-E86y"
      },
      "source": [
        "## Operations"
      ]
    },
    {
      "cell_type": "code",
      "metadata": {
        "colab": {
          "base_uri": "https://localhost:8080/"
        },
        "id": "Le_hGqc8E5xD",
        "outputId": "9e93871f-7c02-43c9-ea10-a5416724be45"
      },
      "source": [
        "# print\n",
        "arr1"
      ],
      "execution_count": 30,
      "outputs": [
        {
          "output_type": "execute_result",
          "data": {
            "text/plain": [
              "array([ 1.  ,  3.25,  5.5 ,  7.75, 10.  ])"
            ]
          },
          "metadata": {},
          "execution_count": 30
        }
      ]
    },
    {
      "cell_type": "code",
      "metadata": {
        "colab": {
          "base_uri": "https://localhost:8080/"
        },
        "id": "JsyrJ2l8FCaz",
        "outputId": "a3af7964-c4b3-4013-e805-e8c1ec18a244"
      },
      "source": [
        "# qual o maior número dentro da array?\n",
        "arr1.max()"
      ],
      "execution_count": 31,
      "outputs": [
        {
          "output_type": "execute_result",
          "data": {
            "text/plain": [
              "10.0"
            ]
          },
          "metadata": {},
          "execution_count": 31
        }
      ]
    },
    {
      "cell_type": "code",
      "metadata": {
        "colab": {
          "base_uri": "https://localhost:8080/"
        },
        "id": "x0t-6zTmFF9g",
        "outputId": "68b644b8-61e8-4060-bb1f-014dfd9a45a0"
      },
      "source": [
        "# qual a posição do maior número dentro da array?\n",
        "arr1.argmax()"
      ],
      "execution_count": 32,
      "outputs": [
        {
          "output_type": "execute_result",
          "data": {
            "text/plain": [
              "4"
            ]
          },
          "metadata": {},
          "execution_count": 32
        }
      ]
    },
    {
      "cell_type": "code",
      "metadata": {
        "colab": {
          "base_uri": "https://localhost:8080/"
        },
        "id": "xKFZTHKyFMKh",
        "outputId": "82122e6b-199e-4c59-cf3e-c527ef29c656"
      },
      "source": [
        "# média dos números dentro da array?\n",
        "\n",
        "arr1.mean()"
      ],
      "execution_count": 33,
      "outputs": [
        {
          "output_type": "execute_result",
          "data": {
            "text/plain": [
              "5.5"
            ]
          },
          "metadata": {},
          "execution_count": 33
        }
      ]
    },
    {
      "cell_type": "code",
      "metadata": {
        "colab": {
          "base_uri": "https://localhost:8080/"
        },
        "id": "YSb3l6k1FUKQ",
        "outputId": "6d9aecd7-9ab7-4011-c827-fb7fda0f75b4"
      },
      "source": [
        "# array + 2, se estudou álgebra, sabe que cada elemento dessa array será acrescido em 2\n",
        "arr1 + 2"
      ],
      "execution_count": 34,
      "outputs": [
        {
          "output_type": "execute_result",
          "data": {
            "text/plain": [
              "array([ 3.  ,  5.25,  7.5 ,  9.75, 12.  ])"
            ]
          },
          "metadata": {},
          "execution_count": 34
        }
      ]
    },
    {
      "cell_type": "code",
      "metadata": {
        "colab": {
          "base_uri": "https://localhost:8080/"
        },
        "id": "8WJKZ4u-FeVR",
        "outputId": "bbb13436-571a-4043-d856-9499b18dd40a"
      },
      "source": [
        "#array * 3, se estudou álgebra, sabe que cada elemento dessa array será multiplicado por 3\n",
        "arr1 * 3"
      ],
      "execution_count": 35,
      "outputs": [
        {
          "output_type": "execute_result",
          "data": {
            "text/plain": [
              "array([ 3.  ,  9.75, 16.5 , 23.25, 30.  ])"
            ]
          },
          "metadata": {},
          "execution_count": 35
        }
      ]
    },
    {
      "cell_type": "code",
      "metadata": {
        "id": "F_LfQ88dFjI0"
      },
      "source": [
        "#  5 números aleatórios entre 2 e 50 serão sorteados para montar uma array\n",
        "arr1 = np.random.randint(2, 50, 5)"
      ],
      "execution_count": 36,
      "outputs": []
    },
    {
      "cell_type": "code",
      "metadata": {
        "id": "i0joCVR9FuId"
      },
      "source": [
        "# mesma lógica da célula anterior, só que com números diferentes\n",
        "arr2 = np.random.randint(5, 60, 5)"
      ],
      "execution_count": 37,
      "outputs": []
    },
    {
      "cell_type": "code",
      "metadata": {
        "colab": {
          "base_uri": "https://localhost:8080/"
        },
        "id": "gugdAPnOFzec",
        "outputId": "41628222-cfa4-4b74-fac2-6a81e5adcfdd"
      },
      "source": [
        "#print\n",
        "arr1"
      ],
      "execution_count": 38,
      "outputs": [
        {
          "output_type": "execute_result",
          "data": {
            "text/plain": [
              "array([ 5, 29,  9, 35, 10])"
            ]
          },
          "metadata": {},
          "execution_count": 38
        }
      ]
    },
    {
      "cell_type": "code",
      "metadata": {
        "colab": {
          "base_uri": "https://localhost:8080/"
        },
        "id": "Ak1uYZPwF0JA",
        "outputId": "d8ca8e27-ba1a-42a2-a73e-2604ecc101dd"
      },
      "source": [
        "#print\n",
        "arr2"
      ],
      "execution_count": 39,
      "outputs": [
        {
          "output_type": "execute_result",
          "data": {
            "text/plain": [
              "array([33, 40, 58, 57, 19])"
            ]
          },
          "metadata": {},
          "execution_count": 39
        }
      ]
    },
    {
      "cell_type": "code",
      "metadata": {
        "colab": {
          "base_uri": "https://localhost:8080/"
        },
        "id": "Ix0YTmmNF1zU",
        "outputId": "4b5c8fbd-9f44-43a7-eebc-e8a9e2e44748"
      },
      "source": [
        "# multiplicação de arrays\n",
        "arr1 * arr2"
      ],
      "execution_count": 40,
      "outputs": [
        {
          "output_type": "execute_result",
          "data": {
            "text/plain": [
              "array([ 165, 1160,  522, 1995,  190])"
            ]
          },
          "metadata": {},
          "execution_count": 40
        }
      ]
    },
    {
      "cell_type": "code",
      "metadata": {
        "colab": {
          "base_uri": "https://localhost:8080/"
        },
        "id": "qQdPkMvsF8WB",
        "outputId": "eb2e0bce-86a2-4d7a-a547-eed17bbc1324"
      },
      "source": [
        "# quadrado da array:\n",
        "arr1 ** 2"
      ],
      "execution_count": 41,
      "outputs": [
        {
          "output_type": "execute_result",
          "data": {
            "text/plain": [
              "array([  25,  841,   81, 1225,  100])"
            ]
          },
          "metadata": {},
          "execution_count": 41
        }
      ]
    },
    {
      "cell_type": "code",
      "metadata": {
        "colab": {
          "base_uri": "https://localhost:8080/"
        },
        "id": "2VABG4CtGE9q",
        "outputId": "005e7217-571c-4f9a-e8f4-bac3c6b0e116"
      },
      "source": [
        "#raiz quadrada da array\n",
        "np.sqrt(arr1)"
      ],
      "execution_count": 42,
      "outputs": [
        {
          "output_type": "execute_result",
          "data": {
            "text/plain": [
              "array([2.23606798, 5.38516481, 3.        , 5.91607978, 3.16227766])"
            ]
          },
          "metadata": {},
          "execution_count": 42
        }
      ]
    },
    {
      "cell_type": "code",
      "metadata": {
        "colab": {
          "base_uri": "https://localhost:8080/"
        },
        "id": "fRDwjaLDGO3u",
        "outputId": "6173a2c9-5a2b-4c69-9ae7-787f5f3b9eaa"
      },
      "source": [
        "# soma dos elementos da array\n",
        "np.sum(arr1)"
      ],
      "execution_count": 43,
      "outputs": [
        {
          "output_type": "execute_result",
          "data": {
            "text/plain": [
              "88"
            ]
          },
          "metadata": {},
          "execution_count": 43
        }
      ]
    },
    {
      "cell_type": "code",
      "metadata": {
        "colab": {
          "base_uri": "https://localhost:8080/"
        },
        "id": "1BKsDYCkGWMS",
        "outputId": "f2a59b5d-3ce7-4c13-c308-cecf7d023aea"
      },
      "source": [
        "# print\n",
        "matrix"
      ],
      "execution_count": 44,
      "outputs": [
        {
          "output_type": "execute_result",
          "data": {
            "text/plain": [
              "array([[1, 4, 2],\n",
              "       [7, 4, 2]])"
            ]
          },
          "metadata": {},
          "execution_count": 44
        }
      ]
    },
    {
      "cell_type": "code",
      "metadata": {
        "colab": {
          "base_uri": "https://localhost:8080/"
        },
        "id": "oCWEIvfYGiGj",
        "outputId": "3a7c2fa4-517f-4b02-dd80-7c269033b2e8"
      },
      "source": [
        "# montando uma array passando todos os elementos, separados por linhas já\n",
        "matrix2 = np.array([[1, 2, 3, 4], [2, 3, 4, 5], [5, 6, 7, 8]])\n",
        "# print\n",
        "matrix2"
      ],
      "execution_count": 45,
      "outputs": [
        {
          "output_type": "execute_result",
          "data": {
            "text/plain": [
              "array([[1, 2, 3, 4],\n",
              "       [2, 3, 4, 5],\n",
              "       [5, 6, 7, 8]])"
            ]
          },
          "metadata": {},
          "execution_count": 45
        }
      ]
    },
    {
      "cell_type": "code",
      "metadata": {
        "colab": {
          "base_uri": "https://localhost:8080/"
        },
        "id": "w5PohrF8GuLS",
        "outputId": "bba0ee50-36bb-4ae7-d949-b91c524dd60e"
      },
      "source": [
        "# shape da matriz\n",
        "matrix.shape"
      ],
      "execution_count": 46,
      "outputs": [
        {
          "output_type": "execute_result",
          "data": {
            "text/plain": [
              "(2, 3)"
            ]
          },
          "metadata": {},
          "execution_count": 46
        }
      ]
    },
    {
      "cell_type": "code",
      "metadata": {
        "colab": {
          "base_uri": "https://localhost:8080/"
        },
        "id": "0yU0762oGvR0",
        "outputId": "f9dd0312-08be-457d-ed7b-27dfcccb22dc"
      },
      "source": [
        "# shape da matriz\n",
        "matrix2.shape"
      ],
      "execution_count": 47,
      "outputs": [
        {
          "output_type": "execute_result",
          "data": {
            "text/plain": [
              "(3, 4)"
            ]
          },
          "metadata": {},
          "execution_count": 47
        }
      ]
    },
    {
      "cell_type": "code",
      "metadata": {
        "colab": {
          "base_uri": "https://localhost:8080/"
        },
        "id": "gESRiEZSG3Hy",
        "outputId": "638ab0e1-982f-454e-d1c4-1d734bd1dd90"
      },
      "source": [
        "# multiplicação de matrizes\n",
        "result = np.matmul(matrix, matrix2)\n",
        "# print\n",
        "result"
      ],
      "execution_count": 48,
      "outputs": [
        {
          "output_type": "execute_result",
          "data": {
            "text/plain": [
              "array([[19, 26, 33, 40],\n",
              "       [25, 38, 51, 64]])"
            ]
          },
          "metadata": {},
          "execution_count": 48
        }
      ]
    },
    {
      "cell_type": "code",
      "metadata": {
        "colab": {
          "base_uri": "https://localhost:8080/"
        },
        "id": "7UpwZOyPHBUP",
        "outputId": "9c384c6d-c7b1-4122-e9d6-babba497f2d4"
      },
      "source": [
        "# shape da matriz\n",
        "result.shape"
      ],
      "execution_count": 49,
      "outputs": [
        {
          "output_type": "execute_result",
          "data": {
            "text/plain": [
              "(2, 4)"
            ]
          },
          "metadata": {},
          "execution_count": 49
        }
      ]
    },
    {
      "cell_type": "code",
      "metadata": {
        "colab": {
          "base_uri": "https://localhost:8080/"
        },
        "id": "fazpYGIpHEcU",
        "outputId": "f500f7e4-f35d-4340-e5a6-8602ea6b48d5"
      },
      "source": [
        "# criação de matriz aleatória, através de sorteio (entre 1 e 100), com o shape (4,5)\n",
        "arr2d = np.random.randint(1, 100, (4, 5))\n",
        "# print\n",
        "arr2d"
      ],
      "execution_count": 50,
      "outputs": [
        {
          "output_type": "execute_result",
          "data": {
            "text/plain": [
              "array([[17, 21, 32,  9, 88],\n",
              "       [43, 43, 75, 88, 52],\n",
              "       [51, 55, 41, 24, 93],\n",
              "       [84, 97, 45, 90, 60]])"
            ]
          },
          "metadata": {},
          "execution_count": 50
        }
      ]
    },
    {
      "cell_type": "code",
      "metadata": {
        "colab": {
          "base_uri": "https://localhost:8080/"
        },
        "id": "OToQ3oxWHV0E",
        "outputId": "081e9773-d8d9-400e-93d8-4e1f7b7d33fa"
      },
      "source": [
        "# soma dos elementos da matriz\n",
        "arr2d.sum()"
      ],
      "execution_count": 51,
      "outputs": [
        {
          "output_type": "execute_result",
          "data": {
            "text/plain": [
              "1108"
            ]
          },
          "metadata": {},
          "execution_count": 51
        }
      ]
    },
    {
      "cell_type": "code",
      "metadata": {
        "colab": {
          "base_uri": "https://localhost:8080/"
        },
        "id": "w5_i8TUKHcq1",
        "outputId": "6da1a75c-cf26-4ba0-abc0-6ebb220848ab"
      },
      "source": [
        "# soma das linhas da matriz\n",
        "arr2d.sum(axis=0)"
      ],
      "execution_count": 52,
      "outputs": [
        {
          "output_type": "execute_result",
          "data": {
            "text/plain": [
              "array([195, 216, 193, 211, 293])"
            ]
          },
          "metadata": {},
          "execution_count": 52
        }
      ]
    },
    {
      "cell_type": "code",
      "metadata": {
        "colab": {
          "base_uri": "https://localhost:8080/"
        },
        "id": "UstQd3jzH_41",
        "outputId": "d08fc7ab-dd41-45a6-b516-9ec526304667"
      },
      "source": [
        "# soma das colunas da matriz\n",
        "arr2d.sum(axis=1)"
      ],
      "execution_count": 53,
      "outputs": [
        {
          "output_type": "execute_result",
          "data": {
            "text/plain": [
              "array([167, 301, 264, 376])"
            ]
          },
          "metadata": {},
          "execution_count": 53
        }
      ]
    },
    {
      "cell_type": "markdown",
      "metadata": {
        "id": "AQLYp3EIIc1L"
      },
      "source": [
        "## Slices"
      ]
    },
    {
      "cell_type": "code",
      "metadata": {
        "colab": {
          "base_uri": "https://localhost:8080/"
        },
        "id": "87WZ9uJmIPmu",
        "outputId": "de0a4cf7-f093-4225-b5f7-ad16a3f33054"
      },
      "source": [
        "# print\n",
        "arr1"
      ],
      "execution_count": 54,
      "outputs": [
        {
          "output_type": "execute_result",
          "data": {
            "text/plain": [
              "array([ 5, 29,  9, 35, 10])"
            ]
          },
          "metadata": {},
          "execution_count": 54
        }
      ]
    },
    {
      "cell_type": "code",
      "metadata": {
        "colab": {
          "base_uri": "https://localhost:8080/"
        },
        "id": "G8tXu_gTIm33",
        "outputId": "c62bdb36-e688-4e78-b22e-a7143c5f3c9f"
      },
      "source": [
        "# fatiamento, pego de position 1 a 4 da matriz (o 4 não é inclusivo)\n",
        "arr1[1:4]"
      ],
      "execution_count": 55,
      "outputs": [
        {
          "output_type": "execute_result",
          "data": {
            "text/plain": [
              "array([29,  9, 35])"
            ]
          },
          "metadata": {},
          "execution_count": 55
        }
      ]
    },
    {
      "cell_type": "code",
      "metadata": {
        "id": "Sxe-GzpZIr9G"
      },
      "source": [
        "# aqui eu estou atribuindo 20 A TODOS OS NÚMEROS de 1 a 4\n",
        "arr1[1:4] = 20"
      ],
      "execution_count": 56,
      "outputs": []
    },
    {
      "cell_type": "code",
      "metadata": {
        "colab": {
          "base_uri": "https://localhost:8080/"
        },
        "id": "FPIgpdoCIz40",
        "outputId": "11289404-615f-4042-c17c-7f078089bffa"
      },
      "source": [
        "# print\n",
        "arr1"
      ],
      "execution_count": 57,
      "outputs": [
        {
          "output_type": "execute_result",
          "data": {
            "text/plain": [
              "array([ 5, 20, 20, 20, 10])"
            ]
          },
          "metadata": {},
          "execution_count": 57
        }
      ]
    },
    {
      "cell_type": "code",
      "metadata": {
        "colab": {
          "base_uri": "https://localhost:8080/"
        },
        "id": "AQlC7dLAI3-I",
        "outputId": "f8165df2-0ee4-47b9-c873-fdd26d7d6474"
      },
      "source": [
        "# vou atribuir uma arange de 2 a 5, lembrando que o 5 não é inclusivo, a arr1[1:4], ou seja, todos os números de 1 a 4 da arr1 irão ser mudados assim.  (lembrando que o 4 não é inclusivo)\n",
        "\n",
        "arr1[1:4] = np.arange(2, 5)\n",
        "# print\n",
        "arr1"
      ],
      "execution_count": 58,
      "outputs": [
        {
          "output_type": "execute_result",
          "data": {
            "text/plain": [
              "array([ 5,  2,  3,  4, 10])"
            ]
          },
          "metadata": {},
          "execution_count": 58
        }
      ]
    },
    {
      "cell_type": "code",
      "metadata": {
        "colab": {
          "base_uri": "https://localhost:8080/"
        },
        "id": "8604e8V8JLpg",
        "outputId": "bb7c526f-1229-40e9-a042-4b219a3b3b32"
      },
      "source": [
        "# criação de matriz aleatória (random), de 1 a 50 (randint), com o shape(4,5)\n",
        "matrix = np.random.randint(1, 50, (4, 5))\n",
        "# print\n",
        "matrix"
      ],
      "execution_count": 59,
      "outputs": [
        {
          "output_type": "execute_result",
          "data": {
            "text/plain": [
              "array([[ 4, 27, 33, 41, 49],\n",
              "       [ 9, 31, 15, 36, 24],\n",
              "       [12, 35, 20, 46, 31],\n",
              "       [19, 14, 28,  2, 10]])"
            ]
          },
          "metadata": {},
          "execution_count": 59
        }
      ]
    },
    {
      "cell_type": "code",
      "metadata": {
        "colab": {
          "base_uri": "https://localhost:8080/"
        },
        "id": "HpJWZAC3JWiT",
        "outputId": "739193f2-bb6f-458c-9063-a2342a4ff819"
      },
      "source": [
        "# printando a matriz com todas as linhas ( : ) e da coluna 2 até a última (2: )\n",
        "matrix[:,2:]"
      ],
      "execution_count": 60,
      "outputs": [
        {
          "output_type": "execute_result",
          "data": {
            "text/plain": [
              "array([[33, 41, 49],\n",
              "       [15, 36, 24],\n",
              "       [20, 46, 31],\n",
              "       [28,  2, 10]])"
            ]
          },
          "metadata": {},
          "execution_count": 60
        }
      ]
    },
    {
      "cell_type": "code",
      "metadata": {
        "colab": {
          "base_uri": "https://localhost:8080/"
        },
        "id": "FdzLmJTBJmmp",
        "outputId": "59fad2d4-07de-4ea2-85b3-18e588a1f8fb"
      },
      "source": [
        "# printando a matriz com as linhas de 1 a 3 (lembrando que 3 é exclusivo) e as colunas do mesmo jeito\n",
        "matrix[1:3, 1:3]"
      ],
      "execution_count": 61,
      "outputs": [
        {
          "output_type": "execute_result",
          "data": {
            "text/plain": [
              "array([[31, 15],\n",
              "       [35, 20]])"
            ]
          },
          "metadata": {},
          "execution_count": 61
        }
      ]
    },
    {
      "cell_type": "markdown",
      "metadata": {
        "id": "lMazzLCjJ3SI"
      },
      "source": [
        "## Conditional Selecting"
      ]
    },
    {
      "cell_type": "code",
      "metadata": {
        "colab": {
          "base_uri": "https://localhost:8080/"
        },
        "id": "jZWFbq0kJyv_",
        "outputId": "be24eb0f-5daf-4cf3-b588-7716eddf90ad"
      },
      "source": [
        "# print da array\n",
        "arr1"
      ],
      "execution_count": 62,
      "outputs": [
        {
          "output_type": "execute_result",
          "data": {
            "text/plain": [
              "array([ 5,  2,  3,  4, 10])"
            ]
          },
          "metadata": {},
          "execution_count": 62
        }
      ]
    },
    {
      "cell_type": "code",
      "metadata": {
        "colab": {
          "base_uri": "https://localhost:8080/"
        },
        "id": "ZnTM2QxpJ8gn",
        "outputId": "1cdfaa55-1cbb-4e8e-cad3-ff7e2e334270"
      },
      "source": [
        "# posição 0 da arr1\n",
        "arr1[0]"
      ],
      "execution_count": 63,
      "outputs": [
        {
          "output_type": "execute_result",
          "data": {
            "text/plain": [
              "5"
            ]
          },
          "metadata": {},
          "execution_count": 63
        }
      ]
    },
    {
      "cell_type": "code",
      "metadata": {
        "colab": {
          "base_uri": "https://localhost:8080/"
        },
        "id": "NzXEw97vJ_Va",
        "outputId": "3874629e-83c3-4c39-a79f-3e743328ae65"
      },
      "source": [
        "# corte da array (aqui vai mostrar da posição 1 até a 4, porém é importante lembrar que o 4 não é exclusivo)\n",
        "arr1[1:4]"
      ],
      "execution_count": 64,
      "outputs": [
        {
          "output_type": "execute_result",
          "data": {
            "text/plain": [
              "array([2, 3, 4])"
            ]
          },
          "metadata": {},
          "execution_count": 64
        }
      ]
    },
    {
      "cell_type": "code",
      "metadata": {
        "colab": {
          "base_uri": "https://localhost:8080/"
        },
        "id": "qI63rPP3KCfH",
        "outputId": "4a5dd0b3-4216-4cdc-97d1-1ea872c2a500"
      },
      "source": [
        "# aqui usamos booleanos - em cada posição, que queremos que apareça na tela (o elemento, claro), eu coloco \"True\" e quem eu não quero que apareça, eu coloco \"False\"\n",
        "arr1[[True, False, False, True, False]]"
      ],
      "execution_count": 65,
      "outputs": [
        {
          "output_type": "execute_result",
          "data": {
            "text/plain": [
              "array([5, 4])"
            ]
          },
          "metadata": {},
          "execution_count": 65
        }
      ]
    },
    {
      "cell_type": "code",
      "metadata": {
        "colab": {
          "base_uri": "https://localhost:8080/"
        },
        "id": "G7vZnO7xKNZD",
        "outputId": "92a7c3fc-e164-4366-c4de-151600b5d5e9"
      },
      "source": [
        "# quem da array é menor que 10? aqui devolve-se em boolean\n",
        "arr1 < 10"
      ],
      "execution_count": 66,
      "outputs": [
        {
          "output_type": "execute_result",
          "data": {
            "text/plain": [
              "array([ True,  True,  True,  True, False])"
            ]
          },
          "metadata": {},
          "execution_count": 66
        }
      ]
    },
    {
      "cell_type": "code",
      "metadata": {
        "colab": {
          "base_uri": "https://localhost:8080/"
        },
        "id": "Ou0pkq15KeuQ",
        "outputId": "1c6efb85-6ba4-4916-de6b-064cb2658f41"
      },
      "source": [
        "# printar a array com o parâmetro recebendo uma condição\n",
        "arr1[arr1 < 10]"
      ],
      "execution_count": 67,
      "outputs": [
        {
          "output_type": "execute_result",
          "data": {
            "text/plain": [
              "array([5, 2, 3, 4])"
            ]
          },
          "metadata": {},
          "execution_count": 67
        }
      ]
    }
  ]
}