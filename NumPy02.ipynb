{
  "nbformat": 4,
  "nbformat_minor": 0,
  "metadata": {
    "colab": {
      "provenance": [],
      "include_colab_link": true
    },
    "kernelspec": {
      "name": "python3",
      "display_name": "Python 3"
    }
  },
  "cells": [
    {
      "cell_type": "markdown",
      "metadata": {
        "id": "view-in-github",
        "colab_type": "text"
      },
      "source": [
        "<a href=\"https://colab.research.google.com/github/VivianeSouza923/HCIA_AI_HUAWEI_STUDY_if/blob/main/NumPy02.ipynb\" target=\"_parent\"><img src=\"https://colab.research.google.com/assets/colab-badge.svg\" alt=\"Open In Colab\"/></a>"
      ]
    },
    {
      "cell_type": "markdown",
      "metadata": {
        "id": "6f39ug2h-Aok"
      },
      "source": [
        "# **Numpy**\n",
        "* Support for large, multi-dimensional arrays\n",
        "* Mathematical functions to operate on these arrays\n",
        "* All the values are from the same type\n",
        "* NumPy arrays use less memory than Python lists\n",
        "---\n",
        "## **Colab Shortcuts**\n",
        "* **CTRL+Space**: Auto complete\n",
        "* **CTRL+Shift+Space**: Documentation\n",
        "* **CTRL+Enter**: Run current cell\n",
        "* **Shift+Enter**: Run current cell and move focus to the next cell (adding one if none exists)\n",
        "* **Alt+Enter**: Run current cell and insert a new cell below it.\n",
        "---\n"
      ]
    },
    {
      "cell_type": "markdown",
      "metadata": {
        "id": "Nrzw1IH2BIag"
      },
      "source": [
        "## Creating Arrays"
      ]
    },
    {
      "cell_type": "code",
      "metadata": {
        "id": "Vj2TuS_89tI5"
      },
      "source": [
        "#importando a lib, óbvio\n",
        "import numpy as np"
      ],
      "execution_count": 1,
      "outputs": []
    },
    {
      "cell_type": "code",
      "metadata": {
        "colab": {
          "base_uri": "https://localhost:8080/"
        },
        "id": "nSimbc8c_tiS",
        "outputId": "3d9fb3de-adbf-4fb0-fabe-63a75b5098b0"
      },
      "source": [
        "#criar uma array passando a linha logo como parâmetro\n",
        "# print arryay, só colocando o nome dela\n",
        "array1 = np.array([2, 4, 1])\n",
        "array1"
      ],
      "execution_count": 2,
      "outputs": [
        {
          "output_type": "execute_result",
          "data": {
            "text/plain": [
              "array([2, 4, 1])"
            ]
          },
          "metadata": {},
          "execution_count": 2
        }
      ]
    },
    {
      "cell_type": "code",
      "metadata": {
        "colab": {
          "base_uri": "https://localhost:8080/"
        },
        "id": "fMtV0e0c_44L",
        "outputId": "f8805159-c3c1-41b9-eef8-79680bfa85b0"
      },
      "source": [
        "#quero saber o tipo da array\n",
        "type(array1) # n-dimensional array"
      ],
      "execution_count": 3,
      "outputs": [
        {
          "output_type": "execute_result",
          "data": {
            "text/plain": [
              "numpy.ndarray"
            ]
          },
          "metadata": {},
          "execution_count": 3
        }
      ]
    },
    {
      "cell_type": "code",
      "metadata": {
        "colab": {
          "base_uri": "https://localhost:8080/"
        },
        "id": "L3U_11YUAAgG",
        "outputId": "c0f826f1-3d07-4174-b17d-3bae209964c0"
      },
      "source": [
        "# tipo?\n",
        "type([2, 4, 1])"
      ],
      "execution_count": 4,
      "outputs": [
        {
          "output_type": "execute_result",
          "data": {
            "text/plain": [
              "list"
            ]
          },
          "metadata": {},
          "execution_count": 4
        }
      ]
    },
    {
      "cell_type": "code",
      "metadata": {
        "colab": {
          "base_uri": "https://localhost:8080/"
        },
        "id": "yGHcP-j3ADdo",
        "outputId": "cec6af1e-c45f-43e9-c96c-e0fa0473bdcb"
      },
      "source": [
        "#criar uma array de 2 rows - dai você só separa as linhas (dentro de colchetes, óbvio) por vírgula ---> \n",
        "#np.array(([ar[linha1], [linha2]ray]))\n",
        "matrix = np.array([[1, 4, 2], [7, 4, 2]])\n",
        "#print (só colocar o nome e nada mais é obrigatório)\n",
        "matrix"
      ],
      "execution_count": 7,
      "outputs": [
        {
          "output_type": "execute_result",
          "data": {
            "text/plain": [
              "array([[1, 4, 2],\n",
              "       [7, 4, 2]])"
            ]
          },
          "metadata": {},
          "execution_count": 7
        }
      ]
    },
    {
      "cell_type": "code",
      "source": [
        "# tipo?\n",
        "type(matrix)"
      ],
      "metadata": {
        "colab": {
          "base_uri": "https://localhost:8080/"
        },
        "id": "p-GKHLEf-8_4",
        "outputId": "e9e984f7-5946-48c7-e532-91708efd1423"
      },
      "execution_count": 8,
      "outputs": [
        {
          "output_type": "execute_result",
          "data": {
            "text/plain": [
              "numpy.ndarray"
            ]
          },
          "metadata": {},
          "execution_count": 8
        }
      ]
    },
    {
      "cell_type": "code",
      "metadata": {
        "colab": {
          "base_uri": "https://localhost:8080/"
        },
        "id": "IjX61LaMATNE",
        "outputId": "81114f64-273f-4ea3-a74a-e494d36a1a24"
      },
      "source": [
        "#mostra a linha 1 da matriz?\n",
        "#nome_da_matriz[posição]\n",
        "matrix[1]"
      ],
      "execution_count": 9,
      "outputs": [
        {
          "output_type": "execute_result",
          "data": {
            "text/plain": [
              "array([7, 4, 2])"
            ]
          },
          "metadata": {},
          "execution_count": 9
        }
      ]
    },
    {
      "cell_type": "code",
      "metadata": {
        "colab": {
          "base_uri": "https://localhost:8080/"
        },
        "id": "vE4PjtnBAbC4",
        "outputId": "cc4748c0-40a1-444c-8b7d-3306d63100ed"
      },
      "source": [
        "#quem está na posição 0 da linha 1?\n",
        "#nome_da_matriz[posição da linha][posição da coluna]\n",
        "matrix[1][0]"
      ],
      "execution_count": 10,
      "outputs": [
        {
          "output_type": "execute_result",
          "data": {
            "text/plain": [
              "7"
            ]
          },
          "metadata": {},
          "execution_count": 10
        }
      ]
    },
    {
      "cell_type": "code",
      "metadata": {
        "colab": {
          "base_uri": "https://localhost:8080/"
        },
        "id": "ZSE_GDSWAhRy",
        "outputId": "fd9f0e9d-f148-4737-ebf1-e9f473fd9bc2"
      },
      "source": [
        "# mesma coisa da célula anterior, só que de outro jeitinho\n",
        "matrix[1, 0]"
      ],
      "execution_count": 12,
      "outputs": [
        {
          "output_type": "execute_result",
          "data": {
            "text/plain": [
              "7"
            ]
          },
          "metadata": {},
          "execution_count": 12
        }
      ]
    },
    {
      "cell_type": "code",
      "metadata": {
        "colab": {
          "base_uri": "https://localhost:8080/"
        },
        "id": "vgV5Hf0EAlLc",
        "outputId": "114e57fe-c0f5-472d-f49d-c236d7d3a7c1"
      },
      "source": [
        "# cria uma matriz através da arange (dai tu passa o ínicio e o fim como parâmetros, lembrando que começa em zero, logo o fim fica n-1)\n",
        "# matrizNova = np.arange(initial_position, final_position)\n",
        "array2 = np.arange(1, 10) # array range\n",
        "#print\n",
        "array2"
      ],
      "execution_count": 13,
      "outputs": [
        {
          "output_type": "execute_result",
          "data": {
            "text/plain": [
              "array([1, 2, 3, 4, 5, 6, 7, 8, 9])"
            ]
          },
          "metadata": {},
          "execution_count": 13
        }
      ]
    },
    {
      "cell_type": "code",
      "metadata": {
        "colab": {
          "base_uri": "https://localhost:8080/"
        },
        "id": "UQ7ANuV9A53I",
        "outputId": "b6b19d6f-5d70-49f4-9628-7233d7bc3775"
      },
      "source": [
        "# cria uma array de 5 a 54, espaçado de 5\n",
        "#np.arange(initial_position, final_position, espaçamento)\n",
        "np.arange(5, 54, 5)"
      ],
      "execution_count": 16,
      "outputs": [
        {
          "output_type": "execute_result",
          "data": {
            "text/plain": [
              "array([ 5, 10, 15, 20, 25, 30, 35, 40, 45, 50])"
            ]
          },
          "metadata": {},
          "execution_count": 16
        }
      ]
    },
    {
      "cell_type": "code",
      "metadata": {
        "colab": {
          "base_uri": "https://localhost:8080/"
        },
        "id": "MFtxuDt8BCSs",
        "outputId": "ada51803-fa37-4272-8a41-afc53daa9e73"
      },
      "source": [
        "#mesma lógica da célula anterior\n",
        "np.arange(1, 10, 3)"
      ],
      "execution_count": 17,
      "outputs": [
        {
          "output_type": "execute_result",
          "data": {
            "text/plain": [
              "array([1, 4, 7])"
            ]
          },
          "metadata": {},
          "execution_count": 17
        }
      ]
    },
    {
      "cell_type": "code",
      "metadata": {
        "colab": {
          "base_uri": "https://localhost:8080/"
        },
        "id": "LV1i7rvQBcmT",
        "outputId": "7c4dae07-e7f4-4c5d-ef2b-600114bfbbda"
      },
      "source": [
        "#matriz de zeros: \n",
        "#matriz_zeros = np.zeros(quantidade)\n",
        "zeros1d = np.zeros(5)\n",
        "#print\n",
        "zeros1d"
      ],
      "execution_count": 18,
      "outputs": [
        {
          "output_type": "execute_result",
          "data": {
            "text/plain": [
              "array([0., 0., 0., 0., 0.])"
            ]
          },
          "metadata": {},
          "execution_count": 18
        }
      ]
    },
    {
      "cell_type": "code",
      "source": [
        "#matriz de zeros de 2 dimensões\n",
        "#np.zeros((x,y)) ou np.zeros([x,y])\n",
        "np.zeros((2,3))"
      ],
      "metadata": {
        "colab": {
          "base_uri": "https://localhost:8080/"
        },
        "id": "Qed0NwtGEowV",
        "outputId": "531aeb89-c286-4964-ca7b-766a74fae4f4"
      },
      "execution_count": 21,
      "outputs": [
        {
          "output_type": "execute_result",
          "data": {
            "text/plain": [
              "array([[0., 0., 0.],\n",
              "       [0., 0., 0.]])"
            ]
          },
          "metadata": {},
          "execution_count": 21
        }
      ]
    },
    {
      "cell_type": "code",
      "metadata": {
        "colab": {
          "base_uri": "https://localhost:8080/"
        },
        "id": "UQDtmvpbBjfl",
        "outputId": "e1605357-648e-4890-a6d8-aaec725fe9c6"
      },
      "source": [
        "#matriz de 1's\n",
        "#siga a mesma lógica da matriz de zeros\n",
        "np.ones(6)"
      ],
      "execution_count": 22,
      "outputs": [
        {
          "output_type": "execute_result",
          "data": {
            "text/plain": [
              "array([1., 1., 1., 1., 1., 1.])"
            ]
          },
          "metadata": {},
          "execution_count": 22
        }
      ]
    },
    {
      "cell_type": "code",
      "metadata": {
        "colab": {
          "base_uri": "https://localhost:8080/"
        },
        "id": "kI6LV041BmND",
        "outputId": "c6bfba1a-9f76-4091-b18a-2eafdcb4f42e"
      },
      "source": [
        "#matriz de zeros de 2 dimensões\n",
        "#siga a mesma lógica da matriz de zeros\n",
        "np.ones((3, 4))"
      ],
      "execution_count": 23,
      "outputs": [
        {
          "output_type": "execute_result",
          "data": {
            "text/plain": [
              "array([[1., 1., 1., 1.],\n",
              "       [1., 1., 1., 1.],\n",
              "       [1., 1., 1., 1.]])"
            ]
          },
          "metadata": {},
          "execution_count": 23
        }
      ]
    },
    {
      "cell_type": "code",
      "metadata": {
        "colab": {
          "base_uri": "https://localhost:8080/"
        },
        "id": "3R-SdLXKB5Zk",
        "outputId": "886659b3-9d03-450c-98f8-bd015de67d75"
      },
      "source": [
        "# cria uma matriz identidade\n",
        "#np.eye(ordem)\n",
        "np.eye(6)"
      ],
      "execution_count": 24,
      "outputs": [
        {
          "output_type": "execute_result",
          "data": {
            "text/plain": [
              "array([[1., 0., 0., 0., 0., 0.],\n",
              "       [0., 1., 0., 0., 0., 0.],\n",
              "       [0., 0., 1., 0., 0., 0.],\n",
              "       [0., 0., 0., 1., 0., 0.],\n",
              "       [0., 0., 0., 0., 1., 0.],\n",
              "       [0., 0., 0., 0., 0., 1.]])"
            ]
          },
          "metadata": {},
          "execution_count": 24
        }
      ]
    },
    {
      "cell_type": "code",
      "metadata": {
        "colab": {
          "base_uri": "https://localhost:8080/"
        },
        "id": "XveYRqOUCEZ7",
        "outputId": "6834cc01-c05a-4b8e-e1c2-b54eafeec983"
      },
      "source": [
        "# CONTINUAR\n",
        "arr1 = np.linspace(1, 10, 5)\n",
        "arr1"
      ],
      "execution_count": null,
      "outputs": [
        {
          "output_type": "execute_result",
          "data": {
            "text/plain": [
              "array([ 1.  ,  3.25,  5.5 ,  7.75, 10.  ])"
            ]
          },
          "metadata": {
            "tags": []
          },
          "execution_count": 17
        }
      ]
    },
    {
      "cell_type": "code",
      "metadata": {
        "colab": {
          "base_uri": "https://localhost:8080/"
        },
        "id": "1ngRaW2FCa0H",
        "outputId": "eb369f5f-6fb0-41ef-d137-42c5bd785ca3"
      },
      "source": [
        "np.linspace(1, 11, 7)"
      ],
      "execution_count": null,
      "outputs": [
        {
          "output_type": "execute_result",
          "data": {
            "text/plain": [
              "array([ 1.        ,  2.66666667,  4.33333333,  6.        ,  7.66666667,\n",
              "        9.33333333, 11.        ])"
            ]
          },
          "metadata": {
            "tags": []
          },
          "execution_count": 20
        }
      ]
    },
    {
      "cell_type": "code",
      "metadata": {
        "colab": {
          "base_uri": "https://localhost:8080/"
        },
        "id": "T-wy3LUyDPFh",
        "outputId": "e096b19d-6be9-4db4-f7c2-540980b85ed0"
      },
      "source": [
        "np.random.rand(5)"
      ],
      "execution_count": null,
      "outputs": [
        {
          "output_type": "execute_result",
          "data": {
            "text/plain": [
              "array([0.83133248, 0.32052929, 0.33245164, 0.97068504, 0.34096725])"
            ]
          },
          "metadata": {
            "tags": []
          },
          "execution_count": 22
        }
      ]
    },
    {
      "cell_type": "code",
      "metadata": {
        "colab": {
          "base_uri": "https://localhost:8080/"
        },
        "id": "D2dviXarC-xu",
        "outputId": "da9738bc-7d27-4f49-d40f-150507c0fd96"
      },
      "source": [
        "random_array = np.random.rand(2, 3)\n",
        "random_array"
      ],
      "execution_count": null,
      "outputs": [
        {
          "output_type": "execute_result",
          "data": {
            "text/plain": [
              "array([[0.69150385, 0.81882571, 0.95696716],\n",
              "       [0.87224186, 0.25474342, 0.88008245]])"
            ]
          },
          "metadata": {
            "tags": []
          },
          "execution_count": 21
        }
      ]
    },
    {
      "cell_type": "code",
      "metadata": {
        "colab": {
          "base_uri": "https://localhost:8080/"
        },
        "id": "rvXx12JaDLgV",
        "outputId": "9d9a4e3f-a25f-46eb-d963-92ce5091a2a0"
      },
      "source": [
        "np.random.randn(4)"
      ],
      "execution_count": null,
      "outputs": [
        {
          "output_type": "execute_result",
          "data": {
            "text/plain": [
              "array([ 0.11555967,  1.57133001,  0.68153235, -0.30259484])"
            ]
          },
          "metadata": {
            "tags": []
          },
          "execution_count": 23
        }
      ]
    },
    {
      "cell_type": "code",
      "metadata": {
        "colab": {
          "base_uri": "https://localhost:8080/"
        },
        "id": "uHfBZNBjDkhO",
        "outputId": "238259e9-27bc-49b5-e011-35189808d1fd"
      },
      "source": [
        "np.random.randint(2, 50)"
      ],
      "execution_count": null,
      "outputs": [
        {
          "output_type": "execute_result",
          "data": {
            "text/plain": [
              "27"
            ]
          },
          "metadata": {
            "tags": []
          },
          "execution_count": 24
        }
      ]
    },
    {
      "cell_type": "code",
      "metadata": {
        "colab": {
          "base_uri": "https://localhost:8080/"
        },
        "id": "AtuCVqM6D4Ci",
        "outputId": "218fc665-a740-4b73-8e5d-458c54c489d6"
      },
      "source": [
        "np.random.randint(2, 50, (4, 2))"
      ],
      "execution_count": null,
      "outputs": [
        {
          "output_type": "execute_result",
          "data": {
            "text/plain": [
              "array([[44,  3],\n",
              "       [15,  7],\n",
              "       [41, 46],\n",
              "       [ 2, 27]])"
            ]
          },
          "metadata": {
            "tags": []
          },
          "execution_count": 25
        }
      ]
    },
    {
      "cell_type": "code",
      "metadata": {
        "colab": {
          "base_uri": "https://localhost:8080/"
        },
        "id": "Rgce3cfWEHZb",
        "outputId": "c4526bd1-e049-40ed-eb1a-a1cab524a961"
      },
      "source": [
        "arr1.shape"
      ],
      "execution_count": null,
      "outputs": [
        {
          "output_type": "execute_result",
          "data": {
            "text/plain": [
              "(5,)"
            ]
          },
          "metadata": {
            "tags": []
          },
          "execution_count": 26
        }
      ]
    },
    {
      "cell_type": "code",
      "metadata": {
        "colab": {
          "base_uri": "https://localhost:8080/"
        },
        "id": "NJO2UHB-EWqF",
        "outputId": "57db45fb-db7f-4f68-ef91-35e8fff23291"
      },
      "source": [
        "matrix.shape"
      ],
      "execution_count": null,
      "outputs": [
        {
          "output_type": "execute_result",
          "data": {
            "text/plain": [
              "(2, 3)"
            ]
          },
          "metadata": {
            "tags": []
          },
          "execution_count": 27
        }
      ]
    },
    {
      "cell_type": "code",
      "metadata": {
        "colab": {
          "base_uri": "https://localhost:8080/"
        },
        "id": "ru31gzZWEaeM",
        "outputId": "3b8b0929-4166-4756-c2bd-b51bcc741c4b"
      },
      "source": [
        "matrix"
      ],
      "execution_count": null,
      "outputs": [
        {
          "output_type": "execute_result",
          "data": {
            "text/plain": [
              "array([[1, 4, 2],\n",
              "       [7, 4, 2]])"
            ]
          },
          "metadata": {
            "tags": []
          },
          "execution_count": 28
        }
      ]
    },
    {
      "cell_type": "code",
      "metadata": {
        "colab": {
          "base_uri": "https://localhost:8080/"
        },
        "id": "HRzChdA9Einh",
        "outputId": "8d00febd-5cd5-4e02-f454-2c0e770ec19b"
      },
      "source": [
        "matrix.reshape(3, 2) # tem que ter a mesma quantidade de elementos"
      ],
      "execution_count": null,
      "outputs": [
        {
          "output_type": "execute_result",
          "data": {
            "text/plain": [
              "array([[1, 4],\n",
              "       [2, 7],\n",
              "       [4, 2]])"
            ]
          },
          "metadata": {
            "tags": []
          },
          "execution_count": 31
        }
      ]
    },
    {
      "cell_type": "markdown",
      "metadata": {
        "id": "faRIBsn-E86y"
      },
      "source": [
        "## Operations"
      ]
    },
    {
      "cell_type": "code",
      "metadata": {
        "colab": {
          "base_uri": "https://localhost:8080/"
        },
        "id": "Le_hGqc8E5xD",
        "outputId": "068121dd-d83a-4f5c-ec04-276aecfc7910"
      },
      "source": [
        "arr1"
      ],
      "execution_count": null,
      "outputs": [
        {
          "output_type": "execute_result",
          "data": {
            "text/plain": [
              "array([ 1.  ,  3.25,  5.5 ,  7.75, 10.  ])"
            ]
          },
          "metadata": {
            "tags": []
          },
          "execution_count": 32
        }
      ]
    },
    {
      "cell_type": "code",
      "metadata": {
        "colab": {
          "base_uri": "https://localhost:8080/"
        },
        "id": "JsyrJ2l8FCaz",
        "outputId": "05d5b4dc-32c7-4616-8a0e-0fae5baeae2e"
      },
      "source": [
        "arr1.max()"
      ],
      "execution_count": null,
      "outputs": [
        {
          "output_type": "execute_result",
          "data": {
            "text/plain": [
              "10.0"
            ]
          },
          "metadata": {
            "tags": []
          },
          "execution_count": 33
        }
      ]
    },
    {
      "cell_type": "code",
      "metadata": {
        "colab": {
          "base_uri": "https://localhost:8080/"
        },
        "id": "x0t-6zTmFF9g",
        "outputId": "b6b60bc5-6030-4d5c-e445-a7edd8993455"
      },
      "source": [
        "arr1.argmax()"
      ],
      "execution_count": null,
      "outputs": [
        {
          "output_type": "execute_result",
          "data": {
            "text/plain": [
              "4"
            ]
          },
          "metadata": {
            "tags": []
          },
          "execution_count": 34
        }
      ]
    },
    {
      "cell_type": "code",
      "metadata": {
        "colab": {
          "base_uri": "https://localhost:8080/"
        },
        "id": "xKFZTHKyFMKh",
        "outputId": "c78bf9a8-1e45-4a46-ffa8-a20320911978"
      },
      "source": [
        "arr1.mean()"
      ],
      "execution_count": null,
      "outputs": [
        {
          "output_type": "execute_result",
          "data": {
            "text/plain": [
              "5.5"
            ]
          },
          "metadata": {
            "tags": []
          },
          "execution_count": 35
        }
      ]
    },
    {
      "cell_type": "code",
      "metadata": {
        "colab": {
          "base_uri": "https://localhost:8080/"
        },
        "id": "YSb3l6k1FUKQ",
        "outputId": "03e16777-cd66-45ea-ebc4-5bdb57b90c91"
      },
      "source": [
        "arr1 + 2"
      ],
      "execution_count": null,
      "outputs": [
        {
          "output_type": "execute_result",
          "data": {
            "text/plain": [
              "array([ 3.  ,  5.25,  7.5 ,  9.75, 12.  ])"
            ]
          },
          "metadata": {
            "tags": []
          },
          "execution_count": 36
        }
      ]
    },
    {
      "cell_type": "code",
      "metadata": {
        "colab": {
          "base_uri": "https://localhost:8080/"
        },
        "id": "8WJKZ4u-FeVR",
        "outputId": "37c4a96f-eace-41f7-c550-d13568be913d"
      },
      "source": [
        "arr1 * 3"
      ],
      "execution_count": null,
      "outputs": [
        {
          "output_type": "execute_result",
          "data": {
            "text/plain": [
              "array([ 3.  ,  9.75, 16.5 , 23.25, 30.  ])"
            ]
          },
          "metadata": {
            "tags": []
          },
          "execution_count": 37
        }
      ]
    },
    {
      "cell_type": "code",
      "metadata": {
        "id": "F_LfQ88dFjI0"
      },
      "source": [
        "arr1 = np.random.randint(2, 50, 5)"
      ],
      "execution_count": null,
      "outputs": []
    },
    {
      "cell_type": "code",
      "metadata": {
        "id": "i0joCVR9FuId"
      },
      "source": [
        "arr2 = np.random.randint(5, 60, 5)"
      ],
      "execution_count": null,
      "outputs": []
    },
    {
      "cell_type": "code",
      "metadata": {
        "colab": {
          "base_uri": "https://localhost:8080/"
        },
        "id": "gugdAPnOFzec",
        "outputId": "c68fa53d-5470-4ffa-8455-16e64f06f856"
      },
      "source": [
        "arr1"
      ],
      "execution_count": null,
      "outputs": [
        {
          "output_type": "execute_result",
          "data": {
            "text/plain": [
              "array([45, 42, 24,  6, 28])"
            ]
          },
          "metadata": {
            "tags": []
          },
          "execution_count": 40
        }
      ]
    },
    {
      "cell_type": "code",
      "metadata": {
        "colab": {
          "base_uri": "https://localhost:8080/"
        },
        "id": "Ak1uYZPwF0JA",
        "outputId": "e70e330f-cc65-4c4a-f5d0-d1fe5c5905d4"
      },
      "source": [
        "arr2"
      ],
      "execution_count": null,
      "outputs": [
        {
          "output_type": "execute_result",
          "data": {
            "text/plain": [
              "array([52, 45, 44, 21, 14])"
            ]
          },
          "metadata": {
            "tags": []
          },
          "execution_count": 41
        }
      ]
    },
    {
      "cell_type": "code",
      "metadata": {
        "colab": {
          "base_uri": "https://localhost:8080/"
        },
        "id": "Ix0YTmmNF1zU",
        "outputId": "16aa4a43-15bf-43a7-b28e-cb7e514d8b13"
      },
      "source": [
        "arr1 * arr2"
      ],
      "execution_count": null,
      "outputs": [
        {
          "output_type": "execute_result",
          "data": {
            "text/plain": [
              "array([2340, 1890, 1056,  126,  392])"
            ]
          },
          "metadata": {
            "tags": []
          },
          "execution_count": 42
        }
      ]
    },
    {
      "cell_type": "code",
      "metadata": {
        "colab": {
          "base_uri": "https://localhost:8080/"
        },
        "id": "qQdPkMvsF8WB",
        "outputId": "c5a9842a-47c3-436a-ceae-ede332c6a81e"
      },
      "source": [
        "arr1 ** 2"
      ],
      "execution_count": null,
      "outputs": [
        {
          "output_type": "execute_result",
          "data": {
            "text/plain": [
              "array([2025, 1764,  576,   36,  784])"
            ]
          },
          "metadata": {
            "tags": []
          },
          "execution_count": 43
        }
      ]
    },
    {
      "cell_type": "code",
      "metadata": {
        "colab": {
          "base_uri": "https://localhost:8080/"
        },
        "id": "2VABG4CtGE9q",
        "outputId": "61ff59ae-9b02-41e0-d2ff-132d74cae815"
      },
      "source": [
        "np.sqrt(arr1)"
      ],
      "execution_count": null,
      "outputs": [
        {
          "output_type": "execute_result",
          "data": {
            "text/plain": [
              "array([6.70820393, 6.4807407 , 4.89897949, 2.44948974, 5.29150262])"
            ]
          },
          "metadata": {
            "tags": []
          },
          "execution_count": 44
        }
      ]
    },
    {
      "cell_type": "code",
      "metadata": {
        "colab": {
          "base_uri": "https://localhost:8080/"
        },
        "id": "fRDwjaLDGO3u",
        "outputId": "b18d5d77-0701-4f00-9d98-7df54676b236"
      },
      "source": [
        "np.sum(arr1)"
      ],
      "execution_count": null,
      "outputs": [
        {
          "output_type": "execute_result",
          "data": {
            "text/plain": [
              "145"
            ]
          },
          "metadata": {
            "tags": []
          },
          "execution_count": 45
        }
      ]
    },
    {
      "cell_type": "code",
      "metadata": {
        "colab": {
          "base_uri": "https://localhost:8080/"
        },
        "id": "1BKsDYCkGWMS",
        "outputId": "6970a067-7898-4411-e09a-c08a5c551532"
      },
      "source": [
        "matrix"
      ],
      "execution_count": null,
      "outputs": [
        {
          "output_type": "execute_result",
          "data": {
            "text/plain": [
              "array([[1, 4, 2],\n",
              "       [7, 4, 2]])"
            ]
          },
          "metadata": {
            "tags": []
          },
          "execution_count": 46
        }
      ]
    },
    {
      "cell_type": "code",
      "metadata": {
        "colab": {
          "base_uri": "https://localhost:8080/"
        },
        "id": "oCWEIvfYGiGj",
        "outputId": "b89e9847-be28-4b17-e8f7-198c6bdf924b"
      },
      "source": [
        "matrix2 = np.array([[1, 2, 3, 4], [2, 3, 4, 5], [5, 6, 7, 8]])\n",
        "matrix2"
      ],
      "execution_count": null,
      "outputs": [
        {
          "output_type": "execute_result",
          "data": {
            "text/plain": [
              "array([[1, 2, 3, 4],\n",
              "       [2, 3, 4, 5],\n",
              "       [5, 6, 7, 8]])"
            ]
          },
          "metadata": {
            "tags": []
          },
          "execution_count": 48
        }
      ]
    },
    {
      "cell_type": "code",
      "metadata": {
        "colab": {
          "base_uri": "https://localhost:8080/"
        },
        "id": "w5PohrF8GuLS",
        "outputId": "39592fa8-b9d6-4e4e-c675-983f0b63643c"
      },
      "source": [
        "matrix.shape"
      ],
      "execution_count": null,
      "outputs": [
        {
          "output_type": "execute_result",
          "data": {
            "text/plain": [
              "(2, 3)"
            ]
          },
          "metadata": {
            "tags": []
          },
          "execution_count": 49
        }
      ]
    },
    {
      "cell_type": "code",
      "metadata": {
        "colab": {
          "base_uri": "https://localhost:8080/"
        },
        "id": "0yU0762oGvR0",
        "outputId": "6a8b2b06-5a03-4c02-fce3-fef0cc23264d"
      },
      "source": [
        "matrix2.shape"
      ],
      "execution_count": null,
      "outputs": [
        {
          "output_type": "execute_result",
          "data": {
            "text/plain": [
              "(3, 4)"
            ]
          },
          "metadata": {
            "tags": []
          },
          "execution_count": 50
        }
      ]
    },
    {
      "cell_type": "code",
      "metadata": {
        "colab": {
          "base_uri": "https://localhost:8080/"
        },
        "id": "gESRiEZSG3Hy",
        "outputId": "c7e58c08-0b4e-44ef-e8c5-6f1118f62e6c"
      },
      "source": [
        "result = np.matmul(matrix, matrix2)\n",
        "result"
      ],
      "execution_count": null,
      "outputs": [
        {
          "output_type": "execute_result",
          "data": {
            "text/plain": [
              "array([[19, 26, 33, 40],\n",
              "       [25, 38, 51, 64]])"
            ]
          },
          "metadata": {
            "tags": []
          },
          "execution_count": 51
        }
      ]
    },
    {
      "cell_type": "code",
      "metadata": {
        "colab": {
          "base_uri": "https://localhost:8080/"
        },
        "id": "7UpwZOyPHBUP",
        "outputId": "b1cd2b72-74af-4571-e516-a7dbe817eacf"
      },
      "source": [
        "result.shape"
      ],
      "execution_count": null,
      "outputs": [
        {
          "output_type": "execute_result",
          "data": {
            "text/plain": [
              "(2, 4)"
            ]
          },
          "metadata": {
            "tags": []
          },
          "execution_count": 52
        }
      ]
    },
    {
      "cell_type": "code",
      "metadata": {
        "colab": {
          "base_uri": "https://localhost:8080/"
        },
        "id": "fazpYGIpHEcU",
        "outputId": "007581c8-091e-4198-96b1-0086405c8e38"
      },
      "source": [
        "arr2d = np.random.randint(1, 100, (4, 5))\n",
        "arr2d"
      ],
      "execution_count": null,
      "outputs": [
        {
          "output_type": "execute_result",
          "data": {
            "text/plain": [
              "array([[ 3,  8, 65, 74, 38],\n",
              "       [78, 39, 65,  9, 81],\n",
              "       [ 3, 85, 52, 77, 17],\n",
              "       [ 9, 44,  8, 50, 59]])"
            ]
          },
          "metadata": {
            "tags": []
          },
          "execution_count": 53
        }
      ]
    },
    {
      "cell_type": "code",
      "metadata": {
        "colab": {
          "base_uri": "https://localhost:8080/"
        },
        "id": "OToQ3oxWHV0E",
        "outputId": "2f785f41-948c-4429-cde1-5b944600cbee"
      },
      "source": [
        "arr2d.sum()"
      ],
      "execution_count": null,
      "outputs": [
        {
          "output_type": "execute_result",
          "data": {
            "text/plain": [
              "864"
            ]
          },
          "metadata": {
            "tags": []
          },
          "execution_count": 54
        }
      ]
    },
    {
      "cell_type": "code",
      "metadata": {
        "colab": {
          "base_uri": "https://localhost:8080/"
        },
        "id": "w5_i8TUKHcq1",
        "outputId": "1e2ffb3a-703e-4946-e567-e8a21b127fdc"
      },
      "source": [
        "arr2d.sum(axis=0)"
      ],
      "execution_count": null,
      "outputs": [
        {
          "output_type": "execute_result",
          "data": {
            "text/plain": [
              "array([ 93, 176, 190, 210, 195])"
            ]
          },
          "metadata": {
            "tags": []
          },
          "execution_count": 55
        }
      ]
    },
    {
      "cell_type": "code",
      "metadata": {
        "colab": {
          "base_uri": "https://localhost:8080/"
        },
        "id": "UstQd3jzH_41",
        "outputId": "827a0a07-0ef3-485f-944d-4a66a2944e6c"
      },
      "source": [
        "arr2d.sum(axis=1)"
      ],
      "execution_count": null,
      "outputs": [
        {
          "output_type": "execute_result",
          "data": {
            "text/plain": [
              "array([188, 272, 234, 170])"
            ]
          },
          "metadata": {
            "tags": []
          },
          "execution_count": 56
        }
      ]
    },
    {
      "cell_type": "markdown",
      "metadata": {
        "id": "AQLYp3EIIc1L"
      },
      "source": [
        "## Slices"
      ]
    },
    {
      "cell_type": "code",
      "metadata": {
        "colab": {
          "base_uri": "https://localhost:8080/"
        },
        "id": "87WZ9uJmIPmu",
        "outputId": "fffc8e44-3cf8-4115-d3a3-2dfe7b346164"
      },
      "source": [
        "arr1"
      ],
      "execution_count": null,
      "outputs": [
        {
          "output_type": "execute_result",
          "data": {
            "text/plain": [
              "array([45, 42, 24,  6, 28])"
            ]
          },
          "metadata": {
            "tags": []
          },
          "execution_count": 57
        }
      ]
    },
    {
      "cell_type": "code",
      "metadata": {
        "colab": {
          "base_uri": "https://localhost:8080/"
        },
        "id": "G8tXu_gTIm33",
        "outputId": "3a0ac37d-c58a-40e9-d0d1-f5704facb7db"
      },
      "source": [
        "arr1[1:4]"
      ],
      "execution_count": null,
      "outputs": [
        {
          "output_type": "execute_result",
          "data": {
            "text/plain": [
              "array([42, 24,  6])"
            ]
          },
          "metadata": {
            "tags": []
          },
          "execution_count": 58
        }
      ]
    },
    {
      "cell_type": "code",
      "metadata": {
        "id": "Sxe-GzpZIr9G"
      },
      "source": [
        "arr1[1:4] = 20"
      ],
      "execution_count": null,
      "outputs": []
    },
    {
      "cell_type": "code",
      "metadata": {
        "colab": {
          "base_uri": "https://localhost:8080/"
        },
        "id": "FPIgpdoCIz40",
        "outputId": "ba6822fd-60f0-44c8-b5b7-9f3846e97ec9"
      },
      "source": [
        "arr1"
      ],
      "execution_count": null,
      "outputs": [
        {
          "output_type": "execute_result",
          "data": {
            "text/plain": [
              "array([45, 20, 20, 20, 28])"
            ]
          },
          "metadata": {
            "tags": []
          },
          "execution_count": 60
        }
      ]
    },
    {
      "cell_type": "code",
      "metadata": {
        "colab": {
          "base_uri": "https://localhost:8080/"
        },
        "id": "AQlC7dLAI3-I",
        "outputId": "15206fab-e420-47d5-a266-468e11479cd7"
      },
      "source": [
        "arr1[1:4] = np.arange(2, 5)\n",
        "arr1"
      ],
      "execution_count": null,
      "outputs": [
        {
          "output_type": "execute_result",
          "data": {
            "text/plain": [
              "array([45,  2,  3,  4, 28])"
            ]
          },
          "metadata": {
            "tags": []
          },
          "execution_count": 61
        }
      ]
    },
    {
      "cell_type": "code",
      "metadata": {
        "colab": {
          "base_uri": "https://localhost:8080/"
        },
        "id": "8604e8V8JLpg",
        "outputId": "e997620c-c825-400b-9275-dfcc7c2e7066"
      },
      "source": [
        "matrix = np.random.randint(1, 50, (4, 5))\n",
        "matrix"
      ],
      "execution_count": null,
      "outputs": [
        {
          "output_type": "execute_result",
          "data": {
            "text/plain": [
              "array([[29, 42, 34, 29, 38],\n",
              "       [22, 45, 44, 35, 15],\n",
              "       [40, 22, 39, 45, 16],\n",
              "       [ 7, 13, 36, 34,  9]])"
            ]
          },
          "metadata": {
            "tags": []
          },
          "execution_count": 62
        }
      ]
    },
    {
      "cell_type": "code",
      "metadata": {
        "colab": {
          "base_uri": "https://localhost:8080/"
        },
        "id": "HpJWZAC3JWiT",
        "outputId": "3901859e-1b67-4678-ead6-785397615fd6"
      },
      "source": [
        "matrix[:,2:]"
      ],
      "execution_count": null,
      "outputs": [
        {
          "output_type": "execute_result",
          "data": {
            "text/plain": [
              "array([[34, 29, 38],\n",
              "       [44, 35, 15],\n",
              "       [39, 45, 16],\n",
              "       [36, 34,  9]])"
            ]
          },
          "metadata": {
            "tags": []
          },
          "execution_count": 63
        }
      ]
    },
    {
      "cell_type": "code",
      "metadata": {
        "colab": {
          "base_uri": "https://localhost:8080/"
        },
        "id": "FdzLmJTBJmmp",
        "outputId": "118029ba-b157-490b-8ab1-e423186087e0"
      },
      "source": [
        "matrix[1:3, 1:3]"
      ],
      "execution_count": null,
      "outputs": [
        {
          "output_type": "execute_result",
          "data": {
            "text/plain": [
              "array([[45, 44],\n",
              "       [22, 39]])"
            ]
          },
          "metadata": {
            "tags": []
          },
          "execution_count": 64
        }
      ]
    },
    {
      "cell_type": "markdown",
      "metadata": {
        "id": "lMazzLCjJ3SI"
      },
      "source": [
        "## Conditional Selecting"
      ]
    },
    {
      "cell_type": "code",
      "metadata": {
        "colab": {
          "base_uri": "https://localhost:8080/"
        },
        "id": "jZWFbq0kJyv_",
        "outputId": "e4dd2121-2e60-435c-f4f6-a79a005691d2"
      },
      "source": [
        "arr1"
      ],
      "execution_count": null,
      "outputs": [
        {
          "output_type": "execute_result",
          "data": {
            "text/plain": [
              "array([45,  2,  3,  4, 28])"
            ]
          },
          "metadata": {
            "tags": []
          },
          "execution_count": 65
        }
      ]
    },
    {
      "cell_type": "code",
      "metadata": {
        "colab": {
          "base_uri": "https://localhost:8080/"
        },
        "id": "ZnTM2QxpJ8gn",
        "outputId": "061f18da-4728-4648-d7ba-895b5c365cd5"
      },
      "source": [
        "arr1[0]"
      ],
      "execution_count": null,
      "outputs": [
        {
          "output_type": "execute_result",
          "data": {
            "text/plain": [
              "45"
            ]
          },
          "metadata": {
            "tags": []
          },
          "execution_count": 66
        }
      ]
    },
    {
      "cell_type": "code",
      "metadata": {
        "colab": {
          "base_uri": "https://localhost:8080/"
        },
        "id": "NzXEw97vJ_Va",
        "outputId": "a441df03-90d1-4729-9e88-9af9788bc0d6"
      },
      "source": [
        "arr1[1:4]"
      ],
      "execution_count": null,
      "outputs": [
        {
          "output_type": "execute_result",
          "data": {
            "text/plain": [
              "array([2, 3, 4])"
            ]
          },
          "metadata": {
            "tags": []
          },
          "execution_count": 67
        }
      ]
    },
    {
      "cell_type": "code",
      "metadata": {
        "colab": {
          "base_uri": "https://localhost:8080/"
        },
        "id": "qI63rPP3KCfH",
        "outputId": "15ae11c6-c279-456c-bc5b-f1fd19967a73"
      },
      "source": [
        "arr1[[True, False, False, True, False]]"
      ],
      "execution_count": null,
      "outputs": [
        {
          "output_type": "execute_result",
          "data": {
            "text/plain": [
              "array([45,  4])"
            ]
          },
          "metadata": {
            "tags": []
          },
          "execution_count": 68
        }
      ]
    },
    {
      "cell_type": "code",
      "metadata": {
        "colab": {
          "base_uri": "https://localhost:8080/"
        },
        "id": "G7vZnO7xKNZD",
        "outputId": "f0e2a2af-7b37-4123-e5e7-0ad7e62abfca"
      },
      "source": [
        "arr1 < 10"
      ],
      "execution_count": null,
      "outputs": [
        {
          "output_type": "execute_result",
          "data": {
            "text/plain": [
              "array([False,  True,  True,  True, False])"
            ]
          },
          "metadata": {
            "tags": []
          },
          "execution_count": 69
        }
      ]
    },
    {
      "cell_type": "code",
      "metadata": {
        "colab": {
          "base_uri": "https://localhost:8080/"
        },
        "id": "Ou0pkq15KeuQ",
        "outputId": "a45abf2f-4036-461a-b8e5-30e4fa24ee35"
      },
      "source": [
        "arr1[arr1 < 10]"
      ],
      "execution_count": null,
      "outputs": [
        {
          "output_type": "execute_result",
          "data": {
            "text/plain": [
              "array([2, 3, 4])"
            ]
          },
          "metadata": {
            "tags": []
          },
          "execution_count": 70
        }
      ]
    }
  ]
}