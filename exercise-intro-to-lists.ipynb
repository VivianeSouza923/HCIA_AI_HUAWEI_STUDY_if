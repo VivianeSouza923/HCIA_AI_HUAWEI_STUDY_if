{
 "cells": [
  {
   "cell_type": "markdown",
   "id": "c7f53a3a",
   "metadata": {
    "papermill": {
     "duration": 0.005508,
     "end_time": "2023-07-01T17:47:18.782245",
     "exception": false,
     "start_time": "2023-07-01T17:47:18.776737",
     "status": "completed"
    },
    "tags": []
   },
   "source": [
    "**This notebook is an exercise in the [Intro to Programming](https://www.kaggle.com/learn/intro-to-programming) course.  You can reference the tutorial at [this link](https://www.kaggle.com/alexisbcook/intro-to-lists).**\n",
    "\n",
    "---\n"
   ]
  },
  {
   "cell_type": "markdown",
   "id": "a6995a84",
   "metadata": {
    "papermill": {
     "duration": 0.004846,
     "end_time": "2023-07-01T17:47:18.792185",
     "exception": false,
     "start_time": "2023-07-01T17:47:18.787339",
     "status": "completed"
    },
    "tags": []
   },
   "source": [
    "In the tutorial, you learned how to define and modify Python lists.  In this exercise, you will use your new knowledge to solve several problems.\n",
    "\n",
    "# Set up the notebook\n",
    "\n",
    "Run the next code cell without changes to set up the notebook."
   ]
  },
  {
   "cell_type": "code",
   "execution_count": 1,
   "id": "261fba0e",
   "metadata": {
    "execution": {
     "iopub.execute_input": "2023-07-01T17:47:18.805048Z",
     "iopub.status.busy": "2023-07-01T17:47:18.804720Z",
     "iopub.status.idle": "2023-07-01T17:47:18.850460Z",
     "shell.execute_reply": "2023-07-01T17:47:18.849604Z"
    },
    "papermill": {
     "duration": 0.054105,
     "end_time": "2023-07-01T17:47:18.852458",
     "exception": false,
     "start_time": "2023-07-01T17:47:18.798353",
     "status": "completed"
    },
    "tags": []
   },
   "outputs": [
    {
     "name": "stdout",
     "output_type": "stream",
     "text": [
      "Setup complete.\n"
     ]
    }
   ],
   "source": [
    "from learntools.core import binder\n",
    "binder.bind(globals())\n",
    "from learntools.intro_to_programming.ex5 import *\n",
    "print('Setup complete.')"
   ]
  },
  {
   "cell_type": "markdown",
   "id": "452983b3",
   "metadata": {
    "papermill": {
     "duration": 0.004891,
     "end_time": "2023-07-01T17:47:18.862689",
     "exception": false,
     "start_time": "2023-07-01T17:47:18.857798",
     "status": "completed"
    },
    "tags": []
   },
   "source": [
    "# Question 1\n",
    "\n",
    "You own a restaurant with five food dishes, organized in the Python list `menu` below.  One day, you decide to:\n",
    "- remove bean soup (`'bean soup'`) from the menu, and\n",
    "- add roasted beet salad (`'roasted beet salad'`) to the menu.\n",
    "\n",
    "Implement this change to the list below.  While completing this task, \n",
    "- do not change the line that creates the `menu` list.  \n",
    "- your answer should use `.remove()` and `.append()`.  "
   ]
  },
  {
   "cell_type": "code",
   "execution_count": 2,
   "id": "155ab6b8",
   "metadata": {
    "execution": {
     "iopub.execute_input": "2023-07-01T17:47:18.877245Z",
     "iopub.status.busy": "2023-07-01T17:47:18.876655Z",
     "iopub.status.idle": "2023-07-01T17:47:18.888758Z",
     "shell.execute_reply": "2023-07-01T17:47:18.887653Z"
    },
    "papermill": {
     "duration": 0.022666,
     "end_time": "2023-07-01T17:47:18.890757",
     "exception": false,
     "start_time": "2023-07-01T17:47:18.868091",
     "status": "completed"
    },
    "tags": []
   },
   "outputs": [
    {
     "name": "stdout",
     "output_type": "stream",
     "text": [
      "['stewed meat with onions', 'risotto with trout and shrimp', 'fish soup with cream and onion', 'gyro', 'roasted beet salad']\n"
     ]
    },
    {
     "data": {
      "application/javascript": [
       "parent.postMessage({\"jupyterEvent\": \"custom.exercise_interaction\", \"data\": {\"outcomeType\": 1, \"valueTowardsCompletion\": 0.2, \"interactionType\": 1, \"questionType\": 2, \"questionId\": \"1_FoodMenu\", \"learnToolsVersion\": \"0.3.4\", \"failureMessage\": \"\", \"exceptionClass\": \"\", \"trace\": \"\"}}, \"*\")"
      ],
      "text/plain": [
       "<IPython.core.display.Javascript object>"
      ]
     },
     "metadata": {},
     "output_type": "display_data"
    },
    {
     "data": {
      "text/markdown": [
       "<span style=\"color:#33cc33\">Correct</span>"
      ],
      "text/plain": [
       "Correct"
      ]
     },
     "metadata": {},
     "output_type": "display_data"
    }
   ],
   "source": [
    "# Do not change: Initial menu for your restaurant\n",
    "menu = ['stewed meat with onions', 'bean soup', 'risotto with trout and shrimp',\n",
    "       'fish soup with cream and onion', 'gyro']\n",
    "\n",
    "# TODO: remove 'bean soup', and add 'roasted beet salad' to the end of the menu\n",
    "menu.remove('bean soup')\n",
    "menu.append('roasted beet salad')\n",
    "\n",
    "print(menu)\n",
    "\n",
    "# Do not change: Check your answer\n",
    "q1.check()"
   ]
  },
  {
   "cell_type": "code",
   "execution_count": 3,
   "id": "3af7d9a0",
   "metadata": {
    "execution": {
     "iopub.execute_input": "2023-07-01T17:47:18.904161Z",
     "iopub.status.busy": "2023-07-01T17:47:18.903805Z",
     "iopub.status.idle": "2023-07-01T17:47:18.914941Z",
     "shell.execute_reply": "2023-07-01T17:47:18.913699Z"
    },
    "papermill": {
     "duration": 0.020332,
     "end_time": "2023-07-01T17:47:18.917023",
     "exception": false,
     "start_time": "2023-07-01T17:47:18.896691",
     "status": "completed"
    },
    "tags": []
   },
   "outputs": [
    {
     "data": {
      "application/javascript": [
       "parent.postMessage({\"jupyterEvent\": \"custom.exercise_interaction\", \"data\": {\"interactionType\": 2, \"questionType\": 2, \"questionId\": \"1_FoodMenu\", \"learnToolsVersion\": \"0.3.4\", \"valueTowardsCompletion\": 0.0, \"failureMessage\": \"\", \"exceptionClass\": \"\", \"trace\": \"\", \"outcomeType\": 4}}, \"*\")"
      ],
      "text/plain": [
       "<IPython.core.display.Javascript object>"
      ]
     },
     "metadata": {},
     "output_type": "display_data"
    },
    {
     "data": {
      "text/markdown": [
       "<span style=\"color:#3366cc\">Hint:</span> Here is the original line of code that created the menu: `menu = ['stewed meat with onions', 'bean soup', 'risotto with trout and shrimp', 'fish soup with cream and onion', 'gyro']`.  Use `.append()` to add an item, and use `.remove()` to remove an item."
      ],
      "text/plain": [
       "Hint: Here is the original line of code that created the menu: `menu = ['stewed meat with onions', 'bean soup', 'risotto with trout and shrimp', 'fish soup with cream and onion', 'gyro']`.  Use `.append()` to add an item, and use `.remove()` to remove an item."
      ]
     },
     "metadata": {},
     "output_type": "display_data"
    },
    {
     "data": {
      "application/javascript": [
       "parent.postMessage({\"jupyterEvent\": \"custom.exercise_interaction\", \"data\": {\"interactionType\": 3, \"questionType\": 2, \"questionId\": \"1_FoodMenu\", \"learnToolsVersion\": \"0.3.4\", \"valueTowardsCompletion\": 0.0, \"failureMessage\": \"\", \"exceptionClass\": \"\", \"trace\": \"\", \"outcomeType\": 4}}, \"*\")"
      ],
      "text/plain": [
       "<IPython.core.display.Javascript object>"
      ]
     },
     "metadata": {},
     "output_type": "display_data"
    },
    {
     "data": {
      "text/markdown": [
       "<span style=\"color:#33cc99\">Solution:</span> \n",
       "```python\n",
       "# Do not change: Initial menu for your restaurant\n",
       "menu = ['stewed meat with onions', 'bean soup', 'risotto with trout and shrimp',\n",
       "       'fish soup with cream and onion', 'gyro']\n",
       "\n",
       "# Remove 'bean soup', and add 'roasted beet salad' to the end of the menu\n",
       "menu.remove('bean soup')\n",
       "menu.append('roasted beet salad')\n",
       "\n",
       "```"
      ],
      "text/plain": [
       "Solution: \n",
       "```python\n",
       "# Do not change: Initial menu for your restaurant\n",
       "menu = ['stewed meat with onions', 'bean soup', 'risotto with trout and shrimp',\n",
       "       'fish soup with cream and onion', 'gyro']\n",
       "\n",
       "# Remove 'bean soup', and add 'roasted beet salad' to the end of the menu\n",
       "menu.remove('bean soup')\n",
       "menu.append('roasted beet salad')\n",
       "\n",
       "```"
      ]
     },
     "metadata": {},
     "output_type": "display_data"
    }
   ],
   "source": [
    "# Uncomment to see a hint\n",
    "q1.hint()\n",
    "\n",
    "# Uncomment to see the solution\n",
    "q1.solution()"
   ]
  },
  {
   "cell_type": "markdown",
   "id": "729248bd",
   "metadata": {
    "papermill": {
     "duration": 0.005659,
     "end_time": "2023-07-01T17:47:18.929174",
     "exception": false,
     "start_time": "2023-07-01T17:47:18.923515",
     "status": "completed"
    },
    "tags": []
   },
   "source": [
    "# Question 2\n",
    "\n",
    "The list `num_customers` contains the number of customers who came into your restaurant every day over the last month (which lasted thirty days).  Fill in values for each of the following:\n",
    "- `avg_first_seven` - average number of customers who visited in the first seven days\n",
    "- `avg_last_seven` - average number of customers who visited in the last seven days\n",
    "- `max_month` - number of customers on the day that got the most customers in the last month\n",
    "- `min_month` - number of customers on the day that got the least customers in the last month\n",
    "\n",
    "Answer this question by writing code.  For instance, if you have to find the minimum value in a list, use `min()` instead of scanning for the smallest value and directly filling in a number."
   ]
  },
  {
   "cell_type": "code",
   "execution_count": 4,
   "id": "0c204280",
   "metadata": {
    "execution": {
     "iopub.execute_input": "2023-07-01T17:47:18.942844Z",
     "iopub.status.busy": "2023-07-01T17:47:18.942057Z",
     "iopub.status.idle": "2023-07-01T17:47:18.951257Z",
     "shell.execute_reply": "2023-07-01T17:47:18.950624Z"
    },
    "papermill": {
     "duration": 0.017817,
     "end_time": "2023-07-01T17:47:18.952971",
     "exception": false,
     "start_time": "2023-07-01T17:47:18.935154",
     "status": "completed"
    },
    "tags": []
   },
   "outputs": [
    {
     "data": {
      "application/javascript": [
       "parent.postMessage({\"jupyterEvent\": \"custom.exercise_interaction\", \"data\": {\"outcomeType\": 1, \"valueTowardsCompletion\": 0.2, \"interactionType\": 1, \"questionType\": 1, \"questionId\": \"2_NumCustomers\", \"learnToolsVersion\": \"0.3.4\", \"failureMessage\": \"\", \"exceptionClass\": \"\", \"trace\": \"\"}}, \"*\")"
      ],
      "text/plain": [
       "<IPython.core.display.Javascript object>"
      ]
     },
     "metadata": {},
     "output_type": "display_data"
    },
    {
     "data": {
      "text/markdown": [
       "<span style=\"color:#33cc33\">Correct</span>"
      ],
      "text/plain": [
       "Correct"
      ]
     },
     "metadata": {},
     "output_type": "display_data"
    }
   ],
   "source": [
    "# Do not change: Number of customers each day for the last month\n",
    "num_customers = [137, 147, 135, 128, 170, 174, 165, 146, 126, 159,\n",
    "                 141, 148, 132, 147, 168, 153, 170, 161, 148, 152,\n",
    "                 141, 151, 131, 149, 164, 163, 143, 143, 166, 171]\n",
    "\n",
    "# TODO: Fill in values for the variables below\n",
    "avg_first_seven = (num_customers[0]+num_customers[1]+num_customers[2]+num_customers[3]+num_customers[4]+num_customers[5]+num_customers[6])/7 \n",
    "avg_last_seven = (num_customers[23]+num_customers[24]+num_customers[25]+num_customers[26]+num_customers[27]+num_customers[28]+num_customers[29])/7 \n",
    "max_month = max(num_customers)\n",
    "min_month = min(num_customers)\n",
    "\n",
    "# Do not change: Check your answer\n",
    "q2.check()"
   ]
  },
  {
   "cell_type": "code",
   "execution_count": 5,
   "id": "fa84c3f8",
   "metadata": {
    "execution": {
     "iopub.execute_input": "2023-07-01T17:47:18.966764Z",
     "iopub.status.busy": "2023-07-01T17:47:18.966161Z",
     "iopub.status.idle": "2023-07-01T17:47:18.976274Z",
     "shell.execute_reply": "2023-07-01T17:47:18.975632Z"
    },
    "papermill": {
     "duration": 0.018834,
     "end_time": "2023-07-01T17:47:18.977920",
     "exception": false,
     "start_time": "2023-07-01T17:47:18.959086",
     "status": "completed"
    },
    "tags": []
   },
   "outputs": [
    {
     "data": {
      "application/javascript": [
       "parent.postMessage({\"jupyterEvent\": \"custom.exercise_interaction\", \"data\": {\"interactionType\": 2, \"questionType\": 1, \"questionId\": \"2_NumCustomers\", \"learnToolsVersion\": \"0.3.4\", \"valueTowardsCompletion\": 0.0, \"failureMessage\": \"\", \"exceptionClass\": \"\", \"trace\": \"\", \"outcomeType\": 4}}, \"*\")"
      ],
      "text/plain": [
       "<IPython.core.display.Javascript object>"
      ]
     },
     "metadata": {},
     "output_type": "display_data"
    },
    {
     "data": {
      "text/markdown": [
       "<span style=\"color:#3366cc\">Hint:</span> To take the average of a list of numbers, you can calculate the sum and then divide by the length. And, to pull the last `y` entries of a list `my_list`, use `my_list[-y:]`."
      ],
      "text/plain": [
       "Hint: To take the average of a list of numbers, you can calculate the sum and then divide by the length. And, to pull the last `y` entries of a list `my_list`, use `my_list[-y:]`."
      ]
     },
     "metadata": {},
     "output_type": "display_data"
    },
    {
     "data": {
      "application/javascript": [
       "parent.postMessage({\"jupyterEvent\": \"custom.exercise_interaction\", \"data\": {\"interactionType\": 3, \"questionType\": 1, \"questionId\": \"2_NumCustomers\", \"learnToolsVersion\": \"0.3.4\", \"valueTowardsCompletion\": 0.0, \"failureMessage\": \"\", \"exceptionClass\": \"\", \"trace\": \"\", \"outcomeType\": 4}}, \"*\")"
      ],
      "text/plain": [
       "<IPython.core.display.Javascript object>"
      ]
     },
     "metadata": {},
     "output_type": "display_data"
    },
    {
     "data": {
      "text/markdown": [
       "<span style=\"color:#33cc99\">Solution:</span> \n",
       "```python\n",
       "# Fill in values for the variables below\n",
       "avg_first_seven = sum(num_customers[:7])/7 \n",
       "avg_last_seven = sum(num_customers[-7:])/7\n",
       "max_month = max(num_customers)\n",
       "min_month = min(num_customers)\n",
       "\n",
       "```"
      ],
      "text/plain": [
       "Solution: \n",
       "```python\n",
       "# Fill in values for the variables below\n",
       "avg_first_seven = sum(num_customers[:7])/7 \n",
       "avg_last_seven = sum(num_customers[-7:])/7\n",
       "max_month = max(num_customers)\n",
       "min_month = min(num_customers)\n",
       "\n",
       "```"
      ]
     },
     "metadata": {},
     "output_type": "display_data"
    }
   ],
   "source": [
    "# Uncomment to see a hint\n",
    "q2.hint()\n",
    "\n",
    "# Uncomment to see the solution\n",
    "q2.solution()"
   ]
  },
  {
   "cell_type": "markdown",
   "id": "6839ea41",
   "metadata": {
    "papermill": {
     "duration": 0.006962,
     "end_time": "2023-07-01T17:47:18.991580",
     "exception": false,
     "start_time": "2023-07-01T17:47:18.984618",
     "status": "completed"
    },
    "tags": []
   },
   "source": [
    "# Question 3\n",
    "\n",
    "In the tutorial, we gave an example of a Python string with information that was better as a list."
   ]
  },
  {
   "cell_type": "code",
   "execution_count": 6,
   "id": "40542585",
   "metadata": {
    "execution": {
     "iopub.execute_input": "2023-07-01T17:47:19.006920Z",
     "iopub.status.busy": "2023-07-01T17:47:19.006407Z",
     "iopub.status.idle": "2023-07-01T17:47:19.010139Z",
     "shell.execute_reply": "2023-07-01T17:47:19.009557Z"
    },
    "papermill": {
     "duration": 0.013469,
     "end_time": "2023-07-01T17:47:19.011768",
     "exception": false,
     "start_time": "2023-07-01T17:47:18.998299",
     "status": "completed"
    },
    "tags": []
   },
   "outputs": [],
   "source": [
    "flowers = \"pink primrose,hard-leaved pocket orchid,canterbury bells,sweet pea,english marigold,tiger lily,moon orchid,bird of paradise,monkshood,globe thistle\""
   ]
  },
  {
   "cell_type": "markdown",
   "id": "ec2c7a04",
   "metadata": {
    "papermill": {
     "duration": 0.006283,
     "end_time": "2023-07-01T17:47:19.025019",
     "exception": false,
     "start_time": "2023-07-01T17:47:19.018736",
     "status": "completed"
    },
    "tags": []
   },
   "source": [
    "You can actually use Python to quickly turn this string into a list with `.split()`.  In the parentheses, we need to provide the character should be used to mark the end of one list item and the beginning of another, and enclose it in quotation marks.  In this case, that character is a comma."
   ]
  },
  {
   "cell_type": "code",
   "execution_count": 7,
   "id": "f9d00aa2",
   "metadata": {
    "execution": {
     "iopub.execute_input": "2023-07-01T17:47:19.039885Z",
     "iopub.status.busy": "2023-07-01T17:47:19.039330Z",
     "iopub.status.idle": "2023-07-01T17:47:19.044542Z",
     "shell.execute_reply": "2023-07-01T17:47:19.043537Z"
    },
    "papermill": {
     "duration": 0.014562,
     "end_time": "2023-07-01T17:47:19.046210",
     "exception": false,
     "start_time": "2023-07-01T17:47:19.031648",
     "status": "completed"
    },
    "tags": []
   },
   "outputs": [
    {
     "name": "stdout",
     "output_type": "stream",
     "text": [
      "['pink primrose', 'hard-leaved pocket orchid', 'canterbury bells', 'sweet pea', 'english marigold', 'tiger lily', 'moon orchid', 'bird of paradise', 'monkshood', 'globe thistle']\n"
     ]
    }
   ],
   "source": [
    " print(flowers.split(\",\"))"
   ]
  },
  {
   "cell_type": "markdown",
   "id": "eb6cbe4a",
   "metadata": {
    "papermill": {
     "duration": 0.006583,
     "end_time": "2023-07-01T17:47:19.059648",
     "exception": false,
     "start_time": "2023-07-01T17:47:19.053065",
     "status": "completed"
    },
    "tags": []
   },
   "source": [
    "Now it is your turn to try this out!  Create two Python lists:\n",
    "- `letters` should be a Python list where each entry is an uppercase letter of the English alphabet.  For instance, the first two entries should be `\"A\"` and `\"B\"`, and the final two entries should be `\"Y\"` and `\"Z\"`.  Use the string `alphabet` to create this list.\n",
    "- `address` should be a Python list where each row in `address` is a different item in the list.  Currently, each row in `address` is separated by a comma. "
   ]
  },
  {
   "cell_type": "code",
   "execution_count": 8,
   "id": "7d0c3771",
   "metadata": {
    "execution": {
     "iopub.execute_input": "2023-07-01T17:47:19.075293Z",
     "iopub.status.busy": "2023-07-01T17:47:19.074921Z",
     "iopub.status.idle": "2023-07-01T17:47:19.082722Z",
     "shell.execute_reply": "2023-07-01T17:47:19.081842Z"
    },
    "papermill": {
     "duration": 0.017663,
     "end_time": "2023-07-01T17:47:19.084431",
     "exception": false,
     "start_time": "2023-07-01T17:47:19.066768",
     "status": "completed"
    },
    "tags": []
   },
   "outputs": [
    {
     "data": {
      "application/javascript": [
       "parent.postMessage({\"jupyterEvent\": \"custom.exercise_interaction\", \"data\": {\"outcomeType\": 1, \"valueTowardsCompletion\": 0.2, \"interactionType\": 1, \"questionType\": 1, \"questionId\": \"3_SplitString\", \"learnToolsVersion\": \"0.3.4\", \"failureMessage\": \"\", \"exceptionClass\": \"\", \"trace\": \"\"}}, \"*\")"
      ],
      "text/plain": [
       "<IPython.core.display.Javascript object>"
      ]
     },
     "metadata": {},
     "output_type": "display_data"
    },
    {
     "data": {
      "text/markdown": [
       "<span style=\"color:#33cc33\">Correct</span>"
      ],
      "text/plain": [
       "Correct"
      ]
     },
     "metadata": {},
     "output_type": "display_data"
    }
   ],
   "source": [
    "# DO not change: Define two Python strings\n",
    "alphabet = \"A.B.C.D.E.F.G.H.I.J.K.L.M.N.O.P.Q.R.S.T.U.V.W.X.Y.Z\"\n",
    "address = \"Mr. H. Potter,The cupboard under the Stairs,4 Privet Drive,Little Whinging,Surrey\"\n",
    "\n",
    "# TODO: Convert strings into Python lists\n",
    "letters = alphabet.split(\".\")\n",
    "formatted_address = address.split(\",\")\n",
    "\n",
    "# Do not change: Check your answer\n",
    "q3.check()"
   ]
  },
  {
   "cell_type": "code",
   "execution_count": 9,
   "id": "bb3bda56",
   "metadata": {
    "execution": {
     "iopub.execute_input": "2023-07-01T17:47:19.100644Z",
     "iopub.status.busy": "2023-07-01T17:47:19.100236Z",
     "iopub.status.idle": "2023-07-01T17:47:19.111488Z",
     "shell.execute_reply": "2023-07-01T17:47:19.110323Z"
    },
    "papermill": {
     "duration": 0.021927,
     "end_time": "2023-07-01T17:47:19.113619",
     "exception": false,
     "start_time": "2023-07-01T17:47:19.091692",
     "status": "completed"
    },
    "tags": []
   },
   "outputs": [
    {
     "data": {
      "application/javascript": [
       "parent.postMessage({\"jupyterEvent\": \"custom.exercise_interaction\", \"data\": {\"interactionType\": 2, \"questionType\": 1, \"questionId\": \"3_SplitString\", \"learnToolsVersion\": \"0.3.4\", \"valueTowardsCompletion\": 0.0, \"failureMessage\": \"\", \"exceptionClass\": \"\", \"trace\": \"\", \"outcomeType\": 4}}, \"*\")"
      ],
      "text/plain": [
       "<IPython.core.display.Javascript object>"
      ]
     },
     "metadata": {},
     "output_type": "display_data"
    },
    {
     "data": {
      "text/markdown": [
       "<span style=\"color:#3366cc\">Hint:</span> In each case, you need to use `.split()`."
      ],
      "text/plain": [
       "Hint: In each case, you need to use `.split()`."
      ]
     },
     "metadata": {},
     "output_type": "display_data"
    },
    {
     "data": {
      "application/javascript": [
       "parent.postMessage({\"jupyterEvent\": \"custom.exercise_interaction\", \"data\": {\"interactionType\": 3, \"questionType\": 1, \"questionId\": \"3_SplitString\", \"learnToolsVersion\": \"0.3.4\", \"valueTowardsCompletion\": 0.0, \"failureMessage\": \"\", \"exceptionClass\": \"\", \"trace\": \"\", \"outcomeType\": 4}}, \"*\")"
      ],
      "text/plain": [
       "<IPython.core.display.Javascript object>"
      ]
     },
     "metadata": {},
     "output_type": "display_data"
    },
    {
     "data": {
      "text/markdown": [
       "<span style=\"color:#33cc99\">Solution:</span> \n",
       "```python\n",
       "letters = alphabet.split(\".\")\n",
       "formatted_address = address.split(\",\")\n",
       "\n",
       "```"
      ],
      "text/plain": [
       "Solution: \n",
       "```python\n",
       "letters = alphabet.split(\".\")\n",
       "formatted_address = address.split(\",\")\n",
       "\n",
       "```"
      ]
     },
     "metadata": {},
     "output_type": "display_data"
    }
   ],
   "source": [
    "# Uncomment to see a hint\n",
    "q3.hint()\n",
    "\n",
    "# Uncomment to see the solution\n",
    "q3.solution()"
   ]
  },
  {
   "cell_type": "markdown",
   "id": "03eef8e2",
   "metadata": {
    "papermill": {
     "duration": 0.007106,
     "end_time": "2023-07-01T17:47:19.128228",
     "exception": false,
     "start_time": "2023-07-01T17:47:19.121122",
     "status": "completed"
    },
    "tags": []
   },
   "source": [
    "# Question 4\n",
    "\n",
    "In the Python course, you'll learn all about **list comprehensions**, which allow you to create a list based on the values in another list.  In this question, you'll get a brief preview of how they work.\n",
    "\n",
    "Say we're working with the list below."
   ]
  },
  {
   "cell_type": "code",
   "execution_count": 10,
   "id": "a3ad1329",
   "metadata": {
    "execution": {
     "iopub.execute_input": "2023-07-01T17:47:19.144436Z",
     "iopub.status.busy": "2023-07-01T17:47:19.144076Z",
     "iopub.status.idle": "2023-07-01T17:47:19.148145Z",
     "shell.execute_reply": "2023-07-01T17:47:19.147308Z"
    },
    "papermill": {
     "duration": 0.014172,
     "end_time": "2023-07-01T17:47:19.149815",
     "exception": false,
     "start_time": "2023-07-01T17:47:19.135643",
     "status": "completed"
    },
    "tags": []
   },
   "outputs": [],
   "source": [
    "test_ratings = [1, 2, 3, 4, 5]"
   ]
  },
  {
   "cell_type": "markdown",
   "id": "85c576d5",
   "metadata": {
    "papermill": {
     "duration": 0.006985,
     "end_time": "2023-07-01T17:47:19.164717",
     "exception": false,
     "start_time": "2023-07-01T17:47:19.157732",
     "status": "completed"
    },
    "tags": []
   },
   "source": [
    "Then we can use this list (`test_ratings`) to create a new list (`test_liked`) where each item has been turned into a boolean, depending on whether or not the item is greater than or equal to four."
   ]
  },
  {
   "cell_type": "code",
   "execution_count": 11,
   "id": "e93f1184",
   "metadata": {
    "execution": {
     "iopub.execute_input": "2023-07-01T17:47:19.180748Z",
     "iopub.status.busy": "2023-07-01T17:47:19.180340Z",
     "iopub.status.idle": "2023-07-01T17:47:19.186250Z",
     "shell.execute_reply": "2023-07-01T17:47:19.184912Z"
    },
    "papermill": {
     "duration": 0.015885,
     "end_time": "2023-07-01T17:47:19.187802",
     "exception": false,
     "start_time": "2023-07-01T17:47:19.171917",
     "status": "completed"
    },
    "tags": []
   },
   "outputs": [
    {
     "name": "stdout",
     "output_type": "stream",
     "text": [
      "[False, False, False, True, True]\n"
     ]
    }
   ],
   "source": [
    "test_liked = [i>=4 for i in test_ratings]\n",
    "print(test_liked)"
   ]
  },
  {
   "cell_type": "markdown",
   "id": "f379b4b0",
   "metadata": {
    "papermill": {
     "duration": 0.006854,
     "end_time": "2023-07-01T17:47:19.202011",
     "exception": false,
     "start_time": "2023-07-01T17:47:19.195157",
     "status": "completed"
    },
    "tags": []
   },
   "source": [
    "In this question, you'll use this list comprehension to define a function `percentage_liked()` that takes one argument as input:\n",
    "- `ratings`: list of ratings that people gave to a movie, where each rating is a number between 1-5, inclusive\n",
    "\n",
    "We say someone liked the movie, if they gave a rating of either 4 or 5.  Your function should return the percentage of people who liked the movie.\n",
    "\n",
    "For instance, if we supply a value of `[1, 2, 3, 4, 5, 4, 5, 1]`, then 50% (4/8) of the people liked the movie, and the function should return `0.5`.\n",
    "\n",
    "Part of the function has already been completed for you.  You need only use `list_liked` to calculate `percentage_liked`."
   ]
  },
  {
   "cell_type": "code",
   "execution_count": 12,
   "id": "bc68d660",
   "metadata": {
    "execution": {
     "iopub.execute_input": "2023-07-01T17:47:19.218107Z",
     "iopub.status.busy": "2023-07-01T17:47:19.217739Z",
     "iopub.status.idle": "2023-07-01T17:47:19.227086Z",
     "shell.execute_reply": "2023-07-01T17:47:19.226199Z"
    },
    "papermill": {
     "duration": 0.019642,
     "end_time": "2023-07-01T17:47:19.228872",
     "exception": false,
     "start_time": "2023-07-01T17:47:19.209230",
     "status": "completed"
    },
    "tags": []
   },
   "outputs": [
    {
     "data": {
      "application/javascript": [
       "parent.postMessage({\"jupyterEvent\": \"custom.exercise_interaction\", \"data\": {\"outcomeType\": 1, \"valueTowardsCompletion\": 0.2, \"interactionType\": 1, \"questionType\": 2, \"questionId\": \"4_PercentageLiked\", \"learnToolsVersion\": \"0.3.4\", \"failureMessage\": \"\", \"exceptionClass\": \"\", \"trace\": \"\"}}, \"*\")"
      ],
      "text/plain": [
       "<IPython.core.display.Javascript object>"
      ]
     },
     "metadata": {},
     "output_type": "display_data"
    },
    {
     "data": {
      "text/markdown": [
       "<span style=\"color:#33cc33\">Correct</span>"
      ],
      "text/plain": [
       "Correct"
      ]
     },
     "metadata": {},
     "output_type": "display_data"
    }
   ],
   "source": [
    "def percentage_liked(ratings):\n",
    "    list_liked = [rating for rating in ratings if rating >= 4]\n",
    "    percentage = len(list_liked) / len(ratings)\n",
    "    return percentage\n",
    "\n",
    "# Do not change: should return 0.5\n",
    "percentage_liked([1, 2, 3, 4, 5, 4, 5, 1])\n",
    "\n",
    "# Do not change: Check your answer\n",
    "q4.check()"
   ]
  },
  {
   "cell_type": "code",
   "execution_count": 13,
   "id": "d93f8043",
   "metadata": {
    "execution": {
     "iopub.execute_input": "2023-07-01T17:47:19.245812Z",
     "iopub.status.busy": "2023-07-01T17:47:19.245471Z",
     "iopub.status.idle": "2023-07-01T17:47:19.257613Z",
     "shell.execute_reply": "2023-07-01T17:47:19.256198Z"
    },
    "papermill": {
     "duration": 0.023398,
     "end_time": "2023-07-01T17:47:19.260125",
     "exception": false,
     "start_time": "2023-07-01T17:47:19.236727",
     "status": "completed"
    },
    "tags": []
   },
   "outputs": [
    {
     "data": {
      "application/javascript": [
       "parent.postMessage({\"jupyterEvent\": \"custom.exercise_interaction\", \"data\": {\"interactionType\": 2, \"questionType\": 2, \"questionId\": \"4_PercentageLiked\", \"learnToolsVersion\": \"0.3.4\", \"valueTowardsCompletion\": 0.0, \"failureMessage\": \"\", \"exceptionClass\": \"\", \"trace\": \"\", \"outcomeType\": 4}}, \"*\")"
      ],
      "text/plain": [
       "<IPython.core.display.Javascript object>"
      ]
     },
     "metadata": {},
     "output_type": "display_data"
    },
    {
     "data": {
      "text/markdown": [
       "<span style=\"color:#3366cc\">Hint:</span> Remember that when we add booleans, it returns the total number of entries in the sum that are `True`."
      ],
      "text/plain": [
       "Hint: Remember that when we add booleans, it returns the total number of entries in the sum that are `True`."
      ]
     },
     "metadata": {},
     "output_type": "display_data"
    },
    {
     "data": {
      "application/javascript": [
       "parent.postMessage({\"jupyterEvent\": \"custom.exercise_interaction\", \"data\": {\"interactionType\": 3, \"questionType\": 2, \"questionId\": \"4_PercentageLiked\", \"learnToolsVersion\": \"0.3.4\", \"valueTowardsCompletion\": 0.0, \"failureMessage\": \"\", \"exceptionClass\": \"\", \"trace\": \"\", \"outcomeType\": 4}}, \"*\")"
      ],
      "text/plain": [
       "<IPython.core.display.Javascript object>"
      ]
     },
     "metadata": {},
     "output_type": "display_data"
    },
    {
     "data": {
      "text/markdown": [
       "<span style=\"color:#33cc99\">Solution:</span> \n",
       "```python\n",
       "\n",
       "# Complete the function\n",
       "def percentage_liked(ratings):\n",
       "    list_liked = [i >= 4 for i in ratings]\n",
       "    percentage_liked = sum(list_liked)/len(list_liked)\n",
       "    return percentage_liked\n",
       "\n",
       "```"
      ],
      "text/plain": [
       "Solution: \n",
       "```python\n",
       "\n",
       "# Complete the function\n",
       "def percentage_liked(ratings):\n",
       "    list_liked = [i >= 4 for i in ratings]\n",
       "    percentage_liked = sum(list_liked)/len(list_liked)\n",
       "    return percentage_liked\n",
       "\n",
       "```"
      ]
     },
     "metadata": {},
     "output_type": "display_data"
    }
   ],
   "source": [
    "# Uncomment to see a hint\n",
    "q4.hint()\n",
    "\n",
    "# Uncomment to see the solution\n",
    "q4.solution()"
   ]
  },
  {
   "cell_type": "markdown",
   "id": "bf25e17d",
   "metadata": {
    "papermill": {
     "duration": 0.008957,
     "end_time": "2023-07-01T17:47:19.277758",
     "exception": false,
     "start_time": "2023-07-01T17:47:19.268801",
     "status": "completed"
    },
    "tags": []
   },
   "source": [
    "# 🌶️ Question 5\n",
    " \n",
    "Say you're doing analytics for a website.  You need to write a function that returns the percentage growth in the total number of users relative to a specified number of years ago.\n",
    "\n",
    "Your function `percentage_growth()` should take two arguments as input:\n",
    "- `num_users` = Python list with the total number of users each year.  So `num_users[0]` is the total number of users in the first year, `num_users[1]` is the total number of users in the second year, and so on.  The final entry in the list gives the total number of users in the most recently completed year.\n",
    "- `yrs_ago` = number of years to go back in time when calculating the growth percentage\n",
    "\n",
    "For instance, say `num_users = [920344, 1043553, 1204334, 1458996, 1503323, 1593432, 1623463, 1843064, 1930992, 2001078]`.\n",
    "- if `yrs_ago = 1`, we want the function to return a value of about `0.036`. This corresponds to a percentage growth of approximately 3.6%, calculated as (2001078 - 1930992)/1930992.\n",
    "- if `years_ago = 7`, we would want to return approximately `0.66`.  This corresponds to a percentage growth of approximately 66%, calculated as (2001078 - 1204334)/1204334.\n",
    "\n",
    "Your coworker sent you a draft of a function, but it doesn't seem to be doing the correct calculation.  Can you figure out what has gone wrong and make the needed changes?"
   ]
  },
  {
   "cell_type": "code",
   "execution_count": 14,
   "id": "59394d00",
   "metadata": {
    "execution": {
     "iopub.execute_input": "2023-07-01T17:47:19.297524Z",
     "iopub.status.busy": "2023-07-01T17:47:19.297164Z",
     "iopub.status.idle": "2023-07-01T17:47:19.308421Z",
     "shell.execute_reply": "2023-07-01T17:47:19.306751Z"
    },
    "papermill": {
     "duration": 0.023344,
     "end_time": "2023-07-01T17:47:19.311114",
     "exception": false,
     "start_time": "2023-07-01T17:47:19.287770",
     "status": "completed"
    },
    "tags": []
   },
   "outputs": [
    {
     "name": "stdout",
     "output_type": "stream",
     "text": [
      "0.03629533421163837\n",
      "0.6615639847417742\n"
     ]
    },
    {
     "data": {
      "application/javascript": [
       "parent.postMessage({\"jupyterEvent\": \"custom.exercise_interaction\", \"data\": {\"outcomeType\": 1, \"valueTowardsCompletion\": 0.2, \"interactionType\": 1, \"questionType\": 2, \"questionId\": \"5_WebsiteAnalytics\", \"learnToolsVersion\": \"0.3.4\", \"failureMessage\": \"\", \"exceptionClass\": \"\", \"trace\": \"\"}}, \"*\")"
      ],
      "text/plain": [
       "<IPython.core.display.Javascript object>"
      ]
     },
     "metadata": {},
     "output_type": "display_data"
    },
    {
     "data": {
      "text/markdown": [
       "<span style=\"color:#33cc33\">Correct</span>"
      ],
      "text/plain": [
       "Correct"
      ]
     },
     "metadata": {},
     "output_type": "display_data"
    }
   ],
   "source": [
    "# TODO: Edit the function\n",
    "def percentage_growth(num_users, yrs_ago):\n",
    "    growth = (num_users[len(num_users)-1] - num_users[len(num_users)-yrs_ago-1])/num_users[len(num_users)-yrs_ago-1]\n",
    "    return growth\n",
    "\n",
    "# Do not change: Variable for calculating some test examples\n",
    "num_users_test = [920344, 1043553, 1204334, 1458996, 1503323, 1593432, 1623463, 1843064, 1930992, 2001078]\n",
    "\n",
    "# Do not change: Should return .036\n",
    "print(percentage_growth(num_users_test, 1))\n",
    "\n",
    "# Do not change: Should return 0.66\n",
    "print(percentage_growth(num_users_test, 7))\n",
    "\n",
    "# Do not change: Check your answer\n",
    "q5.check()"
   ]
  },
  {
   "cell_type": "code",
   "execution_count": 15,
   "id": "2493a986",
   "metadata": {
    "execution": {
     "iopub.execute_input": "2023-07-01T17:47:19.329938Z",
     "iopub.status.busy": "2023-07-01T17:47:19.329595Z",
     "iopub.status.idle": "2023-07-01T17:47:19.341452Z",
     "shell.execute_reply": "2023-07-01T17:47:19.340363Z"
    },
    "papermill": {
     "duration": 0.024117,
     "end_time": "2023-07-01T17:47:19.344029",
     "exception": false,
     "start_time": "2023-07-01T17:47:19.319912",
     "status": "completed"
    },
    "tags": []
   },
   "outputs": [
    {
     "data": {
      "application/javascript": [
       "parent.postMessage({\"jupyterEvent\": \"custom.exercise_interaction\", \"data\": {\"interactionType\": 2, \"questionType\": 2, \"questionId\": \"5_WebsiteAnalytics\", \"learnToolsVersion\": \"0.3.4\", \"valueTowardsCompletion\": 0.0, \"failureMessage\": \"\", \"exceptionClass\": \"\", \"trace\": \"\", \"outcomeType\": 4}}, \"*\")"
      ],
      "text/plain": [
       "<IPython.core.display.Javascript object>"
      ]
     },
     "metadata": {},
     "output_type": "display_data"
    },
    {
     "data": {
      "text/markdown": [
       "<span style=\"color:#3366cc\">Hint:</span> It's already correct that you need to subtract two numbers from the list, before dividing by an item in the list. You only need to modify the positions for the items that are pulled from the list. \n",
       "\n",
       "In order to pull the final entry in the `num_users` list, you would need to use `num_users[len(num_users)-1]`.  This corresponds to the number of users in the most recently completed year.  \n",
       "\n",
       "Then, to get the number of users from one year prior, you should use `num_users[len(num_users)-2]`.  \n",
       "\n",
       "To get the number of users from `yrs_ago` years ago, use `num_users[len(num_users)-yrs_ago-1]`."
      ],
      "text/plain": [
       "Hint: It's already correct that you need to subtract two numbers from the list, before dividing by an item in the list. You only need to modify the positions for the items that are pulled from the list. \n",
       "\n",
       "In order to pull the final entry in the `num_users` list, you would need to use `num_users[len(num_users)-1]`.  This corresponds to the number of users in the most recently completed year.  \n",
       "\n",
       "Then, to get the number of users from one year prior, you should use `num_users[len(num_users)-2]`.  \n",
       "\n",
       "To get the number of users from `yrs_ago` years ago, use `num_users[len(num_users)-yrs_ago-1]`."
      ]
     },
     "metadata": {},
     "output_type": "display_data"
    },
    {
     "data": {
      "application/javascript": [
       "parent.postMessage({\"jupyterEvent\": \"custom.exercise_interaction\", \"data\": {\"interactionType\": 3, \"questionType\": 2, \"questionId\": \"5_WebsiteAnalytics\", \"learnToolsVersion\": \"0.3.4\", \"valueTowardsCompletion\": 0.0, \"failureMessage\": \"\", \"exceptionClass\": \"\", \"trace\": \"\", \"outcomeType\": 4}}, \"*\")"
      ],
      "text/plain": [
       "<IPython.core.display.Javascript object>"
      ]
     },
     "metadata": {},
     "output_type": "display_data"
    },
    {
     "data": {
      "text/markdown": [
       "<span style=\"color:#33cc99\">Solution:</span> \n",
       "```python\n",
       "def percentage_growth(num_users, yrs_ago):\n",
       "    growth = (num_users[len(num_users)-1] - num_users[len(num_users)-yrs_ago-1])/num_users[len(num_users)-yrs_ago-1]\n",
       "    return growth\n",
       "\n",
       "```"
      ],
      "text/plain": [
       "Solution: \n",
       "```python\n",
       "def percentage_growth(num_users, yrs_ago):\n",
       "    growth = (num_users[len(num_users)-1] - num_users[len(num_users)-yrs_ago-1])/num_users[len(num_users)-yrs_ago-1]\n",
       "    return growth\n",
       "\n",
       "```"
      ]
     },
     "metadata": {},
     "output_type": "display_data"
    }
   ],
   "source": [
    "# Uncomment to see a hint\n",
    "q5.hint()\n",
    "\n",
    "# Uncomment to see the solution\n",
    "q5.solution()"
   ]
  },
  {
   "cell_type": "markdown",
   "id": "d731272f",
   "metadata": {
    "papermill": {
     "duration": 0.008857,
     "end_time": "2023-07-01T17:47:19.362282",
     "exception": false,
     "start_time": "2023-07-01T17:47:19.353425",
     "status": "completed"
    },
    "tags": []
   },
   "source": [
    "# Congratulations!\n",
    "\n",
    "Congratulations for finishing the Intro to Programming course!  You should be proud of your very first steps with learning programming.  As next steps, we recommend taking:\n",
    "- the **[Python course](http://www.kaggle.com/learn/python)**, and \n",
    "- the **[Intro to Machine Learning course](https://www.kaggle.com/learn/intro-to-machine-learning)**."
   ]
  },
  {
   "cell_type": "markdown",
   "id": "c2bd330d",
   "metadata": {
    "papermill": {
     "duration": 0.008659,
     "end_time": "2023-07-01T17:47:19.380008",
     "exception": false,
     "start_time": "2023-07-01T17:47:19.371349",
     "status": "completed"
    },
    "tags": []
   },
   "source": [
    "---\n",
    "\n",
    "\n",
    "\n",
    "\n",
    "*Have questions or comments? Visit the [course discussion forum](https://www.kaggle.com/learn/intro-to-programming/discussion) to chat with other learners.*"
   ]
  }
 ],
 "metadata": {
  "kernelspec": {
   "display_name": "Python 3",
   "language": "python",
   "name": "python3"
  },
  "language_info": {
   "codemirror_mode": {
    "name": "ipython",
    "version": 3
   },
   "file_extension": ".py",
   "mimetype": "text/x-python",
   "name": "python",
   "nbconvert_exporter": "python",
   "pygments_lexer": "ipython3",
   "version": "3.10.10"
  },
  "papermill": {
   "default_parameters": {},
   "duration": 12.092623,
   "end_time": "2023-07-01T17:47:20.213327",
   "environment_variables": {},
   "exception": null,
   "input_path": "__notebook__.ipynb",
   "output_path": "__notebook__.ipynb",
   "parameters": {},
   "start_time": "2023-07-01T17:47:08.120704",
   "version": "2.4.0"
  }
 },
 "nbformat": 4,
 "nbformat_minor": 5
}
