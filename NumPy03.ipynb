{
  "cells": [
    {
      "cell_type": "markdown",
      "metadata": {
        "id": "view-in-github",
        "colab_type": "text"
      },
      "source": [
        "<a href=\"https://colab.research.google.com/github/VivianeSouza923/HCIA_AI_HUAWEI_STUDY_if/blob/main/NumPy03.ipynb\" target=\"_parent\"><img src=\"https://colab.research.google.com/assets/colab-badge.svg\" alt=\"Open In Colab\"/></a>"
      ]
    },
    {
      "cell_type": "markdown",
      "metadata": {
        "id": "Buy1HADaJwFe"
      },
      "source": [
        "#Exercises"
      ]
    },
    {
      "cell_type": "markdown",
      "metadata": {
        "id": "ibUfXifbJwFf"
      },
      "source": [
        "#### 1. Import NumPy as np"
      ]
    },
    {
      "cell_type": "code",
      "execution_count": null,
      "metadata": {
        "id": "el2g_OVxJwFh"
      },
      "outputs": [],
      "source": [
        "import numpy as np"
      ]
    },
    {
      "cell_type": "markdown",
      "metadata": {
        "id": "OdEpxzfTJwFk"
      },
      "source": [
        "#### 2. Create an array of 10 zeros "
      ]
    },
    {
      "cell_type": "code",
      "execution_count": null,
      "metadata": {
        "colab": {
          "base_uri": "https://localhost:8080/"
        },
        "id": "GqUZn9nHJwFm",
        "outputId": "4df30709-99e9-4543-ce29-727b8492f9c9"
      },
      "outputs": [
        {
          "data": {
            "text/plain": [
              "array([0., 0., 0., 0., 0., 0., 0., 0., 0., 0.])"
            ]
          },
          "execution_count": 3,
          "metadata": {},
          "output_type": "execute_result"
        }
      ],
      "source": [
        "array = np.zeros(10)\n",
        "array\n",
        "# output: array([0., 0., 0., 0., 0., 0., 0., 0., 0., 0.])"
      ]
    },
    {
      "cell_type": "markdown",
      "metadata": {
        "id": "m382-javJwFq"
      },
      "source": [
        "#### 3. Create an array of 10 ones"
      ]
    },
    {
      "cell_type": "code",
      "execution_count": null,
      "metadata": {
        "colab": {
          "base_uri": "https://localhost:8080/"
        },
        "id": "new6jSk5JwFq",
        "outputId": "9680f495-0ce2-4aea-f468-cc15a766ec82"
      },
      "outputs": [
        {
          "data": {
            "text/plain": [
              "array([1., 1., 1., 1., 1., 1., 1., 1., 1., 1.])"
            ]
          },
          "execution_count": 4,
          "metadata": {},
          "output_type": "execute_result"
        }
      ],
      "source": [
        "array_tenOnes = np.ones(10)\n",
        "array_tenOnes\n",
        "# output: array([1., 1., 1., 1., 1., 1., 1., 1., 1., 1.])"
      ]
    },
    {
      "cell_type": "markdown",
      "metadata": {
        "id": "ApZ5Oi6_JwFs"
      },
      "source": [
        "#### 4. Create an array of 10 fives"
      ]
    },
    {
      "cell_type": "code",
      "execution_count": null,
      "metadata": {
        "colab": {
          "base_uri": "https://localhost:8080/"
        },
        "id": "qKNaFF7gJwFt",
        "outputId": "bb77c7e5-92d5-4620-d4bd-b4f75c4a47c1"
      },
      "outputs": [
        {
          "data": {
            "text/plain": [
              "array([5, 5, 5, 5, 5, 5, 5, 5, 5, 5])"
            ]
          },
          "execution_count": 5,
          "metadata": {},
          "output_type": "execute_result"
        }
      ],
      "source": [
        "array_five = np.array([5, 5, 5, 5, 5, 5, 5, 5, 5, 5])\n",
        "array_five\n",
        "# output: array([5., 5., 5., 5., 5., 5., 5., 5., 5., 5.])"
      ]
    },
    {
      "cell_type": "markdown",
      "metadata": {
        "id": "JBKYjEnyJwFu"
      },
      "source": [
        "#### 5. Create an array of the integers from 10 to 50"
      ]
    },
    {
      "cell_type": "code",
      "execution_count": null,
      "metadata": {
        "colab": {
          "base_uri": "https://localhost:8080/"
        },
        "id": "z7yIqTFDJwFu",
        "outputId": "6efe1f97-6eb1-4a58-d056-6e7bc0d8be5c"
      },
      "outputs": [
        {
          "data": {
            "text/plain": [
              "array([10, 11, 12, 13, 14, 15, 16, 17, 18, 19, 20, 21, 22, 23, 24, 25, 26,\n",
              "       27, 28, 29, 30, 31, 32, 33, 34, 35, 36, 37, 38, 39, 40, 41, 42, 43,\n",
              "       44, 45, 46, 47, 48, 49, 50])"
            ]
          },
          "execution_count": 6,
          "metadata": {},
          "output_type": "execute_result"
        }
      ],
      "source": [
        "array_DaC = np.arange(10, 51)\n",
        "array_DaC\n",
        "# output: array([10, 11, 12, 13, 14, 15, 16, 17, 18, 19, 20, 21, 22, 23, 24, 25, 26,\n",
        "#                27, 28, 29, 30, 31, 32, 33, 34, 35, 36, 37, 38, 39, 40, 41, 42, 43,\n",
        "#                44, 45, 46, 47, 48, 49, 50])"
      ]
    },
    {
      "cell_type": "markdown",
      "metadata": {
        "id": "5HvS_BR-JwFw"
      },
      "source": [
        "#### 6. Create an array of all the even integers from 10 to 50"
      ]
    },
    {
      "cell_type": "code",
      "execution_count": null,
      "metadata": {
        "colab": {
          "base_uri": "https://localhost:8080/"
        },
        "collapsed": true,
        "id": "bYcqCPlmJwFx",
        "outputId": "23fcde43-b07d-4182-d801-953f54fee867"
      },
      "outputs": [
        {
          "data": {
            "text/plain": [
              "array([10, 12, 14, 16, 18, 20, 22, 24, 26, 28, 30, 32, 34, 36, 38, 40, 42,\n",
              "       44, 46, 48, 50])"
            ]
          },
          "execution_count": 7,
          "metadata": {},
          "output_type": "execute_result"
        }
      ],
      "source": [
        "array_intPar = np.arange(10, 51, 2)\n",
        "array_intPar\n",
        "# outout: array([10, 12, 14, 16, 18, 20, 22, 24, 26, 28, 30, 32, 34, 36, 38, 40, 42,\n",
        "#                44, 46, 48, 50])"
      ]
    },
    {
      "cell_type": "markdown",
      "metadata": {
        "id": "8DJvVYj-JwFz"
      },
      "source": [
        "#### 7. Create a 3x3 matrix with values ranging from 0 to 8"
      ]
    },
    {
      "cell_type": "code",
      "execution_count": null,
      "metadata": {
        "colab": {
          "base_uri": "https://localhost:8080/"
        },
        "id": "i18_7C9-JwF1",
        "outputId": "1c44bc63-cd87-4b2a-9ae9-ff0bdc4c1aa8"
      },
      "outputs": [
        {
          "data": {
            "text/plain": [
              "array([[0, 1, 2],\n",
              "       [3, 4, 5],\n",
              "       [6, 7, 8]])"
            ]
          },
          "execution_count": 8,
          "metadata": {},
          "output_type": "execute_result"
        }
      ],
      "source": [
        "matriz1 = np.array([[0,1,2], [3,4,5], [6,7,8]])\n",
        "matriz1\n",
        "# output: array([[0, 1, 2],\n",
        "#               [3, 4, 5],\n",
        "#               [6, 7, 8]])"
      ]
    },
    {
      "cell_type": "markdown",
      "metadata": {
        "id": "vru5nfxgJwF3"
      },
      "source": [
        "#### 8. Create a 3x3 identity matrix"
      ]
    },
    {
      "cell_type": "code",
      "execution_count": null,
      "metadata": {
        "colab": {
          "base_uri": "https://localhost:8080/"
        },
        "id": "jK4pBDiOJwF3",
        "outputId": "b31a0808-6225-49aa-9ee0-1528aaab754d"
      },
      "outputs": [
        {
          "data": {
            "text/plain": [
              "array([[1., 0., 0.],\n",
              "       [0., 1., 0.],\n",
              "       [0., 0., 1.]])"
            ]
          },
          "execution_count": 9,
          "metadata": {},
          "output_type": "execute_result"
        }
      ],
      "source": [
        "matriz_id = np.eye(3)\n",
        "matriz_id\n",
        "# output: array([[1., 0., 0.],\n",
        "#                [0., 1., 0.],\n",
        "#                [0., 0., 1.]])"
      ]
    },
    {
      "cell_type": "markdown",
      "metadata": {
        "id": "ccd5H0FuJwF5"
      },
      "source": [
        "#### 9. Use NumPy to generate a random number between 0 and 1<br><br>&emsp;NOTE: Your result's value should be different from the one shown below."
      ]
    },
    {
      "cell_type": "code",
      "execution_count": null,
      "metadata": {
        "colab": {
          "base_uri": "https://localhost:8080/"
        },
        "id": "spIyL1xaJwF5",
        "outputId": "4b3fd504-dc9c-42ea-9807-8e288a87f609"
      },
      "outputs": [
        {
          "data": {
            "text/plain": [
              "array([0.7197247])"
            ]
          },
          "execution_count": 10,
          "metadata": {},
          "output_type": "execute_result"
        }
      ],
      "source": [
        "np.random.rand(1)\n",
        "# output: array([0.23442116])"
      ]
    },
    {
      "cell_type": "markdown",
      "metadata": {
        "id": "dmczKgyKJwF5"
      },
      "source": [
        "#### 10. Use NumPy to generate an array of 25 random numbers sampled from a standard normal distribution<br><br>&emsp;&ensp;NOTE: Your result's values should be different from the ones shown below."
      ]
    },
    {
      "cell_type": "code",
      "execution_count": null,
      "metadata": {
        "colab": {
          "base_uri": "https://localhost:8080/"
        },
        "id": "rEoAnIG5JwF6",
        "outputId": "59e67c64-b5fc-49cc-93d8-c981d8fd0810"
      },
      "outputs": [
        {
          "data": {
            "text/plain": [
              "array([-0.51178562,  1.43202845, -0.74543539, -1.69616774,  0.13414195,\n",
              "        0.05146168,  0.80804443,  1.00506889,  0.55651884, -1.77498032,\n",
              "        0.34797817,  0.16136712,  0.42296625,  0.48376128, -0.24502979,\n",
              "       -0.92543922,  0.19122711, -1.40740163, -2.33330843,  0.76556124,\n",
              "        1.75462323, -1.08528804,  0.28438138,  0.23355707, -0.80423988])"
            ]
          },
          "execution_count": 11,
          "metadata": {},
          "output_type": "execute_result"
        }
      ],
      "source": [
        "np.random.randn(25)\n",
        "# output: array([-0.61659542, -0.77532828,  0.36213786, -1.28636974,  0.33286861,\n",
        "#                 0.06991562,  0.99519046, -1.12320101, -2.09591218, -0.99818646,\n",
        "#                -0.86720284, -1.13239342, -0.17099943, -0.76632253, -1.005097  ,\n",
        "#                -1.73123788, -1.28889203, -1.63121734, -0.32411105, -0.30448115,\n",
        "#                -0.67660156, -1.1030128 , -1.19426878,  1.10254174,  1.30879357])"
      ]
    },
    {
      "cell_type": "markdown",
      "metadata": {
        "id": "XN0P4dpfJwF7"
      },
      "source": [
        "#### 11. Create the following matrix:"
      ]
    },
    {
      "cell_type": "code",
      "execution_count": null,
      "metadata": {
        "colab": {
          "base_uri": "https://localhost:8080/"
        },
        "id": "dSUwoGF4JwF7",
        "outputId": "d9d72982-250c-45ba-fa88-153b51947c17"
      },
      "outputs": [
        {
          "data": {
            "text/plain": [
              "array([0.01, 0.02, 0.03, 0.04, 0.05, 0.06, 0.07, 0.08, 0.09, 0.1 , 0.11,\n",
              "       0.12, 0.13, 0.14, 0.15, 0.16, 0.17, 0.18, 0.19, 0.2 , 0.21, 0.22,\n",
              "       0.23, 0.24, 0.25, 0.26, 0.27, 0.28, 0.29, 0.3 , 0.31, 0.32, 0.33,\n",
              "       0.34, 0.35, 0.36, 0.37, 0.38, 0.39, 0.4 , 0.41, 0.42, 0.43, 0.44,\n",
              "       0.45, 0.46, 0.47, 0.48, 0.49, 0.5 , 0.51, 0.52, 0.53, 0.54, 0.55,\n",
              "       0.56, 0.57, 0.58, 0.59, 0.6 , 0.61, 0.62, 0.63, 0.64, 0.65, 0.66,\n",
              "       0.67, 0.68, 0.69, 0.7 , 0.71, 0.72, 0.73, 0.74, 0.75, 0.76, 0.77,\n",
              "       0.78, 0.79, 0.8 , 0.81, 0.82, 0.83, 0.84, 0.85, 0.86, 0.87, 0.88,\n",
              "       0.89, 0.9 , 0.91, 0.92, 0.93, 0.94, 0.95, 0.96, 0.97, 0.98, 0.99,\n",
              "       1.  ])"
            ]
          },
          "execution_count": 12,
          "metadata": {},
          "output_type": "execute_result"
        }
      ],
      "source": [
        "arr1 = np.arange(0.01, 1.01, 0.01)\n",
        "arr1\n",
        "# output: array([[0.01, 0.02, 0.03, 0.04, 0.05, 0.06, 0.07, 0.08, 0.09, 0.1 ],\n",
        "#       [0.11, 0.12, 0.13, 0.14, 0.15, 0.16, 0.17, 0.18, 0.19, 0.2 ],\n",
        "#       [0.21, 0.22, 0.23, 0.24, 0.25, 0.26, 0.27, 0.28, 0.29, 0.3 ],\n",
        "#       [0.31, 0.32, 0.33, 0.34, 0.35, 0.36, 0.37, 0.38, 0.39, 0.4 ],\n",
        "#       [0.41, 0.42, 0.43, 0.44, 0.45, 0.46, 0.47, 0.48, 0.49, 0.5 ],\n",
        "#       [0.51, 0.52, 0.53, 0.54, 0.55, 0.56, 0.57, 0.58, 0.59, 0.6 ],\n",
        "#       [0.61, 0.62, 0.63, 0.64, 0.65, 0.66, 0.67, 0.68, 0.69, 0.7 ],\n",
        "#       [0.71, 0.72, 0.73, 0.74, 0.75, 0.76, 0.77, 0.78, 0.79, 0.8 ],\n",
        "#       [0.81, 0.82, 0.83, 0.84, 0.85, 0.86, 0.87, 0.88, 0.89, 0.9 ],\n",
        "#       [0.91, 0.92, 0.93, 0.94, 0.95, 0.96, 0.97, 0.98, 0.99, 1.  ]])"
      ]
    },
    {
      "cell_type": "markdown",
      "metadata": {
        "id": "pxptAyXeJwF8"
      },
      "source": [
        "#### 12. Create an array of 20 linearly spaced points between 0 and 1:"
      ]
    },
    {
      "cell_type": "code",
      "execution_count": null,
      "metadata": {
        "colab": {
          "base_uri": "https://localhost:8080/"
        },
        "id": "4mYB8z28JwF8",
        "outputId": "47918011-6f1e-4f45-f053-dd51acda4aef"
      },
      "outputs": [
        {
          "data": {
            "text/plain": [
              "array([0.        , 0.05263158, 0.10526316, 0.15789474, 0.21052632,\n",
              "       0.26315789, 0.31578947, 0.36842105, 0.42105263, 0.47368421,\n",
              "       0.52631579, 0.57894737, 0.63157895, 0.68421053, 0.73684211,\n",
              "       0.78947368, 0.84210526, 0.89473684, 0.94736842, 1.        ])"
            ]
          },
          "execution_count": 13,
          "metadata": {},
          "output_type": "execute_result"
        }
      ],
      "source": [
        "arr2 = np.linspace(0, 1, 20)\n",
        "arr2\n",
        "# output: array([0.        , 0.05263158, 0.10526316, 0.15789474, 0.21052632,\n",
        "#       0.26315789, 0.31578947, 0.36842105, 0.42105263, 0.47368421,\n",
        "#       0.52631579, 0.57894737, 0.63157895, 0.68421053, 0.73684211,\n",
        "#       0.78947368, 0.84210526, 0.89473684, 0.94736842, 1.        ])"
      ]
    },
    {
      "cell_type": "markdown",
      "metadata": {
        "id": "YFFnh76pJwF9"
      },
      "source": [
        "# Now, you will be given a starting matrix, and you will replicate the matrix outputs.\n",
        "\n",
        "##<div class=\"alert alert-danger\" style=\"margin: 10px\"><strong>IMPORTANT NOTE:</strong> Do not forget to run the cell below!"
      ]
    },
    {
      "cell_type": "code",
      "execution_count": null,
      "metadata": {
        "colab": {
          "base_uri": "https://localhost:8080/"
        },
        "id": "QKcHWutzJwF-",
        "outputId": "6b0c753f-c028-4c8b-8c20-0ee2717a33f0"
      },
      "outputs": [
        {
          "data": {
            "text/plain": [
              "array([[ 1,  2,  3,  4,  5],\n",
              "       [ 6,  7,  8,  9, 10],\n",
              "       [11, 12, 13, 14, 15],\n",
              "       [16, 17, 18, 19, 20],\n",
              "       [21, 22, 23, 24, 25]])"
            ]
          },
          "execution_count": 14,
          "metadata": {},
          "output_type": "execute_result"
        }
      ],
      "source": [
        "# RUN THIS CELL - THIS IS OUR STARTING MATRIX\n",
        "mat = np.arange(1,26).reshape(5,5)\n",
        "mat"
      ]
    },
    {
      "cell_type": "markdown",
      "metadata": {
        "id": "jWrDCFirJwF-"
      },
      "source": [
        "#### 13. Write code that reproduces the output shown below.<br>"
      ]
    },
    {
      "cell_type": "code",
      "execution_count": null,
      "metadata": {
        "colab": {
          "base_uri": "https://localhost:8080/"
        },
        "id": "1cEaWtWiJwF-",
        "outputId": "f4226c95-ffb6-4e32-8f91-b4ca54d7f0e5"
      },
      "outputs": [
        {
          "data": {
            "text/plain": [
              "array([[12, 13, 14, 15],\n",
              "       [17, 18, 19, 20],\n",
              "       [22, 23, 24, 25]])"
            ]
          },
          "execution_count": 15,
          "metadata": {},
          "output_type": "execute_result"
        }
      ],
      "source": [
        "matriz2 = np.array([np.arange(12,16), np.arange(17, 21), np.arange(22, 26)])\n",
        "matriz2\n",
        "# output: array([[12, 13, 14, 15],\n",
        "#       [17, 18, 19, 20],\n",
        "#       [22, 23, 24, 25]])"
      ]
    },
    {
      "cell_type": "markdown",
      "metadata": {
        "id": "3Mg1S4BiJwF-"
      },
      "source": [
        "#### 14. Write code that reproduces the output shown below."
      ]
    },
    {
      "cell_type": "code",
      "execution_count": 24,
      "metadata": {
        "colab": {
          "base_uri": "https://localhost:8080/"
        },
        "id": "Wm5iobriJwF_",
        "outputId": "53e48d36-7298-465e-9742-299bd90b6af6"
      },
      "outputs": [
        {
          "output_type": "execute_result",
          "data": {
            "text/plain": [
              "20"
            ]
          },
          "metadata": {},
          "execution_count": 24
        }
      ],
      "source": [
        "arr3 = np.array([20, 20, 20, 20])\n",
        "arr3[0]\n",
        "# output: 20"
      ]
    },
    {
      "cell_type": "markdown",
      "metadata": {
        "id": "YOolhUoxJwGA"
      },
      "source": [
        "#### 15. Write code that reproduces the output shown below."
      ]
    },
    {
      "cell_type": "code",
      "execution_count": 25,
      "metadata": {
        "id": "3nFqWmvAJwGA",
        "colab": {
          "base_uri": "https://localhost:8080/"
        },
        "outputId": "ac14b886-a400-484b-cc80-d4fe1d7f9c52"
      },
      "outputs": [
        {
          "output_type": "execute_result",
          "data": {
            "text/plain": [
              "array([[ 2],\n",
              "       [ 7],\n",
              "       [12]])"
            ]
          },
          "metadata": {},
          "execution_count": 25
        }
      ],
      "source": [
        "np.array([[2],[7],[12]])\n",
        "# array([[ 2],\n",
        "#       [ 7],\n",
        "#       [12]])"
      ]
    },
    {
      "cell_type": "markdown",
      "metadata": {
        "id": "-355bsw0JwGC"
      },
      "source": [
        "#### 16. Write code that reproduces the output shown below."
      ]
    },
    {
      "cell_type": "code",
      "execution_count": 27,
      "metadata": {
        "id": "LA1YaXK9JwGC",
        "colab": {
          "base_uri": "https://localhost:8080/"
        },
        "outputId": "4258fa21-a4e7-4ca9-c5ab-3aa867747a3f"
      },
      "outputs": [
        {
          "output_type": "execute_result",
          "data": {
            "text/plain": [
              "array([21, 22, 23, 24, 25])"
            ]
          },
          "metadata": {},
          "execution_count": 27
        }
      ],
      "source": [
        "arr4 = np.arange(21,26)\n",
        "arr4\n",
        "# output: array([21, 22, 23, 24, 25])"
      ]
    },
    {
      "cell_type": "markdown",
      "metadata": {
        "id": "XcrErRAiJwGG"
      },
      "source": [
        "#### 17. Write code that reproduces the output shown below."
      ]
    },
    {
      "cell_type": "code",
      "execution_count": 31,
      "metadata": {
        "id": "HC4NfFM-JwGG",
        "colab": {
          "base_uri": "https://localhost:8080/"
        },
        "outputId": "87ddcf7b-d545-42dd-9ee8-e4118b8413ff"
      },
      "outputs": [
        {
          "output_type": "execute_result",
          "data": {
            "text/plain": [
              "array([[16, 17, 18, 19, 20],\n",
              "       [21, 22, 23, 24, 25]])"
            ]
          },
          "metadata": {},
          "execution_count": 31
        }
      ],
      "source": [
        "arr5 = np.array([np.arange(16,21), np.arange(21,26)])\n",
        "arr5\n",
        "# output: array([[16, 17, 18, 19, 20],\n",
        "#       [21, 22, 23, 24, 25]])"
      ]
    },
    {
      "cell_type": "markdown",
      "metadata": {
        "id": "2kKlrU9YJwGI"
      },
      "source": [
        "#### 18. Get the sum of all the values in mat"
      ]
    },
    {
      "cell_type": "code",
      "execution_count": 32,
      "metadata": {
        "id": "gWQ4nNHOJwGJ",
        "colab": {
          "base_uri": "https://localhost:8080/"
        },
        "outputId": "b463a25b-f2f4-42a1-8728-65ad527d3d8b"
      },
      "outputs": [
        {
          "output_type": "execute_result",
          "data": {
            "text/plain": [
              "325"
            ]
          },
          "metadata": {},
          "execution_count": 32
        }
      ],
      "source": [
        "mat.sum()\n",
        "# output: 325"
      ]
    },
    {
      "cell_type": "markdown",
      "metadata": {
        "id": "_hfdvtu4JwGK"
      },
      "source": [
        "#### 19. Get the standard deviation of the values in mat"
      ]
    },
    {
      "cell_type": "code",
      "execution_count": 33,
      "metadata": {
        "id": "tBpF8bK7JwGK",
        "colab": {
          "base_uri": "https://localhost:8080/"
        },
        "outputId": "422e78dd-f25a-4e91-b84d-2fe0cb804964"
      },
      "outputs": [
        {
          "output_type": "execute_result",
          "data": {
            "text/plain": [
              "7.211102550927978"
            ]
          },
          "metadata": {},
          "execution_count": 33
        }
      ],
      "source": [
        "mat.std()\n",
        "# output: 7.211102550927978"
      ]
    },
    {
      "cell_type": "markdown",
      "metadata": {
        "id": "tW4cvjYpJwGK"
      },
      "source": [
        "#### 20. Get the sum of all the columns in mat"
      ]
    },
    {
      "cell_type": "code",
      "execution_count": 35,
      "metadata": {
        "id": "pF3MxsUPJwGK",
        "colab": {
          "base_uri": "https://localhost:8080/"
        },
        "outputId": "ff249d06-6191-4ac8-9eeb-3ba5f605cc0b"
      },
      "outputs": [
        {
          "output_type": "execute_result",
          "data": {
            "text/plain": [
              "array([55, 60, 65, 70, 75])"
            ]
          },
          "metadata": {},
          "execution_count": 35
        }
      ],
      "source": [
        "mat.sum(axis=0)\n",
        "# output: array([55, 60, 65, 70, 75])"
      ]
    }
  ],
  "metadata": {
    "anaconda-cloud": {},
    "colab": {
      "provenance": [],
      "include_colab_link": true
    },
    "kernelspec": {
      "display_name": "Python 3",
      "language": "python",
      "name": "python3"
    },
    "language_info": {
      "codemirror_mode": {
        "name": "ipython",
        "version": 3
      },
      "file_extension": ".py",
      "mimetype": "text/x-python",
      "name": "python",
      "nbconvert_exporter": "python",
      "pygments_lexer": "ipython3",
      "version": "3.7.4"
    }
  },
  "nbformat": 4,
  "nbformat_minor": 0
}