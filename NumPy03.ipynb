{
  "nbformat": 4,
  "nbformat_minor": 0,
  "metadata": {
    "anaconda-cloud": {},
    "kernelspec": {
      "display_name": "Python 3",
      "language": "python",
      "name": "python3"
    },
    "language_info": {
      "codemirror_mode": {
        "name": "ipython",
        "version": 3
      },
      "file_extension": ".py",
      "mimetype": "text/x-python",
      "name": "python",
      "nbconvert_exporter": "python",
      "pygments_lexer": "ipython3",
      "version": "3.7.4"
    },
    "colab": {
      "provenance": [],
      "include_colab_link": true
    }
  },
  "cells": [
    {
      "cell_type": "markdown",
      "metadata": {
        "id": "view-in-github",
        "colab_type": "text"
      },
      "source": [
        "<a href=\"https://colab.research.google.com/github/VivianeSouza923/HCIA_AI_HUAWEI_STUDY_if/blob/main/NumPy03.ipynb\" target=\"_parent\"><img src=\"https://colab.research.google.com/assets/colab-badge.svg\" alt=\"Open In Colab\"/></a>"
      ]
    },
    {
      "cell_type": "markdown",
      "metadata": {
        "id": "Buy1HADaJwFe"
      },
      "source": [
        "#Exercises"
      ]
    },
    {
      "cell_type": "markdown",
      "metadata": {
        "id": "ibUfXifbJwFf"
      },
      "source": [
        "#### 1. Import NumPy as np"
      ]
    },
    {
      "cell_type": "code",
      "metadata": {
        "id": "el2g_OVxJwFh"
      },
      "source": [
        "import numpy as np"
      ],
      "execution_count": 3,
      "outputs": []
    },
    {
      "cell_type": "markdown",
      "metadata": {
        "id": "OdEpxzfTJwFk"
      },
      "source": [
        "#### 2. Create an array of 10 zeros "
      ]
    },
    {
      "cell_type": "code",
      "metadata": {
        "id": "GqUZn9nHJwFm",
        "colab": {
          "base_uri": "https://localhost:8080/"
        },
        "outputId": "a77d1a2c-81a8-4e06-d7fa-79a0899548e4"
      },
      "source": [
        "array = np.zeros(10)\n",
        "array\n",
        "# output: array([0., 0., 0., 0., 0., 0., 0., 0., 0., 0.])"
      ],
      "execution_count": 4,
      "outputs": [
        {
          "output_type": "execute_result",
          "data": {
            "text/plain": [
              "array([0., 0., 0., 0., 0., 0., 0., 0., 0., 0.])"
            ]
          },
          "metadata": {},
          "execution_count": 4
        }
      ]
    },
    {
      "cell_type": "markdown",
      "metadata": {
        "id": "m382-javJwFq"
      },
      "source": [
        "#### 3. Create an array of 10 ones"
      ]
    },
    {
      "cell_type": "code",
      "metadata": {
        "id": "new6jSk5JwFq",
        "colab": {
          "base_uri": "https://localhost:8080/"
        },
        "outputId": "711a0e35-e06a-40e8-ef3b-ebd5af5e3c4e"
      },
      "source": [
        "array_tenOnes = np.ones(10)\n",
        "array_tenOnes\n",
        "# output: array([1., 1., 1., 1., 1., 1., 1., 1., 1., 1.])"
      ],
      "execution_count": 5,
      "outputs": [
        {
          "output_type": "execute_result",
          "data": {
            "text/plain": [
              "array([1., 1., 1., 1., 1., 1., 1., 1., 1., 1.])"
            ]
          },
          "metadata": {},
          "execution_count": 5
        }
      ]
    },
    {
      "cell_type": "markdown",
      "metadata": {
        "id": "ApZ5Oi6_JwFs"
      },
      "source": [
        "#### 4. Create an array of 10 fives"
      ]
    },
    {
      "cell_type": "code",
      "metadata": {
        "id": "qKNaFF7gJwFt",
        "colab": {
          "base_uri": "https://localhost:8080/"
        },
        "outputId": "0b822ff1-90d8-4120-d1a7-3b9423bfd7d1"
      },
      "source": [
        "array_five = np.array([5, 5, 5, 5, 5, 5, 5, 5, 5, 5])\n",
        "array_five\n",
        "# output: array([5., 5., 5., 5., 5., 5., 5., 5., 5., 5.])"
      ],
      "execution_count": 8,
      "outputs": [
        {
          "output_type": "execute_result",
          "data": {
            "text/plain": [
              "array([5, 5, 5, 5, 5, 5, 5, 5, 5, 5])"
            ]
          },
          "metadata": {},
          "execution_count": 8
        }
      ]
    },
    {
      "cell_type": "markdown",
      "metadata": {
        "id": "JBKYjEnyJwFu"
      },
      "source": [
        "#### 5. Create an array of the integers from 10 to 50"
      ]
    },
    {
      "cell_type": "code",
      "metadata": {
        "id": "z7yIqTFDJwFu",
        "colab": {
          "base_uri": "https://localhost:8080/"
        },
        "outputId": "465a53bb-ed5c-47a7-8d82-5a22328215f2"
      },
      "source": [
        "array_DaC = np.arange(10, 51)\n",
        "array_DaC\n",
        "# output: array([10, 11, 12, 13, 14, 15, 16, 17, 18, 19, 20, 21, 22, 23, 24, 25, 26,\n",
        "#                27, 28, 29, 30, 31, 32, 33, 34, 35, 36, 37, 38, 39, 40, 41, 42, 43,\n",
        "#                44, 45, 46, 47, 48, 49, 50])"
      ],
      "execution_count": 17,
      "outputs": [
        {
          "output_type": "execute_result",
          "data": {
            "text/plain": [
              "array([10, 11, 12, 13, 14, 15, 16, 17, 18, 19, 20, 21, 22, 23, 24, 25, 26,\n",
              "       27, 28, 29, 30, 31, 32, 33, 34, 35, 36, 37, 38, 39, 40, 41, 42, 43,\n",
              "       44, 45, 46, 47, 48, 49, 50])"
            ]
          },
          "metadata": {},
          "execution_count": 17
        }
      ]
    },
    {
      "cell_type": "markdown",
      "metadata": {
        "id": "5HvS_BR-JwFw"
      },
      "source": [
        "#### 6. Create an array of all the even integers from 10 to 50"
      ]
    },
    {
      "cell_type": "code",
      "metadata": {
        "collapsed": true,
        "id": "bYcqCPlmJwFx",
        "colab": {
          "base_uri": "https://localhost:8080/"
        },
        "outputId": "2d2eeb28-6bb2-4d49-c22b-d8cc3992b662"
      },
      "source": [
        "array_intPar = np.arange(10, 51, 2)\n",
        "array_intPar\n",
        "# outout: array([10, 12, 14, 16, 18, 20, 22, 24, 26, 28, 30, 32, 34, 36, 38, 40, 42,\n",
        "#                44, 46, 48, 50])"
      ],
      "execution_count": 19,
      "outputs": [
        {
          "output_type": "execute_result",
          "data": {
            "text/plain": [
              "array([10, 12, 14, 16, 18, 20, 22, 24, 26, 28, 30, 32, 34, 36, 38, 40, 42,\n",
              "       44, 46, 48, 50])"
            ]
          },
          "metadata": {},
          "execution_count": 19
        }
      ]
    },
    {
      "cell_type": "markdown",
      "metadata": {
        "id": "8DJvVYj-JwFz"
      },
      "source": [
        "#### 7. Create a 3x3 matrix with values ranging from 0 to 8"
      ]
    },
    {
      "cell_type": "code",
      "metadata": {
        "id": "i18_7C9-JwF1",
        "colab": {
          "base_uri": "https://localhost:8080/"
        },
        "outputId": "74eeb5f0-efe4-4590-823b-8a23500bfecf"
      },
      "source": [
        "matriz1 = np.array([[0,1,2], [3,4,5], [6,7,8]])\n",
        "matriz1\n",
        "# output: array([[0, 1, 2],\n",
        "#               [3, 4, 5],\n",
        "#               [6, 7, 8]])"
      ],
      "execution_count": 20,
      "outputs": [
        {
          "output_type": "execute_result",
          "data": {
            "text/plain": [
              "array([[0, 1, 2],\n",
              "       [3, 4, 5],\n",
              "       [6, 7, 8]])"
            ]
          },
          "metadata": {},
          "execution_count": 20
        }
      ]
    },
    {
      "cell_type": "markdown",
      "metadata": {
        "id": "vru5nfxgJwF3"
      },
      "source": [
        "#### 8. Create a 3x3 identity matrix"
      ]
    },
    {
      "cell_type": "code",
      "metadata": {
        "id": "jK4pBDiOJwF3",
        "colab": {
          "base_uri": "https://localhost:8080/"
        },
        "outputId": "24176455-8cac-460c-d167-dd51fe2d68a6"
      },
      "source": [
        "matriz_id = np.eye(3)\n",
        "matriz_id\n",
        "# output: array([[1., 0., 0.],\n",
        "#                [0., 1., 0.],\n",
        "#                [0., 0., 1.]])"
      ],
      "execution_count": 21,
      "outputs": [
        {
          "output_type": "execute_result",
          "data": {
            "text/plain": [
              "array([[1., 0., 0.],\n",
              "       [0., 1., 0.],\n",
              "       [0., 0., 1.]])"
            ]
          },
          "metadata": {},
          "execution_count": 21
        }
      ]
    },
    {
      "cell_type": "markdown",
      "metadata": {
        "id": "ccd5H0FuJwF5"
      },
      "source": [
        "#### 9. Use NumPy to generate a random number between 0 and 1<br><br>&emsp;NOTE: Your result's value should be different from the one shown below."
      ]
    },
    {
      "cell_type": "code",
      "metadata": {
        "id": "spIyL1xaJwF5",
        "colab": {
          "base_uri": "https://localhost:8080/"
        },
        "outputId": "3d6bd49f-6bc2-4582-9708-22a0e58f0fbe"
      },
      "source": [
        "np.random.rand(1)\n",
        "# output: array([0.23442116])"
      ],
      "execution_count": 22,
      "outputs": [
        {
          "output_type": "execute_result",
          "data": {
            "text/plain": [
              "array([0.12827651])"
            ]
          },
          "metadata": {},
          "execution_count": 22
        }
      ]
    },
    {
      "cell_type": "markdown",
      "metadata": {
        "id": "dmczKgyKJwF5"
      },
      "source": [
        "#### 10. Use NumPy to generate an array of 25 random numbers sampled from a standard normal distribution<br><br>&emsp;&ensp;NOTE: Your result's values should be different from the ones shown below."
      ]
    },
    {
      "cell_type": "code",
      "metadata": {
        "id": "rEoAnIG5JwF6",
        "colab": {
          "base_uri": "https://localhost:8080/"
        },
        "outputId": "c36308ff-4125-499a-ea55-d6203cb3e508"
      },
      "source": [
        "np.random.randn(25)\n",
        "# output: array([-0.61659542, -0.77532828,  0.36213786, -1.28636974,  0.33286861,\n",
        "#                 0.06991562,  0.99519046, -1.12320101, -2.09591218, -0.99818646,\n",
        "#                -0.86720284, -1.13239342, -0.17099943, -0.76632253, -1.005097  ,\n",
        "#                -1.73123788, -1.28889203, -1.63121734, -0.32411105, -0.30448115,\n",
        "#                -0.67660156, -1.1030128 , -1.19426878,  1.10254174,  1.30879357])"
      ],
      "execution_count": 23,
      "outputs": [
        {
          "output_type": "execute_result",
          "data": {
            "text/plain": [
              "array([ 1.16478187, -1.19598448,  0.0055635 ,  0.75767098,  0.17627454,\n",
              "        1.12634259,  1.25395253,  0.60947528,  0.01574667,  0.38253084,\n",
              "       -0.55039006,  0.63565601, -0.36587187,  0.40975989, -0.18661537,\n",
              "        0.44002951, -1.98315332,  2.12008347, -0.09437992,  0.37225618,\n",
              "        0.69903897, -0.22677454,  0.44698046,  2.07950648,  1.90526215])"
            ]
          },
          "metadata": {},
          "execution_count": 23
        }
      ]
    },
    {
      "cell_type": "markdown",
      "metadata": {
        "id": "XN0P4dpfJwF7"
      },
      "source": [
        "#### 11. Create the following matrix:"
      ]
    },
    {
      "cell_type": "code",
      "metadata": {
        "id": "dSUwoGF4JwF7",
        "colab": {
          "base_uri": "https://localhost:8080/"
        },
        "outputId": "bc206614-b878-4afa-9de5-d92d79ed6d12"
      },
      "source": [
        "arr1 = np.arange(0.01, 1.01, 0.01)\n",
        "arr1\n",
        "# output: array([[0.01, 0.02, 0.03, 0.04, 0.05, 0.06, 0.07, 0.08, 0.09, 0.1 ],\n",
        "#       [0.11, 0.12, 0.13, 0.14, 0.15, 0.16, 0.17, 0.18, 0.19, 0.2 ],\n",
        "#       [0.21, 0.22, 0.23, 0.24, 0.25, 0.26, 0.27, 0.28, 0.29, 0.3 ],\n",
        "#       [0.31, 0.32, 0.33, 0.34, 0.35, 0.36, 0.37, 0.38, 0.39, 0.4 ],\n",
        "#       [0.41, 0.42, 0.43, 0.44, 0.45, 0.46, 0.47, 0.48, 0.49, 0.5 ],\n",
        "#       [0.51, 0.52, 0.53, 0.54, 0.55, 0.56, 0.57, 0.58, 0.59, 0.6 ],\n",
        "#       [0.61, 0.62, 0.63, 0.64, 0.65, 0.66, 0.67, 0.68, 0.69, 0.7 ],\n",
        "#       [0.71, 0.72, 0.73, 0.74, 0.75, 0.76, 0.77, 0.78, 0.79, 0.8 ],\n",
        "#       [0.81, 0.82, 0.83, 0.84, 0.85, 0.86, 0.87, 0.88, 0.89, 0.9 ],\n",
        "#       [0.91, 0.92, 0.93, 0.94, 0.95, 0.96, 0.97, 0.98, 0.99, 1.  ]])"
      ],
      "execution_count": 28,
      "outputs": [
        {
          "output_type": "execute_result",
          "data": {
            "text/plain": [
              "array([0.01, 0.02, 0.03, 0.04, 0.05, 0.06, 0.07, 0.08, 0.09, 0.1 , 0.11,\n",
              "       0.12, 0.13, 0.14, 0.15, 0.16, 0.17, 0.18, 0.19, 0.2 , 0.21, 0.22,\n",
              "       0.23, 0.24, 0.25, 0.26, 0.27, 0.28, 0.29, 0.3 , 0.31, 0.32, 0.33,\n",
              "       0.34, 0.35, 0.36, 0.37, 0.38, 0.39, 0.4 , 0.41, 0.42, 0.43, 0.44,\n",
              "       0.45, 0.46, 0.47, 0.48, 0.49, 0.5 , 0.51, 0.52, 0.53, 0.54, 0.55,\n",
              "       0.56, 0.57, 0.58, 0.59, 0.6 , 0.61, 0.62, 0.63, 0.64, 0.65, 0.66,\n",
              "       0.67, 0.68, 0.69, 0.7 , 0.71, 0.72, 0.73, 0.74, 0.75, 0.76, 0.77,\n",
              "       0.78, 0.79, 0.8 , 0.81, 0.82, 0.83, 0.84, 0.85, 0.86, 0.87, 0.88,\n",
              "       0.89, 0.9 , 0.91, 0.92, 0.93, 0.94, 0.95, 0.96, 0.97, 0.98, 0.99,\n",
              "       1.  ])"
            ]
          },
          "metadata": {},
          "execution_count": 28
        }
      ]
    },
    {
      "cell_type": "markdown",
      "metadata": {
        "id": "pxptAyXeJwF8"
      },
      "source": [
        "#### 12. Create an array of 20 linearly spaced points between 0 and 1:"
      ]
    },
    {
      "cell_type": "code",
      "metadata": {
        "id": "4mYB8z28JwF8",
        "colab": {
          "base_uri": "https://localhost:8080/"
        },
        "outputId": "3c13b785-8535-4194-a87f-4bdc88c470c8"
      },
      "source": [
        "arr2 = np.linspace(0, 1, 20)\n",
        "arr2\n",
        "# output: array([0.        , 0.05263158, 0.10526316, 0.15789474, 0.21052632,\n",
        "#       0.26315789, 0.31578947, 0.36842105, 0.42105263, 0.47368421,\n",
        "#       0.52631579, 0.57894737, 0.63157895, 0.68421053, 0.73684211,\n",
        "#       0.78947368, 0.84210526, 0.89473684, 0.94736842, 1.        ])"
      ],
      "execution_count": 29,
      "outputs": [
        {
          "output_type": "execute_result",
          "data": {
            "text/plain": [
              "array([0.        , 0.05263158, 0.10526316, 0.15789474, 0.21052632,\n",
              "       0.26315789, 0.31578947, 0.36842105, 0.42105263, 0.47368421,\n",
              "       0.52631579, 0.57894737, 0.63157895, 0.68421053, 0.73684211,\n",
              "       0.78947368, 0.84210526, 0.89473684, 0.94736842, 1.        ])"
            ]
          },
          "metadata": {},
          "execution_count": 29
        }
      ]
    },
    {
      "cell_type": "markdown",
      "metadata": {
        "id": "YFFnh76pJwF9"
      },
      "source": [
        "# Now, you will be given a starting matrix, and you will replicate the matrix outputs.\n",
        "\n",
        "##<div class=\"alert alert-danger\" style=\"margin: 10px\"><strong>IMPORTANT NOTE:</strong> Do not forget to run the cell below!"
      ]
    },
    {
      "cell_type": "code",
      "metadata": {
        "id": "QKcHWutzJwF-",
        "colab": {
          "base_uri": "https://localhost:8080/"
        },
        "outputId": "e1be4f51-85f5-4d29-d01d-c39003de8dee"
      },
      "source": [
        "# RUN THIS CELL - THIS IS OUR STARTING MATRIX\n",
        "mat = np.arange(1,26).reshape(5,5)\n",
        "mat"
      ],
      "execution_count": 30,
      "outputs": [
        {
          "output_type": "execute_result",
          "data": {
            "text/plain": [
              "array([[ 1,  2,  3,  4,  5],\n",
              "       [ 6,  7,  8,  9, 10],\n",
              "       [11, 12, 13, 14, 15],\n",
              "       [16, 17, 18, 19, 20],\n",
              "       [21, 22, 23, 24, 25]])"
            ]
          },
          "metadata": {},
          "execution_count": 30
        }
      ]
    },
    {
      "cell_type": "markdown",
      "metadata": {
        "id": "jWrDCFirJwF-"
      },
      "source": [
        "#### 13. Write code that reproduces the output shown below.<br>"
      ]
    },
    {
      "cell_type": "code",
      "metadata": {
        "id": "1cEaWtWiJwF-",
        "colab": {
          "base_uri": "https://localhost:8080/"
        },
        "outputId": "e59eaff1-590c-42f7-fa45-35edf5fcf350"
      },
      "source": [
        "matriz2 = np.array([np.arange(12,16), np.arange(17, 21), np.arange(22, 26)])\n",
        "matriz2\n",
        "# output: array([[12, 13, 14, 15],\n",
        "#       [17, 18, 19, 20],\n",
        "#       [22, 23, 24, 25]])"
      ],
      "execution_count": 38,
      "outputs": [
        {
          "output_type": "execute_result",
          "data": {
            "text/plain": [
              "array([[12, 13, 14, 15],\n",
              "       [17, 18, 19, 20],\n",
              "       [22, 23, 24, 25]])"
            ]
          },
          "metadata": {},
          "execution_count": 38
        }
      ]
    },
    {
      "cell_type": "markdown",
      "metadata": {
        "id": "3Mg1S4BiJwF-"
      },
      "source": [
        "#### 14. Write code that reproduces the output shown below."
      ]
    },
    {
      "cell_type": "code",
      "metadata": {
        "id": "Wm5iobriJwF_"
      },
      "source": [
        "\n",
        "# output: 20"
      ],
      "execution_count": null,
      "outputs": []
    },
    {
      "cell_type": "markdown",
      "metadata": {
        "id": "YOolhUoxJwGA"
      },
      "source": [
        "#### 15. Write code that reproduces the output shown below."
      ]
    },
    {
      "cell_type": "code",
      "metadata": {
        "id": "3nFqWmvAJwGA"
      },
      "source": [
        "\n",
        "# array([[ 2],\n",
        "#       [ 7],\n",
        "#       [12]])"
      ],
      "execution_count": null,
      "outputs": []
    },
    {
      "cell_type": "markdown",
      "metadata": {
        "id": "-355bsw0JwGC"
      },
      "source": [
        "#### 16. Write code that reproduces the output shown below."
      ]
    },
    {
      "cell_type": "code",
      "metadata": {
        "id": "LA1YaXK9JwGC"
      },
      "source": [
        "\n",
        "# output: array([21, 22, 23, 24, 25])"
      ],
      "execution_count": null,
      "outputs": []
    },
    {
      "cell_type": "markdown",
      "metadata": {
        "id": "XcrErRAiJwGG"
      },
      "source": [
        "#### 17. Write code that reproduces the output shown below."
      ]
    },
    {
      "cell_type": "code",
      "metadata": {
        "id": "HC4NfFM-JwGG"
      },
      "source": [
        "\n",
        "# output: array([[16, 17, 18, 19, 20],\n",
        "#       [21, 22, 23, 24, 25]])"
      ],
      "execution_count": null,
      "outputs": []
    },
    {
      "cell_type": "markdown",
      "metadata": {
        "id": "2kKlrU9YJwGI"
      },
      "source": [
        "#### 18. Get the sum of all the values in mat"
      ]
    },
    {
      "cell_type": "code",
      "metadata": {
        "id": "gWQ4nNHOJwGJ"
      },
      "source": [
        "\n",
        "# output: 325"
      ],
      "execution_count": null,
      "outputs": []
    },
    {
      "cell_type": "markdown",
      "metadata": {
        "id": "_hfdvtu4JwGK"
      },
      "source": [
        "#### 19. Get the standard deviation of the values in mat"
      ]
    },
    {
      "cell_type": "code",
      "metadata": {
        "id": "tBpF8bK7JwGK"
      },
      "source": [
        "\n",
        "# output: 7.211102550927978"
      ],
      "execution_count": null,
      "outputs": []
    },
    {
      "cell_type": "markdown",
      "metadata": {
        "id": "tW4cvjYpJwGK"
      },
      "source": [
        "#### 20. Get the sum of all the columns in mat"
      ]
    },
    {
      "cell_type": "code",
      "metadata": {
        "id": "pF3MxsUPJwGK"
      },
      "source": [
        "\n",
        "# output: array([55, 60, 65, 70, 75])"
      ],
      "execution_count": null,
      "outputs": []
    }
  ]
}