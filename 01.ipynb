{
  "nbformat": 4,
  "nbformat_minor": 0,
  "metadata": {
    "colab": {
      "provenance": [],
      "authorship_tag": "ABX9TyP/fraV2lHPT1Ya9sstRGt7",
      "include_colab_link": true
    },
    "kernelspec": {
      "name": "python3",
      "display_name": "Python 3"
    },
    "language_info": {
      "name": "python"
    }
  },
  "cells": [
    {
      "cell_type": "markdown",
      "metadata": {
        "id": "view-in-github",
        "colab_type": "text"
      },
      "source": [
        "<a href=\"https://colab.research.google.com/github/VivianeSouza923/HCIA_AI_HUAWEI_STUDY_if/blob/main/01.ipynb\" target=\"_parent\"><img src=\"https://colab.research.google.com/assets/colab-badge.svg\" alt=\"Open In Colab\"/></a>"
      ]
    },
    {
      "cell_type": "code",
      "execution_count": 58,
      "metadata": {
        "id": "iOz0bixswGdB"
      },
      "outputs": [],
      "source": [
        "#importando a lib\n",
        "import numpy as np"
      ]
    },
    {
      "cell_type": "code",
      "source": [
        "#criando uma array - nome_da_Array = np.array([elemento1, elemento2, ..., elementon])\n",
        "arr1 = np.array([1, 2, 3])\n",
        "#printando essa array\n",
        "arr1"
      ],
      "metadata": {
        "colab": {
          "base_uri": "https://localhost:8080/"
        },
        "id": "yRQQG3rVweSR",
        "outputId": "e865ecf4-d5fa-49dd-e483-3e5e3c2c1a50"
      },
      "execution_count": 59,
      "outputs": [
        {
          "output_type": "execute_result",
          "data": {
            "text/plain": [
              "array([1, 2, 3])"
            ]
          },
          "metadata": {},
          "execution_count": 59
        }
      ]
    },
    {
      "cell_type": "code",
      "source": [
        "#tipo da array? temos. basta usar a função type, passando o parâmetro, a própria array.\n",
        "type(arr1)"
      ],
      "metadata": {
        "colab": {
          "base_uri": "https://localhost:8080/"
        },
        "id": "2S7zbPlOxCNk",
        "outputId": "4a77645e-1f95-418e-ba29-471f962e6950"
      },
      "execution_count": 60,
      "outputs": [
        {
          "output_type": "execute_result",
          "data": {
            "text/plain": [
              "numpy.ndarray"
            ]
          },
          "metadata": {},
          "execution_count": 60
        }
      ]
    },
    {
      "cell_type": "code",
      "source": [
        "#array de 2 dimensões? temos também. só criar agora:\n",
        "arr2 = np.array([[1,2,3],[4,5,6]])\n",
        "#printa a array\n",
        "arr2\n"
      ],
      "metadata": {
        "colab": {
          "base_uri": "https://localhost:8080/"
        },
        "id": "YKVPe_gqyFgS",
        "outputId": "1a38b922-4efa-4dd8-d679-5f98b4f2e6fa"
      },
      "execution_count": 61,
      "outputs": [
        {
          "output_type": "execute_result",
          "data": {
            "text/plain": [
              "array([[1, 2, 3],\n",
              "       [4, 5, 6]])"
            ]
          },
          "metadata": {},
          "execution_count": 61
        }
      ]
    },
    {
      "cell_type": "code",
      "source": [
        "type(arr2)"
      ],
      "metadata": {
        "colab": {
          "base_uri": "https://localhost:8080/"
        },
        "id": "Z2kSbREZy3AF",
        "outputId": "5c09b82f-14bc-4a48-94aa-568da869c241"
      },
      "execution_count": 62,
      "outputs": [
        {
          "output_type": "execute_result",
          "data": {
            "text/plain": [
              "numpy.ndarray"
            ]
          },
          "metadata": {},
          "execution_count": 62
        }
      ]
    },
    {
      "cell_type": "code",
      "source": [
        "#  acessar os elementos:\n",
        "#quem tá na posição 0 da minha array arr1? só printa assim:\n",
        "arr1[0]"
      ],
      "metadata": {
        "colab": {
          "base_uri": "https://localhost:8080/"
        },
        "id": "W6Gh8e-Vy6Rw",
        "outputId": "7962a8aa-fb2f-431d-8ced-eaf4d808fd72"
      },
      "execution_count": 63,
      "outputs": [
        {
          "output_type": "execute_result",
          "data": {
            "text/plain": [
              "1"
            ]
          },
          "metadata": {},
          "execution_count": 63
        }
      ]
    },
    {
      "cell_type": "code",
      "source": [
        "##  acessar os elementos:\n",
        "# matriz - lista de listas\n",
        "arr2[1][1] #linha 1, elemento 1, consegue ver?\n"
      ],
      "metadata": {
        "colab": {
          "base_uri": "https://localhost:8080/"
        },
        "id": "rSgGHqA9zeAb",
        "outputId": "62d49a88-2343-484e-d8b3-96b325560a23"
      },
      "execution_count": 64,
      "outputs": [
        {
          "output_type": "execute_result",
          "data": {
            "text/plain": [
              "5"
            ]
          },
          "metadata": {},
          "execution_count": 64
        }
      ]
    },
    {
      "cell_type": "code",
      "source": [
        "#criar uma array passando a posição inicial e a final, ou seja, onde vai começar e onde vai terminar.\n",
        "# para isso, a gente utiliza a arange dentro da numpy.\n",
        "arr3 = np.arange(0,9)\n",
        "arr3"
      ],
      "metadata": {
        "id": "b8xw2b1A0Pkx",
        "colab": {
          "base_uri": "https://localhost:8080/"
        },
        "outputId": "bada06fb-eb25-428c-f352-179101b3df05"
      },
      "execution_count": 65,
      "outputs": [
        {
          "output_type": "execute_result",
          "data": {
            "text/plain": [
              "array([0, 1, 2, 3, 4, 5, 6, 7, 8])"
            ]
          },
          "metadata": {},
          "execution_count": 65
        }
      ]
    },
    {
      "cell_type": "code",
      "source": [
        "#também dá pra criar arrays de \"pulinhos em pulinhos\", ou seja, espaçamento entre os números, utilizando a arange:\n",
        "arr4 = np.arange(0,9,3)\n",
        "arr4\n",
        "#np.arange(posiçao_inicial, posição_final, pulinhos)"
      ],
      "metadata": {
        "colab": {
          "base_uri": "https://localhost:8080/"
        },
        "id": "LtJTk0_RrCsO",
        "outputId": "273c90c1-60fb-490d-a21a-0f259bfa91fb"
      },
      "execution_count": 66,
      "outputs": [
        {
          "output_type": "execute_result",
          "data": {
            "text/plain": [
              "array([0, 3, 6])"
            ]
          },
          "metadata": {},
          "execution_count": 66
        }
      ]
    },
    {
      "cell_type": "code",
      "source": [
        "# matriz de 1 dimensão que contém só zeros:\n",
        "np.zeros(4)"
      ],
      "metadata": {
        "colab": {
          "base_uri": "https://localhost:8080/"
        },
        "id": "0MX5pQuesgtf",
        "outputId": "efc8193c-6d21-4adc-cd60-b1fd0f4efc31"
      },
      "execution_count": 67,
      "outputs": [
        {
          "output_type": "execute_result",
          "data": {
            "text/plain": [
              "array([0., 0., 0., 0.])"
            ]
          },
          "metadata": {},
          "execution_count": 67
        }
      ]
    },
    {
      "cell_type": "code",
      "source": [
        "# matriz de 2 dimensões que contém só zeros:\n",
        "np.zeros((2,3))"
      ],
      "metadata": {
        "colab": {
          "base_uri": "https://localhost:8080/"
        },
        "id": "ZsI_6v0EuNWo",
        "outputId": "358fbc95-a1e6-4c0b-edeb-aa3545a93a04"
      },
      "execution_count": 68,
      "outputs": [
        {
          "output_type": "execute_result",
          "data": {
            "text/plain": [
              "array([[0., 0., 0.],\n",
              "       [0., 0., 0.]])"
            ]
          },
          "metadata": {},
          "execution_count": 68
        }
      ]
    },
    {
      "cell_type": "code",
      "source": [
        "# matriz de 1 dimensão que contém só 1's\n",
        "np.ones(7)"
      ],
      "metadata": {
        "colab": {
          "base_uri": "https://localhost:8080/"
        },
        "id": "n-Hr4Bo0ub-2",
        "outputId": "d6e7f440-3276-42a1-d744-ff4d2ade0005"
      },
      "execution_count": 71,
      "outputs": [
        {
          "output_type": "execute_result",
          "data": {
            "text/plain": [
              "array([1., 1., 1., 1., 1., 1., 1.])"
            ]
          },
          "metadata": {},
          "execution_count": 71
        }
      ]
    },
    {
      "cell_type": "code",
      "source": [
        "#matriz de 2 dimensões que contém só 1's\n",
        "np.ones((5,6))"
      ],
      "metadata": {
        "colab": {
          "base_uri": "https://localhost:8080/"
        },
        "id": "2n-G3XtYvE3x",
        "outputId": "503bd7c4-79d0-4160-acd4-be4e35553a64"
      },
      "execution_count": 72,
      "outputs": [
        {
          "output_type": "execute_result",
          "data": {
            "text/plain": [
              "array([[1., 1., 1., 1., 1., 1.],\n",
              "       [1., 1., 1., 1., 1., 1.],\n",
              "       [1., 1., 1., 1., 1., 1.],\n",
              "       [1., 1., 1., 1., 1., 1.],\n",
              "       [1., 1., 1., 1., 1., 1.]])"
            ]
          },
          "metadata": {},
          "execution_count": 72
        }
      ]
    },
    {
      "cell_type": "code",
      "source": [
        "#matriz identidade --> eye\n",
        "np.eye(6)"
      ],
      "metadata": {
        "colab": {
          "base_uri": "https://localhost:8080/"
        },
        "id": "xzLKRR9qvQA5",
        "outputId": "b7c473c3-6b8e-46ed-f79a-f7c0d69185f8"
      },
      "execution_count": 73,
      "outputs": [
        {
          "output_type": "execute_result",
          "data": {
            "text/plain": [
              "array([[1., 0., 0., 0., 0., 0.],\n",
              "       [0., 1., 0., 0., 0., 0.],\n",
              "       [0., 0., 1., 0., 0., 0.],\n",
              "       [0., 0., 0., 1., 0., 0.],\n",
              "       [0., 0., 0., 0., 1., 0.],\n",
              "       [0., 0., 0., 0., 0., 1.]])"
            ]
          },
          "metadata": {},
          "execution_count": 73
        }
      ]
    },
    {
      "cell_type": "code",
      "source": [
        "# matriz de números aleatórios de 0 a 1\n",
        "arr5 = np.random.rand(6)\n",
        "arr5"
      ],
      "metadata": {
        "colab": {
          "base_uri": "https://localhost:8080/"
        },
        "id": "U0U2vAn8vcO-",
        "outputId": "c0c04794-2a4d-4af2-85f5-1524b720e739"
      },
      "execution_count": 74,
      "outputs": [
        {
          "output_type": "execute_result",
          "data": {
            "text/plain": [
              "array([0.01363464, 0.56462775, 0.70458393, 0.07761108, 0.94369824,\n",
              "       0.97050398])"
            ]
          },
          "metadata": {},
          "execution_count": 74
        }
      ]
    },
    {
      "cell_type": "code",
      "source": [
        "#uma espécie de sorteio?\n",
        "np.random.randint(6)\n",
        "#np.random.randint(tamanho_do_intervalo) --> retorna um valor inteiro dentro do tamanho desse intervalo"
      ],
      "metadata": {
        "colab": {
          "base_uri": "https://localhost:8080/"
        },
        "id": "H71DpueYwBlW",
        "outputId": "28ecd751-8519-4768-df2b-070fce757fc0"
      },
      "execution_count": 75,
      "outputs": [
        {
          "output_type": "execute_result",
          "data": {
            "text/plain": [
              "2"
            ]
          },
          "metadata": {},
          "execution_count": 75
        }
      ]
    },
    {
      "cell_type": "code",
      "source": [
        "#retorna uma matriz (de acordo com o shape passado) de valores inteiros dentro do intervalo passado\n",
        "# np.random.randint (menor_posição, maior_posição, (shape))\n",
        "np.random.randint(5, 36, (2,3))"
      ],
      "metadata": {
        "colab": {
          "base_uri": "https://localhost:8080/"
        },
        "id": "zNkENlTtyCt8",
        "outputId": "500a2f07-2629-4cba-da66-95afe01a5047"
      },
      "execution_count": 76,
      "outputs": [
        {
          "output_type": "execute_result",
          "data": {
            "text/plain": [
              "array([[16, 22, 19],\n",
              "       [14, 32, 33]])"
            ]
          },
          "metadata": {},
          "execution_count": 76
        }
      ]
    },
    {
      "cell_type": "code",
      "source": [
        "#matriz de 3 dimensões:\n",
        "np.random.randint(6, 58, (5, 9, 2))"
      ],
      "metadata": {
        "colab": {
          "base_uri": "https://localhost:8080/"
        },
        "id": "xcUxEgMQymxt",
        "outputId": "969f0f30-a214-46cf-da96-6f1b8a2ccd95"
      },
      "execution_count": 79,
      "outputs": [
        {
          "output_type": "execute_result",
          "data": {
            "text/plain": [
              "array([[[45, 56],\n",
              "        [16, 14],\n",
              "        [ 9, 32],\n",
              "        [16, 28],\n",
              "        [23, 14],\n",
              "        [42, 14],\n",
              "        [49, 40],\n",
              "        [48, 19],\n",
              "        [12, 48]],\n",
              "\n",
              "       [[26, 30],\n",
              "        [21, 25],\n",
              "        [40, 11],\n",
              "        [26, 55],\n",
              "        [41, 55],\n",
              "        [50, 29],\n",
              "        [12, 13],\n",
              "        [50, 27],\n",
              "        [53, 32]],\n",
              "\n",
              "       [[57, 20],\n",
              "        [53, 46],\n",
              "        [32, 41],\n",
              "        [39, 42],\n",
              "        [24,  6],\n",
              "        [25, 27],\n",
              "        [39, 10],\n",
              "        [43, 12],\n",
              "        [39, 26]],\n",
              "\n",
              "       [[40, 31],\n",
              "        [54, 18],\n",
              "        [48, 40],\n",
              "        [36, 57],\n",
              "        [30, 20],\n",
              "        [20, 39],\n",
              "        [48, 54],\n",
              "        [ 8, 21],\n",
              "        [53, 36]],\n",
              "\n",
              "       [[27, 20],\n",
              "        [42, 24],\n",
              "        [49, 44],\n",
              "        [23, 47],\n",
              "        [23, 47],\n",
              "        [49, 39],\n",
              "        [49, 24],\n",
              "        [29,  6],\n",
              "        [23, 12]]])"
            ]
          },
          "metadata": {},
          "execution_count": 79
        }
      ]
    },
    {
      "cell_type": "code",
      "source": [
        "# pega um número aleatório double, digamos assim, entre 5 e 9\n",
        "np.random.uniform(5, 9)"
      ],
      "metadata": {
        "colab": {
          "base_uri": "https://localhost:8080/"
        },
        "id": "jYkqu0FU0K-7",
        "outputId": "6814046e-7bac-4939-e713-f48a0478b18f"
      },
      "execution_count": 81,
      "outputs": [
        {
          "output_type": "execute_result",
          "data": {
            "text/plain": [
              "6.601192250529586"
            ]
          },
          "metadata": {},
          "execution_count": 81
        }
      ]
    },
    {
      "cell_type": "code",
      "source": [
        "# mesma coisa do np.random.randint, só que tem uma diferença: o número não é inteiro (podemos chamar de double)\n",
        "np.random.uniform(6, 9, (5, 8))"
      ],
      "metadata": {
        "colab": {
          "base_uri": "https://localhost:8080/"
        },
        "id": "48utkb1a4AkJ",
        "outputId": "ac8d9946-75c2-40dd-a346-a4c4aaf7388b"
      },
      "execution_count": 82,
      "outputs": [
        {
          "output_type": "execute_result",
          "data": {
            "text/plain": [
              "array([[7.36664127, 6.77501712, 6.0592906 , 7.69318839, 8.9823072 ,\n",
              "        6.42143879, 6.70009741, 7.62605068],\n",
              "       [8.62242948, 7.88827103, 8.33350609, 7.13486325, 7.64624105,\n",
              "        8.37825541, 7.21992401, 8.60050079],\n",
              "       [8.27195732, 8.31214145, 8.43919249, 8.32680101, 8.66927293,\n",
              "        7.86203694, 6.47577071, 7.09137319],\n",
              "       [8.64289276, 6.25411172, 7.65235403, 6.57958655, 7.13741095,\n",
              "        7.97620038, 7.45714634, 6.56398935],\n",
              "       [6.21613522, 6.2440552 , 7.71596494, 6.69331191, 7.57031066,\n",
              "        7.55289955, 7.66623582, 7.82370093]])"
            ]
          },
          "metadata": {},
          "execution_count": 82
        }
      ]
    },
    {
      "cell_type": "code",
      "source": [
        "# Parâmetros : size int ou tupla de ints, opcional\n",
        "# Desenhe amostras de uma distribuição Normal padrão (média=0, stdev=1)\n",
        "# distribuição Normal padrão ---> noções de estátistica \n",
        "np.random.standard_normal(5)"
      ],
      "metadata": {
        "colab": {
          "base_uri": "https://localhost:8080/"
        },
        "id": "5_ERgv7C5En3",
        "outputId": "9abfb4de-1e64-41a0-e6a4-9cc1c93e99f7"
      },
      "execution_count": 83,
      "outputs": [
        {
          "output_type": "execute_result",
          "data": {
            "text/plain": [
              "array([-0.93163246,  0.18124262, -0.54080318, -1.23967942, -0.74930405])"
            ]
          },
          "metadata": {},
          "execution_count": 83
        }
      ]
    },
    {
      "cell_type": "code",
      "source": [
        "np.random.standard_normal((3,6))"
      ],
      "metadata": {
        "colab": {
          "base_uri": "https://localhost:8080/"
        },
        "id": "hNjSRIoo8Eqn",
        "outputId": "537a5316-d7b5-4d9e-a0d8-308f1d582ae6"
      },
      "execution_count": 84,
      "outputs": [
        {
          "output_type": "execute_result",
          "data": {
            "text/plain": [
              "array([[ 0.85950739,  2.04519184,  0.05059185, -0.22889716,  0.22880006,\n",
              "         1.05475989],\n",
              "       [ 1.39222438,  0.10714605, -0.0255169 ,  0.61740744,  1.93102333,\n",
              "        -0.46046291],\n",
              "       [ 0.32218919, -0.11943847,  0.83955098, -1.13635797,  0.17236095,\n",
              "         0.06059814]])"
            ]
          },
          "metadata": {},
          "execution_count": 84
        }
      ]
    },
    {
      "cell_type": "code",
      "source": [
        "#mudar o shape de uma matriz:\n",
        "mat1 = np.random.rand(6)\n",
        "mat1"
      ],
      "metadata": {
        "colab": {
          "base_uri": "https://localhost:8080/"
        },
        "id": "9WrAJLgeCo1t",
        "outputId": "9298f215-5efb-42fb-a520-b2f055f5a7f5"
      },
      "execution_count": 85,
      "outputs": [
        {
          "output_type": "execute_result",
          "data": {
            "text/plain": [
              "array([0.79654121, 0.72857771, 0.40911832, 0.52964148, 0.55182329,\n",
              "       0.62925259])"
            ]
          },
          "metadata": {},
          "execution_count": 85
        }
      ]
    },
    {
      "cell_type": "code",
      "source": [
        "# qual o shape da matriz?\n",
        "mat1.shape"
      ],
      "metadata": {
        "colab": {
          "base_uri": "https://localhost:8080/"
        },
        "id": "eGeGVNh7DQLI",
        "outputId": "bd531f36-ee8e-4041-b1df-af00dd780126"
      },
      "execution_count": 86,
      "outputs": [
        {
          "output_type": "execute_result",
          "data": {
            "text/plain": [
              "(6,)"
            ]
          },
          "metadata": {},
          "execution_count": 86
        }
      ]
    },
    {
      "cell_type": "code",
      "source": [
        "# mudei o shape da mat1\n",
        "mat1.reshape(2,3)"
      ],
      "metadata": {
        "colab": {
          "base_uri": "https://localhost:8080/"
        },
        "id": "VO3RZXjsDsEq",
        "outputId": "c7eac5df-d5dc-4be9-9a10-336b51598b80"
      },
      "execution_count": 87,
      "outputs": [
        {
          "output_type": "execute_result",
          "data": {
            "text/plain": [
              "array([[0.79654121, 0.72857771, 0.40911832],\n",
              "       [0.52964148, 0.55182329, 0.62925259]])"
            ]
          },
          "metadata": {},
          "execution_count": 87
        }
      ]
    },
    {
      "cell_type": "code",
      "source": [
        "# essa função nos retorna o maior número existente em mat1\n",
        "mat1.max()"
      ],
      "metadata": {
        "id": "JNrm3blSFfIj",
        "colab": {
          "base_uri": "https://localhost:8080/"
        },
        "outputId": "7be2a957-1979-4324-ac1f-c8af5b22ef20"
      },
      "execution_count": 88,
      "outputs": [
        {
          "output_type": "execute_result",
          "data": {
            "text/plain": [
              "0.7965412127895479"
            ]
          },
          "metadata": {},
          "execution_count": 88
        }
      ]
    },
    {
      "cell_type": "code",
      "source": [
        "#essa função nos retorna a posição do maior número existente em mat1\n",
        "mat1.argmax()"
      ],
      "metadata": {
        "colab": {
          "base_uri": "https://localhost:8080/"
        },
        "id": "UFzTqZfQgqYa",
        "outputId": "dba6bf65-2c80-494c-8a04-a919b0aafd4a"
      },
      "execution_count": 89,
      "outputs": [
        {
          "output_type": "execute_result",
          "data": {
            "text/plain": [
              "0"
            ]
          },
          "metadata": {},
          "execution_count": 89
        }
      ]
    },
    {
      "cell_type": "code",
      "source": [
        "# media de mat1:\n",
        "mat1.mean()"
      ],
      "metadata": {
        "colab": {
          "base_uri": "https://localhost:8080/"
        },
        "id": "om-ixQuMhKoJ",
        "outputId": "123b5bc1-d5ef-458f-aa28-7499cfe9cae0"
      },
      "execution_count": 90,
      "outputs": [
        {
          "output_type": "execute_result",
          "data": {
            "text/plain": [
              "0.607492433155013"
            ]
          },
          "metadata": {},
          "execution_count": 90
        }
      ]
    },
    {
      "cell_type": "code",
      "source": [
        "mat2 = np.random.rand(6)\n",
        "mat2"
      ],
      "metadata": {
        "colab": {
          "base_uri": "https://localhost:8080/"
        },
        "id": "x_bEL-e9hiUX",
        "outputId": "dc2ca395-0ff2-400a-df37-a611b942c51f"
      },
      "execution_count": 91,
      "outputs": [
        {
          "output_type": "execute_result",
          "data": {
            "text/plain": [
              "array([0.83352651, 0.99052235, 0.62179866, 0.57980795, 0.22322003,\n",
              "       0.23726291])"
            ]
          },
          "metadata": {},
          "execution_count": 91
        }
      ]
    },
    {
      "cell_type": "code",
      "source": [
        "#soma de matrizes: só somar como se fosse uma continha de dois números no papel ---> x+y\n",
        "mat3 = mat1 + mat2\n",
        "mat3 "
      ],
      "metadata": {
        "colab": {
          "base_uri": "https://localhost:8080/"
        },
        "id": "gSyLWuCti2Cp",
        "outputId": "a99dd70e-0665-450e-cebe-0608740318b0"
      },
      "execution_count": 92,
      "outputs": [
        {
          "output_type": "execute_result",
          "data": {
            "text/plain": [
              "array([1.63006772, 1.71910006, 1.03091697, 1.10944943, 0.77504332,\n",
              "       0.8665155 ])"
            ]
          },
          "metadata": {},
          "execution_count": 92
        }
      ]
    },
    {
      "cell_type": "code",
      "source": [
        "#multiplicação de matrizes:\n",
        "mat1 * mat2"
      ],
      "metadata": {
        "colab": {
          "base_uri": "https://localhost:8080/"
        },
        "id": "KqYzD3OKjAhl",
        "outputId": "36c13782-97e4-4387-d919-5e6fb6788321"
      },
      "execution_count": 93,
      "outputs": [
        {
          "output_type": "execute_result",
          "data": {
            "text/plain": [
              "array([0.66393822, 0.72167251, 0.25438922, 0.30709034, 0.12317801,\n",
              "       0.1492983 ])"
            ]
          },
          "metadata": {},
          "execution_count": 93
        }
      ]
    },
    {
      "cell_type": "code",
      "source": [
        "# raiz quadrada da matriz:\n",
        "np.sqrt(mat1)"
      ],
      "metadata": {
        "colab": {
          "base_uri": "https://localhost:8080/"
        },
        "id": "lCsBQDK2j_y7",
        "outputId": "c7917b06-1480-4885-fe53-e921ca0ab370"
      },
      "execution_count": 94,
      "outputs": [
        {
          "output_type": "execute_result",
          "data": {
            "text/plain": [
              "array([0.89249158, 0.85356764, 0.63962357, 0.72776471, 0.74284809,\n",
              "       0.79325443])"
            ]
          },
          "metadata": {},
          "execution_count": 94
        }
      ]
    },
    {
      "cell_type": "code",
      "source": [
        "# raiz cúbica\n",
        "np.cbrt(mat1)"
      ],
      "metadata": {
        "colab": {
          "base_uri": "https://localhost:8080/"
        },
        "id": "HX_5F2LrkIkO",
        "outputId": "c322a74b-aa11-4284-cc16-12fa91b018ab"
      },
      "execution_count": 95,
      "outputs": [
        {
          "output_type": "execute_result",
          "data": {
            "text/plain": [
              "array([0.92697798, 0.89982618, 0.74236298, 0.80908471, 0.82022564,\n",
              "       0.85692275])"
            ]
          },
          "metadata": {},
          "execution_count": 95
        }
      ]
    },
    {
      "cell_type": "code",
      "source": [
        "mat4 = np.random.rand(1, 6)\n",
        "mat4"
      ],
      "metadata": {
        "colab": {
          "base_uri": "https://localhost:8080/"
        },
        "id": "vsDkABxdrRbq",
        "outputId": "ea2e96b9-bde1-46b9-9525-b35ad775c6d7"
      },
      "execution_count": 96,
      "outputs": [
        {
          "output_type": "execute_result",
          "data": {
            "text/plain": [
              "array([[0.95081588, 0.15225673, 0.82985968, 0.28000193, 0.73964652,\n",
              "        0.39170708]])"
            ]
          },
          "metadata": {},
          "execution_count": 96
        }
      ]
    },
    {
      "cell_type": "code",
      "source": [
        "# soma dos elementos da matriz:\n",
        "mat4.sum()"
      ],
      "metadata": {
        "colab": {
          "base_uri": "https://localhost:8080/"
        },
        "id": "vcOlCwo7kNhj",
        "outputId": "c0b34a0a-dc03-43d3-be82-b8d810b29a25"
      },
      "execution_count": 97,
      "outputs": [
        {
          "output_type": "execute_result",
          "data": {
            "text/plain": [
              "3.3442878195503782"
            ]
          },
          "metadata": {},
          "execution_count": 97
        }
      ]
    },
    {
      "cell_type": "code",
      "source": [
        "# desvio padrão dos elementos:\n",
        "mat4.std()"
      ],
      "metadata": {
        "colab": {
          "base_uri": "https://localhost:8080/"
        },
        "id": "SvKLuQU_uOYD",
        "outputId": "0858c9ee-5ed6-4a11-c237-57117633c017"
      },
      "execution_count": 98,
      "outputs": [
        {
          "output_type": "execute_result",
          "data": {
            "text/plain": [
              "0.29742478642704934"
            ]
          },
          "metadata": {},
          "execution_count": 98
        }
      ]
    },
    {
      "cell_type": "code",
      "source": [
        "mat4.shape"
      ],
      "metadata": {
        "colab": {
          "base_uri": "https://localhost:8080/"
        },
        "id": "tPAbC-yquVRl",
        "outputId": "fb27f540-3145-4563-e623-5ca96e942fd3"
      },
      "execution_count": 99,
      "outputs": [
        {
          "output_type": "execute_result",
          "data": {
            "text/plain": [
              "(1, 6)"
            ]
          },
          "metadata": {},
          "execution_count": 99
        }
      ]
    },
    {
      "cell_type": "code",
      "source": [
        "# criar uma outra matriz a partir do reshape de uma:\n",
        "mat5 = mat4.reshape(6,1)\n",
        "mat5"
      ],
      "metadata": {
        "colab": {
          "base_uri": "https://localhost:8080/"
        },
        "id": "7gxPapkIzMR5",
        "outputId": "6bf9c536-560c-4b63-81fb-a14d4b91071c"
      },
      "execution_count": 100,
      "outputs": [
        {
          "output_type": "execute_result",
          "data": {
            "text/plain": [
              "array([[0.95081588],\n",
              "       [0.15225673],\n",
              "       [0.82985968],\n",
              "       [0.28000193],\n",
              "       [0.73964652],\n",
              "       [0.39170708]])"
            ]
          },
          "metadata": {},
          "execution_count": 100
        }
      ]
    },
    {
      "cell_type": "code",
      "source": [
        "#função que multiplica duas matrizes:\n",
        "np.matmul(mat5, mat4)"
      ],
      "metadata": {
        "colab": {
          "base_uri": "https://localhost:8080/"
        },
        "id": "l61jqO8rze7F",
        "outputId": "33839c35-5c4a-4930-aab9-8bf1e8bf95e9"
      },
      "execution_count": 101,
      "outputs": [
        {
          "output_type": "execute_result",
          "data": {
            "text/plain": [
              "array([[0.90405083, 0.14476812, 0.78904376, 0.26623028, 0.70326766,\n",
              "        0.37244131],\n",
              "       [0.14476812, 0.02318211, 0.12635172, 0.04263218, 0.11261616,\n",
              "        0.05964004],\n",
              "       [0.78904376, 0.12635172, 0.68866708, 0.23236231, 0.61380283,\n",
              "        0.32506191],\n",
              "       [0.26623028, 0.04263218, 0.23236231, 0.07840108, 0.20710246,\n",
              "        0.10967874],\n",
              "       [0.70326766, 0.11261616, 0.61380283, 0.20710246, 0.54707698,\n",
              "        0.28972478],\n",
              "       [0.37244131, 0.05964004, 0.32506191, 0.10967874, 0.28972478,\n",
              "        0.15343444]])"
            ]
          },
          "metadata": {},
          "execution_count": 101
        }
      ]
    },
    {
      "cell_type": "code",
      "source": [
        "#continuar em 58:45"
      ],
      "metadata": {
        "id": "k_p93aEW0GgB"
      },
      "execution_count": 102,
      "outputs": []
    },
    {
      "cell_type": "code",
      "source": [],
      "metadata": {
        "id": "ZwnODVWh9WxL"
      },
      "execution_count": null,
      "outputs": []
    }
  ]
}