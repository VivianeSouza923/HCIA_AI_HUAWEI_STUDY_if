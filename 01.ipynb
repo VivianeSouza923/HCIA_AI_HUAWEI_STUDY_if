{
  "nbformat": 4,
  "nbformat_minor": 0,
  "metadata": {
    "colab": {
      "provenance": [],
      "authorship_tag": "ABX9TyOqdTr1XAWeCmB7fZmVNvks",
      "include_colab_link": true
    },
    "kernelspec": {
      "name": "python3",
      "display_name": "Python 3"
    },
    "language_info": {
      "name": "python"
    }
  },
  "cells": [
    {
      "cell_type": "markdown",
      "metadata": {
        "id": "view-in-github",
        "colab_type": "text"
      },
      "source": [
        "<a href=\"https://colab.research.google.com/github/VivianeSouza923/HCIA_AI_HUAWEI_STUDY_if/blob/main/01.ipynb\" target=\"_parent\"><img src=\"https://colab.research.google.com/assets/colab-badge.svg\" alt=\"Open In Colab\"/></a>"
      ]
    },
    {
      "cell_type": "code",
      "execution_count": null,
      "metadata": {
        "id": "iOz0bixswGdB"
      },
      "outputs": [],
      "source": [
        "#importando a lib\n",
        "import numpy as np"
      ]
    },
    {
      "cell_type": "code",
      "source": [
        "#criando uma array - nome_da_Array = np.array([elemento1, elemento2, ..., elementon])\n",
        "arr1 = np.array([1, 2, 3])\n",
        "#printando essa array\n",
        "arr1"
      ],
      "metadata": {
        "colab": {
          "base_uri": "https://localhost:8080/"
        },
        "id": "yRQQG3rVweSR",
        "outputId": "0fa1c6f6-a40f-4246-8eea-6541d6607024"
      },
      "execution_count": null,
      "outputs": [
        {
          "output_type": "execute_result",
          "data": {
            "text/plain": [
              "array([1, 2, 3])"
            ]
          },
          "metadata": {},
          "execution_count": 3
        }
      ]
    },
    {
      "cell_type": "code",
      "source": [
        "#tipo da array? temos. basta usar a função type, passando o parâmetro, a própria array.\n",
        "type(arr1)"
      ],
      "metadata": {
        "colab": {
          "base_uri": "https://localhost:8080/"
        },
        "id": "2S7zbPlOxCNk",
        "outputId": "e765a52e-4750-4644-e089-a93f7e5ebaf6"
      },
      "execution_count": null,
      "outputs": [
        {
          "output_type": "execute_result",
          "data": {
            "text/plain": [
              "numpy.ndarray"
            ]
          },
          "metadata": {},
          "execution_count": 4
        }
      ]
    },
    {
      "cell_type": "code",
      "source": [
        "#array de 2 dimensões? temos também. só criar agora:\n",
        "arr2 = np.array([[1,2,3],[4,5,6]])\n",
        "#printa a array\n",
        "arr2\n"
      ],
      "metadata": {
        "colab": {
          "base_uri": "https://localhost:8080/"
        },
        "id": "YKVPe_gqyFgS",
        "outputId": "c59bb829-1156-4a95-a920-92b3826a01f5"
      },
      "execution_count": null,
      "outputs": [
        {
          "output_type": "execute_result",
          "data": {
            "text/plain": [
              "array([[1, 2, 3],\n",
              "       [4, 5, 6]])"
            ]
          },
          "metadata": {},
          "execution_count": 5
        }
      ]
    },
    {
      "cell_type": "code",
      "source": [
        "type(arr2)"
      ],
      "metadata": {
        "colab": {
          "base_uri": "https://localhost:8080/"
        },
        "id": "Z2kSbREZy3AF",
        "outputId": "eb9abe01-2812-4dd8-80b4-e424c4dd591f"
      },
      "execution_count": null,
      "outputs": [
        {
          "output_type": "execute_result",
          "data": {
            "text/plain": [
              "numpy.ndarray"
            ]
          },
          "metadata": {},
          "execution_count": 6
        }
      ]
    },
    {
      "cell_type": "code",
      "source": [
        "#  acessar os elementos:\n",
        "#quem tá na posição 0 da minha array arr1? só printa assim:\n",
        "arr1[0]"
      ],
      "metadata": {
        "colab": {
          "base_uri": "https://localhost:8080/"
        },
        "id": "W6Gh8e-Vy6Rw",
        "outputId": "06d411c9-5e63-47cb-e2d3-27e078908b78"
      },
      "execution_count": null,
      "outputs": [
        {
          "output_type": "execute_result",
          "data": {
            "text/plain": [
              "1"
            ]
          },
          "metadata": {},
          "execution_count": 7
        }
      ]
    },
    {
      "cell_type": "code",
      "source": [
        "##  acessar os elementos:\n",
        "# matriz - lista de listas\n",
        "arr2[1][1] #linha 1, elemento 1, consegue ver?\n"
      ],
      "metadata": {
        "colab": {
          "base_uri": "https://localhost:8080/"
        },
        "id": "rSgGHqA9zeAb",
        "outputId": "8ca3217d-583e-4aaa-b3d4-5dd54d771340"
      },
      "execution_count": null,
      "outputs": [
        {
          "output_type": "execute_result",
          "data": {
            "text/plain": [
              "5"
            ]
          },
          "metadata": {},
          "execution_count": 8
        }
      ]
    },
    {
      "cell_type": "code",
      "source": [
        "#criar uma array passando a posição inicial e a final, ou seja, onde vai começar e onde vai terminar.\n",
        "# para isso, a gente utiliza a arange dentro da numpy.\n",
        "arr3 = np.arange(0,9)\n",
        "arr3"
      ],
      "metadata": {
        "id": "b8xw2b1A0Pkx",
        "colab": {
          "base_uri": "https://localhost:8080/"
        },
        "outputId": "83431492-e50f-4e85-98c0-912d0ebf85ca"
      },
      "execution_count": null,
      "outputs": [
        {
          "output_type": "execute_result",
          "data": {
            "text/plain": [
              "array([0, 1, 2, 3, 4, 5, 6, 7, 8])"
            ]
          },
          "metadata": {},
          "execution_count": 10
        }
      ]
    },
    {
      "cell_type": "code",
      "source": [
        "#também dá pra criar arrays de \"pulinhos em pulinhos\", ou seja, espaçamento entre os números, utilizando a arange:\n",
        "arr4 = np.arange(0,9,3)\n",
        "arr4\n",
        "#np.arange(posiçao_inicial, posição_final, pulinhos)"
      ],
      "metadata": {
        "colab": {
          "base_uri": "https://localhost:8080/"
        },
        "id": "LtJTk0_RrCsO",
        "outputId": "e7db4f1f-b7e0-4d65-ffe9-aa9d199d5c44"
      },
      "execution_count": null,
      "outputs": [
        {
          "output_type": "execute_result",
          "data": {
            "text/plain": [
              "array([0, 3, 6])"
            ]
          },
          "metadata": {},
          "execution_count": 12
        }
      ]
    },
    {
      "cell_type": "code",
      "source": [
        "# matriz de 1 dimensão que contém só zeros:\n",
        "np.zeros(4)"
      ],
      "metadata": {
        "colab": {
          "base_uri": "https://localhost:8080/"
        },
        "id": "0MX5pQuesgtf",
        "outputId": "234db4b2-7753-4676-e270-ea6687a34cf7"
      },
      "execution_count": null,
      "outputs": [
        {
          "output_type": "execute_result",
          "data": {
            "text/plain": [
              "array([0., 0., 0., 0.])"
            ]
          },
          "metadata": {},
          "execution_count": 15
        }
      ]
    },
    {
      "cell_type": "code",
      "source": [
        "# matriz de 2 dimensões que contém só zeros:\n",
        "np.zeros((2,3))"
      ],
      "metadata": {
        "colab": {
          "base_uri": "https://localhost:8080/"
        },
        "id": "ZsI_6v0EuNWo",
        "outputId": "d749ed56-da02-4163-b1d9-54224d775783"
      },
      "execution_count": null,
      "outputs": [
        {
          "output_type": "execute_result",
          "data": {
            "text/plain": [
              "array([[0., 0., 0.],\n",
              "       [0., 0., 0.]])"
            ]
          },
          "metadata": {},
          "execution_count": 17
        }
      ]
    },
    {
      "cell_type": "code",
      "source": [
        "# matriz de 1 dimensão que contém só 1's\n",
        "np.ones(7)"
      ],
      "metadata": {
        "colab": {
          "base_uri": "https://localhost:8080/"
        },
        "id": "n-Hr4Bo0ub-2",
        "outputId": "862099c7-1f9b-43c9-bf9a-15b541cff18e"
      },
      "execution_count": null,
      "outputs": [
        {
          "output_type": "execute_result",
          "data": {
            "text/plain": [
              "array([1., 1., 1., 1., 1., 1., 1.])"
            ]
          },
          "metadata": {},
          "execution_count": 19
        }
      ]
    },
    {
      "cell_type": "code",
      "source": [
        "#matriz de 2 dimensões que contém só 1's\n",
        "np.ones((5,6))"
      ],
      "metadata": {
        "colab": {
          "base_uri": "https://localhost:8080/"
        },
        "id": "2n-G3XtYvE3x",
        "outputId": "7bf25d0c-5f46-44a9-a12c-a6ce49acc84d"
      },
      "execution_count": null,
      "outputs": [
        {
          "output_type": "execute_result",
          "data": {
            "text/plain": [
              "array([[1., 1., 1., 1., 1., 1.],\n",
              "       [1., 1., 1., 1., 1., 1.],\n",
              "       [1., 1., 1., 1., 1., 1.],\n",
              "       [1., 1., 1., 1., 1., 1.],\n",
              "       [1., 1., 1., 1., 1., 1.]])"
            ]
          },
          "metadata": {},
          "execution_count": 20
        }
      ]
    },
    {
      "cell_type": "code",
      "source": [
        "#matriz identidade --> eye\n",
        "np.eye(6)"
      ],
      "metadata": {
        "colab": {
          "base_uri": "https://localhost:8080/"
        },
        "id": "xzLKRR9qvQA5",
        "outputId": "9782e50c-b117-401a-dcaf-9836c22751cc"
      },
      "execution_count": null,
      "outputs": [
        {
          "output_type": "execute_result",
          "data": {
            "text/plain": [
              "array([[1., 0., 0., 0., 0., 0.],\n",
              "       [0., 1., 0., 0., 0., 0.],\n",
              "       [0., 0., 1., 0., 0., 0.],\n",
              "       [0., 0., 0., 1., 0., 0.],\n",
              "       [0., 0., 0., 0., 1., 0.],\n",
              "       [0., 0., 0., 0., 0., 1.]])"
            ]
          },
          "metadata": {},
          "execution_count": 21
        }
      ]
    },
    {
      "cell_type": "code",
      "source": [
        "# matriz de números aleatórios de 0 a 1\n",
        "arr5 = np.random.rand(6)\n",
        "arr5"
      ],
      "metadata": {
        "colab": {
          "base_uri": "https://localhost:8080/"
        },
        "id": "U0U2vAn8vcO-",
        "outputId": "85a1d11f-c856-4621-9bd0-9e04ac877d9a"
      },
      "execution_count": null,
      "outputs": [
        {
          "output_type": "execute_result",
          "data": {
            "text/plain": [
              "array([0.32975302, 0.28226836, 0.94996084, 0.78131679, 0.03384206,\n",
              "       0.69001139])"
            ]
          },
          "metadata": {},
          "execution_count": 25
        }
      ]
    },
    {
      "cell_type": "code",
      "source": [
        "#uma espécie de sorteio?\n",
        "np.random.randint(6)\n",
        "#np.random.randint(tamanho_do_intervalo) --> retorna um valor inteiro dentro do tamanho desse intervalo"
      ],
      "metadata": {
        "colab": {
          "base_uri": "https://localhost:8080/"
        },
        "id": "H71DpueYwBlW",
        "outputId": "49e35a28-27aa-4c3a-fea7-70e60f5a0e97"
      },
      "execution_count": null,
      "outputs": [
        {
          "output_type": "execute_result",
          "data": {
            "text/plain": [
              "4"
            ]
          },
          "metadata": {},
          "execution_count": 39
        }
      ]
    },
    {
      "cell_type": "code",
      "source": [
        "#retorna uma matriz (de acordo com o shape passado) de valores inteiros dentro do intervalo passado\n",
        "# np.random.randint (menor_posição, maior_posição, (shape))\n",
        "np.random.randint(5, 36, (2,3))"
      ],
      "metadata": {
        "colab": {
          "base_uri": "https://localhost:8080/"
        },
        "id": "zNkENlTtyCt8",
        "outputId": "96e3e9fb-6813-45fb-a105-0789d252b0f9"
      },
      "execution_count": null,
      "outputs": [
        {
          "output_type": "execute_result",
          "data": {
            "text/plain": [
              "array([[25, 10,  5],\n",
              "       [22, 15, 13]])"
            ]
          },
          "metadata": {},
          "execution_count": 44
        }
      ]
    },
    {
      "cell_type": "code",
      "source": [
        "#matriz de 3 dimensões:\n",
        "np.random.randint(6, 58, (5, 9, 2))"
      ],
      "metadata": {
        "colab": {
          "base_uri": "https://localhost:8080/"
        },
        "id": "xcUxEgMQymxt",
        "outputId": "73630b74-17ac-403d-d999-396d7223c43b"
      },
      "execution_count": null,
      "outputs": [
        {
          "output_type": "execute_result",
          "data": {
            "text/plain": [
              "array([[[42, 44],\n",
              "        [21, 15],\n",
              "        [12, 40],\n",
              "        [29, 41],\n",
              "        [54, 19],\n",
              "        [22, 44],\n",
              "        [41, 22],\n",
              "        [16, 55],\n",
              "        [15, 45]],\n",
              "\n",
              "       [[34, 56],\n",
              "        [45, 43],\n",
              "        [11, 28],\n",
              "        [11, 31],\n",
              "        [37, 34],\n",
              "        [23, 28],\n",
              "        [40, 19],\n",
              "        [47, 30],\n",
              "        [40, 51]],\n",
              "\n",
              "       [[27, 34],\n",
              "        [40, 45],\n",
              "        [ 9, 48],\n",
              "        [41, 39],\n",
              "        [48, 37],\n",
              "        [15, 24],\n",
              "        [36, 14],\n",
              "        [45, 26],\n",
              "        [49, 31]],\n",
              "\n",
              "       [[12,  8],\n",
              "        [23, 26],\n",
              "        [44, 20],\n",
              "        [26, 38],\n",
              "        [14, 35],\n",
              "        [33, 52],\n",
              "        [26, 23],\n",
              "        [ 7, 31],\n",
              "        [36, 12]],\n",
              "\n",
              "       [[57, 40],\n",
              "        [14, 54],\n",
              "        [55, 51],\n",
              "        [41, 12],\n",
              "        [48,  8],\n",
              "        [41, 38],\n",
              "        [50, 52],\n",
              "        [43, 30],\n",
              "        [33, 20]]])"
            ]
          },
          "metadata": {},
          "execution_count": 45
        }
      ]
    },
    {
      "cell_type": "code",
      "source": [
        "# pega um número aleatório double, digamos assim, entre 5 e 9\n",
        "np.random.uniform(5, 9)"
      ],
      "metadata": {
        "colab": {
          "base_uri": "https://localhost:8080/"
        },
        "id": "jYkqu0FU0K-7",
        "outputId": "92fb12c9-91d9-41ea-ade6-5f8ee4633256"
      },
      "execution_count": null,
      "outputs": [
        {
          "output_type": "execute_result",
          "data": {
            "text/plain": [
              "7.063188912279433"
            ]
          },
          "metadata": {},
          "execution_count": 46
        }
      ]
    },
    {
      "cell_type": "code",
      "source": [
        "# mesma coisa do np.random.randint, só que tem uma diferença: o número não é inteiro (podemos chamar de double)\n",
        "np.random.uniform(6, 9, (5, 8))"
      ],
      "metadata": {
        "colab": {
          "base_uri": "https://localhost:8080/"
        },
        "id": "48utkb1a4AkJ",
        "outputId": "88369e2c-b363-41c2-ef62-2d8425f6274f"
      },
      "execution_count": null,
      "outputs": [
        {
          "output_type": "execute_result",
          "data": {
            "text/plain": [
              "array([[6.54788414, 7.36450539, 6.81210156, 6.29883047, 8.38728698,\n",
              "        7.79584893, 6.15394467, 7.42841798],\n",
              "       [7.64773529, 8.80954074, 6.3519966 , 6.59222281, 7.2157048 ,\n",
              "        8.71521887, 7.95910146, 6.59475392],\n",
              "       [8.89930981, 8.59460891, 8.11609293, 8.71028409, 8.6591416 ,\n",
              "        7.91326715, 7.84076565, 8.9340684 ],\n",
              "       [8.14954389, 7.3237289 , 6.11407335, 7.251745  , 6.77205957,\n",
              "        6.4777259 , 6.54143112, 6.77824595],\n",
              "       [7.69502046, 6.51362724, 6.94839636, 6.93846953, 6.05340201,\n",
              "        7.95789583, 6.72344726, 6.51135104]])"
            ]
          },
          "metadata": {},
          "execution_count": 48
        }
      ]
    },
    {
      "cell_type": "code",
      "source": [
        "# Parâmetros : size int ou tupla de ints, opcional\n",
        "# Desenhe amostras de uma distribuição Normal padrão (média=0, stdev=1)\n",
        "# distribuição Normal padrão ---> noções de estátistica \n",
        "np.random.standard_normal(5)"
      ],
      "metadata": {
        "colab": {
          "base_uri": "https://localhost:8080/"
        },
        "id": "5_ERgv7C5En3",
        "outputId": "a08d0196-e5ee-4c93-9a92-579a23bbdbf1"
      },
      "execution_count": null,
      "outputs": [
        {
          "output_type": "execute_result",
          "data": {
            "text/plain": [
              "array([-0.19536295,  1.13307789, -1.55951509,  0.4429637 ,  1.64951052])"
            ]
          },
          "metadata": {},
          "execution_count": 60
        }
      ]
    },
    {
      "cell_type": "code",
      "source": [
        "np.random.standard_normal((3,6))"
      ],
      "metadata": {
        "colab": {
          "base_uri": "https://localhost:8080/"
        },
        "id": "hNjSRIoo8Eqn",
        "outputId": "83cc9c89-1061-4efc-f479-c0ca55054999"
      },
      "execution_count": null,
      "outputs": [
        {
          "output_type": "execute_result",
          "data": {
            "text/plain": [
              "array([[-0.56602789,  0.75953946, -0.04507521,  1.30284285, -0.77753667,\n",
              "        -0.57674566],\n",
              "       [ 0.42160829, -0.04393227, -0.55318814,  2.68389655, -1.88935569,\n",
              "        -0.29824662],\n",
              "       [-0.2417632 , -0.57314667,  1.42119329,  0.46770359,  1.93642027,\n",
              "         0.37428126]])"
            ]
          },
          "metadata": {},
          "execution_count": 61
        }
      ]
    },
    {
      "cell_type": "code",
      "source": [
        "#mudar o shape de uma matriz:\n",
        "mat1 = np.random.rand(6)\n",
        "mat1"
      ],
      "metadata": {
        "colab": {
          "base_uri": "https://localhost:8080/"
        },
        "id": "9WrAJLgeCo1t",
        "outputId": "34fbcc1b-ad05-4597-e08e-0e70977c8b87"
      },
      "execution_count": null,
      "outputs": [
        {
          "output_type": "execute_result",
          "data": {
            "text/plain": [
              "array([0.95670645, 0.92913066, 0.89081776, 0.15854283, 0.52470912,\n",
              "       0.22581573])"
            ]
          },
          "metadata": {},
          "execution_count": 62
        }
      ]
    },
    {
      "cell_type": "code",
      "source": [
        "# qual o shape da matriz?\n",
        "mat1.shape"
      ],
      "metadata": {
        "colab": {
          "base_uri": "https://localhost:8080/"
        },
        "id": "eGeGVNh7DQLI",
        "outputId": "2497a2db-c87b-4859-f613-b0e371bdcc75"
      },
      "execution_count": null,
      "outputs": [
        {
          "output_type": "execute_result",
          "data": {
            "text/plain": [
              "(6,)"
            ]
          },
          "metadata": {},
          "execution_count": 63
        }
      ]
    },
    {
      "cell_type": "code",
      "source": [
        "# mudei o shape da mat1\n",
        "mat1.reshape(2,3)"
      ],
      "metadata": {
        "colab": {
          "base_uri": "https://localhost:8080/"
        },
        "id": "VO3RZXjsDsEq",
        "outputId": "2ad10c31-5cc9-40ef-e81f-6b7538442964"
      },
      "execution_count": null,
      "outputs": [
        {
          "output_type": "execute_result",
          "data": {
            "text/plain": [
              "array([[0.95670645, 0.92913066, 0.89081776],\n",
              "       [0.15854283, 0.52470912, 0.22581573]])"
            ]
          },
          "metadata": {},
          "execution_count": 64
        }
      ]
    },
    {
      "cell_type": "code",
      "source": [
        "#continuarf em 34:38 da lecture3"
      ],
      "metadata": {
        "id": "JNrm3blSFfIj"
      },
      "execution_count": null,
      "outputs": []
    }
  ]
}