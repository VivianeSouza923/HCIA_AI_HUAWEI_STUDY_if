{
  "nbformat": 4,
  "nbformat_minor": 0,
  "metadata": {
    "colab": {
      "provenance": [],
      "authorship_tag": "ABX9TyOUCwxt1RQdRyNsIjifrNxj",
      "include_colab_link": true
    },
    "kernelspec": {
      "name": "python3",
      "display_name": "Python 3"
    },
    "language_info": {
      "name": "python"
    }
  },
  "cells": [
    {
      "cell_type": "markdown",
      "metadata": {
        "id": "view-in-github",
        "colab_type": "text"
      },
      "source": [
        "<a href=\"https://colab.research.google.com/github/VivianeSouza923/HCIA_AI_HUAWEI_STUDY_if/blob/main/01.ipynb\" target=\"_parent\"><img src=\"https://colab.research.google.com/assets/colab-badge.svg\" alt=\"Open In Colab\"/></a>"
      ]
    },
    {
      "cell_type": "code",
      "execution_count": 43,
      "metadata": {
        "id": "iOz0bixswGdB"
      },
      "outputs": [],
      "source": [
        "#importando a lib\n",
        "import numpy as np"
      ]
    },
    {
      "cell_type": "code",
      "source": [
        "#criando uma array - nome_da_Array = np.array([elemento1, elemento2, ..., elementon])\n",
        "arr1 = np.array([1, 2, 3])\n",
        "#printando essa array\n",
        "arr1"
      ],
      "metadata": {
        "colab": {
          "base_uri": "https://localhost:8080/"
        },
        "id": "yRQQG3rVweSR",
        "outputId": "e977bd3f-86db-4a6d-9267-05623f88b0ed"
      },
      "execution_count": 44,
      "outputs": [
        {
          "output_type": "execute_result",
          "data": {
            "text/plain": [
              "array([1, 2, 3])"
            ]
          },
          "metadata": {},
          "execution_count": 44
        }
      ]
    },
    {
      "cell_type": "code",
      "source": [
        "#tipo da array? temos. basta usar a função type, passando o parâmetro, a própria array.\n",
        "type(arr1)"
      ],
      "metadata": {
        "colab": {
          "base_uri": "https://localhost:8080/"
        },
        "id": "2S7zbPlOxCNk",
        "outputId": "7f8d7283-303c-4c15-97c6-12dbc3d7e537"
      },
      "execution_count": 45,
      "outputs": [
        {
          "output_type": "execute_result",
          "data": {
            "text/plain": [
              "numpy.ndarray"
            ]
          },
          "metadata": {},
          "execution_count": 45
        }
      ]
    },
    {
      "cell_type": "code",
      "source": [
        "#array de 2 dimensões? temos também. só criar agora:\n",
        "arr2 = np.array([[1,2,3],[4,5,6]])\n",
        "#printa a array\n",
        "arr2\n"
      ],
      "metadata": {
        "colab": {
          "base_uri": "https://localhost:8080/"
        },
        "id": "YKVPe_gqyFgS",
        "outputId": "f08ac65b-8abb-4de9-d7e8-75769b20e21b"
      },
      "execution_count": 46,
      "outputs": [
        {
          "output_type": "execute_result",
          "data": {
            "text/plain": [
              "array([[1, 2, 3],\n",
              "       [4, 5, 6]])"
            ]
          },
          "metadata": {},
          "execution_count": 46
        }
      ]
    },
    {
      "cell_type": "code",
      "source": [
        "type(arr2)"
      ],
      "metadata": {
        "colab": {
          "base_uri": "https://localhost:8080/"
        },
        "id": "Z2kSbREZy3AF",
        "outputId": "3fa02f47-f697-42f9-ab8d-abba013269d6"
      },
      "execution_count": 47,
      "outputs": [
        {
          "output_type": "execute_result",
          "data": {
            "text/plain": [
              "numpy.ndarray"
            ]
          },
          "metadata": {},
          "execution_count": 47
        }
      ]
    },
    {
      "cell_type": "code",
      "source": [
        "#  acessar os elementos:\n",
        "#quem tá na posição 0 da minha array arr1? só printa assim:\n",
        "arr1[0]"
      ],
      "metadata": {
        "colab": {
          "base_uri": "https://localhost:8080/"
        },
        "id": "W6Gh8e-Vy6Rw",
        "outputId": "4dd7feb1-6fb9-45a9-c3a7-859f50758f39"
      },
      "execution_count": 48,
      "outputs": [
        {
          "output_type": "execute_result",
          "data": {
            "text/plain": [
              "1"
            ]
          },
          "metadata": {},
          "execution_count": 48
        }
      ]
    },
    {
      "cell_type": "code",
      "source": [
        "##  acessar os elementos:\n",
        "# matriz - lista de listas\n",
        "arr2[1][1] #linha 1, elemento 1, consegue ver?\n"
      ],
      "metadata": {
        "colab": {
          "base_uri": "https://localhost:8080/"
        },
        "id": "rSgGHqA9zeAb",
        "outputId": "30167df3-fe7e-4888-b96b-e32652f57d5c"
      },
      "execution_count": 49,
      "outputs": [
        {
          "output_type": "execute_result",
          "data": {
            "text/plain": [
              "5"
            ]
          },
          "metadata": {},
          "execution_count": 49
        }
      ]
    },
    {
      "cell_type": "code",
      "source": [
        "#criar uma array passando a posição inicial e a final, ou seja, onde vai começar e onde vai terminar.\n",
        "# para isso, a gente utiliza a arange dentro da numpy.\n",
        "arr3 = np.arange(0,9)\n",
        "arr3"
      ],
      "metadata": {
        "id": "b8xw2b1A0Pkx",
        "colab": {
          "base_uri": "https://localhost:8080/"
        },
        "outputId": "edf72b62-3ecf-4db4-ac97-e709da8a8eaa"
      },
      "execution_count": 50,
      "outputs": [
        {
          "output_type": "execute_result",
          "data": {
            "text/plain": [
              "array([0, 1, 2, 3, 4, 5, 6, 7, 8])"
            ]
          },
          "metadata": {},
          "execution_count": 50
        }
      ]
    },
    {
      "cell_type": "code",
      "source": [
        "#também dá pra criar arrays de \"pulinhos em pulinhos\", ou seja, espaçamento entre os números, utilizando a arange:\n",
        "arr4 = np.arange(0,9,3)\n",
        "arr4\n",
        "#np.arange(posiçao_inicial, posição_final, pulinhos)"
      ],
      "metadata": {
        "colab": {
          "base_uri": "https://localhost:8080/"
        },
        "id": "LtJTk0_RrCsO",
        "outputId": "6c2f6114-931b-47ce-88cc-3b6216d986ef"
      },
      "execution_count": 51,
      "outputs": [
        {
          "output_type": "execute_result",
          "data": {
            "text/plain": [
              "array([0, 3, 6])"
            ]
          },
          "metadata": {},
          "execution_count": 51
        }
      ]
    },
    {
      "cell_type": "code",
      "source": [
        "# matriz de 1 dimensão que contém só zeros:\n",
        "np.zeros(4)"
      ],
      "metadata": {
        "colab": {
          "base_uri": "https://localhost:8080/"
        },
        "id": "0MX5pQuesgtf",
        "outputId": "7b0f8edd-1e1c-41a6-a29f-f354eff94b83"
      },
      "execution_count": 52,
      "outputs": [
        {
          "output_type": "execute_result",
          "data": {
            "text/plain": [
              "array([0., 0., 0., 0.])"
            ]
          },
          "metadata": {},
          "execution_count": 52
        }
      ]
    },
    {
      "cell_type": "code",
      "source": [
        "# matriz de 2 dimensões que contém só zeros:\n",
        "np.zeros((2,3))"
      ],
      "metadata": {
        "colab": {
          "base_uri": "https://localhost:8080/"
        },
        "id": "ZsI_6v0EuNWo",
        "outputId": "a3ff2db8-46c2-4850-9c51-fd2642d613f5"
      },
      "execution_count": 53,
      "outputs": [
        {
          "output_type": "execute_result",
          "data": {
            "text/plain": [
              "array([[0., 0., 0.],\n",
              "       [0., 0., 0.]])"
            ]
          },
          "metadata": {},
          "execution_count": 53
        }
      ]
    },
    {
      "cell_type": "code",
      "source": [
        "# matriz de 1 dimensão que contém só 1's\n",
        "np.ones(7)"
      ],
      "metadata": {
        "colab": {
          "base_uri": "https://localhost:8080/"
        },
        "id": "n-Hr4Bo0ub-2",
        "outputId": "11927aeb-772b-47da-9b47-911266b65423"
      },
      "execution_count": 54,
      "outputs": [
        {
          "output_type": "execute_result",
          "data": {
            "text/plain": [
              "array([1., 1., 1., 1., 1., 1., 1.])"
            ]
          },
          "metadata": {},
          "execution_count": 54
        }
      ]
    },
    {
      "cell_type": "code",
      "source": [
        "#matriz de 2 dimensões que contém só 1's\n",
        "np.ones((5,6))"
      ],
      "metadata": {
        "colab": {
          "base_uri": "https://localhost:8080/"
        },
        "id": "2n-G3XtYvE3x",
        "outputId": "d0094573-eda7-4f0e-e361-a696aee4f2ec"
      },
      "execution_count": 55,
      "outputs": [
        {
          "output_type": "execute_result",
          "data": {
            "text/plain": [
              "array([[1., 1., 1., 1., 1., 1.],\n",
              "       [1., 1., 1., 1., 1., 1.],\n",
              "       [1., 1., 1., 1., 1., 1.],\n",
              "       [1., 1., 1., 1., 1., 1.],\n",
              "       [1., 1., 1., 1., 1., 1.]])"
            ]
          },
          "metadata": {},
          "execution_count": 55
        }
      ]
    },
    {
      "cell_type": "code",
      "source": [
        "#matriz identidade --> eye\n",
        "np.eye(6)"
      ],
      "metadata": {
        "colab": {
          "base_uri": "https://localhost:8080/"
        },
        "id": "xzLKRR9qvQA5",
        "outputId": "76d296db-0314-48ae-a332-8bab49f602a2"
      },
      "execution_count": 56,
      "outputs": [
        {
          "output_type": "execute_result",
          "data": {
            "text/plain": [
              "array([[1., 0., 0., 0., 0., 0.],\n",
              "       [0., 1., 0., 0., 0., 0.],\n",
              "       [0., 0., 1., 0., 0., 0.],\n",
              "       [0., 0., 0., 1., 0., 0.],\n",
              "       [0., 0., 0., 0., 1., 0.],\n",
              "       [0., 0., 0., 0., 0., 1.]])"
            ]
          },
          "metadata": {},
          "execution_count": 56
        }
      ]
    },
    {
      "cell_type": "code",
      "source": [
        "# matriz de números aleatórios de 0 a 1\n",
        "arr5 = np.random.rand(6)\n",
        "arr5"
      ],
      "metadata": {
        "colab": {
          "base_uri": "https://localhost:8080/"
        },
        "id": "U0U2vAn8vcO-",
        "outputId": "4d03ba03-eca6-4742-a08d-04dda3120d03"
      },
      "execution_count": 57,
      "outputs": [
        {
          "output_type": "execute_result",
          "data": {
            "text/plain": [
              "array([0.30284839, 0.94788288, 0.86757267, 0.38833325, 0.62704087,\n",
              "       0.08958586])"
            ]
          },
          "metadata": {},
          "execution_count": 57
        }
      ]
    },
    {
      "cell_type": "code",
      "source": [
        "#uma espécie de sorteio?\n",
        "np.random.randint(6)\n",
        "#np.random.randint(tamanho_do_intervalo) --> retorna um valor inteiro dentro do tamanho desse intervalo"
      ],
      "metadata": {
        "colab": {
          "base_uri": "https://localhost:8080/"
        },
        "id": "H71DpueYwBlW",
        "outputId": "9e592a9d-7b1f-4d7b-c793-9f2e83171d8e"
      },
      "execution_count": 58,
      "outputs": [
        {
          "output_type": "execute_result",
          "data": {
            "text/plain": [
              "3"
            ]
          },
          "metadata": {},
          "execution_count": 58
        }
      ]
    },
    {
      "cell_type": "code",
      "source": [
        "#retorna uma matriz (de acordo com o shape passado) de valores inteiros dentro do intervalo passado\n",
        "# np.random.randint (menor_posição, maior_posição, (shape))\n",
        "np.random.randint(5, 36, (2,3))"
      ],
      "metadata": {
        "colab": {
          "base_uri": "https://localhost:8080/"
        },
        "id": "zNkENlTtyCt8",
        "outputId": "f0dc2f9e-087f-46ec-d746-2c4749688d26"
      },
      "execution_count": 59,
      "outputs": [
        {
          "output_type": "execute_result",
          "data": {
            "text/plain": [
              "array([[21, 11, 24],\n",
              "       [13, 35,  5]])"
            ]
          },
          "metadata": {},
          "execution_count": 59
        }
      ]
    },
    {
      "cell_type": "code",
      "source": [
        "#matriz de 3 dimensões:\n",
        "np.random.randint(6, 58, (5, 9, 2))"
      ],
      "metadata": {
        "colab": {
          "base_uri": "https://localhost:8080/"
        },
        "id": "xcUxEgMQymxt",
        "outputId": "7ffa0439-ebd4-4152-d902-e98e78cc73e1"
      },
      "execution_count": 60,
      "outputs": [
        {
          "output_type": "execute_result",
          "data": {
            "text/plain": [
              "array([[[20, 32],\n",
              "        [42, 17],\n",
              "        [34, 24],\n",
              "        [21, 16],\n",
              "        [25,  7],\n",
              "        [22, 31],\n",
              "        [12, 35],\n",
              "        [46, 36],\n",
              "        [10, 14]],\n",
              "\n",
              "       [[10, 55],\n",
              "        [25, 17],\n",
              "        [14, 53],\n",
              "        [21, 13],\n",
              "        [17, 31],\n",
              "        [14, 19],\n",
              "        [53, 13],\n",
              "        [46, 57],\n",
              "        [29, 43]],\n",
              "\n",
              "       [[38, 37],\n",
              "        [51, 37],\n",
              "        [46, 12],\n",
              "        [14, 42],\n",
              "        [52, 38],\n",
              "        [13, 31],\n",
              "        [14, 21],\n",
              "        [53, 54],\n",
              "        [41, 10]],\n",
              "\n",
              "       [[11, 18],\n",
              "        [49, 34],\n",
              "        [43, 41],\n",
              "        [20, 17],\n",
              "        [32, 27],\n",
              "        [16, 31],\n",
              "        [15, 47],\n",
              "        [14, 42],\n",
              "        [30, 18]],\n",
              "\n",
              "       [[29, 48],\n",
              "        [55, 29],\n",
              "        [27, 43],\n",
              "        [25, 25],\n",
              "        [12, 29],\n",
              "        [53, 22],\n",
              "        [ 9, 22],\n",
              "        [21, 40],\n",
              "        [55, 14]]])"
            ]
          },
          "metadata": {},
          "execution_count": 60
        }
      ]
    },
    {
      "cell_type": "code",
      "source": [
        "# pega um número aleatório double, digamos assim, entre 5 e 9\n",
        "np.random.uniform(5, 9)"
      ],
      "metadata": {
        "colab": {
          "base_uri": "https://localhost:8080/"
        },
        "id": "jYkqu0FU0K-7",
        "outputId": "c4bea183-1bfc-4354-8658-49392ee18942"
      },
      "execution_count": 61,
      "outputs": [
        {
          "output_type": "execute_result",
          "data": {
            "text/plain": [
              "8.658842777571621"
            ]
          },
          "metadata": {},
          "execution_count": 61
        }
      ]
    },
    {
      "cell_type": "code",
      "source": [
        "# mesma coisa do np.random.randint, só que tem uma diferença: o número não é inteiro (podemos chamar de double)\n",
        "np.random.uniform(6, 9, (5, 8))"
      ],
      "metadata": {
        "colab": {
          "base_uri": "https://localhost:8080/"
        },
        "id": "48utkb1a4AkJ",
        "outputId": "bd0e90fb-fe0d-4c84-8dbe-0b60270a5023"
      },
      "execution_count": 62,
      "outputs": [
        {
          "output_type": "execute_result",
          "data": {
            "text/plain": [
              "array([[7.32584219, 7.72024056, 8.28786659, 7.02063909, 6.89629235,\n",
              "        7.73860933, 8.26886346, 6.08577282],\n",
              "       [7.1787892 , 6.8693944 , 8.48126994, 7.01965544, 8.78005256,\n",
              "        6.88135642, 6.91787907, 7.89694959],\n",
              "       [6.71745099, 7.48462225, 7.77205679, 7.81081893, 8.84800737,\n",
              "        6.46037448, 8.17307986, 6.74244634],\n",
              "       [8.73624145, 7.77805063, 7.95221653, 6.31406944, 7.13770968,\n",
              "        7.77345176, 8.20436585, 7.9796427 ],\n",
              "       [8.15020658, 6.2759605 , 6.54247532, 6.78184706, 6.33709108,\n",
              "        8.30580799, 8.83419375, 7.55102989]])"
            ]
          },
          "metadata": {},
          "execution_count": 62
        }
      ]
    },
    {
      "cell_type": "code",
      "source": [
        "# Parâmetros : size int ou tupla de ints, opcional\n",
        "# Desenhe amostras de uma distribuição Normal padrão (média=0, stdev=1)\n",
        "# distribuição Normal padrão ---> noções de estátistica \n",
        "np.random.standard_normal(5)"
      ],
      "metadata": {
        "colab": {
          "base_uri": "https://localhost:8080/"
        },
        "id": "5_ERgv7C5En3",
        "outputId": "462179a0-c7b7-4c2d-d653-eb885a374e75"
      },
      "execution_count": 63,
      "outputs": [
        {
          "output_type": "execute_result",
          "data": {
            "text/plain": [
              "array([-1.56609804, -1.39782105,  0.87038128, -0.08448046,  0.44908308])"
            ]
          },
          "metadata": {},
          "execution_count": 63
        }
      ]
    },
    {
      "cell_type": "code",
      "source": [
        "np.random.standard_normal((3,6))"
      ],
      "metadata": {
        "colab": {
          "base_uri": "https://localhost:8080/"
        },
        "id": "hNjSRIoo8Eqn",
        "outputId": "f11fc947-43b7-4a05-881a-7343d0d49fa6"
      },
      "execution_count": 64,
      "outputs": [
        {
          "output_type": "execute_result",
          "data": {
            "text/plain": [
              "array([[ 0.35063978, -0.55601786,  1.15788513,  0.00579859,  1.96588891,\n",
              "         0.52439779],\n",
              "       [-0.14889514, -0.87983596, -0.0259152 ,  0.93574938, -1.14059574,\n",
              "         2.00946065],\n",
              "       [-0.60358725, -1.02169881,  0.31420204, -0.11025119, -1.33448853,\n",
              "        -1.21848884]])"
            ]
          },
          "metadata": {},
          "execution_count": 64
        }
      ]
    },
    {
      "cell_type": "code",
      "source": [
        "#mudar o shape de uma matriz:\n",
        "mat1 = np.random.rand(6)\n",
        "mat1"
      ],
      "metadata": {
        "colab": {
          "base_uri": "https://localhost:8080/"
        },
        "id": "9WrAJLgeCo1t",
        "outputId": "5c84025e-18ea-454a-a2ce-7d4395626e8c"
      },
      "execution_count": 65,
      "outputs": [
        {
          "output_type": "execute_result",
          "data": {
            "text/plain": [
              "array([0.58526913, 0.65628539, 0.29950171, 0.16153222, 0.32848738,\n",
              "       0.88905122])"
            ]
          },
          "metadata": {},
          "execution_count": 65
        }
      ]
    },
    {
      "cell_type": "code",
      "source": [
        "# qual o shape da matriz?\n",
        "mat1.shape"
      ],
      "metadata": {
        "colab": {
          "base_uri": "https://localhost:8080/"
        },
        "id": "eGeGVNh7DQLI",
        "outputId": "53907d46-40d7-4e08-ec91-40a746e3ec31"
      },
      "execution_count": 66,
      "outputs": [
        {
          "output_type": "execute_result",
          "data": {
            "text/plain": [
              "(6,)"
            ]
          },
          "metadata": {},
          "execution_count": 66
        }
      ]
    },
    {
      "cell_type": "code",
      "source": [
        "# mudei o shape da mat1\n",
        "mat1.reshape(2,3)"
      ],
      "metadata": {
        "colab": {
          "base_uri": "https://localhost:8080/"
        },
        "id": "VO3RZXjsDsEq",
        "outputId": "48b5051f-9e1e-4736-b3db-5d36ca64d54a"
      },
      "execution_count": 67,
      "outputs": [
        {
          "output_type": "execute_result",
          "data": {
            "text/plain": [
              "array([[0.58526913, 0.65628539, 0.29950171],\n",
              "       [0.16153222, 0.32848738, 0.88905122]])"
            ]
          },
          "metadata": {},
          "execution_count": 67
        }
      ]
    },
    {
      "cell_type": "code",
      "source": [
        "# essa função nos retorna o maior número existente em mat1\n",
        "mat1.max()"
      ],
      "metadata": {
        "id": "JNrm3blSFfIj",
        "colab": {
          "base_uri": "https://localhost:8080/"
        },
        "outputId": "199fe2da-7d25-40be-ec90-88f405867d2d"
      },
      "execution_count": 68,
      "outputs": [
        {
          "output_type": "execute_result",
          "data": {
            "text/plain": [
              "0.8890512238348093"
            ]
          },
          "metadata": {},
          "execution_count": 68
        }
      ]
    },
    {
      "cell_type": "code",
      "source": [
        "#essa função nos retorna a posição do maior número existente em mat1\n",
        "mat1.argmax()"
      ],
      "metadata": {
        "colab": {
          "base_uri": "https://localhost:8080/"
        },
        "id": "UFzTqZfQgqYa",
        "outputId": "32c2b5d4-fea9-400a-aca4-548b62e35a4e"
      },
      "execution_count": 69,
      "outputs": [
        {
          "output_type": "execute_result",
          "data": {
            "text/plain": [
              "5"
            ]
          },
          "metadata": {},
          "execution_count": 69
        }
      ]
    },
    {
      "cell_type": "code",
      "source": [
        "# media de mat1:\n",
        "mat1.mean()"
      ],
      "metadata": {
        "colab": {
          "base_uri": "https://localhost:8080/"
        },
        "id": "om-ixQuMhKoJ",
        "outputId": "767f6e9c-2a07-4d49-d81d-c944bbbcf07b"
      },
      "execution_count": 70,
      "outputs": [
        {
          "output_type": "execute_result",
          "data": {
            "text/plain": [
              "0.48668784352992334"
            ]
          },
          "metadata": {},
          "execution_count": 70
        }
      ]
    },
    {
      "cell_type": "code",
      "source": [
        "mat2 = np.random.rand(6)\n",
        "mat2"
      ],
      "metadata": {
        "colab": {
          "base_uri": "https://localhost:8080/"
        },
        "id": "x_bEL-e9hiUX",
        "outputId": "7f246bd8-175f-497e-b664-05d3d7d2d303"
      },
      "execution_count": 71,
      "outputs": [
        {
          "output_type": "execute_result",
          "data": {
            "text/plain": [
              "array([0.07178297, 0.97763558, 0.70499036, 0.43667362, 0.95307019,\n",
              "       0.02223739])"
            ]
          },
          "metadata": {},
          "execution_count": 71
        }
      ]
    },
    {
      "cell_type": "code",
      "source": [
        "#soma de matrizes: só somar como se fosse uma continha de dois números no papel ---> x+y\n",
        "mat3 = mat1 + mat2\n",
        "mat3 "
      ],
      "metadata": {
        "colab": {
          "base_uri": "https://localhost:8080/"
        },
        "id": "gSyLWuCti2Cp",
        "outputId": "c98626ce-127e-4f8b-b0db-7c5ac74ef142"
      },
      "execution_count": 72,
      "outputs": [
        {
          "output_type": "execute_result",
          "data": {
            "text/plain": [
              "array([0.6570521 , 1.63392097, 1.00449207, 0.59820584, 1.28155758,\n",
              "       0.91128861])"
            ]
          },
          "metadata": {},
          "execution_count": 72
        }
      ]
    },
    {
      "cell_type": "code",
      "source": [
        "#multiplicação de matrizes:\n",
        "mat1 * mat2"
      ],
      "metadata": {
        "colab": {
          "base_uri": "https://localhost:8080/"
        },
        "id": "KqYzD3OKjAhl",
        "outputId": "5092d1fc-b00a-4f33-d593-95002e169cfd"
      },
      "execution_count": 73,
      "outputs": [
        {
          "output_type": "execute_result",
          "data": {
            "text/plain": [
              "array([0.04201236, 0.64160795, 0.21114582, 0.07053686, 0.31307153,\n",
              "       0.01977018])"
            ]
          },
          "metadata": {},
          "execution_count": 73
        }
      ]
    },
    {
      "cell_type": "code",
      "source": [
        "# raiz quadrada da matriz:\n",
        "np.sqrt(mat1)"
      ],
      "metadata": {
        "colab": {
          "base_uri": "https://localhost:8080/"
        },
        "id": "lCsBQDK2j_y7",
        "outputId": "114ebcdd-4cf0-4c8e-e638-7465cb11ab00"
      },
      "execution_count": 74,
      "outputs": [
        {
          "output_type": "execute_result",
          "data": {
            "text/plain": [
              "array([0.76502884, 0.81011443, 0.54726749, 0.40191071, 0.57313819,\n",
              "       0.94289513])"
            ]
          },
          "metadata": {},
          "execution_count": 74
        }
      ]
    },
    {
      "cell_type": "code",
      "source": [
        "# raiz cúbica\n",
        "np.cbrt(mat1)"
      ],
      "metadata": {
        "colab": {
          "base_uri": "https://localhost:8080/"
        },
        "id": "HX_5F2LrkIkO",
        "outputId": "52d8c7e4-b79c-4d16-82ee-0633cdb5d5ae"
      },
      "execution_count": 75,
      "outputs": [
        {
          "output_type": "execute_result",
          "data": {
            "text/plain": [
              "array([0.8364729 , 0.86902228, 0.66906211, 0.54461098, 0.68998486,\n",
              "       0.96155824])"
            ]
          },
          "metadata": {},
          "execution_count": 75
        }
      ]
    },
    {
      "cell_type": "code",
      "source": [
        "mat4 = np.random.rand(1, 6)\n",
        "mat4"
      ],
      "metadata": {
        "colab": {
          "base_uri": "https://localhost:8080/"
        },
        "id": "vsDkABxdrRbq",
        "outputId": "77a4fadb-f398-4445-9b0a-8e9b3dd4ef11"
      },
      "execution_count": 76,
      "outputs": [
        {
          "output_type": "execute_result",
          "data": {
            "text/plain": [
              "array([[0.97847576, 0.59761942, 0.15402465, 0.3594788 , 0.05129083,\n",
              "        0.67250656]])"
            ]
          },
          "metadata": {},
          "execution_count": 76
        }
      ]
    },
    {
      "cell_type": "code",
      "source": [
        "# soma dos elementos da matriz:\n",
        "mat4.sum()"
      ],
      "metadata": {
        "colab": {
          "base_uri": "https://localhost:8080/"
        },
        "id": "vcOlCwo7kNhj",
        "outputId": "d955ef1b-d1f6-474d-847a-5771035f5ac8"
      },
      "execution_count": 77,
      "outputs": [
        {
          "output_type": "execute_result",
          "data": {
            "text/plain": [
              "2.8133960210628954"
            ]
          },
          "metadata": {},
          "execution_count": 77
        }
      ]
    },
    {
      "cell_type": "code",
      "source": [
        "# desvio padrão dos elementos:\n",
        "mat4.std()"
      ],
      "metadata": {
        "colab": {
          "base_uri": "https://localhost:8080/"
        },
        "id": "SvKLuQU_uOYD",
        "outputId": "78bf3f22-346b-40ef-de38-ee4b2ffbe2e8"
      },
      "execution_count": 78,
      "outputs": [
        {
          "output_type": "execute_result",
          "data": {
            "text/plain": [
              "0.3170721988677839"
            ]
          },
          "metadata": {},
          "execution_count": 78
        }
      ]
    },
    {
      "cell_type": "code",
      "source": [
        "mat4.shape"
      ],
      "metadata": {
        "colab": {
          "base_uri": "https://localhost:8080/"
        },
        "id": "tPAbC-yquVRl",
        "outputId": "c348e299-928e-4347-b582-d9af0a08a4bc"
      },
      "execution_count": 79,
      "outputs": [
        {
          "output_type": "execute_result",
          "data": {
            "text/plain": [
              "(1, 6)"
            ]
          },
          "metadata": {},
          "execution_count": 79
        }
      ]
    },
    {
      "cell_type": "code",
      "source": [
        "# criar uma outra matriz a partir do reshape de uma:\n",
        "mat5 = mat4.reshape(6,1)\n",
        "mat5"
      ],
      "metadata": {
        "colab": {
          "base_uri": "https://localhost:8080/"
        },
        "id": "7gxPapkIzMR5",
        "outputId": "f076ed82-55c8-4044-ade9-32d390581445"
      },
      "execution_count": 80,
      "outputs": [
        {
          "output_type": "execute_result",
          "data": {
            "text/plain": [
              "array([[0.97847576],\n",
              "       [0.59761942],\n",
              "       [0.15402465],\n",
              "       [0.3594788 ],\n",
              "       [0.05129083],\n",
              "       [0.67250656]])"
            ]
          },
          "metadata": {},
          "execution_count": 80
        }
      ]
    },
    {
      "cell_type": "code",
      "source": [
        "#função que multiplica duas matrizes:\n",
        "np.matmul(mat5, mat4)"
      ],
      "metadata": {
        "colab": {
          "base_uri": "https://localhost:8080/"
        },
        "id": "l61jqO8rze7F",
        "outputId": "c1a806ed-127a-4f4b-a6c9-e7f3de3bf951"
      },
      "execution_count": 81,
      "outputs": [
        {
          "output_type": "execute_result",
          "data": {
            "text/plain": [
              "array([[0.9574148 , 0.58475611, 0.15070939, 0.35174129, 0.05018683,\n",
              "        0.65803137],\n",
              "       [0.58475611, 0.35714897, 0.09204812, 0.21483151, 0.0306524 ,\n",
              "        0.40190298],\n",
              "       [0.15070939, 0.09204812, 0.02372359, 0.0553686 , 0.00790005,\n",
              "        0.10358259],\n",
              "       [0.35174129, 0.21483151, 0.0553686 , 0.12922501, 0.01843797,\n",
              "        0.24175185],\n",
              "       [0.05018683, 0.0306524 , 0.00790005, 0.01843797, 0.00263075,\n",
              "        0.03449342],\n",
              "       [0.65803137, 0.40190298, 0.10358259, 0.24175185, 0.03449342,\n",
              "        0.45226508]])"
            ]
          },
          "metadata": {},
          "execution_count": 81
        }
      ]
    },
    {
      "cell_type": "code",
      "source": [
        "mat6 = np.random.rand(2,3)\n",
        "mat6"
      ],
      "metadata": {
        "id": "k_p93aEW0GgB",
        "colab": {
          "base_uri": "https://localhost:8080/"
        },
        "outputId": "f12ff7be-93b9-401b-941b-4f76ff7bcf3c"
      },
      "execution_count": 86,
      "outputs": [
        {
          "output_type": "execute_result",
          "data": {
            "text/plain": [
              "array([[0.26383373, 0.42015684, 0.7608746 ],\n",
              "       [0.62836323, 0.2364423 , 0.54215993]])"
            ]
          },
          "metadata": {},
          "execution_count": 86
        }
      ]
    },
    {
      "cell_type": "code",
      "source": [
        "#soma por eixo:\n",
        "#axis=0 é linha, ou seja, as linhas tem seus valores somados.\n",
        "mat6.sum(axis=0)"
      ],
      "metadata": {
        "id": "ZwnODVWh9WxL",
        "colab": {
          "base_uri": "https://localhost:8080/"
        },
        "outputId": "f5221bf2-3558-4fd2-d262-4c75ded55235"
      },
      "execution_count": 87,
      "outputs": [
        {
          "output_type": "execute_result",
          "data": {
            "text/plain": [
              "array([0.89219697, 0.65659914, 1.30303453])"
            ]
          },
          "metadata": {},
          "execution_count": 87
        }
      ]
    },
    {
      "cell_type": "code",
      "source": [
        "#axis=1 - coluna\n",
        "mat6.sum(axis=1)"
      ],
      "metadata": {
        "colab": {
          "base_uri": "https://localhost:8080/"
        },
        "id": "xCsRLQKFPIEX",
        "outputId": "33a25026-6b86-46c2-f9ab-d36c57dc0b71"
      },
      "execution_count": 88,
      "outputs": [
        {
          "output_type": "execute_result",
          "data": {
            "text/plain": [
              "array([1.44486517, 1.40696546])"
            ]
          },
          "metadata": {},
          "execution_count": 88
        }
      ]
    },
    {
      "cell_type": "code",
      "source": [
        "#1:02:20 - continuar"
      ],
      "metadata": {
        "id": "0-zTHAivPY6J"
      },
      "execution_count": null,
      "outputs": []
    }
  ]
}